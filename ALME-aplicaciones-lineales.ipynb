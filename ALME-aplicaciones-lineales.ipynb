{
 "cells": [
  {
   "cell_type": "markdown",
   "id": "6d7a23b4",
   "metadata": {},
   "source": [
    "# Aplicaciones lineales"
   ]
  },
  {
   "cell_type": "markdown",
   "id": "ca99d34f",
   "metadata": {},
   "source": [
    "En este documento ilustraremos cómo usar `R` para resolver los problemas tipo propuestos por L. Merino y E. Santos en  [página de resolución de ejercicios tipo](https://www.ugr.es/~lmerino/ALME.html) correspondientes al bloque \"Aplicaciones Lineales\"."
   ]
  },
  {
   "cell_type": "markdown",
   "id": "f01f0462",
   "metadata": {},
   "source": [
    "### Ejercicio\n",
    "\n",
    "*Se considera la aplicación lineal $D: \\mathcal{P}_3(\\mathbb{R}) \\longrightarrow \\mathcal{P}_2(\\mathbb{R})$ \n",
    "que a cada polinomio de $\\mathcal{P}_3(\\mathbb{R})$ le asigna su derivada: $D(p(x))=p'(x)$. Determinar la matriz asociada a $D$ respecto de la base estándar $B=\\{ 1, x, x^2, x^3\\}$.*"
   ]
  },
  {
   "cell_type": "markdown",
   "id": "3e53e1a2",
   "metadata": {},
   "source": [
    "Nuestra matriz tiene por columnas las coordenadas de las imágenes de los vectores de la base:\n",
    "$$\n",
    "\\begin{array}{lcccl}\n",
    "D(1)&=   & 0 &=   & (0,0,0,0)_B, \\\\\n",
    "D(x) &=  & 1 &=   & (1,0,0,0)_B, \\\\\n",
    "D(x^2)&= & 2x &=  & (0,2,0,0)_B, \\\\\n",
    "D(x^3)&= & 3x^2& =&(0,0,3,0)_B.\n",
    "\\end{array}\n",
    "$$"
   ]
  },
  {
   "cell_type": "code",
   "execution_count": 2,
   "id": "40a475f0",
   "metadata": {},
   "outputs": [
    {
     "data": {
      "text/html": [
       "<table class=\"dataframe\">\n",
       "<caption>A matrix: 4 × 4 of type dbl</caption>\n",
       "<tbody>\n",
       "\t<tr><td>0</td><td>1</td><td>0</td><td>0</td></tr>\n",
       "\t<tr><td>0</td><td>0</td><td>2</td><td>0</td></tr>\n",
       "\t<tr><td>0</td><td>0</td><td>0</td><td>3</td></tr>\n",
       "\t<tr><td>0</td><td>0</td><td>0</td><td>0</td></tr>\n",
       "</tbody>\n",
       "</table>\n"
      ],
      "text/latex": [
       "A matrix: 4 × 4 of type dbl\n",
       "\\begin{tabular}{llll}\n",
       "\t 0 & 1 & 0 & 0\\\\\n",
       "\t 0 & 0 & 2 & 0\\\\\n",
       "\t 0 & 0 & 0 & 3\\\\\n",
       "\t 0 & 0 & 0 & 0\\\\\n",
       "\\end{tabular}\n"
      ],
      "text/markdown": [
       "\n",
       "A matrix: 4 × 4 of type dbl\n",
       "\n",
       "| 0 | 1 | 0 | 0 |\n",
       "| 0 | 0 | 2 | 0 |\n",
       "| 0 | 0 | 0 | 3 |\n",
       "| 0 | 0 | 0 | 0 |\n",
       "\n"
      ],
      "text/plain": [
       "     [,1] [,2] [,3] [,4]\n",
       "[1,] 0    1    0    0   \n",
       "[2,] 0    0    2    0   \n",
       "[3,] 0    0    0    3   \n",
       "[4,] 0    0    0    0   "
      ]
     },
     "metadata": {},
     "output_type": "display_data"
    }
   ],
   "source": [
    "A<-cbind(c(0,0,0,0),c(1,0,0,0),c(0,2,0,0),c(0,0,3,0))\n",
    "A"
   ]
  },
  {
   "cell_type": "markdown",
   "id": "5ba8130a",
   "metadata": {},
   "source": [
    "### Ejercicio\n",
    "\n",
    "*De una aplicación lineal $f:\\mathbb{R}^3 \\longrightarrow \\mathbb{R}^2$ se sabe que*\n",
    "$$\n",
    "\\begin{array}{l}\n",
    "f(1,0,0)=(1,0),\\\\\n",
    "f(0,1,0)= (1,1), \\\\\n",
    "f(0,0,1)=(0,-1).\n",
    "\\end{array}\n",
    "$$\n",
    "\n",
    "*Determinar la matriz asociada a $f$ respecto de las respectivas bases canónicas de $\\mathbb{R}^3$ y $\\mathbb{R}^2$ y calcular $f(1,2,1)$.*"
   ]
  },
  {
   "cell_type": "markdown",
   "id": "93d339e9",
   "metadata": {},
   "source": [
    "La matriz asociada a $f$ respecto de las bases canónicas es"
   ]
  },
  {
   "cell_type": "code",
   "execution_count": 3,
   "id": "5c3c72ff",
   "metadata": {},
   "outputs": [
    {
     "data": {
      "text/html": [
       "<table class=\"dataframe\">\n",
       "<caption>A matrix: 2 × 3 of type dbl</caption>\n",
       "<tbody>\n",
       "\t<tr><td>1</td><td>1</td><td> 0</td></tr>\n",
       "\t<tr><td>0</td><td>1</td><td>-1</td></tr>\n",
       "</tbody>\n",
       "</table>\n"
      ],
      "text/latex": [
       "A matrix: 2 × 3 of type dbl\n",
       "\\begin{tabular}{lll}\n",
       "\t 1 & 1 &  0\\\\\n",
       "\t 0 & 1 & -1\\\\\n",
       "\\end{tabular}\n"
      ],
      "text/markdown": [
       "\n",
       "A matrix: 2 × 3 of type dbl\n",
       "\n",
       "| 1 | 1 |  0 |\n",
       "| 0 | 1 | -1 |\n",
       "\n"
      ],
      "text/plain": [
       "     [,1] [,2] [,3]\n",
       "[1,] 1    1     0  \n",
       "[2,] 0    1    -1  "
      ]
     },
     "metadata": {},
     "output_type": "display_data"
    }
   ],
   "source": [
    "A<-cbind(c(1,0),c(1,1),c(0,-1))\n",
    "A"
   ]
  },
  {
   "cell_type": "markdown",
   "id": "7c29db60",
   "metadata": {},
   "source": [
    "La imagen de $(1,2,1)$ se obtiene multiplicando `A` por $(1,2,1)^t$."
   ]
  },
  {
   "cell_type": "code",
   "execution_count": 4,
   "id": "0a2c69c9",
   "metadata": {
    "scrolled": true
   },
   "outputs": [
    {
     "data": {
      "text/html": [
       "<table class=\"dataframe\">\n",
       "<caption>A matrix: 2 × 1 of type dbl</caption>\n",
       "<tbody>\n",
       "\t<tr><td>3</td></tr>\n",
       "\t<tr><td>1</td></tr>\n",
       "</tbody>\n",
       "</table>\n"
      ],
      "text/latex": [
       "A matrix: 2 × 1 of type dbl\n",
       "\\begin{tabular}{l}\n",
       "\t 3\\\\\n",
       "\t 1\\\\\n",
       "\\end{tabular}\n"
      ],
      "text/markdown": [
       "\n",
       "A matrix: 2 × 1 of type dbl\n",
       "\n",
       "| 3 |\n",
       "| 1 |\n",
       "\n"
      ],
      "text/plain": [
       "     [,1]\n",
       "[1,] 3   \n",
       "[2,] 1   "
      ]
     },
     "metadata": {},
     "output_type": "display_data"
    }
   ],
   "source": [
    "A%*%c(1,2,1)"
   ]
  },
  {
   "cell_type": "markdown",
   "id": "cf4f3f56",
   "metadata": {},
   "source": [
    "### Ejercicio\n",
    "\n",
    "*Se considera la aplicación lineal $f:\\mathbb{R}^3 \\longrightarrow \\mathbb{R}^3$ definida por $f(x,y,z)=(x+y,x+z, y-z)$. Obtener unas ecuaciones cartesianas de $\\operatorname{Im}(f)$.*"
   ]
  },
  {
   "cell_type": "code",
   "execution_count": 6,
   "id": "616e1e69",
   "metadata": {},
   "outputs": [],
   "source": [
    "f<-function(x,y,z){\n",
    "    return(c(x+y,x+z,y-z))\n",
    "}"
   ]
  },
  {
   "cell_type": "code",
   "execution_count": 7,
   "id": "07d76895",
   "metadata": {},
   "outputs": [
    {
     "data": {
      "text/html": [
       "<table class=\"dataframe\">\n",
       "<caption>A matrix: 3 × 3 of type dbl</caption>\n",
       "<tbody>\n",
       "\t<tr><td>1</td><td>1</td><td> 0</td></tr>\n",
       "\t<tr><td>1</td><td>0</td><td> 1</td></tr>\n",
       "\t<tr><td>0</td><td>1</td><td>-1</td></tr>\n",
       "</tbody>\n",
       "</table>\n"
      ],
      "text/latex": [
       "A matrix: 3 × 3 of type dbl\n",
       "\\begin{tabular}{lll}\n",
       "\t 1 & 1 &  0\\\\\n",
       "\t 1 & 0 &  1\\\\\n",
       "\t 0 & 1 & -1\\\\\n",
       "\\end{tabular}\n"
      ],
      "text/markdown": [
       "\n",
       "A matrix: 3 × 3 of type dbl\n",
       "\n",
       "| 1 | 1 |  0 |\n",
       "| 1 | 0 |  1 |\n",
       "| 0 | 1 | -1 |\n",
       "\n"
      ],
      "text/plain": [
       "     [,1] [,2] [,3]\n",
       "[1,] 1    1     0  \n",
       "[2,] 1    0     1  \n",
       "[3,] 0    1    -1  "
      ]
     },
     "metadata": {},
     "output_type": "display_data"
    }
   ],
   "source": [
    "A<-cbind(f(1,0,0),f(0,1,0),f(0,0,1))\n",
    "A"
   ]
  },
  {
   "cell_type": "markdown",
   "id": "7e41af94",
   "metadata": {},
   "source": [
    "Podemos usar la forma normal por columnas de esa matriz para calcular una base de $\\operatorname{Im}(f)$. "
   ]
  },
  {
   "cell_type": "code",
   "execution_count": 10,
   "id": "2afc6238",
   "metadata": {},
   "outputs": [
    {
     "data": {
      "text/html": [
       "<table class=\"dataframe\">\n",
       "<caption>A matrix: 3 × 3 of type dbl</caption>\n",
       "<tbody>\n",
       "\t<tr><td>1</td><td>0</td><td> 1</td></tr>\n",
       "\t<tr><td>0</td><td>1</td><td>-1</td></tr>\n",
       "\t<tr><td>0</td><td>0</td><td> 0</td></tr>\n",
       "</tbody>\n",
       "</table>\n"
      ],
      "text/latex": [
       "A matrix: 3 × 3 of type dbl\n",
       "\\begin{tabular}{lll}\n",
       "\t 1 & 0 &  1\\\\\n",
       "\t 0 & 1 & -1\\\\\n",
       "\t 0 & 0 &  0\\\\\n",
       "\\end{tabular}\n"
      ],
      "text/markdown": [
       "\n",
       "A matrix: 3 × 3 of type dbl\n",
       "\n",
       "| 1 | 0 |  1 |\n",
       "| 0 | 1 | -1 |\n",
       "| 0 | 0 |  0 |\n",
       "\n"
      ],
      "text/plain": [
       "     [,1] [,2] [,3]\n",
       "[1,] 1    0     1  \n",
       "[2,] 0    1    -1  \n",
       "[3,] 0    0     0  "
      ]
     },
     "metadata": {},
     "output_type": "display_data"
    }
   ],
   "source": [
    "library(\"pracma\")\n",
    "rref(t(A))"
   ]
  },
  {
   "cell_type": "markdown",
   "id": "9b58c65a",
   "metadata": {},
   "source": [
    "`pracma` ofrece además `orth` que devuelve una base ortonormal del espacio generado por las columnas de `A`."
   ]
  },
  {
   "cell_type": "code",
   "execution_count": 9,
   "id": "bd5bef7c",
   "metadata": {},
   "outputs": [
    {
     "data": {
      "text/html": [
       "<table class=\"dataframe\">\n",
       "<caption>A matrix: 3 × 2 of type dbl</caption>\n",
       "<tbody>\n",
       "\t<tr><td>-7.071068e-01</td><td> 0.4082483</td></tr>\n",
       "\t<tr><td>-7.071068e-01</td><td>-0.4082483</td></tr>\n",
       "\t<tr><td> 7.401487e-17</td><td> 0.8164966</td></tr>\n",
       "</tbody>\n",
       "</table>\n"
      ],
      "text/latex": [
       "A matrix: 3 × 2 of type dbl\n",
       "\\begin{tabular}{ll}\n",
       "\t -7.071068e-01 &  0.4082483\\\\\n",
       "\t -7.071068e-01 & -0.4082483\\\\\n",
       "\t  7.401487e-17 &  0.8164966\\\\\n",
       "\\end{tabular}\n"
      ],
      "text/markdown": [
       "\n",
       "A matrix: 3 × 2 of type dbl\n",
       "\n",
       "| -7.071068e-01 |  0.4082483 |\n",
       "| -7.071068e-01 | -0.4082483 |\n",
       "|  7.401487e-17 |  0.8164966 |\n",
       "\n"
      ],
      "text/plain": [
       "     [,1]          [,2]      \n",
       "[1,] -7.071068e-01  0.4082483\n",
       "[2,] -7.071068e-01 -0.4082483\n",
       "[3,]  7.401487e-17  0.8164966"
      ]
     },
     "metadata": {},
     "output_type": "display_data"
    }
   ],
   "source": [
    "orth(A)"
   ]
  },
  {
   "cell_type": "markdown",
   "id": "1babc3eb",
   "metadata": {},
   "source": [
    "A partir de aquí podríamos calcular las ecuaciones cartesianas. Nosotros vamos a utilizar nuestra función `gensec` definida en el bloc [ALME-espacios-vectoriales.ipynb](https://github.com/pedritomelenas/R-algebra-lineal/blob/main/ALME-espacios-vectoriales.ipynb)."
   ]
  },
  {
   "cell_type": "code",
   "execution_count": 13,
   "id": "d454d393",
   "metadata": {},
   "outputs": [],
   "source": [
    "gensec<-function(A){\n",
    "    # A es una matrix cuyas filas son los generadores del subespacio \n",
    "    # (o los coeficientes de las ecuaciones que lo definen)                                       \n",
    "    c<-ncol(A) # número columnas de A                                                                           \n",
    "    f<-nrow(A) # número de filas de A                                                                           \n",
    "    r<-Rank(A) # rango de A                                                                                     \n",
    "    rtAI<-rref(cbind(t(A),diag(c))) # trasponemos A y le añadimos la identidad por columnas                     \n",
    "    ecs<-rtAI[(r+1):c,(f+1):(f+c)] # nos quedamos con la parte de ceros que corresponden\n",
    "                                   # a las ecuaciones (o a los generadores dependiendo de la entrada)       \n",
    "    return(ecs)\n",
    "}"
   ]
  },
  {
   "cell_type": "code",
   "execution_count": 12,
   "id": "467d463e",
   "metadata": {
    "scrolled": true
   },
   "outputs": [
    {
     "data": {
      "text/html": [
       "<style>\n",
       ".list-inline {list-style: none; margin:0; padding: 0}\n",
       ".list-inline>li {display: inline-block}\n",
       ".list-inline>li:not(:last-child)::after {content: \"\\00b7\"; padding: 0 .5ex}\n",
       "</style>\n",
       "<ol class=list-inline><li>1</li><li>-1</li><li>-1</li></ol>\n"
      ],
      "text/latex": [
       "\\begin{enumerate*}\n",
       "\\item 1\n",
       "\\item -1\n",
       "\\item -1\n",
       "\\end{enumerate*}\n"
      ],
      "text/markdown": [
       "1. 1\n",
       "2. -1\n",
       "3. -1\n",
       "\n",
       "\n"
      ],
      "text/plain": [
       "[1]  1 -1 -1"
      ]
     },
     "metadata": {},
     "output_type": "display_data"
    }
   ],
   "source": [
    "gensec(t(A))"
   ]
  },
  {
   "cell_type": "markdown",
   "id": "854eded5",
   "metadata": {},
   "source": [
    "### Ejercicio\n",
    "\n",
    "*Se considera la aplicación lineal $f:\\mathbb{R}^3 \\longrightarrow \\mathbb{R}^3$ definida por $f(x,y,z)=(x+y,x+z, y-z)$, obtener una base de $Ker(f)$.*"
   ]
  },
  {
   "cell_type": "markdown",
   "id": "30f8c13c",
   "metadata": {},
   "source": [
    "Podemos usar de nuevo `gensec`, pues unas ecuaciones del núcleo son\n",
    "$$\n",
    "\\left\\{ \\begin{array}{ccc}\n",
    "x+y & = & 0, \\\\\n",
    "x+z& = & 0, \\\\\n",
    " y-z& = & 0.\n",
    "\\end{array}\\right.\n",
    "$$"
   ]
  },
  {
   "cell_type": "code",
   "execution_count": 16,
   "id": "91817ffa",
   "metadata": {},
   "outputs": [
    {
     "data": {
      "text/html": [
       "<style>\n",
       ".list-inline {list-style: none; margin:0; padding: 0}\n",
       ".list-inline>li {display: inline-block}\n",
       ".list-inline>li:not(:last-child)::after {content: \"\\00b7\"; padding: 0 .5ex}\n",
       "</style>\n",
       "<ol class=list-inline><li>1</li><li>-1</li><li>-1</li></ol>\n"
      ],
      "text/latex": [
       "\\begin{enumerate*}\n",
       "\\item 1\n",
       "\\item -1\n",
       "\\item -1\n",
       "\\end{enumerate*}\n"
      ],
      "text/markdown": [
       "1. 1\n",
       "2. -1\n",
       "3. -1\n",
       "\n",
       "\n"
      ],
      "text/plain": [
       "[1]  1 -1 -1"
      ]
     },
     "metadata": {},
     "output_type": "display_data"
    }
   ],
   "source": [
    "gensec(A)"
   ]
  },
  {
   "cell_type": "markdown",
   "id": "b7d54ad4",
   "metadata": {},
   "source": [
    "Podemos también usar la función `nullspace` de `pracma`, que calcula el núcleo de una de una aplicación lineal."
   ]
  },
  {
   "cell_type": "code",
   "execution_count": 17,
   "id": "1bbea599",
   "metadata": {
    "scrolled": true
   },
   "outputs": [
    {
     "data": {
      "text/html": [
       "<table class=\"dataframe\">\n",
       "<caption>A matrix: 3 × 1 of type dbl</caption>\n",
       "<tbody>\n",
       "\t<tr><td>-0.5773503</td></tr>\n",
       "\t<tr><td> 0.5773503</td></tr>\n",
       "\t<tr><td> 0.5773503</td></tr>\n",
       "</tbody>\n",
       "</table>\n"
      ],
      "text/latex": [
       "A matrix: 3 × 1 of type dbl\n",
       "\\begin{tabular}{l}\n",
       "\t -0.5773503\\\\\n",
       "\t  0.5773503\\\\\n",
       "\t  0.5773503\\\\\n",
       "\\end{tabular}\n"
      ],
      "text/markdown": [
       "\n",
       "A matrix: 3 × 1 of type dbl\n",
       "\n",
       "| -0.5773503 |\n",
       "|  0.5773503 |\n",
       "|  0.5773503 |\n",
       "\n"
      ],
      "text/plain": [
       "     [,1]      \n",
       "[1,] -0.5773503\n",
       "[2,]  0.5773503\n",
       "[3,]  0.5773503"
      ]
     },
     "metadata": {},
     "output_type": "display_data"
    }
   ],
   "source": [
    "nullspace(A)"
   ]
  },
  {
   "cell_type": "markdown",
   "id": "831ba6b8",
   "metadata": {},
   "source": [
    "Por tanto, una base para el núcleo de $F$ es $\\{(1,-1,-1)\\}$."
   ]
  },
  {
   "cell_type": "markdown",
   "id": "aaca8be3",
   "metadata": {},
   "source": [
    "### Ejercicio\n",
    "\n",
    "*Se considera la aplicación lineal $D: \\mathcal{P}_3(\\mathbb{R}) \\longrightarrow \\mathcal{P}_3(\\mathbb{R})$ \n",
    "que a cada polinomio de $\\mathcal{P}_3(\\mathbb{R})$ le asigna su derivada: $D(p(x))=p'(x)$. Determinar la matriz asociada a $D$ respecto de la base $\\bar{B}=\\{ 1+x^2, x+x^3, 1+x^3, x^3\\}$.*\n"
   ]
  },
  {
   "cell_type": "markdown",
   "id": "15a5f429",
   "metadata": {},
   "source": [
    "Recordemos que la matriz asociada a la base estándar es "
   ]
  },
  {
   "cell_type": "code",
   "execution_count": 19,
   "id": "e20e62eb",
   "metadata": {},
   "outputs": [],
   "source": [
    "A<-cbind(c(0,0,0,0),c(1,0,0,0),c(0,2,0,0),c(0,0,3,0))\n"
   ]
  },
  {
   "cell_type": "markdown",
   "id": "23f10838",
   "metadata": {},
   "source": [
    "La matriz de cambio de $\\overline{B}$ a $B$ se obtiene poniendo las coordenadas de los vectores de $\\overline{B}$ respecto de $B$ en una matriz por columnas."
   ]
  },
  {
   "cell_type": "code",
   "execution_count": 21,
   "id": "2823cd9f",
   "metadata": {},
   "outputs": [
    {
     "data": {
      "text/html": [
       "<table class=\"dataframe\">\n",
       "<caption>A matrix: 4 × 4 of type dbl</caption>\n",
       "<tbody>\n",
       "\t<tr><td>1</td><td>0</td><td>1</td><td>0</td></tr>\n",
       "\t<tr><td>0</td><td>1</td><td>0</td><td>0</td></tr>\n",
       "\t<tr><td>1</td><td>0</td><td>0</td><td>0</td></tr>\n",
       "\t<tr><td>0</td><td>1</td><td>1</td><td>1</td></tr>\n",
       "</tbody>\n",
       "</table>\n"
      ],
      "text/latex": [
       "A matrix: 4 × 4 of type dbl\n",
       "\\begin{tabular}{llll}\n",
       "\t 1 & 0 & 1 & 0\\\\\n",
       "\t 0 & 1 & 0 & 0\\\\\n",
       "\t 1 & 0 & 0 & 0\\\\\n",
       "\t 0 & 1 & 1 & 1\\\\\n",
       "\\end{tabular}\n"
      ],
      "text/markdown": [
       "\n",
       "A matrix: 4 × 4 of type dbl\n",
       "\n",
       "| 1 | 0 | 1 | 0 |\n",
       "| 0 | 1 | 0 | 0 |\n",
       "| 1 | 0 | 0 | 0 |\n",
       "| 0 | 1 | 1 | 1 |\n",
       "\n"
      ],
      "text/plain": [
       "     [,1] [,2] [,3] [,4]\n",
       "[1,] 1    0    1    0   \n",
       "[2,] 0    1    0    0   \n",
       "[3,] 1    0    0    0   \n",
       "[4,] 0    1    1    1   "
      ]
     },
     "metadata": {},
     "output_type": "display_data"
    }
   ],
   "source": [
    "P<-cbind(c(1,0,1,0),c(0,1,0,1),c(1,0,0,1),c(0,0,0,1))\n",
    "P"
   ]
  },
  {
   "cell_type": "markdown",
   "id": "455aaca6",
   "metadata": {},
   "source": [
    "La matriz de cambio de base de $B$ a $\\overline{B}$ es $P^{-1}$."
   ]
  },
  {
   "cell_type": "code",
   "execution_count": 23,
   "id": "9557a782",
   "metadata": {},
   "outputs": [
    {
     "data": {
      "text/html": [
       "<table class=\"dataframe\">\n",
       "<caption>A matrix: 4 × 4 of type dbl</caption>\n",
       "<tbody>\n",
       "\t<tr><td> 0</td><td> 0</td><td> 1</td><td>0</td></tr>\n",
       "\t<tr><td> 0</td><td> 1</td><td> 0</td><td>0</td></tr>\n",
       "\t<tr><td> 1</td><td> 0</td><td>-1</td><td>0</td></tr>\n",
       "\t<tr><td>-1</td><td>-1</td><td> 1</td><td>1</td></tr>\n",
       "</tbody>\n",
       "</table>\n"
      ],
      "text/latex": [
       "A matrix: 4 × 4 of type dbl\n",
       "\\begin{tabular}{llll}\n",
       "\t  0 &  0 &  1 & 0\\\\\n",
       "\t  0 &  1 &  0 & 0\\\\\n",
       "\t  1 &  0 & -1 & 0\\\\\n",
       "\t -1 & -1 &  1 & 1\\\\\n",
       "\\end{tabular}\n"
      ],
      "text/markdown": [
       "\n",
       "A matrix: 4 × 4 of type dbl\n",
       "\n",
       "|  0 |  0 |  1 | 0 |\n",
       "|  0 |  1 |  0 | 0 |\n",
       "|  1 |  0 | -1 | 0 |\n",
       "| -1 | -1 |  1 | 1 |\n",
       "\n"
      ],
      "text/plain": [
       "     [,1] [,2] [,3] [,4]\n",
       "[1,]  0    0    1   0   \n",
       "[2,]  0    1    0   0   \n",
       "[3,]  1    0   -1   0   \n",
       "[4,] -1   -1    1   1   "
      ]
     },
     "metadata": {},
     "output_type": "display_data"
    }
   ],
   "source": [
    "solve(P)"
   ]
  },
  {
   "cell_type": "markdown",
   "id": "5ba97af8",
   "metadata": {},
   "source": [
    "Así si partimos de coordenadas en $\\overline{B}$ y queremos aplicar $f$ para terminar obteniendo coordenadas respectdo de $\\overline{B}$, lo primero que tenemos que hacer es traducir esas coordenadas a $B$, aplicar $f$, que devuelve su salida en coordenadas respecto a $B$, y finalmente convertir esas coordenadas a $\\overline{B}$. Por tanto, la matriz buscada es $P^{-1}AP$."
   ]
  },
  {
   "cell_type": "code",
   "execution_count": 22,
   "id": "a993207e",
   "metadata": {
    "scrolled": true
   },
   "outputs": [
    {
     "data": {
      "text/html": [
       "<table class=\"dataframe\">\n",
       "<caption>A matrix: 4 × 4 of type dbl</caption>\n",
       "<tbody>\n",
       "\t<tr><td> 0</td><td> 3</td><td> 3</td><td> 3</td></tr>\n",
       "\t<tr><td> 2</td><td> 0</td><td> 0</td><td> 0</td></tr>\n",
       "\t<tr><td> 0</td><td>-2</td><td>-3</td><td>-3</td></tr>\n",
       "\t<tr><td>-2</td><td> 2</td><td> 3</td><td> 3</td></tr>\n",
       "</tbody>\n",
       "</table>\n"
      ],
      "text/latex": [
       "A matrix: 4 × 4 of type dbl\n",
       "\\begin{tabular}{llll}\n",
       "\t  0 &  3 &  3 &  3\\\\\n",
       "\t  2 &  0 &  0 &  0\\\\\n",
       "\t  0 & -2 & -3 & -3\\\\\n",
       "\t -2 &  2 &  3 &  3\\\\\n",
       "\\end{tabular}\n"
      ],
      "text/markdown": [
       "\n",
       "A matrix: 4 × 4 of type dbl\n",
       "\n",
       "|  0 |  3 |  3 |  3 |\n",
       "|  2 |  0 |  0 |  0 |\n",
       "|  0 | -2 | -3 | -3 |\n",
       "| -2 |  2 |  3 |  3 |\n",
       "\n"
      ],
      "text/plain": [
       "     [,1] [,2] [,3] [,4]\n",
       "[1,]  0    3    3    3  \n",
       "[2,]  2    0    0    0  \n",
       "[3,]  0   -2   -3   -3  \n",
       "[4,] -2    2    3    3  "
      ]
     },
     "metadata": {},
     "output_type": "display_data"
    }
   ],
   "source": [
    "solve(P)%*%A%*%P"
   ]
  },
  {
   "cell_type": "markdown",
   "id": "17a53a96",
   "metadata": {},
   "source": [
    "### Ejercicio\n",
    "\n",
    "*De una aplicación lineal $f:\\mathbb{R}^3 \\longrightarrow \\mathbb{R}^4$ se sabe que*\n",
    "$$\n",
    "\\begin{array}{l}\n",
    "f(1,2,1)=(1,0,1,0),\\\\\n",
    "f(2,1,2)= (0,1,0,1), \\\\\n",
    "f(1,0,0)=(0,0,0,0).\n",
    "\\end{array}\n",
    "$$\n",
    "*Determinar la matriz asociada a $f$ respecto de las respectivas bases canónicas de $\\mathbb{R}^3$ y $\\mathbb{R}^4$ y determinar $f(3,1,1)$.*\n"
   ]
  },
  {
   "cell_type": "markdown",
   "id": "3400d6ee",
   "metadata": {},
   "source": [
    "Comprobemos que $\\overline{B}=\\{(1,2,1),(2,1,2),(1,0,0)\\}$ es una base."
   ]
  },
  {
   "cell_type": "code",
   "execution_count": 25,
   "id": "60db234e",
   "metadata": {},
   "outputs": [
    {
     "data": {
      "text/html": [
       "3"
      ],
      "text/latex": [
       "3"
      ],
      "text/markdown": [
       "3"
      ],
      "text/plain": [
       "[1] 3"
      ]
     },
     "metadata": {},
     "output_type": "display_data"
    }
   ],
   "source": [
    "P<-cbind(c(1,2,1),c(2,1,2),c(1,0,0))\n",
    "Rank(P)"
   ]
  },
  {
   "cell_type": "markdown",
   "id": "25c72aaa",
   "metadata": {},
   "source": [
    "Tenemos así que $\\overline{B}$ es una base, y $P$ pasa de $\\overline{B}$ a la base canónica. Además, la matriz de $f$ respecto de $\\overline{B}$ y la base canónica de $\\mathbb{R}^4$ es "
   ]
  },
  {
   "cell_type": "code",
   "execution_count": 26,
   "id": "1bb1d497",
   "metadata": {},
   "outputs": [],
   "source": [
    "A<-cbind(c(1,0,1,0),c(0,1,0,1),c(0,0,0,0))"
   ]
  },
  {
   "cell_type": "markdown",
   "id": "50c17a60",
   "metadata": {},
   "source": [
    "Para calcular la matriz con respecto a las bases canónicas, primero traducimos coordenadas de la base canónica a $\\overline{B}$ y luego aplicamos $f$ (cuya salida ya es en coordenadas respecto de la base canónica). Por tanto, la matriz asociada es $A*P^{-1}$."
   ]
  },
  {
   "cell_type": "code",
   "execution_count": 27,
   "id": "e626eed8",
   "metadata": {},
   "outputs": [
    {
     "data": {
      "text/html": [
       "<table class=\"dataframe\">\n",
       "<caption>A matrix: 4 × 3 of type dbl</caption>\n",
       "<tbody>\n",
       "\t<tr><td>0</td><td> 0.6666667</td><td>-0.3333333</td></tr>\n",
       "\t<tr><td>0</td><td>-0.3333333</td><td> 0.6666667</td></tr>\n",
       "\t<tr><td>0</td><td> 0.6666667</td><td>-0.3333333</td></tr>\n",
       "\t<tr><td>0</td><td>-0.3333333</td><td> 0.6666667</td></tr>\n",
       "</tbody>\n",
       "</table>\n"
      ],
      "text/latex": [
       "A matrix: 4 × 3 of type dbl\n",
       "\\begin{tabular}{lll}\n",
       "\t 0 &  0.6666667 & -0.3333333\\\\\n",
       "\t 0 & -0.3333333 &  0.6666667\\\\\n",
       "\t 0 &  0.6666667 & -0.3333333\\\\\n",
       "\t 0 & -0.3333333 &  0.6666667\\\\\n",
       "\\end{tabular}\n"
      ],
      "text/markdown": [
       "\n",
       "A matrix: 4 × 3 of type dbl\n",
       "\n",
       "| 0 |  0.6666667 | -0.3333333 |\n",
       "| 0 | -0.3333333 |  0.6666667 |\n",
       "| 0 |  0.6666667 | -0.3333333 |\n",
       "| 0 | -0.3333333 |  0.6666667 |\n",
       "\n"
      ],
      "text/plain": [
       "     [,1] [,2]       [,3]      \n",
       "[1,] 0     0.6666667 -0.3333333\n",
       "[2,] 0    -0.3333333  0.6666667\n",
       "[3,] 0     0.6666667 -0.3333333\n",
       "[4,] 0    -0.3333333  0.6666667"
      ]
     },
     "metadata": {},
     "output_type": "display_data"
    }
   ],
   "source": [
    "A%*%solve(P)"
   ]
  },
  {
   "cell_type": "code",
   "execution_count": 29,
   "id": "73f73b54",
   "metadata": {},
   "outputs": [
    {
     "name": "stdout",
     "output_type": "stream",
     "text": [
      "     [,1] [,2] [,3]\n",
      "[1,]    .  2/3 -1/3\n",
      "[2,]    . -1/3  2/3\n",
      "[3,]    .  2/3 -1/3\n",
      "[4,]    . -1/3  2/3\n"
     ]
    }
   ],
   "source": [
    "print(fractional::fractional(A%*%solve(P)))"
   ]
  },
  {
   "cell_type": "markdown",
   "id": "627a74b4",
   "metadata": {},
   "source": [
    "La imagen de $(3,1,1)$ es"
   ]
  },
  {
   "cell_type": "code",
   "execution_count": 32,
   "id": "72219de7",
   "metadata": {},
   "outputs": [
    {
     "data": {
      "text/html": [
       "<table class=\"dataframe\">\n",
       "<caption>A matrix: 4 × 1 of type dbl</caption>\n",
       "<tbody>\n",
       "\t<tr><td>0.3333333</td></tr>\n",
       "\t<tr><td>0.3333333</td></tr>\n",
       "\t<tr><td>0.3333333</td></tr>\n",
       "\t<tr><td>0.3333333</td></tr>\n",
       "</tbody>\n",
       "</table>\n"
      ],
      "text/latex": [
       "A matrix: 4 × 1 of type dbl\n",
       "\\begin{tabular}{l}\n",
       "\t 0.3333333\\\\\n",
       "\t 0.3333333\\\\\n",
       "\t 0.3333333\\\\\n",
       "\t 0.3333333\\\\\n",
       "\\end{tabular}\n"
      ],
      "text/markdown": [
       "\n",
       "A matrix: 4 × 1 of type dbl\n",
       "\n",
       "| 0.3333333 |\n",
       "| 0.3333333 |\n",
       "| 0.3333333 |\n",
       "| 0.3333333 |\n",
       "\n"
      ],
      "text/plain": [
       "     [,1]     \n",
       "[1,] 0.3333333\n",
       "[2,] 0.3333333\n",
       "[3,] 0.3333333\n",
       "[4,] 0.3333333"
      ]
     },
     "metadata": {},
     "output_type": "display_data"
    }
   ],
   "source": [
    "A%*%solve(P)%*%c(3,1,1)"
   ]
  },
  {
   "cell_type": "code",
   "execution_count": 33,
   "id": "0eb7ee65",
   "metadata": {},
   "outputs": [
    {
     "name": "stdout",
     "output_type": "stream",
     "text": [
      "     [,1]\n",
      "[1,] 1/3 \n",
      "[2,] 1/3 \n",
      "[3,] 1/3 \n",
      "[4,] 1/3 \n"
     ]
    }
   ],
   "source": [
    "print(fractional::fractional(.Last.value))"
   ]
  }
 ],
 "metadata": {
  "kernelspec": {
   "display_name": "R",
   "language": "R",
   "name": "ir"
  },
  "language_info": {
   "codemirror_mode": "r",
   "file_extension": ".r",
   "mimetype": "text/x-r-source",
   "name": "R",
   "pygments_lexer": "r",
   "version": "4.2.2"
  }
 },
 "nbformat": 4,
 "nbformat_minor": 5
}
