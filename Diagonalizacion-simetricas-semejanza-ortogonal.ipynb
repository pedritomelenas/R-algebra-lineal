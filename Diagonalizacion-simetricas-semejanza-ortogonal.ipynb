{
 "cells": [
  {
   "cell_type": "markdown",
   "metadata": {},
   "source": [
    "# Diagonalización de matrices simétricas por semejanza ortogonal"
   ]
  },
  {
   "cell_type": "markdown",
   "metadata": {},
   "source": [
    "Para ilustrar cómo diagonalizar matrices simétricas por semejanza ortogonal, vamos a usar el Ejemplo 9 (Capítulo IV) de [L. Merino, E. Santos [Álgebra Lineal con Métodos Elementales](https://www.amazon.es/%C3%81lgebra-lineal-m%C3%A9todos-elementales-GONZALEZ/dp/8497324811)]. \n",
    "\n",
    "## Ejemplo\n",
    "\n",
    "*Encuentra una matriz ortogonal $P$ tal que $P^tAP$ sea diagonal, con*\n",
    "$$\n",
    "A=\\begin{pmatrix}3 & 1 & 1\\\\\n",
    "1 & 3 & 1\\\\\n",
    "1 & 1 & 3\n",
    "\\end{pmatrix}.\n",
    "$$\n"
   ]
  },
  {
   "cell_type": "code",
   "execution_count": 1,
   "metadata": {
    "scrolled": false
   },
   "outputs": [
    {
     "data": {
      "text/html": [
       "<table class=\"dataframe\">\n",
       "<caption>A matrix: 3 × 3 of type dbl</caption>\n",
       "<tbody>\n",
       "\t<tr><td>3</td><td>1</td><td>1</td></tr>\n",
       "\t<tr><td>1</td><td>3</td><td>1</td></tr>\n",
       "\t<tr><td>1</td><td>1</td><td>3</td></tr>\n",
       "</tbody>\n",
       "</table>\n"
      ],
      "text/latex": [
       "A matrix: 3 × 3 of type dbl\n",
       "\\begin{tabular}{lll}\n",
       "\t 3 & 1 & 1\\\\\n",
       "\t 1 & 3 & 1\\\\\n",
       "\t 1 & 1 & 3\\\\\n",
       "\\end{tabular}\n"
      ],
      "text/markdown": [
       "\n",
       "A matrix: 3 × 3 of type dbl\n",
       "\n",
       "| 3 | 1 | 1 |\n",
       "| 1 | 3 | 1 |\n",
       "| 1 | 1 | 3 |\n",
       "\n"
      ],
      "text/plain": [
       "     [,1] [,2] [,3]\n",
       "[1,] 3    1    1   \n",
       "[2,] 1    3    1   \n",
       "[3,] 1    1    3   "
      ]
     },
     "metadata": {},
     "output_type": "display_data"
    }
   ],
   "source": [
    "A<-rbind(c(3,1,1),c(1,3,1),c(1,1,3))\n",
    "A"
   ]
  },
  {
   "cell_type": "markdown",
   "metadata": {},
   "source": [
    "### Con `pracma`"
   ]
  },
  {
   "cell_type": "markdown",
   "metadata": {},
   "source": [
    "Vamos a hacer uso de `nullspace` que calcula una base ortonormal del núcleo de una aplicación lineal."
   ]
  },
  {
   "cell_type": "code",
   "execution_count": 2,
   "metadata": {},
   "outputs": [],
   "source": [
    "library(\"pracma\")"
   ]
  },
  {
   "cell_type": "markdown",
   "metadata": {},
   "source": [
    "Empezamos calculando los valores propios."
   ]
  },
  {
   "cell_type": "code",
   "execution_count": 3,
   "metadata": {},
   "outputs": [
    {
     "data": {
      "text/html": [
       "<style>\n",
       ".list-inline {list-style: none; margin:0; padding: 0}\n",
       ".list-inline>li {display: inline-block}\n",
       ".list-inline>li:not(:last-child)::after {content: \"\\00b7\"; padding: 0 .5ex}\n",
       "</style>\n",
       "<ol class=list-inline><li>5</li><li>2</li><li>2</li></ol>\n"
      ],
      "text/latex": [
       "\\begin{enumerate*}\n",
       "\\item 5\n",
       "\\item 2\n",
       "\\item 2\n",
       "\\end{enumerate*}\n"
      ],
      "text/markdown": [
       "1. 5\n",
       "2. 2\n",
       "3. 2\n",
       "\n",
       "\n"
      ],
      "text/plain": [
       "[1] 5 2 2"
      ]
     },
     "metadata": {},
     "output_type": "display_data"
    }
   ],
   "source": [
    "eigen(A)$values"
   ]
  },
  {
   "cell_type": "markdown",
   "metadata": {},
   "source": [
    "Luego calculamos una base ortonormal (tendrá sólo un vector) del subespacio propio asociado a 5."
   ]
  },
  {
   "cell_type": "code",
   "execution_count": 4,
   "metadata": {},
   "outputs": [
    {
     "data": {
      "text/html": [
       "<table class=\"dataframe\">\n",
       "<caption>A matrix: 3 × 1 of type dbl</caption>\n",
       "<tbody>\n",
       "\t<tr><td>0.5773503</td></tr>\n",
       "\t<tr><td>0.5773503</td></tr>\n",
       "\t<tr><td>0.5773503</td></tr>\n",
       "</tbody>\n",
       "</table>\n"
      ],
      "text/latex": [
       "A matrix: 3 × 1 of type dbl\n",
       "\\begin{tabular}{l}\n",
       "\t 0.5773503\\\\\n",
       "\t 0.5773503\\\\\n",
       "\t 0.5773503\\\\\n",
       "\\end{tabular}\n"
      ],
      "text/markdown": [
       "\n",
       "A matrix: 3 × 1 of type dbl\n",
       "\n",
       "| 0.5773503 |\n",
       "| 0.5773503 |\n",
       "| 0.5773503 |\n",
       "\n"
      ],
      "text/plain": [
       "     [,1]     \n",
       "[1,] 0.5773503\n",
       "[2,] 0.5773503\n",
       "[3,] 0.5773503"
      ]
     },
     "metadata": {},
     "output_type": "display_data"
    }
   ],
   "source": [
    "A5<-A-5*diag(3)\n",
    "V5<-nullspace(A5)\n",
    "V5"
   ]
  },
  {
   "cell_type": "markdown",
   "metadata": {},
   "source": [
    "Vemos que efectivamente el vector que nos proporciona tiene norma uno."
   ]
  },
  {
   "cell_type": "code",
   "execution_count": 5,
   "metadata": {
    "scrolled": true
   },
   "outputs": [
    {
     "data": {
      "text/html": [
       "<table class=\"dataframe\">\n",
       "<caption>A matrix: 1 × 1 of type dbl</caption>\n",
       "<tbody>\n",
       "\t<tr><td>1</td></tr>\n",
       "</tbody>\n",
       "</table>\n"
      ],
      "text/latex": [
       "A matrix: 1 × 1 of type dbl\n",
       "\\begin{tabular}{l}\n",
       "\t 1\\\\\n",
       "\\end{tabular}\n"
      ],
      "text/markdown": [
       "\n",
       "A matrix: 1 × 1 of type dbl\n",
       "\n",
       "| 1 |\n",
       "\n"
      ],
      "text/plain": [
       "     [,1]\n",
       "[1,] 1   "
      ]
     },
     "metadata": {},
     "output_type": "display_data"
    }
   ],
   "source": [
    "t(V5)%*%V5"
   ]
  },
  {
   "cell_type": "markdown",
   "metadata": {},
   "source": [
    "Ahora calculamos una base ortonormal para el subespacio propio asociado al autovalor 2."
   ]
  },
  {
   "cell_type": "code",
   "execution_count": 6,
   "metadata": {},
   "outputs": [
    {
     "data": {
      "text/html": [
       "<table class=\"dataframe\">\n",
       "<caption>A matrix: 3 × 2 of type dbl</caption>\n",
       "<tbody>\n",
       "\t<tr><td>-0.5773503</td><td>-0.5773503</td></tr>\n",
       "\t<tr><td> 0.7886751</td><td>-0.2113249</td></tr>\n",
       "\t<tr><td>-0.2113249</td><td> 0.7886751</td></tr>\n",
       "</tbody>\n",
       "</table>\n"
      ],
      "text/latex": [
       "A matrix: 3 × 2 of type dbl\n",
       "\\begin{tabular}{ll}\n",
       "\t -0.5773503 & -0.5773503\\\\\n",
       "\t  0.7886751 & -0.2113249\\\\\n",
       "\t -0.2113249 &  0.7886751\\\\\n",
       "\\end{tabular}\n"
      ],
      "text/markdown": [
       "\n",
       "A matrix: 3 × 2 of type dbl\n",
       "\n",
       "| -0.5773503 | -0.5773503 |\n",
       "|  0.7886751 | -0.2113249 |\n",
       "| -0.2113249 |  0.7886751 |\n",
       "\n"
      ],
      "text/plain": [
       "     [,1]       [,2]      \n",
       "[1,] -0.5773503 -0.5773503\n",
       "[2,]  0.7886751 -0.2113249\n",
       "[3,] -0.2113249  0.7886751"
      ]
     },
     "metadata": {},
     "output_type": "display_data"
    }
   ],
   "source": [
    "A2<-A-2*diag(3)\n",
    "V2<-nullspace(A2)\n",
    "V2"
   ]
  },
  {
   "cell_type": "markdown",
   "metadata": {},
   "source": [
    "Y con esto ya tenemos la matriz de paso:"
   ]
  },
  {
   "cell_type": "code",
   "execution_count": 7,
   "metadata": {},
   "outputs": [
    {
     "data": {
      "text/html": [
       "<table class=\"dataframe\">\n",
       "<caption>A matrix: 3 × 3 of type dbl</caption>\n",
       "<tbody>\n",
       "\t<tr><td>0.5773503</td><td>-0.5773503</td><td>-0.5773503</td></tr>\n",
       "\t<tr><td>0.5773503</td><td> 0.7886751</td><td>-0.2113249</td></tr>\n",
       "\t<tr><td>0.5773503</td><td>-0.2113249</td><td> 0.7886751</td></tr>\n",
       "</tbody>\n",
       "</table>\n"
      ],
      "text/latex": [
       "A matrix: 3 × 3 of type dbl\n",
       "\\begin{tabular}{lll}\n",
       "\t 0.5773503 & -0.5773503 & -0.5773503\\\\\n",
       "\t 0.5773503 &  0.7886751 & -0.2113249\\\\\n",
       "\t 0.5773503 & -0.2113249 &  0.7886751\\\\\n",
       "\\end{tabular}\n"
      ],
      "text/markdown": [
       "\n",
       "A matrix: 3 × 3 of type dbl\n",
       "\n",
       "| 0.5773503 | -0.5773503 | -0.5773503 |\n",
       "| 0.5773503 |  0.7886751 | -0.2113249 |\n",
       "| 0.5773503 | -0.2113249 |  0.7886751 |\n",
       "\n"
      ],
      "text/plain": [
       "     [,1]      [,2]       [,3]      \n",
       "[1,] 0.5773503 -0.5773503 -0.5773503\n",
       "[2,] 0.5773503  0.7886751 -0.2113249\n",
       "[3,] 0.5773503 -0.2113249  0.7886751"
      ]
     },
     "metadata": {},
     "output_type": "display_data"
    }
   ],
   "source": [
    "P<-cbind(V5,V2)\n",
    "P"
   ]
  },
  {
   "cell_type": "markdown",
   "metadata": {},
   "source": [
    "Comprobamos que efectivamente $P^tAP$ es diagonal."
   ]
  },
  {
   "cell_type": "code",
   "execution_count": 8,
   "metadata": {
    "scrolled": true
   },
   "outputs": [
    {
     "data": {
      "text/html": [
       "<table class=\"dataframe\">\n",
       "<caption>A matrix: 3 × 3 of type dbl</caption>\n",
       "<tbody>\n",
       "\t<tr><td>5</td><td>0</td><td>0</td></tr>\n",
       "\t<tr><td>0</td><td>2</td><td>0</td></tr>\n",
       "\t<tr><td>0</td><td>0</td><td>2</td></tr>\n",
       "</tbody>\n",
       "</table>\n"
      ],
      "text/latex": [
       "A matrix: 3 × 3 of type dbl\n",
       "\\begin{tabular}{lll}\n",
       "\t 5 & 0 & 0\\\\\n",
       "\t 0 & 2 & 0\\\\\n",
       "\t 0 & 0 & 2\\\\\n",
       "\\end{tabular}\n"
      ],
      "text/markdown": [
       "\n",
       "A matrix: 3 × 3 of type dbl\n",
       "\n",
       "| 5 | 0 | 0 |\n",
       "| 0 | 2 | 0 |\n",
       "| 0 | 0 | 2 |\n",
       "\n"
      ],
      "text/plain": [
       "     [,1] [,2] [,3]\n",
       "[1,] 5    0    0   \n",
       "[2,] 0    2    0   \n",
       "[3,] 0    0    2   "
      ]
     },
     "metadata": {},
     "output_type": "display_data"
    }
   ],
   "source": [
    "zapsmall(t(P)%*%A%*%P)"
   ]
  },
  {
   "cell_type": "markdown",
   "metadata": {},
   "source": [
    "### Con `caracas`"
   ]
  },
  {
   "cell_type": "markdown",
   "metadata": {},
   "source": [
    "La ventaja de usar `caracas` es que manipula simbólicamente raíces y racionales, por lo que la salida es más precisa."
   ]
  },
  {
   "cell_type": "code",
   "execution_count": 9,
   "metadata": {
    "scrolled": true
   },
   "outputs": [
    {
     "name": "stderr",
     "output_type": "stream",
     "text": [
      "\n",
      "Attaching package: ‘caracas’\n",
      "\n",
      "\n",
      "The following objects are masked from ‘package:pracma’:\n",
      "\n",
      "    inv, nullspace, pinv, rref, taylor\n",
      "\n",
      "\n",
      "The following objects are masked from ‘package:base’:\n",
      "\n",
      "    %*%, det, diag, diag<-\n",
      "\n",
      "\n"
     ]
    }
   ],
   "source": [
    "library(\"caracas\")"
   ]
  },
  {
   "cell_type": "code",
   "execution_count": 10,
   "metadata": {},
   "outputs": [],
   "source": [
    "A<-as_sym(A)"
   ]
  },
  {
   "cell_type": "code",
   "execution_count": 11,
   "metadata": {},
   "outputs": [
    {
     "data": {
      "text/plain": [
       "[[1]]\n",
       "[[1]]$eigval\n",
       "[caracas]: 5\n",
       "\n",
       "[[1]]$eigmult\n",
       "[1] 1\n",
       "\n",
       "\n",
       "[[2]]\n",
       "[[2]]$eigval\n",
       "[caracas]: 2\n",
       "\n",
       "[[2]]$eigmult\n",
       "[1] 2\n",
       "\n"
      ]
     },
     "metadata": {},
     "output_type": "display_data"
    }
   ],
   "source": [
    "eigenval(A)"
   ]
  },
  {
   "cell_type": "markdown",
   "metadata": {},
   "source": [
    "La función `nullspace` de `caracas` no devuelve una base ortonormal."
   ]
  },
  {
   "cell_type": "code",
   "execution_count": 12,
   "metadata": {},
   "outputs": [
    {
     "data": {
      "text/plain": [
       "[[1]]\n",
       "[caracas]: [1  1  1]ᵀ\n"
      ]
     },
     "metadata": {},
     "output_type": "display_data"
    }
   ],
   "source": [
    "A5<-A-5*as_sym(diag(3))\n",
    "V5<-nullspace(A5)\n",
    "V5"
   ]
  },
  {
   "cell_type": "code",
   "execution_count": 13,
   "metadata": {},
   "outputs": [],
   "source": [
    "v1<-V5[[1]]"
   ]
  },
  {
   "cell_type": "markdown",
   "metadata": {},
   "source": [
    "Definamos una función que calcule la norma de un vector, y despues otra que normalice un vector."
   ]
  },
  {
   "cell_type": "code",
   "execution_count": 14,
   "metadata": {},
   "outputs": [],
   "source": [
    "norma<-function(v){\n",
    "    return(sqrt(t(v)%*%v)[1])\n",
    "}"
   ]
  },
  {
   "cell_type": "code",
   "execution_count": 15,
   "metadata": {},
   "outputs": [],
   "source": [
    "normaliza<-function(v){\n",
    "    return(cbind(v)/norma(v))\n",
    "}"
   ]
  },
  {
   "cell_type": "code",
   "execution_count": 16,
   "metadata": {
    "scrolled": true
   },
   "outputs": [
    {
     "data": {
      "text/plain": [
       "[caracas]: √3"
      ]
     },
     "metadata": {},
     "output_type": "display_data"
    }
   ],
   "source": [
    "norma(v1)"
   ]
  },
  {
   "cell_type": "code",
   "execution_count": 17,
   "metadata": {},
   "outputs": [
    {
     "data": {
      "text/plain": [
       "[caracas]: ⎡√3  √3  √3⎤\n",
       "           ⎢──  ──  ──⎥\n",
       "           ⎣3   3   3 ⎦ᵀ"
      ]
     },
     "metadata": {},
     "output_type": "display_data"
    }
   ],
   "source": [
    "normaliza(v1)"
   ]
  },
  {
   "cell_type": "code",
   "execution_count": 18,
   "metadata": {},
   "outputs": [
    {
     "data": {
      "text/plain": [
       "[[1]]\n",
       "[caracas]: [-1  1  0]ᵀ\n",
       "\n",
       "[[2]]\n",
       "[caracas]: [-1  0  1]ᵀ\n"
      ]
     },
     "metadata": {},
     "output_type": "display_data"
    }
   ],
   "source": [
    "A2<-A-2*as_sym(diag(3))\n",
    "V2<-nullspace(A2)\n",
    "V2"
   ]
  },
  {
   "cell_type": "markdown",
   "metadata": {},
   "source": [
    "Podemos usar `GramSchmidt` para encontrar una base ortogonal."
   ]
  },
  {
   "cell_type": "code",
   "execution_count": 19,
   "metadata": {
    "scrolled": true
   },
   "outputs": [
    {
     "data": {
      "text/plain": [
       "[caracas]: ⎡-1  -1/2⎤\n",
       "           ⎢        ⎥\n",
       "           ⎢1   -1/2⎥\n",
       "           ⎢        ⎥\n",
       "           ⎣0    1  ⎦"
      ]
     },
     "metadata": {},
     "output_type": "display_data"
    }
   ],
   "source": [
    "gV2<-GramSchmidt(cbind(V2[[1]],V2[[2]]))\n",
    "gV2"
   ]
  },
  {
   "cell_type": "markdown",
   "metadata": {},
   "source": [
    "Finalmente normalizamos todos los vectores, y construimos la matriz de paso."
   ]
  },
  {
   "cell_type": "code",
   "execution_count": 20,
   "metadata": {},
   "outputs": [
    {
     "data": {
      "text/plain": [
       "[caracas]: ⎡√3  -√2   -√6 ⎤\n",
       "           ⎢──  ────  ────⎥\n",
       "           ⎢3    2     6  ⎥\n",
       "           ⎢              ⎥\n",
       "           ⎢√3   √2   -√6 ⎥\n",
       "           ⎢──   ──   ────⎥\n",
       "           ⎢3    2     6  ⎥\n",
       "           ⎢              ⎥\n",
       "           ⎢√3         √6 ⎥\n",
       "           ⎢──   0     ── ⎥\n",
       "           ⎣3          3  ⎦"
      ]
     },
     "metadata": {},
     "output_type": "display_data"
    }
   ],
   "source": [
    "u1<-normaliza(v1)\n",
    "u2<-normaliza(gV2[,1])\n",
    "u3<-normaliza(gV2[,2])\n",
    "P<-cbind(u1,u2,u3)\n",
    "P"
   ]
  },
  {
   "cell_type": "markdown",
   "metadata": {},
   "source": [
    "Comprobamos que el resultado es correcto."
   ]
  },
  {
   "cell_type": "code",
   "execution_count": 21,
   "metadata": {
    "scrolled": true
   },
   "outputs": [
    {
     "data": {
      "text/plain": [
       "[caracas]: ⎡5  0  0⎤\n",
       "           ⎢       ⎥\n",
       "           ⎢0  2  0⎥\n",
       "           ⎢       ⎥\n",
       "           ⎣0  0  2⎦"
      ]
     },
     "metadata": {},
     "output_type": "display_data"
    }
   ],
   "source": [
    "t(P)%*%A%*%P"
   ]
  },
  {
   "cell_type": "markdown",
   "metadata": {},
   "source": [
    "En vez de definir una función que normalice los vectores, podríamos haber usado `QRdecomposition`, que devuelve una descomposición QR, y por tanto una base ortonormal de los vectores que le pasemos por columnas."
   ]
  },
  {
   "cell_type": "code",
   "execution_count": 22,
   "metadata": {
    "scrolled": false
   },
   "outputs": [
    {
     "data": {
      "text/plain": [
       "$Q\n",
       "[caracas]: ⎡√3  √3  √3⎤\n",
       "           ⎢──  ──  ──⎥\n",
       "           ⎣3   3   3 ⎦ᵀ\n",
       "\n",
       "$R\n",
       "[caracas]: [√3]\n"
      ]
     },
     "metadata": {},
     "output_type": "display_data"
    }
   ],
   "source": [
    "QRdecomposition(cbind(V5[[1]]))"
   ]
  },
  {
   "cell_type": "code",
   "execution_count": 23,
   "metadata": {
    "scrolled": true
   },
   "outputs": [
    {
     "data": {
      "text/plain": [
       "[caracas]: ⎡-√2   -√6 ⎤\n",
       "           ⎢────  ────⎥\n",
       "           ⎢ 2     6  ⎥\n",
       "           ⎢          ⎥\n",
       "           ⎢ √2   -√6 ⎥\n",
       "           ⎢ ──   ────⎥\n",
       "           ⎢ 2     6  ⎥\n",
       "           ⎢          ⎥\n",
       "           ⎢       √6 ⎥\n",
       "           ⎢ 0     ── ⎥\n",
       "           ⎣       3  ⎦"
      ]
     },
     "metadata": {},
     "output_type": "display_data"
    }
   ],
   "source": [
    "QRdecomposition(cbind(V2[[1]],V2[[2]]))$Q"
   ]
  }
 ],
 "metadata": {
  "kernelspec": {
   "display_name": "R",
   "language": "R",
   "name": "ir"
  },
  "language_info": {
   "codemirror_mode": "r",
   "file_extension": ".r",
   "mimetype": "text/x-r-source",
   "name": "R",
   "pygments_lexer": "r",
   "version": "4.2.2"
  }
 },
 "nbformat": 4,
 "nbformat_minor": 5
}
