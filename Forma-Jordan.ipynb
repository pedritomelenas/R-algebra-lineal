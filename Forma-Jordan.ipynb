{
 "cells": [
  {
   "cell_type": "markdown",
   "metadata": {},
   "source": [
    "## Forma de Jordan\n",
    "\n",
    "En este documento implementamos algunos ejemplos de cálculo de formas canónicas de Jordan (y las matrices de paso).\n",
    "\n",
    "Para la resolución de estos ejemplos, vamos a usar nuestra función `gensec` (que pasa de generadores a ecuaciones implícitas de un subspacio y viceversa) y la librería [pracma](https://cran.r-project.org/package=pracma)."
   ]
  },
  {
   "cell_type": "code",
   "execution_count": 1,
   "metadata": {},
   "outputs": [],
   "source": [
    "library(\"pracma\");\n",
    "gensec<-function(A){\n",
    "    # A es una matrix cuyas filas son los generadores del subespacio\n",
    "    # (o los coeficientes de las ecuaciones que lo definen)\n",
    "    c<-ncol(A) # número columnas de A\n",
    "    f<-nrow(A) # número de filas de A\n",
    "    r<-Rank(A) # rango de A\n",
    "    rtAI<-rref(cbind(t(A),base::diag(c))) # trasponemos A y le añadimos la identidad por columnas; \n",
    "                                    # calculamos forma reducida por columnas\n",
    "    ecs<-rtAI[(r+1):c,(f+1):(f+c)] # nos quedamos con la parte de ceros que corresponden\n",
    "                                    # a las ecuaciones (o a los generadores dependiendo de la entrada)\n",
    "    return(ecs)\n",
    "}"
   ]
  },
  {
   "cell_type": "markdown",
   "metadata": {},
   "source": [
    "El primer ejemplo que vamos a desarrolar usando `R` es el Ejercicio resuelto número 69 de [L. Merino, E. Santos [Álgebra Lineal con Métodos Elementales](https://www.amazon.es/%C3%81lgebra-lineal-m%C3%A9todos-elementales-GONZALEZ/dp/8497324811)].\n",
    "\n",
    "\n",
    "## Ejemplo 1 \n",
    "\n",
    "*Calcula la forma normal de Jordan de la matriz*\n",
    "$$\n",
    "\\begin{pmatrix}\n",
    "0& -4 & 0 & -1 \\\\ 0 & 2 & 0 & 0 \\\\ 0 & 0 & 0 & 0 \\\\ 4 & 8 & -12 & 4\n",
    "\\end{pmatrix}.\n",
    "$$"
   ]
  },
  {
   "cell_type": "code",
   "execution_count": 2,
   "metadata": {},
   "outputs": [
    {
     "data": {
      "text/html": [
       "<table class=\"dataframe\">\n",
       "<caption>A matrix: 4 × 4 of type dbl</caption>\n",
       "<tbody>\n",
       "\t<tr><td>0</td><td>-4</td><td>  0</td><td>-1</td></tr>\n",
       "\t<tr><td>0</td><td> 2</td><td>  0</td><td> 0</td></tr>\n",
       "\t<tr><td>0</td><td> 0</td><td>  0</td><td> 0</td></tr>\n",
       "\t<tr><td>4</td><td> 8</td><td>-12</td><td> 4</td></tr>\n",
       "</tbody>\n",
       "</table>\n"
      ],
      "text/latex": [
       "A matrix: 4 × 4 of type dbl\n",
       "\\begin{tabular}{llll}\n",
       "\t 0 & -4 &   0 & -1\\\\\n",
       "\t 0 &  2 &   0 &  0\\\\\n",
       "\t 0 &  0 &   0 &  0\\\\\n",
       "\t 4 &  8 & -12 &  4\\\\\n",
       "\\end{tabular}\n"
      ],
      "text/markdown": [
       "\n",
       "A matrix: 4 × 4 of type dbl\n",
       "\n",
       "| 0 | -4 |   0 | -1 |\n",
       "| 0 |  2 |   0 |  0 |\n",
       "| 0 |  0 |   0 |  0 |\n",
       "| 4 |  8 | -12 |  4 |\n",
       "\n"
      ],
      "text/plain": [
       "     [,1] [,2] [,3] [,4]\n",
       "[1,] 0    -4     0  -1  \n",
       "[2,] 0     2     0   0  \n",
       "[3,] 0     0     0   0  \n",
       "[4,] 4     8   -12   4  "
      ]
     },
     "metadata": {},
     "output_type": "display_data"
    }
   ],
   "source": [
    "A<-rbind(c(0,-4,0,-1),c(0,2,0,0),c(0,0,0,0),c(4,8,-12,4))\n",
    "A"
   ]
  },
  {
   "cell_type": "markdown",
   "metadata": {},
   "source": [
    "Veamos primero cuáles son sus valores propios."
   ]
  },
  {
   "cell_type": "code",
   "execution_count": 3,
   "metadata": {},
   "outputs": [
    {
     "data": {
      "text/plain": [
       "eigen() decomposition\n",
       "$values\n",
       "[1] 2 2 2 0\n",
       "\n",
       "$vectors\n",
       "              [,1]       [,2]       [,3]          [,4]\n",
       "[1,]  4.472136e-01 -0.4472136 -0.4472136  9.486833e-01\n",
       "[2,]  2.908470e-17  0.0000000  0.0000000  0.000000e+00\n",
       "[3,]  0.000000e+00  0.0000000  0.0000000  3.162278e-01\n",
       "[4,] -8.944272e-01  0.8944272  0.8944272 -4.213000e-16\n"
      ]
     },
     "metadata": {},
     "output_type": "display_data"
    }
   ],
   "source": [
    "eigen(A)"
   ]
  },
  {
   "cell_type": "markdown",
   "metadata": {},
   "source": [
    "Son el 2 con multiplicidad 3, y el 0 con multiplicidad 1.\n",
    "\n",
    "Veamos pues cuál es el subespacio propio (y el máximo) para el autovalor 2.\n",
    "\n",
    "Empezamos calculando $\\ker(A-2 I)$:"
   ]
  },
  {
   "cell_type": "code",
   "execution_count": 4,
   "metadata": {},
   "outputs": [],
   "source": [
    "A2<-A-2*diag(4)"
   ]
  },
  {
   "cell_type": "code",
   "execution_count": 5,
   "metadata": {},
   "outputs": [
    {
     "data": {
      "text/html": [
       "<table class=\"dataframe\">\n",
       "<caption>A matrix: 2 × 4 of type dbl</caption>\n",
       "<tbody>\n",
       "\t<tr><td>1</td><td>0</td><td>0</td><td>-2</td></tr>\n",
       "\t<tr><td>0</td><td>1</td><td>0</td><td>-4</td></tr>\n",
       "</tbody>\n",
       "</table>\n"
      ],
      "text/latex": [
       "A matrix: 2 × 4 of type dbl\n",
       "\\begin{tabular}{llll}\n",
       "\t 1 & 0 & 0 & -2\\\\\n",
       "\t 0 & 1 & 0 & -4\\\\\n",
       "\\end{tabular}\n"
      ],
      "text/markdown": [
       "\n",
       "A matrix: 2 × 4 of type dbl\n",
       "\n",
       "| 1 | 0 | 0 | -2 |\n",
       "| 0 | 1 | 0 | -4 |\n",
       "\n"
      ],
      "text/plain": [
       "     [,1] [,2] [,3] [,4]\n",
       "[1,] 1    0    0    -2  \n",
       "[2,] 0    1    0    -4  "
      ]
     },
     "metadata": {},
     "output_type": "display_data"
    }
   ],
   "source": [
    "gensec(A2)"
   ]
  },
  {
   "cell_type": "markdown",
   "metadata": {},
   "source": [
    "Por tanto el subespacio propio asociado al 2 tiene dimensión menor que la multiplicidad algebraica de 2 (que es 3). Calculamos $\\ker(A-2I)^2$. "
   ]
  },
  {
   "cell_type": "code",
   "execution_count": 6,
   "metadata": {},
   "outputs": [
    {
     "data": {
      "text/html": [
       "<table class=\"dataframe\">\n",
       "<caption>A matrix: 3 × 4 of type dbl</caption>\n",
       "<tbody>\n",
       "\t<tr><td>1</td><td>0</td><td>0</td><td>0</td></tr>\n",
       "\t<tr><td>0</td><td>1</td><td>0</td><td>0</td></tr>\n",
       "\t<tr><td>0</td><td>0</td><td>0</td><td>1</td></tr>\n",
       "</tbody>\n",
       "</table>\n"
      ],
      "text/latex": [
       "A matrix: 3 × 4 of type dbl\n",
       "\\begin{tabular}{llll}\n",
       "\t 1 & 0 & 0 & 0\\\\\n",
       "\t 0 & 1 & 0 & 0\\\\\n",
       "\t 0 & 0 & 0 & 1\\\\\n",
       "\\end{tabular}\n"
      ],
      "text/markdown": [
       "\n",
       "A matrix: 3 × 4 of type dbl\n",
       "\n",
       "| 1 | 0 | 0 | 0 |\n",
       "| 0 | 1 | 0 | 0 |\n",
       "| 0 | 0 | 0 | 1 |\n",
       "\n"
      ],
      "text/plain": [
       "     [,1] [,2] [,3] [,4]\n",
       "[1,] 1    0    0    0   \n",
       "[2,] 0    1    0    0   \n",
       "[3,] 0    0    0    1   "
      ]
     },
     "metadata": {},
     "output_type": "display_data"
    }
   ],
   "source": [
    "gensec(A2%*%A2)"
   ]
  },
  {
   "cell_type": "markdown",
   "metadata": {},
   "source": [
    "Que ya tiene dimensión tres, igual a la multiplicidad algebraica del autovalor 2. Así el bloque de Jordan correspondiente a este autovalor se formará con una base de $\\ker(A-2I)^2$ que contiene a dos vectores de $\\ker(A-2I)$.\n",
    "\n",
    "Escogemos un vector $u$ de $\\ker(A-2I)^2\\setminus\\ker(A-2I)$, calculamos $Au$, que estará en $\\ker(A-2I)$, y luego tomamos un vector que complete una base de $\\ker(A-2I)$. Con estos tres vectores tendremos la caja de Jordan asociada al autovalor 2."
   ]
  },
  {
   "cell_type": "code",
   "execution_count": 7,
   "metadata": {},
   "outputs": [
    {
     "data": {
      "text/html": [
       "<table class=\"dataframe\">\n",
       "<caption>A matrix: 4 × 1 of type dbl</caption>\n",
       "<tbody>\n",
       "\t<tr><td>-1</td></tr>\n",
       "\t<tr><td> 0</td></tr>\n",
       "\t<tr><td> 0</td></tr>\n",
       "\t<tr><td> 2</td></tr>\n",
       "</tbody>\n",
       "</table>\n"
      ],
      "text/latex": [
       "A matrix: 4 × 1 of type dbl\n",
       "\\begin{tabular}{l}\n",
       "\t -1\\\\\n",
       "\t  0\\\\\n",
       "\t  0\\\\\n",
       "\t  2\\\\\n",
       "\\end{tabular}\n"
      ],
      "text/markdown": [
       "\n",
       "A matrix: 4 × 1 of type dbl\n",
       "\n",
       "| -1 |\n",
       "|  0 |\n",
       "|  0 |\n",
       "|  2 |\n",
       "\n"
      ],
      "text/plain": [
       "     [,1]\n",
       "[1,] -1  \n",
       "[2,]  0  \n",
       "[3,]  0  \n",
       "[4,]  2  "
      ]
     },
     "metadata": {},
     "output_type": "display_data"
    }
   ],
   "source": [
    "u1<-c(0,0,0,1)\n",
    "u2<-(A2)%*%u1\n",
    "u2"
   ]
  },
  {
   "cell_type": "code",
   "execution_count": 8,
   "metadata": {},
   "outputs": [],
   "source": [
    "u3<-gensec(A2)[2,]"
   ]
  },
  {
   "cell_type": "code",
   "execution_count": 9,
   "metadata": {},
   "outputs": [],
   "source": [
    "P2<-cbind(u2,u1,u3)"
   ]
  },
  {
   "cell_type": "markdown",
   "metadata": {},
   "source": [
    "Ahora sólo nos basta completar con la parte de la base correspondiente al autovalor 0."
   ]
  },
  {
   "cell_type": "code",
   "execution_count": 10,
   "metadata": {},
   "outputs": [
    {
     "data": {
      "text/html": [
       "<style>\n",
       ".list-inline {list-style: none; margin:0; padding: 0}\n",
       ".list-inline>li {display: inline-block}\n",
       ".list-inline>li:not(:last-child)::after {content: \"\\00b7\"; padding: 0 .5ex}\n",
       "</style>\n",
       "<ol class=list-inline><li>1</li><li>0</li><li>0.333333333333333</li><li>0</li></ol>\n"
      ],
      "text/latex": [
       "\\begin{enumerate*}\n",
       "\\item 1\n",
       "\\item 0\n",
       "\\item 0.333333333333333\n",
       "\\item 0\n",
       "\\end{enumerate*}\n"
      ],
      "text/markdown": [
       "1. 1\n",
       "2. 0\n",
       "3. 0.333333333333333\n",
       "4. 0\n",
       "\n",
       "\n"
      ],
      "text/plain": [
       "[1] 1.0000000 0.0000000 0.3333333 0.0000000"
      ]
     },
     "metadata": {},
     "output_type": "display_data"
    }
   ],
   "source": [
    "gensec(A)"
   ]
  },
  {
   "cell_type": "code",
   "execution_count": 11,
   "metadata": {},
   "outputs": [
    {
     "data": {
      "text/html": [
       "<table class=\"dataframe\">\n",
       "<caption>A matrix: 4 × 4 of type dbl</caption>\n",
       "<tbody>\n",
       "\t<tr><td>-1</td><td>0</td><td> 0</td><td>1.0000000</td></tr>\n",
       "\t<tr><td> 0</td><td>0</td><td> 1</td><td>0.0000000</td></tr>\n",
       "\t<tr><td> 0</td><td>0</td><td> 0</td><td>0.3333333</td></tr>\n",
       "\t<tr><td> 2</td><td>1</td><td>-4</td><td>0.0000000</td></tr>\n",
       "</tbody>\n",
       "</table>\n"
      ],
      "text/latex": [
       "A matrix: 4 × 4 of type dbl\n",
       "\\begin{tabular}{llll}\n",
       "\t -1 & 0 &  0 & 1.0000000\\\\\n",
       "\t  0 & 0 &  1 & 0.0000000\\\\\n",
       "\t  0 & 0 &  0 & 0.3333333\\\\\n",
       "\t  2 & 1 & -4 & 0.0000000\\\\\n",
       "\\end{tabular}\n"
      ],
      "text/markdown": [
       "\n",
       "A matrix: 4 × 4 of type dbl\n",
       "\n",
       "| -1 | 0 |  0 | 1.0000000 |\n",
       "|  0 | 0 |  1 | 0.0000000 |\n",
       "|  0 | 0 |  0 | 0.3333333 |\n",
       "|  2 | 1 | -4 | 0.0000000 |\n",
       "\n"
      ],
      "text/plain": [
       "     [,1] [,2] [,3] [,4]     \n",
       "[1,] -1   0     0   1.0000000\n",
       "[2,]  0   0     1   0.0000000\n",
       "[3,]  0   0     0   0.3333333\n",
       "[4,]  2   1    -4   0.0000000"
      ]
     },
     "metadata": {},
     "output_type": "display_data"
    }
   ],
   "source": [
    "P<-cbind(P2,gensec(A))\n",
    "P<-unname(P)\n",
    "P"
   ]
  },
  {
   "cell_type": "markdown",
   "metadata": {},
   "source": [
    "Comprobemos que la matriz $P$ es una matriz de paso para una forma de Jordan de $A$."
   ]
  },
  {
   "cell_type": "code",
   "execution_count": 12,
   "metadata": {
    "scrolled": true
   },
   "outputs": [
    {
     "data": {
      "text/html": [
       "<table class=\"dataframe\">\n",
       "<caption>A matrix: 4 × 4 of type dbl</caption>\n",
       "<tbody>\n",
       "\t<tr><td>2</td><td>1</td><td>0</td><td>0</td></tr>\n",
       "\t<tr><td>0</td><td>2</td><td>0</td><td>0</td></tr>\n",
       "\t<tr><td>0</td><td>0</td><td>2</td><td>0</td></tr>\n",
       "\t<tr><td>0</td><td>0</td><td>0</td><td>0</td></tr>\n",
       "</tbody>\n",
       "</table>\n"
      ],
      "text/latex": [
       "A matrix: 4 × 4 of type dbl\n",
       "\\begin{tabular}{llll}\n",
       "\t 2 & 1 & 0 & 0\\\\\n",
       "\t 0 & 2 & 0 & 0\\\\\n",
       "\t 0 & 0 & 2 & 0\\\\\n",
       "\t 0 & 0 & 0 & 0\\\\\n",
       "\\end{tabular}\n"
      ],
      "text/markdown": [
       "\n",
       "A matrix: 4 × 4 of type dbl\n",
       "\n",
       "| 2 | 1 | 0 | 0 |\n",
       "| 0 | 2 | 0 | 0 |\n",
       "| 0 | 0 | 2 | 0 |\n",
       "| 0 | 0 | 0 | 0 |\n",
       "\n"
      ],
      "text/plain": [
       "     [,1] [,2] [,3] [,4]\n",
       "[1,] 2    1    0    0   \n",
       "[2,] 0    2    0    0   \n",
       "[3,] 0    0    2    0   \n",
       "[4,] 0    0    0    0   "
      ]
     },
     "metadata": {},
     "output_type": "display_data"
    }
   ],
   "source": [
    "solve(P)%*%A%*%P"
   ]
  },
  {
   "cell_type": "markdown",
   "metadata": {},
   "source": [
    "Hagamos ahora el Ejemplo III.5.19 de [I. Ojeda, J. Gago, [Métodos matemáticos para la Estadística](https://publicauex.unex.es/libro/metodos-matematicos-para-estadistica_135467/)].\n",
    "\n",
    "\n",
    "## Ejemplo \n",
    "\n",
    "*Calcular la forma de Jordan de la matriz*\n",
    "$$\n",
    "A=\\begin{pmatrix}\n",
    "1& -1 & 1 &-1\\\\\n",
    "-1 & 0 & 1 & -1\\\\\n",
    "-1 & 3 & -10&  9\\\\\n",
    "0 & 4 & -12 & 11\n",
    "\\end{pmatrix}.\n",
    "$$"
   ]
  },
  {
   "cell_type": "code",
   "execution_count": 13,
   "metadata": {},
   "outputs": [
    {
     "data": {
      "text/html": [
       "<table class=\"dataframe\">\n",
       "<caption>A matrix: 4 × 4 of type dbl</caption>\n",
       "<tbody>\n",
       "\t<tr><td> 1</td><td>-1</td><td>  1</td><td>-1</td></tr>\n",
       "\t<tr><td>-1</td><td> 0</td><td>  1</td><td>-1</td></tr>\n",
       "\t<tr><td>-1</td><td> 3</td><td>-10</td><td> 9</td></tr>\n",
       "\t<tr><td> 0</td><td> 4</td><td>-12</td><td>11</td></tr>\n",
       "</tbody>\n",
       "</table>\n"
      ],
      "text/latex": [
       "A matrix: 4 × 4 of type dbl\n",
       "\\begin{tabular}{llll}\n",
       "\t  1 & -1 &   1 & -1\\\\\n",
       "\t -1 &  0 &   1 & -1\\\\\n",
       "\t -1 &  3 & -10 &  9\\\\\n",
       "\t  0 &  4 & -12 & 11\\\\\n",
       "\\end{tabular}\n"
      ],
      "text/markdown": [
       "\n",
       "A matrix: 4 × 4 of type dbl\n",
       "\n",
       "|  1 | -1 |   1 | -1 |\n",
       "| -1 |  0 |   1 | -1 |\n",
       "| -1 |  3 | -10 |  9 |\n",
       "|  0 |  4 | -12 | 11 |\n",
       "\n"
      ],
      "text/plain": [
       "     [,1] [,2] [,3] [,4]\n",
       "[1,]  1   -1     1  -1  \n",
       "[2,] -1    0     1  -1  \n",
       "[3,] -1    3   -10   9  \n",
       "[4,]  0    4   -12  11  "
      ]
     },
     "metadata": {},
     "output_type": "display_data"
    }
   ],
   "source": [
    "A<-rbind(c(1,-1,1,-1),c(-1,0,1,-1),c(-1,3,-10,9),c(0,4,-12,11))\n",
    "A"
   ]
  },
  {
   "cell_type": "code",
   "execution_count": 14,
   "metadata": {},
   "outputs": [
    {
     "data": {
      "text/html": [
       "<style>\n",
       ".list-inline {list-style: none; margin:0; padding: 0}\n",
       ".list-inline>li {display: inline-block}\n",
       ".list-inline>li:not(:last-child)::after {content: \"\\00b7\"; padding: 0 .5ex}\n",
       "</style>\n",
       "<ol class=list-inline><li>1.00001081029571+0.00001872355891i</li><li>1.00001081029571-0.00001872355891i</li><li>-1.00000000000001+0i</li><li>0.999978379408585+0i</li></ol>\n"
      ],
      "text/latex": [
       "\\begin{enumerate*}\n",
       "\\item 1.00001081029571+0.00001872355891i\n",
       "\\item 1.00001081029571-0.00001872355891i\n",
       "\\item -1.00000000000001+0i\n",
       "\\item 0.999978379408585+0i\n",
       "\\end{enumerate*}\n"
      ],
      "text/markdown": [
       "1. 1.00001081029571+0.00001872355891i\n",
       "2. 1.00001081029571-0.00001872355891i\n",
       "3. -1.00000000000001+0i\n",
       "4. 0.999978379408585+0i\n",
       "\n",
       "\n"
      ],
      "text/plain": [
       "[1]  1.0000108+0.000019i  1.0000108-0.000019i -1.0000000+0.000000i\n",
       "[4]  0.9999784+0.000000i"
      ]
     },
     "metadata": {},
     "output_type": "display_data"
    }
   ],
   "source": [
    "eigen(A)$values"
   ]
  },
  {
   "cell_type": "markdown",
   "metadata": {},
   "source": [
    "Como vemos se producen algunos problemas con el redondeo, vamos a ver si podemos usar el polinomio característico y calcular sus raíces."
   ]
  },
  {
   "cell_type": "code",
   "execution_count": 15,
   "metadata": {},
   "outputs": [
    {
     "data": {
      "text/html": [
       "<style>\n",
       ".list-inline {list-style: none; margin:0; padding: 0}\n",
       ".list-inline>li {display: inline-block}\n",
       ".list-inline>li:not(:last-child)::after {content: \"\\00b7\"; padding: 0 .5ex}\n",
       "</style>\n",
       "<ol class=list-inline><li>1</li><li>-2</li><li>0</li><li>2</li><li>-1</li></ol>\n"
      ],
      "text/latex": [
       "\\begin{enumerate*}\n",
       "\\item 1\n",
       "\\item -2\n",
       "\\item 0\n",
       "\\item 2\n",
       "\\item -1\n",
       "\\end{enumerate*}\n"
      ],
      "text/markdown": [
       "1. 1\n",
       "2. -2\n",
       "3. 0\n",
       "4. 2\n",
       "5. -1\n",
       "\n",
       "\n"
      ],
      "text/plain": [
       "[1]  1 -2  0  2 -1"
      ]
     },
     "metadata": {},
     "output_type": "display_data"
    }
   ],
   "source": [
    "p<-charpoly(A)\n",
    "p"
   ]
  },
  {
   "cell_type": "code",
   "execution_count": 16,
   "metadata": {},
   "outputs": [
    {
     "data": {
      "text/html": [
       "<style>\n",
       ".list-inline {list-style: none; margin:0; padding: 0}\n",
       ".list-inline>li {display: inline-block}\n",
       ".list-inline>li:not(:last-child)::after {content: \"\\00b7\"; padding: 0 .5ex}\n",
       "</style>\n",
       "<ol class=list-inline><li>9.99999999888928e-01-3.53736e-10i</li><li>-1-0i</li><li>1.00000000005554e+00+1.7687e-10i</li><li>1.00000000005554e+00+1.7687e-10i</li></ol>\n"
      ],
      "text/latex": [
       "\\begin{enumerate*}\n",
       "\\item 9.99999999888928e-01-3.53736e-10i\n",
       "\\item -1-0i\n",
       "\\item 1.00000000005554e+00+1.7687e-10i\n",
       "\\item 1.00000000005554e+00+1.7687e-10i\n",
       "\\end{enumerate*}\n"
      ],
      "text/markdown": [
       "1. 9.99999999888928e-01-3.53736e-10i\n",
       "2. -1-0i\n",
       "3. 1.00000000005554e+00+1.7687e-10i\n",
       "4. 1.00000000005554e+00+1.7687e-10i\n",
       "\n",
       "\n"
      ],
      "text/plain": [
       "[1]  1-0i -1-0i  1+0i  1+0i"
      ]
     },
     "metadata": {},
     "output_type": "display_data"
    }
   ],
   "source": [
    "polyroot(p)"
   ]
  },
  {
   "cell_type": "markdown",
   "metadata": {},
   "source": [
    "Usamos `zapsmall` para \"redondear\"."
   ]
  },
  {
   "cell_type": "code",
   "execution_count": 17,
   "metadata": {},
   "outputs": [
    {
     "data": {
      "text/html": [
       "<style>\n",
       ".list-inline {list-style: none; margin:0; padding: 0}\n",
       ".list-inline>li {display: inline-block}\n",
       ".list-inline>li:not(:last-child)::after {content: \"\\00b7\"; padding: 0 .5ex}\n",
       "</style>\n",
       "<ol class=list-inline><li>1+0i</li><li>-1+0i</li><li>1+0i</li><li>1+0i</li></ol>\n"
      ],
      "text/latex": [
       "\\begin{enumerate*}\n",
       "\\item 1+0i\n",
       "\\item -1+0i\n",
       "\\item 1+0i\n",
       "\\item 1+0i\n",
       "\\end{enumerate*}\n"
      ],
      "text/markdown": [
       "1. 1+0i\n",
       "2. -1+0i\n",
       "3. 1+0i\n",
       "4. 1+0i\n",
       "\n",
       "\n"
      ],
      "text/plain": [
       "[1]  1+0i -1+0i  1+0i  1+0i"
      ]
     },
     "metadata": {},
     "output_type": "display_data"
    }
   ],
   "source": [
    "zapsmall(polyroot(p))"
   ]
  },
  {
   "cell_type": "markdown",
   "metadata": {},
   "source": [
    "Si queremos hacer las operaciones sobre los racionales podemos usar `caracas`. "
   ]
  },
  {
   "cell_type": "code",
   "execution_count": 18,
   "metadata": {},
   "outputs": [
    {
     "name": "stderr",
     "output_type": "stream",
     "text": [
      "\n",
      "Attaching package: ‘caracas’\n",
      "\n",
      "\n",
      "The following objects are masked from ‘package:pracma’:\n",
      "\n",
      "    inv, nullspace, pinv, rref, taylor\n",
      "\n",
      "\n",
      "The following objects are masked from ‘package:base’:\n",
      "\n",
      "    %*%, det, diag, diag<-\n",
      "\n",
      "\n"
     ]
    }
   ],
   "source": [
    "library(\"caracas\")"
   ]
  },
  {
   "cell_type": "markdown",
   "metadata": {},
   "source": [
    "Vamos a calcular ahora las raíces del polinomio característico con `sympy` (al que llama `caracas`)."
   ]
  },
  {
   "cell_type": "code",
   "execution_count": 19,
   "metadata": {},
   "outputs": [
    {
     "data": {
      "text/html": [
       "'1*x^0+-2*x^1+0*x^2+2*x^3+-1*x^4'"
      ],
      "text/latex": [
       "'1*x\\textasciicircum{}0+-2*x\\textasciicircum{}1+0*x\\textasciicircum{}2+2*x\\textasciicircum{}3+-1*x\\textasciicircum{}4'"
      ],
      "text/markdown": [
       "'1*x^0+-2*x^1+0*x^2+2*x^3+-1*x^4'"
      ],
      "text/plain": [
       "[1] \"1*x^0+-2*x^1+0*x^2+2*x^3+-1*x^4\""
      ]
     },
     "metadata": {},
     "output_type": "display_data"
    }
   ],
   "source": [
    "eqs<-paste(paste(p,paste(\"x\",0:4,sep=\"^\"),sep=\"*\"),collapse=\"+\")\n",
    "eqs"
   ]
  },
  {
   "cell_type": "code",
   "execution_count": 20,
   "metadata": {},
   "outputs": [],
   "source": [
    "eq<-as_sym(eqs)"
   ]
  },
  {
   "cell_type": "code",
   "execution_count": 21,
   "metadata": {},
   "outputs": [
    {
     "data": {
      "text/plain": [
       "Solution 1:\n",
       "  x =  -1 \n",
       "Solution 2:\n",
       "  x =  1 "
      ]
     },
     "metadata": {},
     "output_type": "display_data"
    }
   ],
   "source": [
    "solve_sys(eq,\"x\")"
   ]
  },
  {
   "cell_type": "markdown",
   "metadata": {},
   "source": [
    "O bien usamos `eigenval` de `caracas`."
   ]
  },
  {
   "cell_type": "code",
   "execution_count": 22,
   "metadata": {
    "scrolled": true
   },
   "outputs": [
    {
     "data": {
      "text/plain": [
       "[[1]]\n",
       "[[1]]$eigval\n",
       "[caracas]: -1\n",
       "\n",
       "[[1]]$eigmult\n",
       "[1] 1\n",
       "\n",
       "\n",
       "[[2]]\n",
       "[[2]]$eigval\n",
       "[caracas]: 1\n",
       "\n",
       "[[2]]$eigmult\n",
       "[1] 3\n",
       "\n"
      ]
     },
     "metadata": {},
     "output_type": "display_data"
    }
   ],
   "source": [
    "eigenval(as_sym(A))"
   ]
  },
  {
   "cell_type": "markdown",
   "metadata": {},
   "source": [
    "Luego tenemos dos valores propios: -1 con multiplicidad 1, y 1 con multiplicidad 3.\n",
    "\n",
    "Empezamos estudiando el subespacio propio para 1."
   ]
  },
  {
   "cell_type": "code",
   "execution_count": 23,
   "metadata": {
    "scrolled": true
   },
   "outputs": [
    {
     "data": {
      "text/html": [
       "<table class=\"dataframe\">\n",
       "<caption>A matrix: 4 × 4 of type dbl</caption>\n",
       "<tbody>\n",
       "\t<tr><td> 0</td><td>-1</td><td>  1</td><td>-1</td></tr>\n",
       "\t<tr><td>-1</td><td>-1</td><td>  1</td><td>-1</td></tr>\n",
       "\t<tr><td>-1</td><td> 3</td><td>-11</td><td> 9</td></tr>\n",
       "\t<tr><td> 0</td><td> 4</td><td>-12</td><td>10</td></tr>\n",
       "</tbody>\n",
       "</table>\n"
      ],
      "text/latex": [
       "A matrix: 4 × 4 of type dbl\n",
       "\\begin{tabular}{llll}\n",
       "\t  0 & -1 &   1 & -1\\\\\n",
       "\t -1 & -1 &   1 & -1\\\\\n",
       "\t -1 &  3 & -11 &  9\\\\\n",
       "\t  0 &  4 & -12 & 10\\\\\n",
       "\\end{tabular}\n"
      ],
      "text/markdown": [
       "\n",
       "A matrix: 4 × 4 of type dbl\n",
       "\n",
       "|  0 | -1 |   1 | -1 |\n",
       "| -1 | -1 |   1 | -1 |\n",
       "| -1 |  3 | -11 |  9 |\n",
       "|  0 |  4 | -12 | 10 |\n",
       "\n"
      ],
      "text/plain": [
       "     [,1] [,2] [,3] [,4]\n",
       "[1,]  0   -1     1  -1  \n",
       "[2,] -1   -1     1  -1  \n",
       "[3,] -1    3   -11   9  \n",
       "[4,]  0    4   -12  10  "
      ]
     },
     "metadata": {},
     "output_type": "display_data"
    }
   ],
   "source": [
    "A1<-A-diag(4)\n",
    "A1"
   ]
  },
  {
   "cell_type": "markdown",
   "metadata": {},
   "source": [
    "En este caso no vamos a usar `gensec` porque no está preparado para trabajar con matrices de `caracas` (tendríamos que adaptarlo). El paquete `caracas` redefine `nullspace`, así que lo vamos a aprovechar, pues trabaja sin problemas con racionales."
   ]
  },
  {
   "cell_type": "code",
   "execution_count": 24,
   "metadata": {},
   "outputs": [
    {
     "data": {
      "text/plain": [
       "[[1]]\n",
       "[caracas]: [0  -1/4  3/4  1]ᵀ\n"
      ]
     },
     "metadata": {},
     "output_type": "display_data"
    }
   ],
   "source": [
    "A1<-as_sym(A1)\n",
    "V1<-nullspace(A1)\n",
    "V1"
   ]
  },
  {
   "cell_type": "code",
   "execution_count": 25,
   "metadata": {
    "scrolled": false
   },
   "outputs": [
    {
     "data": {
      "text/plain": [
       "[[1]]\n",
       "[caracas]: [-2  1  1  0]ᵀ\n",
       "\n",
       "[[2]]\n",
       "[caracas]: [3/2  -1  0  1]ᵀ\n"
      ]
     },
     "metadata": {},
     "output_type": "display_data"
    }
   ],
   "source": [
    "V1_2<-nullspace(A1%*%A1)\n",
    "V1_2"
   ]
  },
  {
   "cell_type": "code",
   "execution_count": 26,
   "metadata": {},
   "outputs": [
    {
     "data": {
      "text/plain": [
       "[[1]]\n",
       "[caracas]: [-1/2  1  0  0]ᵀ\n",
       "\n",
       "[[2]]\n",
       "[caracas]: [-3/2  0  1  0]ᵀ\n",
       "\n",
       "[[3]]\n",
       "[caracas]: [1  0  0  1]ᵀ\n"
      ]
     },
     "metadata": {},
     "output_type": "display_data"
    }
   ],
   "source": [
    "V1_3<-nullspace(A1%*%A1%*%A1)\n",
    "V1_3"
   ]
  },
  {
   "cell_type": "code",
   "execution_count": 27,
   "metadata": {},
   "outputs": [],
   "source": [
    "u1<-V1_3[[3]]"
   ]
  },
  {
   "cell_type": "code",
   "execution_count": 28,
   "metadata": {},
   "outputs": [
    {
     "data": {
      "text/plain": [
       "[caracas]: [1  0  0  1]ᵀ"
      ]
     },
     "metadata": {},
     "output_type": "display_data"
    }
   ],
   "source": [
    "u1"
   ]
  },
  {
   "cell_type": "code",
   "execution_count": 29,
   "metadata": {},
   "outputs": [
    {
     "data": {
      "text/plain": [
       "[caracas]: [-1  -2  8  10]ᵀ"
      ]
     },
     "metadata": {},
     "output_type": "display_data"
    }
   ],
   "source": [
    "u2<-A1%*%u1\n",
    "u2"
   ]
  },
  {
   "cell_type": "code",
   "execution_count": 30,
   "metadata": {},
   "outputs": [
    {
     "data": {
      "text/plain": [
       "[caracas]: [0  1  -3  -4]ᵀ"
      ]
     },
     "metadata": {},
     "output_type": "display_data"
    }
   ],
   "source": [
    "u3<-A1%*%u2\n",
    "u3"
   ]
  },
  {
   "cell_type": "code",
   "execution_count": 31,
   "metadata": {},
   "outputs": [
    {
     "data": {
      "text/plain": [
       "[[1]]\n",
       "[caracas]: [0  0  1  1]ᵀ\n"
      ]
     },
     "metadata": {},
     "output_type": "display_data"
    }
   ],
   "source": [
    "Am1<-as_sym(A+diag(4))\n",
    "Vm1<-nullspace(Am1)\n",
    "Vm1"
   ]
  },
  {
   "cell_type": "code",
   "execution_count": 32,
   "metadata": {},
   "outputs": [],
   "source": [
    "P<-cbind(u3,u2,u1,Vm1[[1]])"
   ]
  },
  {
   "cell_type": "code",
   "execution_count": 33,
   "metadata": {},
   "outputs": [
    {
     "data": {
      "text/plain": [
       "[caracas]: ⎡0   -1  1  0⎤\n",
       "           ⎢            ⎥\n",
       "           ⎢1   -2  0  0⎥\n",
       "           ⎢            ⎥\n",
       "           ⎢-3  8   0  1⎥\n",
       "           ⎢            ⎥\n",
       "           ⎣-4  10  1  1⎦"
      ]
     },
     "metadata": {},
     "output_type": "display_data"
    }
   ],
   "source": [
    "P"
   ]
  },
  {
   "cell_type": "markdown",
   "metadata": {},
   "source": [
    "Para la inversa usamos `inv` de `caracas` en vez de `solve`."
   ]
  },
  {
   "cell_type": "code",
   "execution_count": 34,
   "metadata": {
    "scrolled": true
   },
   "outputs": [
    {
     "data": {
      "text/plain": [
       "[caracas]: ⎡-2  3  -2  2 ⎤\n",
       "           ⎢             ⎥\n",
       "           ⎢-1  1  -1  1 ⎥\n",
       "           ⎢             ⎥\n",
       "           ⎢0   1  -1  1 ⎥\n",
       "           ⎢             ⎥\n",
       "           ⎣2   1  3   -2⎦"
      ]
     },
     "metadata": {},
     "output_type": "display_data"
    }
   ],
   "source": [
    "inv(P)"
   ]
  },
  {
   "cell_type": "markdown",
   "metadata": {},
   "source": [
    "Comprobamos pues que en efecto `P` es la matriz de paso que nos da una forma de Jordan."
   ]
  },
  {
   "cell_type": "code",
   "execution_count": 35,
   "metadata": {},
   "outputs": [
    {
     "data": {
      "text/plain": [
       "[caracas]: ⎡1  1  0  0 ⎤\n",
       "           ⎢           ⎥\n",
       "           ⎢0  1  1  0 ⎥\n",
       "           ⎢           ⎥\n",
       "           ⎢0  0  1  0 ⎥\n",
       "           ⎢           ⎥\n",
       "           ⎣0  0  0  -1⎦"
      ]
     },
     "metadata": {},
     "output_type": "display_data"
    }
   ],
   "source": [
    "inv(P)%*%as_sym(A)%*%P"
   ]
  },
  {
   "cell_type": "markdown",
   "metadata": {},
   "source": [
    "También podemos usar la función `jordan_form` de `sympy` que hace el cálculo de la forma normal de Jordan y de la matriz de paso."
   ]
  },
  {
   "cell_type": "code",
   "execution_count": 36,
   "metadata": {
    "scrolled": true
   },
   "outputs": [
    {
     "data": {
      "text/plain": [
       "[caracas]: ⎛⎡0  0    -1   -1/2⎤  ⎡-1  0  0  0⎤⎞\n",
       "           ⎜⎢                 ⎥  ⎢           ⎥⎟\n",
       "           ⎜⎢0  1   -1/2   1  ⎥  ⎢0   1  1  0⎥⎟\n",
       "           ⎜⎢                 ⎥, ⎢           ⎥⎟\n",
       "           ⎜⎢1  -3  7/2    0  ⎥  ⎢0   0  1  1⎥⎟\n",
       "           ⎜⎢                 ⎥  ⎢           ⎥⎟\n",
       "           ⎝⎣1  -4   4     0  ⎦  ⎣0   0  0  1⎦⎠"
      ]
     },
     "metadata": {},
     "output_type": "display_data"
    }
   ],
   "source": [
    "sj<-sympy_func(as_sym(A),\"jordan_form\")\n",
    "sj"
   ]
  },
  {
   "cell_type": "markdown",
   "metadata": {},
   "source": [
    "La salida es una lista de `caracas`. En la posición 0 está la matriz de paso, y en la 1 la forma normal."
   ]
  },
  {
   "cell_type": "code",
   "execution_count": 37,
   "metadata": {},
   "outputs": [
    {
     "data": {
      "text/plain": [
       "Matrix([\n",
       "[0,  0,   -1, -1/2],\n",
       "[0,  1, -1/2,    1],\n",
       "[1, -3,  7/2,    0],\n",
       "[1, -4,    4,    0]])"
      ]
     },
     "metadata": {},
     "output_type": "display_data"
    }
   ],
   "source": [
    "Q<-sj[[1]][0]\n",
    "Q"
   ]
  },
  {
   "cell_type": "markdown",
   "metadata": {},
   "source": [
    "Convertimos `Q` a una matriz de `R` con `matrify`."
   ]
  },
  {
   "cell_type": "code",
   "execution_count": 38,
   "metadata": {},
   "outputs": [
    {
     "data": {
      "text/plain": [
       "[caracas]: ⎡0  0    -1   -1/2⎤\n",
       "           ⎢                 ⎥\n",
       "           ⎢0  1   -1/2   1  ⎥\n",
       "           ⎢                 ⎥\n",
       "           ⎢1  -3  7/2    0  ⎥\n",
       "           ⎢                 ⎥\n",
       "           ⎣1  -4   4     0  ⎦"
      ]
     },
     "metadata": {},
     "output_type": "display_data"
    }
   ],
   "source": [
    "Q<-matrify(Q)\n",
    "Q"
   ]
  },
  {
   "cell_type": "code",
   "execution_count": 39,
   "metadata": {
    "scrolled": true
   },
   "outputs": [
    {
     "data": {
      "text/plain": [
       "[caracas]: ⎡-1  0  0  0⎤\n",
       "           ⎢           ⎥\n",
       "           ⎢0   1  1  0⎥\n",
       "           ⎢           ⎥\n",
       "           ⎢0   0  1  1⎥\n",
       "           ⎢           ⎥\n",
       "           ⎣0   0  0  1⎦"
      ]
     },
     "metadata": {},
     "output_type": "display_data"
    }
   ],
   "source": [
    "inv(Q)%*%as_sym(A)%*%Q"
   ]
  },
  {
   "cell_type": "markdown",
   "metadata": {},
   "source": [
    "Veamos ahora cómo calcular con `jordan_form` de `sympy` la matriz de paso y la forma normal del primer ejemplo."
   ]
  },
  {
   "cell_type": "code",
   "execution_count": 40,
   "metadata": {
    "scrolled": true
   },
   "outputs": [
    {
     "data": {
      "text/plain": [
       "[caracas]: ⎡0  -4   0   -1⎤\n",
       "           ⎢              ⎥\n",
       "           ⎢0  2    0   0 ⎥\n",
       "           ⎢              ⎥\n",
       "           ⎢0  0    0   0 ⎥\n",
       "           ⎢              ⎥\n",
       "           ⎣4  8   -12  4 ⎦"
      ]
     },
     "metadata": {},
     "output_type": "display_data"
    }
   ],
   "source": [
    "A<-as_sym(rbind(c(0,-4,0,-1),c(0,2,0,0),c(0,0,0,0),c(4,8,-12,4)))\n",
    "A"
   ]
  },
  {
   "cell_type": "code",
   "execution_count": 41,
   "metadata": {},
   "outputs": [
    {
     "data": {
      "text/plain": [
       "[caracas]: ⎛⎡3  -2  1  -2⎤  ⎡0  0  0  0⎤⎞\n",
       "           ⎜⎢            ⎥  ⎢          ⎥⎟\n",
       "           ⎜⎢0  0   0  1 ⎥  ⎢0  2  1  0⎥⎟\n",
       "           ⎜⎢            ⎥, ⎢          ⎥⎟\n",
       "           ⎜⎢1  0   0  0 ⎥  ⎢0  0  2  0⎥⎟\n",
       "           ⎜⎢            ⎥  ⎢          ⎥⎟\n",
       "           ⎝⎣0  4   0  0 ⎦  ⎣0  0  0  2⎦⎠"
      ]
     },
     "metadata": {},
     "output_type": "display_data"
    }
   ],
   "source": [
    "sympy_func(as_sym(A),\"jordan_form\")"
   ]
  }
 ],
 "metadata": {
  "kernelspec": {
   "display_name": "R",
   "language": "R",
   "name": "ir"
  },
  "language_info": {
   "codemirror_mode": "r",
   "file_extension": ".r",
   "mimetype": "text/x-r-source",
   "name": "R",
   "pygments_lexer": "r",
   "version": "4.2.2"
  }
 },
 "nbformat": 4,
 "nbformat_minor": 5
}
