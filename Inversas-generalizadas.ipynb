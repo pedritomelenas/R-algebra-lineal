{
 "cells": [
  {
   "cell_type": "markdown",
   "metadata": {},
   "source": [
    "# Inversa generalizada de Moore-Penrose\n",
    "\n",
    "Existen varias formas de calcular la inversa generalizada de Moore-Penrose de una matriz. Aquí expondremos algunas de ellas usando diversas librerías de `R`.\n",
    "\n",
    "## Cálculo a partir de una descomposición en valores singulares\n",
    "\n",
    "Si $A$ es una matriz con entradas reales y $UDV^t$ es una descomposición en valores singulares corta de $A$, entonces por la demostración del Teorema VI.2.2 de [I. Ojeda, J. Gago, [Métodos matemáticos para la Estadística](https://publicauex.unex.es/libro/metodos-matematicos-para-estadistica_135467/)] la inversa generalizada de Moore-Penrose de $A$ es $A^\\dagger=VD^{-1}U^t$.\n",
    "\n",
    "Ilustremos este cálculo usando los Ejemplos VI.1.8 y VI.2.3 de [I. Ojeda, J. Gago, [Métodos matemáticos para la Estadística](https://publicauex.unex.es/libro/metodos-matematicos-para-estadistica_135467/)].\n"
   ]
  },
  {
   "cell_type": "markdown",
   "metadata": {},
   "source": [
    "#### Usando `svd`"
   ]
  },
  {
   "cell_type": "code",
   "execution_count": 1,
   "metadata": {
    "scrolled": true
   },
   "outputs": [
    {
     "data": {
      "text/html": [
       "<table class=\"dataframe\">\n",
       "<caption>A matrix: 4 × 3 of type dbl</caption>\n",
       "<tbody>\n",
       "\t<tr><td> 2</td><td> 0</td><td>1</td></tr>\n",
       "\t<tr><td> 3</td><td>-1</td><td>1</td></tr>\n",
       "\t<tr><td>-2</td><td> 4</td><td>1</td></tr>\n",
       "\t<tr><td> 1</td><td> 1</td><td>1</td></tr>\n",
       "</tbody>\n",
       "</table>\n"
      ],
      "text/latex": [
       "A matrix: 4 × 3 of type dbl\n",
       "\\begin{tabular}{lll}\n",
       "\t  2 &  0 & 1\\\\\n",
       "\t  3 & -1 & 1\\\\\n",
       "\t -2 &  4 & 1\\\\\n",
       "\t  1 &  1 & 1\\\\\n",
       "\\end{tabular}\n"
      ],
      "text/markdown": [
       "\n",
       "A matrix: 4 × 3 of type dbl\n",
       "\n",
       "|  2 |  0 | 1 |\n",
       "|  3 | -1 | 1 |\n",
       "| -2 |  4 | 1 |\n",
       "|  1 |  1 | 1 |\n",
       "\n"
      ],
      "text/plain": [
       "     [,1] [,2] [,3]\n",
       "[1,]  2    0   1   \n",
       "[2,]  3   -1   1   \n",
       "[3,] -2    4   1   \n",
       "[4,]  1    1   1   "
      ]
     },
     "metadata": {},
     "output_type": "display_data"
    }
   ],
   "source": [
    "A<-rbind(c(2,0,1),c(3,-1,1),c(-2,4,1),c(1,1,1))\n",
    "A"
   ]
  },
  {
   "cell_type": "markdown",
   "metadata": {},
   "source": [
    "Como hemos visto, para calcular la descomposición en valores singulares, podemos utilizar `svd`."
   ]
  },
  {
   "cell_type": "code",
   "execution_count": 2,
   "metadata": {},
   "outputs": [
    {
     "data": {
      "text/html": [
       "<dl>\n",
       "\t<dt>$d</dt>\n",
       "\t\t<dd><style>\n",
       ".list-inline {list-style: none; margin:0; padding: 0}\n",
       ".list-inline>li {display: inline-block}\n",
       ".list-inline>li:not(:last-child)::after {content: \"\\00b7\"; padding: 0 .5ex}\n",
       "</style>\n",
       "<ol class=list-inline><li>5.29150262212918</li><li>3.46410161513775</li><li>3.01120685551131e-16</li></ol>\n",
       "</dd>\n",
       "\t<dt>$u</dt>\n",
       "\t\t<dd><table class=\"dataframe\">\n",
       "<caption>A matrix: 4 × 3 of type dbl</caption>\n",
       "<tbody>\n",
       "\t<tr><td>-2.672612e-01</td><td>-0.5</td><td>-0.77197017</td></tr>\n",
       "\t<tr><td>-5.345225e-01</td><td>-0.5</td><td> 0.27710193</td></tr>\n",
       "\t<tr><td> 8.017837e-01</td><td>-0.5</td><td>-0.07258877</td></tr>\n",
       "\t<tr><td> 2.498002e-16</td><td>-0.5</td><td> 0.56745700</td></tr>\n",
       "</tbody>\n",
       "</table>\n",
       "</dd>\n",
       "\t<dt>$v</dt>\n",
       "\t\t<dd><table class=\"dataframe\">\n",
       "<caption>A matrix: 3 × 3 of type dbl</caption>\n",
       "<tbody>\n",
       "\t<tr><td>-7.071068e-01</td><td>-0.5773503</td><td> 0.4082483</td></tr>\n",
       "\t<tr><td> 7.071068e-01</td><td>-0.5773503</td><td> 0.4082483</td></tr>\n",
       "\t<tr><td> 1.665335e-16</td><td>-0.5773503</td><td>-0.8164966</td></tr>\n",
       "</tbody>\n",
       "</table>\n",
       "</dd>\n",
       "</dl>\n"
      ],
      "text/latex": [
       "\\begin{description}\n",
       "\\item[\\$d] \\begin{enumerate*}\n",
       "\\item 5.29150262212918\n",
       "\\item 3.46410161513775\n",
       "\\item 3.01120685551131e-16\n",
       "\\end{enumerate*}\n",
       "\n",
       "\\item[\\$u] A matrix: 4 × 3 of type dbl\n",
       "\\begin{tabular}{lll}\n",
       "\t -2.672612e-01 & -0.5 & -0.77197017\\\\\n",
       "\t -5.345225e-01 & -0.5 &  0.27710193\\\\\n",
       "\t  8.017837e-01 & -0.5 & -0.07258877\\\\\n",
       "\t  2.498002e-16 & -0.5 &  0.56745700\\\\\n",
       "\\end{tabular}\n",
       "\n",
       "\\item[\\$v] A matrix: 3 × 3 of type dbl\n",
       "\\begin{tabular}{lll}\n",
       "\t -7.071068e-01 & -0.5773503 &  0.4082483\\\\\n",
       "\t  7.071068e-01 & -0.5773503 &  0.4082483\\\\\n",
       "\t  1.665335e-16 & -0.5773503 & -0.8164966\\\\\n",
       "\\end{tabular}\n",
       "\n",
       "\\end{description}\n"
      ],
      "text/markdown": [
       "$d\n",
       ":   1. 5.29150262212918\n",
       "2. 3.46410161513775\n",
       "3. 3.01120685551131e-16\n",
       "\n",
       "\n",
       "\n",
       "$u\n",
       ":   \n",
       "A matrix: 4 × 3 of type dbl\n",
       "\n",
       "| -2.672612e-01 | -0.5 | -0.77197017 |\n",
       "| -5.345225e-01 | -0.5 |  0.27710193 |\n",
       "|  8.017837e-01 | -0.5 | -0.07258877 |\n",
       "|  2.498002e-16 | -0.5 |  0.56745700 |\n",
       "\n",
       "\n",
       "$v\n",
       ":   \n",
       "A matrix: 3 × 3 of type dbl\n",
       "\n",
       "| -7.071068e-01 | -0.5773503 |  0.4082483 |\n",
       "|  7.071068e-01 | -0.5773503 |  0.4082483 |\n",
       "|  1.665335e-16 | -0.5773503 | -0.8164966 |\n",
       "\n",
       "\n",
       "\n",
       "\n"
      ],
      "text/plain": [
       "$d\n",
       "[1] 5.291503e+00 3.464102e+00 3.011207e-16\n",
       "\n",
       "$u\n",
       "              [,1] [,2]        [,3]\n",
       "[1,] -2.672612e-01 -0.5 -0.77197017\n",
       "[2,] -5.345225e-01 -0.5  0.27710193\n",
       "[3,]  8.017837e-01 -0.5 -0.07258877\n",
       "[4,]  2.498002e-16 -0.5  0.56745700\n",
       "\n",
       "$v\n",
       "              [,1]       [,2]       [,3]\n",
       "[1,] -7.071068e-01 -0.5773503  0.4082483\n",
       "[2,]  7.071068e-01 -0.5773503  0.4082483\n",
       "[3,]  1.665335e-16 -0.5773503 -0.8164966\n"
      ]
     },
     "metadata": {},
     "output_type": "display_data"
    }
   ],
   "source": [
    "dA<-svd(A)\n",
    "dA"
   ]
  },
  {
   "cell_type": "code",
   "execution_count": 3,
   "metadata": {},
   "outputs": [
    {
     "data": {
      "text/html": [
       "<style>\n",
       ".list-inline {list-style: none; margin:0; padding: 0}\n",
       ".list-inline>li {display: inline-block}\n",
       ".list-inline>li:not(:last-child)::after {content: \"\\00b7\"; padding: 0 .5ex}\n",
       "</style>\n",
       "<ol class=list-inline><li>5.291503</li><li>3.464102</li><li>0</li></ol>\n"
      ],
      "text/latex": [
       "\\begin{enumerate*}\n",
       "\\item 5.291503\n",
       "\\item 3.464102\n",
       "\\item 0\n",
       "\\end{enumerate*}\n"
      ],
      "text/markdown": [
       "1. 5.291503\n",
       "2. 3.464102\n",
       "3. 0\n",
       "\n",
       "\n"
      ],
      "text/plain": [
       "[1] 5.291503 3.464102 0.000000"
      ]
     },
     "metadata": {},
     "output_type": "display_data"
    }
   ],
   "source": [
    "zapsmall(dA$d)"
   ]
  },
  {
   "cell_type": "markdown",
   "metadata": {},
   "source": [
    "Como el último valor es nulo, sólo tomamos las partes de `$u` y `$v` que nos interesan."
   ]
  },
  {
   "cell_type": "code",
   "execution_count": 4,
   "metadata": {},
   "outputs": [
    {
     "data": {
      "text/html": [
       "<table class=\"dataframe\">\n",
       "<caption>A matrix: 4 × 3 of type dbl</caption>\n",
       "<tbody>\n",
       "\t<tr><td> 2</td><td> 0</td><td>1</td></tr>\n",
       "\t<tr><td> 3</td><td>-1</td><td>1</td></tr>\n",
       "\t<tr><td>-2</td><td> 4</td><td>1</td></tr>\n",
       "\t<tr><td> 1</td><td> 1</td><td>1</td></tr>\n",
       "</tbody>\n",
       "</table>\n"
      ],
      "text/latex": [
       "A matrix: 4 × 3 of type dbl\n",
       "\\begin{tabular}{lll}\n",
       "\t  2 &  0 & 1\\\\\n",
       "\t  3 & -1 & 1\\\\\n",
       "\t -2 &  4 & 1\\\\\n",
       "\t  1 &  1 & 1\\\\\n",
       "\\end{tabular}\n"
      ],
      "text/markdown": [
       "\n",
       "A matrix: 4 × 3 of type dbl\n",
       "\n",
       "|  2 |  0 | 1 |\n",
       "|  3 | -1 | 1 |\n",
       "| -2 |  4 | 1 |\n",
       "|  1 |  1 | 1 |\n",
       "\n"
      ],
      "text/plain": [
       "     [,1] [,2] [,3]\n",
       "[1,]  2    0   1   \n",
       "[2,]  3   -1   1   \n",
       "[3,] -2    4   1   \n",
       "[4,]  1    1   1   "
      ]
     },
     "metadata": {},
     "output_type": "display_data"
    }
   ],
   "source": [
    "U<-dA$u[,1:2]\n",
    "V<-dA$v[,1:2]\n",
    "d<-dA$d[1:2]\n",
    "zapsmall(U%*%diag(d)%*%t(V))"
   ]
  },
  {
   "cell_type": "code",
   "execution_count": 5,
   "metadata": {},
   "outputs": [
    {
     "data": {
      "text/html": [
       "<table class=\"dataframe\">\n",
       "<caption>A matrix: 3 × 4 of type dbl</caption>\n",
       "<tbody>\n",
       "\t<tr><td>0.11904762</td><td>0.15476190</td><td>-0.02380952</td><td>0.08333333</td></tr>\n",
       "\t<tr><td>0.04761905</td><td>0.01190476</td><td> 0.19047619</td><td>0.08333333</td></tr>\n",
       "\t<tr><td>0.08333333</td><td>0.08333333</td><td> 0.08333333</td><td>0.08333333</td></tr>\n",
       "</tbody>\n",
       "</table>\n"
      ],
      "text/latex": [
       "A matrix: 3 × 4 of type dbl\n",
       "\\begin{tabular}{llll}\n",
       "\t 0.11904762 & 0.15476190 & -0.02380952 & 0.08333333\\\\\n",
       "\t 0.04761905 & 0.01190476 &  0.19047619 & 0.08333333\\\\\n",
       "\t 0.08333333 & 0.08333333 &  0.08333333 & 0.08333333\\\\\n",
       "\\end{tabular}\n"
      ],
      "text/markdown": [
       "\n",
       "A matrix: 3 × 4 of type dbl\n",
       "\n",
       "| 0.11904762 | 0.15476190 | -0.02380952 | 0.08333333 |\n",
       "| 0.04761905 | 0.01190476 |  0.19047619 | 0.08333333 |\n",
       "| 0.08333333 | 0.08333333 |  0.08333333 | 0.08333333 |\n",
       "\n"
      ],
      "text/plain": [
       "     [,1]       [,2]       [,3]        [,4]      \n",
       "[1,] 0.11904762 0.15476190 -0.02380952 0.08333333\n",
       "[2,] 0.04761905 0.01190476  0.19047619 0.08333333\n",
       "[3,] 0.08333333 0.08333333  0.08333333 0.08333333"
      ]
     },
     "metadata": {},
     "output_type": "display_data"
    }
   ],
   "source": [
    "igA<-V%*%diag(1/d)%*%t(U)\n",
    "igA"
   ]
  },
  {
   "cell_type": "markdown",
   "metadata": {},
   "source": [
    "Veamos que verifica las condiciones de inversa generalizada.\n",
    "\n",
    "$AA^\\dagger A=A$:"
   ]
  },
  {
   "cell_type": "code",
   "execution_count": 6,
   "metadata": {},
   "outputs": [
    {
     "data": {
      "text/html": [
       "<table class=\"dataframe\">\n",
       "<caption>A matrix: 4 × 3 of type dbl</caption>\n",
       "<tbody>\n",
       "\t<tr><td> 2</td><td> 0</td><td>1</td></tr>\n",
       "\t<tr><td> 3</td><td>-1</td><td>1</td></tr>\n",
       "\t<tr><td>-2</td><td> 4</td><td>1</td></tr>\n",
       "\t<tr><td> 1</td><td> 1</td><td>1</td></tr>\n",
       "</tbody>\n",
       "</table>\n"
      ],
      "text/latex": [
       "A matrix: 4 × 3 of type dbl\n",
       "\\begin{tabular}{lll}\n",
       "\t  2 &  0 & 1\\\\\n",
       "\t  3 & -1 & 1\\\\\n",
       "\t -2 &  4 & 1\\\\\n",
       "\t  1 &  1 & 1\\\\\n",
       "\\end{tabular}\n"
      ],
      "text/markdown": [
       "\n",
       "A matrix: 4 × 3 of type dbl\n",
       "\n",
       "|  2 |  0 | 1 |\n",
       "|  3 | -1 | 1 |\n",
       "| -2 |  4 | 1 |\n",
       "|  1 |  1 | 1 |\n",
       "\n"
      ],
      "text/plain": [
       "     [,1] [,2] [,3]\n",
       "[1,]  2    0   1   \n",
       "[2,]  3   -1   1   \n",
       "[3,] -2    4   1   \n",
       "[4,]  1    1   1   "
      ]
     },
     "metadata": {},
     "output_type": "display_data"
    }
   ],
   "source": [
    "zapsmall(A%*%igA%*%A)"
   ]
  },
  {
   "cell_type": "markdown",
   "metadata": {},
   "source": [
    "$A^\\dagger A A^\\dagger=A^\\dagger$:"
   ]
  },
  {
   "cell_type": "code",
   "execution_count": 7,
   "metadata": {},
   "outputs": [
    {
     "data": {
      "text/html": [
       "<table class=\"dataframe\">\n",
       "<caption>A matrix: 3 × 4 of type dbl</caption>\n",
       "<tbody>\n",
       "\t<tr><td>0.11904762</td><td>0.15476190</td><td>-0.02380952</td><td>0.08333333</td></tr>\n",
       "\t<tr><td>0.04761905</td><td>0.01190476</td><td> 0.19047619</td><td>0.08333333</td></tr>\n",
       "\t<tr><td>0.08333333</td><td>0.08333333</td><td> 0.08333333</td><td>0.08333333</td></tr>\n",
       "</tbody>\n",
       "</table>\n"
      ],
      "text/latex": [
       "A matrix: 3 × 4 of type dbl\n",
       "\\begin{tabular}{llll}\n",
       "\t 0.11904762 & 0.15476190 & -0.02380952 & 0.08333333\\\\\n",
       "\t 0.04761905 & 0.01190476 &  0.19047619 & 0.08333333\\\\\n",
       "\t 0.08333333 & 0.08333333 &  0.08333333 & 0.08333333\\\\\n",
       "\\end{tabular}\n"
      ],
      "text/markdown": [
       "\n",
       "A matrix: 3 × 4 of type dbl\n",
       "\n",
       "| 0.11904762 | 0.15476190 | -0.02380952 | 0.08333333 |\n",
       "| 0.04761905 | 0.01190476 |  0.19047619 | 0.08333333 |\n",
       "| 0.08333333 | 0.08333333 |  0.08333333 | 0.08333333 |\n",
       "\n"
      ],
      "text/plain": [
       "     [,1]       [,2]       [,3]        [,4]      \n",
       "[1,] 0.11904762 0.15476190 -0.02380952 0.08333333\n",
       "[2,] 0.04761905 0.01190476  0.19047619 0.08333333\n",
       "[3,] 0.08333333 0.08333333  0.08333333 0.08333333"
      ]
     },
     "metadata": {},
     "output_type": "display_data"
    }
   ],
   "source": [
    "zapsmall(igA%*%A%*%igA)"
   ]
  },
  {
   "cell_type": "markdown",
   "metadata": {},
   "source": [
    "$A A^\\dagger$ y $A^\\dagger A$ son simétricas:"
   ]
  },
  {
   "cell_type": "markdown",
   "metadata": {},
   "source": [
    "Si hacemos la comprobación directa, obtenemos que no son iguales por problemas de redondeo."
   ]
  },
  {
   "cell_type": "code",
   "execution_count": 8,
   "metadata": {
    "scrolled": true
   },
   "outputs": [
    {
     "data": {
      "text/html": [
       "<table class=\"dataframe\">\n",
       "<caption>A matrix: 4 × 4 of type lgl</caption>\n",
       "<tbody>\n",
       "\t<tr><td> TRUE</td><td>FALSE</td><td>FALSE</td><td> TRUE</td></tr>\n",
       "\t<tr><td>FALSE</td><td> TRUE</td><td>FALSE</td><td> TRUE</td></tr>\n",
       "\t<tr><td>FALSE</td><td>FALSE</td><td> TRUE</td><td>FALSE</td></tr>\n",
       "\t<tr><td> TRUE</td><td> TRUE</td><td>FALSE</td><td> TRUE</td></tr>\n",
       "</tbody>\n",
       "</table>\n"
      ],
      "text/latex": [
       "A matrix: 4 × 4 of type lgl\n",
       "\\begin{tabular}{llll}\n",
       "\t  TRUE & FALSE & FALSE &  TRUE\\\\\n",
       "\t FALSE &  TRUE & FALSE &  TRUE\\\\\n",
       "\t FALSE & FALSE &  TRUE & FALSE\\\\\n",
       "\t  TRUE &  TRUE & FALSE &  TRUE\\\\\n",
       "\\end{tabular}\n"
      ],
      "text/markdown": [
       "\n",
       "A matrix: 4 × 4 of type lgl\n",
       "\n",
       "|  TRUE | FALSE | FALSE |  TRUE |\n",
       "| FALSE |  TRUE | FALSE |  TRUE |\n",
       "| FALSE | FALSE |  TRUE | FALSE |\n",
       "|  TRUE |  TRUE | FALSE |  TRUE |\n",
       "\n"
      ],
      "text/plain": [
       "     [,1]  [,2]  [,3]  [,4] \n",
       "[1,]  TRUE FALSE FALSE  TRUE\n",
       "[2,] FALSE  TRUE FALSE  TRUE\n",
       "[3,] FALSE FALSE  TRUE FALSE\n",
       "[4,]  TRUE  TRUE FALSE  TRUE"
      ]
     },
     "metadata": {},
     "output_type": "display_data"
    }
   ],
   "source": [
    "A%*%igA == t(A%*%igA)"
   ]
  },
  {
   "cell_type": "code",
   "execution_count": 9,
   "metadata": {},
   "outputs": [
    {
     "data": {
      "text/html": [
       "<table class=\"dataframe\">\n",
       "<caption>A matrix: 4 × 4 of type dbl</caption>\n",
       "<tbody>\n",
       "\t<tr><td>0.32142857</td><td> 0.3928571</td><td> 0.03571429</td><td>0.25</td></tr>\n",
       "\t<tr><td>0.39285714</td><td> 0.5357143</td><td>-0.17857143</td><td>0.25</td></tr>\n",
       "\t<tr><td>0.03571429</td><td>-0.1785714</td><td> 0.89285714</td><td>0.25</td></tr>\n",
       "\t<tr><td>0.25000000</td><td> 0.2500000</td><td> 0.25000000</td><td>0.25</td></tr>\n",
       "</tbody>\n",
       "</table>\n"
      ],
      "text/latex": [
       "A matrix: 4 × 4 of type dbl\n",
       "\\begin{tabular}{llll}\n",
       "\t 0.32142857 &  0.3928571 &  0.03571429 & 0.25\\\\\n",
       "\t 0.39285714 &  0.5357143 & -0.17857143 & 0.25\\\\\n",
       "\t 0.03571429 & -0.1785714 &  0.89285714 & 0.25\\\\\n",
       "\t 0.25000000 &  0.2500000 &  0.25000000 & 0.25\\\\\n",
       "\\end{tabular}\n"
      ],
      "text/markdown": [
       "\n",
       "A matrix: 4 × 4 of type dbl\n",
       "\n",
       "| 0.32142857 |  0.3928571 |  0.03571429 | 0.25 |\n",
       "| 0.39285714 |  0.5357143 | -0.17857143 | 0.25 |\n",
       "| 0.03571429 | -0.1785714 |  0.89285714 | 0.25 |\n",
       "| 0.25000000 |  0.2500000 |  0.25000000 | 0.25 |\n",
       "\n"
      ],
      "text/plain": [
       "     [,1]       [,2]       [,3]        [,4]\n",
       "[1,] 0.32142857  0.3928571  0.03571429 0.25\n",
       "[2,] 0.39285714  0.5357143 -0.17857143 0.25\n",
       "[3,] 0.03571429 -0.1785714  0.89285714 0.25\n",
       "[4,] 0.25000000  0.2500000  0.25000000 0.25"
      ]
     },
     "metadata": {},
     "output_type": "display_data"
    }
   ],
   "source": [
    "A%*%igA"
   ]
  },
  {
   "cell_type": "code",
   "execution_count": 10,
   "metadata": {},
   "outputs": [
    {
     "data": {
      "text/html": [
       "<table class=\"dataframe\">\n",
       "<caption>A matrix: 4 × 4 of type dbl</caption>\n",
       "<tbody>\n",
       "\t<tr><td>0.32142857</td><td> 0.3928571</td><td> 0.03571429</td><td>0.25</td></tr>\n",
       "\t<tr><td>0.39285714</td><td> 0.5357143</td><td>-0.17857143</td><td>0.25</td></tr>\n",
       "\t<tr><td>0.03571429</td><td>-0.1785714</td><td> 0.89285714</td><td>0.25</td></tr>\n",
       "\t<tr><td>0.25000000</td><td> 0.2500000</td><td> 0.25000000</td><td>0.25</td></tr>\n",
       "</tbody>\n",
       "</table>\n"
      ],
      "text/latex": [
       "A matrix: 4 × 4 of type dbl\n",
       "\\begin{tabular}{llll}\n",
       "\t 0.32142857 &  0.3928571 &  0.03571429 & 0.25\\\\\n",
       "\t 0.39285714 &  0.5357143 & -0.17857143 & 0.25\\\\\n",
       "\t 0.03571429 & -0.1785714 &  0.89285714 & 0.25\\\\\n",
       "\t 0.25000000 &  0.2500000 &  0.25000000 & 0.25\\\\\n",
       "\\end{tabular}\n"
      ],
      "text/markdown": [
       "\n",
       "A matrix: 4 × 4 of type dbl\n",
       "\n",
       "| 0.32142857 |  0.3928571 |  0.03571429 | 0.25 |\n",
       "| 0.39285714 |  0.5357143 | -0.17857143 | 0.25 |\n",
       "| 0.03571429 | -0.1785714 |  0.89285714 | 0.25 |\n",
       "| 0.25000000 |  0.2500000 |  0.25000000 | 0.25 |\n",
       "\n"
      ],
      "text/plain": [
       "     [,1]       [,2]       [,3]        [,4]\n",
       "[1,] 0.32142857  0.3928571  0.03571429 0.25\n",
       "[2,] 0.39285714  0.5357143 -0.17857143 0.25\n",
       "[3,] 0.03571429 -0.1785714  0.89285714 0.25\n",
       "[4,] 0.25000000  0.2500000  0.25000000 0.25"
      ]
     },
     "metadata": {},
     "output_type": "display_data"
    }
   ],
   "source": [
    "t(A%*%igA)"
   ]
  },
  {
   "cell_type": "markdown",
   "metadata": {},
   "source": [
    "Si usamos `zapsmall` para comparar, el problema desaparece."
   ]
  },
  {
   "cell_type": "code",
   "execution_count": 11,
   "metadata": {},
   "outputs": [
    {
     "data": {
      "text/html": [
       "TRUE"
      ],
      "text/latex": [
       "TRUE"
      ],
      "text/markdown": [
       "TRUE"
      ],
      "text/plain": [
       "[1] TRUE"
      ]
     },
     "metadata": {},
     "output_type": "display_data"
    }
   ],
   "source": [
    "all(zapsmall(A%*%igA)==zapsmall(t(A%*%igA)))"
   ]
  },
  {
   "cell_type": "code",
   "execution_count": 12,
   "metadata": {},
   "outputs": [
    {
     "data": {
      "text/html": [
       "TRUE"
      ],
      "text/latex": [
       "TRUE"
      ],
      "text/markdown": [
       "TRUE"
      ],
      "text/plain": [
       "[1] TRUE"
      ]
     },
     "metadata": {},
     "output_type": "display_data"
    }
   ],
   "source": [
    "all(zapsmall(igA%*%A)==zapsmall(t(igA%*%A)))"
   ]
  },
  {
   "cell_type": "markdown",
   "metadata": {},
   "source": [
    "## Cálculo a partir de una factorización de rango pleno"
   ]
  },
  {
   "cell_type": "markdown",
   "metadata": {},
   "source": [
    "Podemos calcular la inversa generalizada una vez que conozcamos una [factorización de rango pleno](https://es.wikipedia.org/wiki/Factorizaci%C3%B3n_de_rango) de la matriz. Ilustramos este proceso siguiendo los pasos que se explican en [L. Merino, E. Santos, [Álgebra Lineal con Métodos Elementales](https://www.amazon.es/%C3%81lgebra-lineal-m%C3%A9todos-elementales-GONZALEZ/dp/8497324811)]."
   ]
  },
  {
   "cell_type": "code",
   "execution_count": 13,
   "metadata": {},
   "outputs": [
    {
     "data": {
      "text/html": [
       "<table class=\"dataframe\">\n",
       "<caption>A matrix: 4 × 7 of type dbl</caption>\n",
       "<tbody>\n",
       "\t<tr><td>1</td><td>0</td><td>0.5</td><td>0</td><td>0</td><td>-0.1666667</td><td> 0.6666667</td></tr>\n",
       "\t<tr><td>0</td><td>1</td><td>0.5</td><td>0</td><td>0</td><td> 0.1666667</td><td> 0.3333333</td></tr>\n",
       "\t<tr><td>0</td><td>0</td><td>0.0</td><td>1</td><td>0</td><td> 0.3333333</td><td>-1.3333333</td></tr>\n",
       "\t<tr><td>0</td><td>0</td><td>0.0</td><td>0</td><td>1</td><td> 0.6666667</td><td>-1.6666667</td></tr>\n",
       "</tbody>\n",
       "</table>\n"
      ],
      "text/latex": [
       "A matrix: 4 × 7 of type dbl\n",
       "\\begin{tabular}{lllllll}\n",
       "\t 1 & 0 & 0.5 & 0 & 0 & -0.1666667 &  0.6666667\\\\\n",
       "\t 0 & 1 & 0.5 & 0 & 0 &  0.1666667 &  0.3333333\\\\\n",
       "\t 0 & 0 & 0.0 & 1 & 0 &  0.3333333 & -1.3333333\\\\\n",
       "\t 0 & 0 & 0.0 & 0 & 1 &  0.6666667 & -1.6666667\\\\\n",
       "\\end{tabular}\n"
      ],
      "text/markdown": [
       "\n",
       "A matrix: 4 × 7 of type dbl\n",
       "\n",
       "| 1 | 0 | 0.5 | 0 | 0 | -0.1666667 |  0.6666667 |\n",
       "| 0 | 1 | 0.5 | 0 | 0 |  0.1666667 |  0.3333333 |\n",
       "| 0 | 0 | 0.0 | 1 | 0 |  0.3333333 | -1.3333333 |\n",
       "| 0 | 0 | 0.0 | 0 | 1 |  0.6666667 | -1.6666667 |\n",
       "\n"
      ],
      "text/plain": [
       "     [,1] [,2] [,3] [,4] [,5] [,6]       [,7]      \n",
       "[1,] 1    0    0.5  0    0    -0.1666667  0.6666667\n",
       "[2,] 0    1    0.5  0    0     0.1666667  0.3333333\n",
       "[3,] 0    0    0.0  1    0     0.3333333 -1.3333333\n",
       "[4,] 0    0    0.0  0    1     0.6666667 -1.6666667"
      ]
     },
     "metadata": {},
     "output_type": "display_data"
    }
   ],
   "source": [
    "library(\"pracma\")\n",
    "frA<-rref(cbind(A,diag(4)))\n",
    "frA\n",
    "        "
   ]
  },
  {
   "cell_type": "code",
   "execution_count": 14,
   "metadata": {},
   "outputs": [
    {
     "data": {
      "text/html": [
       "<table class=\"dataframe\">\n",
       "<caption>A matrix: 4 × 3 of type dbl</caption>\n",
       "<tbody>\n",
       "\t<tr><td>1</td><td>0</td><td>0.5</td></tr>\n",
       "\t<tr><td>0</td><td>1</td><td>0.5</td></tr>\n",
       "\t<tr><td>0</td><td>0</td><td>0.0</td></tr>\n",
       "\t<tr><td>0</td><td>0</td><td>0.0</td></tr>\n",
       "</tbody>\n",
       "</table>\n"
      ],
      "text/latex": [
       "A matrix: 4 × 3 of type dbl\n",
       "\\begin{tabular}{lll}\n",
       "\t 1 & 0 & 0.5\\\\\n",
       "\t 0 & 1 & 0.5\\\\\n",
       "\t 0 & 0 & 0.0\\\\\n",
       "\t 0 & 0 & 0.0\\\\\n",
       "\\end{tabular}\n"
      ],
      "text/markdown": [
       "\n",
       "A matrix: 4 × 3 of type dbl\n",
       "\n",
       "| 1 | 0 | 0.5 |\n",
       "| 0 | 1 | 0.5 |\n",
       "| 0 | 0 | 0.0 |\n",
       "| 0 | 0 | 0.0 |\n",
       "\n"
      ],
      "text/plain": [
       "     [,1] [,2] [,3]\n",
       "[1,] 1    0    0.5 \n",
       "[2,] 0    1    0.5 \n",
       "[3,] 0    0    0.0 \n",
       "[4,] 0    0    0.0 "
      ]
     },
     "metadata": {},
     "output_type": "display_data"
    }
   ],
   "source": [
    "Q<-frA[,4:7]\n",
    "H<-frA[,1:3]\n",
    "H"
   ]
  },
  {
   "cell_type": "markdown",
   "metadata": {},
   "source": [
    "Como $QA=H$, haciendo $Q^{-1}H$ recuperamos $A$. Como las dos últimas filas de $H$ son cero, sólo nos interesan las dos primeras filas $H$ y las dos primeras columnas de $Q^{-1}$."
   ]
  },
  {
   "cell_type": "code",
   "execution_count": 15,
   "metadata": {},
   "outputs": [
    {
     "data": {
      "text/html": [
       "<table class=\"dataframe\">\n",
       "<caption>A matrix: 4 × 3 of type dbl</caption>\n",
       "<tbody>\n",
       "\t<tr><td> 2</td><td> 0</td><td>1</td></tr>\n",
       "\t<tr><td> 3</td><td>-1</td><td>1</td></tr>\n",
       "\t<tr><td>-2</td><td> 4</td><td>1</td></tr>\n",
       "\t<tr><td> 1</td><td> 1</td><td>1</td></tr>\n",
       "</tbody>\n",
       "</table>\n"
      ],
      "text/latex": [
       "A matrix: 4 × 3 of type dbl\n",
       "\\begin{tabular}{lll}\n",
       "\t  2 &  0 & 1\\\\\n",
       "\t  3 & -1 & 1\\\\\n",
       "\t -2 &  4 & 1\\\\\n",
       "\t  1 &  1 & 1\\\\\n",
       "\\end{tabular}\n"
      ],
      "text/markdown": [
       "\n",
       "A matrix: 4 × 3 of type dbl\n",
       "\n",
       "|  2 |  0 | 1 |\n",
       "|  3 | -1 | 1 |\n",
       "| -2 |  4 | 1 |\n",
       "|  1 |  1 | 1 |\n",
       "\n"
      ],
      "text/plain": [
       "     [,1] [,2] [,3]\n",
       "[1,]  2    0   1   \n",
       "[2,]  3   -1   1   \n",
       "[3,] -2    4   1   \n",
       "[4,]  1    1   1   "
      ]
     },
     "metadata": {},
     "output_type": "display_data"
    }
   ],
   "source": [
    "solve(Q)%*%H"
   ]
  },
  {
   "cell_type": "code",
   "execution_count": 16,
   "metadata": {},
   "outputs": [
    {
     "data": {
      "text/html": [
       "<table class=\"dataframe\">\n",
       "<caption>A matrix: 4 × 3 of type dbl</caption>\n",
       "<tbody>\n",
       "\t<tr><td> 2</td><td> 0</td><td>1</td></tr>\n",
       "\t<tr><td> 3</td><td>-1</td><td>1</td></tr>\n",
       "\t<tr><td>-2</td><td> 4</td><td>1</td></tr>\n",
       "\t<tr><td> 1</td><td> 1</td><td>1</td></tr>\n",
       "</tbody>\n",
       "</table>\n"
      ],
      "text/latex": [
       "A matrix: 4 × 3 of type dbl\n",
       "\\begin{tabular}{lll}\n",
       "\t  2 &  0 & 1\\\\\n",
       "\t  3 & -1 & 1\\\\\n",
       "\t -2 &  4 & 1\\\\\n",
       "\t  1 &  1 & 1\\\\\n",
       "\\end{tabular}\n"
      ],
      "text/markdown": [
       "\n",
       "A matrix: 4 × 3 of type dbl\n",
       "\n",
       "|  2 |  0 | 1 |\n",
       "|  3 | -1 | 1 |\n",
       "| -2 |  4 | 1 |\n",
       "|  1 |  1 | 1 |\n",
       "\n"
      ],
      "text/plain": [
       "     [,1] [,2] [,3]\n",
       "[1,]  2    0   1   \n",
       "[2,]  3   -1   1   \n",
       "[3,] -2    4   1   \n",
       "[4,]  1    1   1   "
      ]
     },
     "metadata": {},
     "output_type": "display_data"
    }
   ],
   "source": [
    "E<-solve(Q)[,1:2]\n",
    "F<-H[1:2,]\n",
    "E%*%F"
   ]
  },
  {
   "cell_type": "markdown",
   "metadata": {},
   "source": [
    "El rango de `E` y de `F` coincide con el rango de `A`.\n",
    "\n",
    "El siguiente paso es calcular una inversa por la derecha de `F` y una inversa por la izquierda de `E`. Al ser ambas de rango pleno for fillas y por columnas, respectivamente, esto se puede hacer de la siguiente forma."
   ]
  },
  {
   "cell_type": "code",
   "execution_count": 17,
   "metadata": {},
   "outputs": [
    {
     "data": {
      "text/html": [
       "<table class=\"dataframe\">\n",
       "<caption>A matrix: 3 × 2 of type dbl</caption>\n",
       "<tbody>\n",
       "\t<tr><td> 0.8333333</td><td>-0.1666667</td></tr>\n",
       "\t<tr><td>-0.1666667</td><td> 0.8333333</td></tr>\n",
       "\t<tr><td> 0.3333333</td><td> 0.3333333</td></tr>\n",
       "</tbody>\n",
       "</table>\n"
      ],
      "text/latex": [
       "A matrix: 3 × 2 of type dbl\n",
       "\\begin{tabular}{ll}\n",
       "\t  0.8333333 & -0.1666667\\\\\n",
       "\t -0.1666667 &  0.8333333\\\\\n",
       "\t  0.3333333 &  0.3333333\\\\\n",
       "\\end{tabular}\n"
      ],
      "text/markdown": [
       "\n",
       "A matrix: 3 × 2 of type dbl\n",
       "\n",
       "|  0.8333333 | -0.1666667 |\n",
       "| -0.1666667 |  0.8333333 |\n",
       "|  0.3333333 |  0.3333333 |\n",
       "\n"
      ],
      "text/plain": [
       "     [,1]       [,2]      \n",
       "[1,]  0.8333333 -0.1666667\n",
       "[2,] -0.1666667  0.8333333\n",
       "[3,]  0.3333333  0.3333333"
      ]
     },
     "metadata": {},
     "output_type": "display_data"
    }
   ],
   "source": [
    "FR<-t(F)%*%solve(F%*%t(F))\n",
    "FR"
   ]
  },
  {
   "cell_type": "code",
   "execution_count": 18,
   "metadata": {},
   "outputs": [
    {
     "data": {
      "text/html": [
       "<table class=\"dataframe\">\n",
       "<caption>A matrix: 2 × 2 of type dbl</caption>\n",
       "<tbody>\n",
       "\t<tr><td>1</td><td>0</td></tr>\n",
       "\t<tr><td>0</td><td>1</td></tr>\n",
       "</tbody>\n",
       "</table>\n"
      ],
      "text/latex": [
       "A matrix: 2 × 2 of type dbl\n",
       "\\begin{tabular}{ll}\n",
       "\t 1 & 0\\\\\n",
       "\t 0 & 1\\\\\n",
       "\\end{tabular}\n"
      ],
      "text/markdown": [
       "\n",
       "A matrix: 2 × 2 of type dbl\n",
       "\n",
       "| 1 | 0 |\n",
       "| 0 | 1 |\n",
       "\n"
      ],
      "text/plain": [
       "     [,1] [,2]\n",
       "[1,] 1    0   \n",
       "[2,] 0    1   "
      ]
     },
     "metadata": {},
     "output_type": "display_data"
    }
   ],
   "source": [
    "F%*%FR"
   ]
  },
  {
   "cell_type": "code",
   "execution_count": 19,
   "metadata": {},
   "outputs": [
    {
     "data": {
      "text/html": [
       "<table class=\"dataframe\">\n",
       "<caption>A matrix: 2 × 4 of type dbl</caption>\n",
       "<tbody>\n",
       "\t<tr><td>0.16071429</td><td>0.19642857</td><td>0.01785714</td><td>0.125</td></tr>\n",
       "\t<tr><td>0.08928571</td><td>0.05357143</td><td>0.23214286</td><td>0.125</td></tr>\n",
       "</tbody>\n",
       "</table>\n"
      ],
      "text/latex": [
       "A matrix: 2 × 4 of type dbl\n",
       "\\begin{tabular}{llll}\n",
       "\t 0.16071429 & 0.19642857 & 0.01785714 & 0.125\\\\\n",
       "\t 0.08928571 & 0.05357143 & 0.23214286 & 0.125\\\\\n",
       "\\end{tabular}\n"
      ],
      "text/markdown": [
       "\n",
       "A matrix: 2 × 4 of type dbl\n",
       "\n",
       "| 0.16071429 | 0.19642857 | 0.01785714 | 0.125 |\n",
       "| 0.08928571 | 0.05357143 | 0.23214286 | 0.125 |\n",
       "\n"
      ],
      "text/plain": [
       "     [,1]       [,2]       [,3]       [,4] \n",
       "[1,] 0.16071429 0.19642857 0.01785714 0.125\n",
       "[2,] 0.08928571 0.05357143 0.23214286 0.125"
      ]
     },
     "metadata": {},
     "output_type": "display_data"
    }
   ],
   "source": [
    "EL<-solve(t(E)%*%E)%*%t(E)\n",
    "EL"
   ]
  },
  {
   "cell_type": "code",
   "execution_count": 20,
   "metadata": {},
   "outputs": [
    {
     "data": {
      "text/html": [
       "<table class=\"dataframe\">\n",
       "<caption>A matrix: 2 × 2 of type dbl</caption>\n",
       "<tbody>\n",
       "\t<tr><td>1</td><td>0</td></tr>\n",
       "\t<tr><td>0</td><td>1</td></tr>\n",
       "</tbody>\n",
       "</table>\n"
      ],
      "text/latex": [
       "A matrix: 2 × 2 of type dbl\n",
       "\\begin{tabular}{ll}\n",
       "\t 1 & 0\\\\\n",
       "\t 0 & 1\\\\\n",
       "\\end{tabular}\n"
      ],
      "text/markdown": [
       "\n",
       "A matrix: 2 × 2 of type dbl\n",
       "\n",
       "| 1 | 0 |\n",
       "| 0 | 1 |\n",
       "\n"
      ],
      "text/plain": [
       "     [,1] [,2]\n",
       "[1,] 1    0   \n",
       "[2,] 0    1   "
      ]
     },
     "metadata": {},
     "output_type": "display_data"
    }
   ],
   "source": [
    "zapsmall(EL%*%E)"
   ]
  },
  {
   "cell_type": "code",
   "execution_count": 21,
   "metadata": {},
   "outputs": [
    {
     "data": {
      "text/html": [
       "<table class=\"dataframe\">\n",
       "<caption>A matrix: 3 × 4 of type dbl</caption>\n",
       "<tbody>\n",
       "\t<tr><td>0.11904762</td><td>0.15476190</td><td>-0.02380952</td><td>0.08333333</td></tr>\n",
       "\t<tr><td>0.04761905</td><td>0.01190476</td><td> 0.19047619</td><td>0.08333333</td></tr>\n",
       "\t<tr><td>0.08333333</td><td>0.08333333</td><td> 0.08333333</td><td>0.08333333</td></tr>\n",
       "</tbody>\n",
       "</table>\n"
      ],
      "text/latex": [
       "A matrix: 3 × 4 of type dbl\n",
       "\\begin{tabular}{llll}\n",
       "\t 0.11904762 & 0.15476190 & -0.02380952 & 0.08333333\\\\\n",
       "\t 0.04761905 & 0.01190476 &  0.19047619 & 0.08333333\\\\\n",
       "\t 0.08333333 & 0.08333333 &  0.08333333 & 0.08333333\\\\\n",
       "\\end{tabular}\n"
      ],
      "text/markdown": [
       "\n",
       "A matrix: 3 × 4 of type dbl\n",
       "\n",
       "| 0.11904762 | 0.15476190 | -0.02380952 | 0.08333333 |\n",
       "| 0.04761905 | 0.01190476 |  0.19047619 | 0.08333333 |\n",
       "| 0.08333333 | 0.08333333 |  0.08333333 | 0.08333333 |\n",
       "\n"
      ],
      "text/plain": [
       "     [,1]       [,2]       [,3]        [,4]      \n",
       "[1,] 0.11904762 0.15476190 -0.02380952 0.08333333\n",
       "[2,] 0.04761905 0.01190476  0.19047619 0.08333333\n",
       "[3,] 0.08333333 0.08333333  0.08333333 0.08333333"
      ]
     },
     "metadata": {},
     "output_type": "display_data"
    }
   ],
   "source": [
    "igrpA<-FR%*%EL\n",
    "igrpA"
   ]
  },
  {
   "cell_type": "code",
   "execution_count": 22,
   "metadata": {},
   "outputs": [
    {
     "data": {
      "text/html": [
       "TRUE"
      ],
      "text/latex": [
       "TRUE"
      ],
      "text/markdown": [
       "TRUE"
      ],
      "text/plain": [
       "[1] TRUE"
      ]
     },
     "metadata": {},
     "output_type": "display_data"
    }
   ],
   "source": [
    "all(zapsmall(igA)==zapsmall(igrpA))"
   ]
  },
  {
   "cell_type": "markdown",
   "metadata": {},
   "source": [
    "## Cálculo usando `pracma::pinv`"
   ]
  },
  {
   "cell_type": "code",
   "execution_count": 23,
   "metadata": {},
   "outputs": [],
   "source": [
    "library(\"pracma\")"
   ]
  },
  {
   "cell_type": "markdown",
   "metadata": {},
   "source": [
    "La función `pinv` de la librería `pracma` nos devuelve la inversa generalizada de Moore-Penrose directamente."
   ]
  },
  {
   "cell_type": "code",
   "execution_count": 24,
   "metadata": {
    "scrolled": true
   },
   "outputs": [
    {
     "data": {
      "text/html": [
       "<table class=\"dataframe\">\n",
       "<caption>A matrix: 3 × 4 of type dbl</caption>\n",
       "<tbody>\n",
       "\t<tr><td>0.11904762</td><td>0.15476190</td><td>-0.02380952</td><td>0.08333333</td></tr>\n",
       "\t<tr><td>0.04761905</td><td>0.01190476</td><td> 0.19047619</td><td>0.08333333</td></tr>\n",
       "\t<tr><td>0.08333333</td><td>0.08333333</td><td> 0.08333333</td><td>0.08333333</td></tr>\n",
       "</tbody>\n",
       "</table>\n"
      ],
      "text/latex": [
       "A matrix: 3 × 4 of type dbl\n",
       "\\begin{tabular}{llll}\n",
       "\t 0.11904762 & 0.15476190 & -0.02380952 & 0.08333333\\\\\n",
       "\t 0.04761905 & 0.01190476 &  0.19047619 & 0.08333333\\\\\n",
       "\t 0.08333333 & 0.08333333 &  0.08333333 & 0.08333333\\\\\n",
       "\\end{tabular}\n"
      ],
      "text/markdown": [
       "\n",
       "A matrix: 3 × 4 of type dbl\n",
       "\n",
       "| 0.11904762 | 0.15476190 | -0.02380952 | 0.08333333 |\n",
       "| 0.04761905 | 0.01190476 |  0.19047619 | 0.08333333 |\n",
       "| 0.08333333 | 0.08333333 |  0.08333333 | 0.08333333 |\n",
       "\n"
      ],
      "text/plain": [
       "     [,1]       [,2]       [,3]        [,4]      \n",
       "[1,] 0.11904762 0.15476190 -0.02380952 0.08333333\n",
       "[2,] 0.04761905 0.01190476  0.19047619 0.08333333\n",
       "[3,] 0.08333333 0.08333333  0.08333333 0.08333333"
      ]
     },
     "metadata": {},
     "output_type": "display_data"
    }
   ],
   "source": [
    "pinv(A)"
   ]
  },
  {
   "cell_type": "markdown",
   "metadata": {},
   "source": [
    "## Cálculo usando `caracas::pinv`"
   ]
  },
  {
   "cell_type": "code",
   "execution_count": 25,
   "metadata": {
    "scrolled": true
   },
   "outputs": [
    {
     "name": "stderr",
     "output_type": "stream",
     "text": [
      "\n",
      "Attaching package: ‘caracas’\n",
      "\n",
      "\n",
      "The following objects are masked from ‘package:pracma’:\n",
      "\n",
      "    inv, nullspace, pinv, rref, taylor\n",
      "\n",
      "\n",
      "The following objects are masked from ‘package:base’:\n",
      "\n",
      "    %*%, det, diag, diag<-\n",
      "\n",
      "\n"
     ]
    }
   ],
   "source": [
    "library(\"caracas\")"
   ]
  },
  {
   "cell_type": "markdown",
   "metadata": {},
   "source": [
    "Al igual que `pracma`, `caracas` ofrece una versión \"simbólica\" de `pinv`."
   ]
  },
  {
   "cell_type": "code",
   "execution_count": 26,
   "metadata": {
    "scrolled": true
   },
   "outputs": [
    {
     "data": {
      "text/plain": [
       "[caracas]: ⎡       13              ⎤\n",
       "           ⎢5/42   ──   -1/42  1/12⎥\n",
       "           ⎢       84              ⎥\n",
       "           ⎢                       ⎥\n",
       "           ⎢1/21  1/84  4/21   1/12⎥\n",
       "           ⎢                       ⎥\n",
       "           ⎣1/12  1/12  1/12   1/12⎦"
      ]
     },
     "metadata": {},
     "output_type": "display_data"
    }
   ],
   "source": [
    "piA<-pinv(as_sym(A))\n",
    "piA"
   ]
  },
  {
   "cell_type": "code",
   "execution_count": 27,
   "metadata": {},
   "outputs": [
    {
     "data": {
      "text/plain": [
       "[caracas]: ⎡0.11905   0.15476   -0.02381  0.083333⎤\n",
       "           ⎢                                      ⎥\n",
       "           ⎢0.047619  0.011905  0.19048   0.083333⎥\n",
       "           ⎢                                      ⎥\n",
       "           ⎣0.083333  0.083333  0.083333  0.083333⎦"
      ]
     },
     "metadata": {},
     "output_type": "display_data"
    }
   ],
   "source": [
    "N(.Last.value,5)"
   ]
  },
  {
   "cell_type": "markdown",
   "metadata": {},
   "source": [
    "En este caso no tenemos los problemas de redondeo que vimos anteriormente."
   ]
  },
  {
   "cell_type": "code",
   "execution_count": 28,
   "metadata": {
    "scrolled": true
   },
   "outputs": [
    {
     "data": {
      "text/plain": [
       "[caracas]: ⎡0  0  0  0⎤\n",
       "           ⎢          ⎥\n",
       "           ⎢0  0  0  0⎥\n",
       "           ⎢          ⎥\n",
       "           ⎢0  0  0  0⎥\n",
       "           ⎢          ⎥\n",
       "           ⎣0  0  0  0⎦"
      ]
     },
     "metadata": {},
     "output_type": "display_data"
    }
   ],
   "source": [
    "as_sym(A)%*%piA-t(as_sym(A)%*%piA)"
   ]
  },
  {
   "cell_type": "markdown",
   "metadata": {},
   "source": [
    "## Soluciónes mínimo cuadráticas"
   ]
  },
  {
   "cell_type": "markdown",
   "metadata": {},
   "source": [
    "Una de las aplicaciones de la inversa generalizada de Moore-Penrose es el cálculo de soluciones óptimas (o de norma mínima) minimo-cuadráticas de un sistema de ecuaciones. Si $Ax=b$ es un sistema de ecuaciones, entonces la solución óptima mínimo-cuadrática de ese sistema es $A^\\dagger b$.\n",
    "\n",
    "Ilustremos esta construcción con el Ejemplo 13 (Capítulo VII) de [L. Merino, E. Santos, [Álgebra Lineal con Métodos Elementales](https://www.amazon.es/%C3%81lgebra-lineal-m%C3%A9todos-elementales-GONZALEZ/dp/8497324811)]."
   ]
  },
  {
   "cell_type": "markdown",
   "metadata": {},
   "source": [
    "### Ejemplo\n",
    "\n",
    "Calcular una solución óptima mínimo-cuadrática del sistema $Ax=b$ con \n",
    "$$\n",
    "A=\\begin{pmatrix}\n",
    "2 & 0 & 2 & 0 \\\\\n",
    "1 & 1 & 2 & 1 \\\\\n",
    "-1 & 3 & 2 & 3 \n",
    "\\end{pmatrix}\n",
    "$$\n",
    "y $b=(6,0,2)^t$."
   ]
  },
  {
   "cell_type": "code",
   "execution_count": 29,
   "metadata": {},
   "outputs": [
    {
     "data": {
      "text/plain": [
       "[caracas]: ⎡2   0  2  0⎤\n",
       "           ⎢           ⎥\n",
       "           ⎢1   1  2  1⎥\n",
       "           ⎢           ⎥\n",
       "           ⎣-1  3  2  3⎦"
      ]
     },
     "metadata": {},
     "output_type": "display_data"
    }
   ],
   "source": [
    "A<-as_sym(rbind(c(2,0,2,0),c(1,1,2,1),c(-1,3,2,3)))\n",
    "A"
   ]
  },
  {
   "cell_type": "code",
   "execution_count": 30,
   "metadata": {},
   "outputs": [],
   "source": [
    "b<-as_sym(c(6,0,2))"
   ]
  },
  {
   "cell_type": "code",
   "execution_count": 31,
   "metadata": {},
   "outputs": [
    {
     "data": {
      "text/plain": [
       "[caracas]: ⎡ 1/5   1/10  -1/10⎤\n",
       "           ⎢                  ⎥\n",
       "           ⎢-3/70  1/70  9/70 ⎥\n",
       "           ⎢                  ⎥\n",
       "           ⎢ 11               ⎥\n",
       "           ⎢ ──    4/35  1/35 ⎥\n",
       "           ⎢ 70               ⎥\n",
       "           ⎢                  ⎥\n",
       "           ⎣-3/70  1/70  9/70 ⎦"
      ]
     },
     "metadata": {},
     "output_type": "display_data"
    }
   ],
   "source": [
    "igA<-pinv(A)\n",
    "igA"
   ]
  },
  {
   "cell_type": "code",
   "execution_count": 32,
   "metadata": {},
   "outputs": [
    {
     "data": {
      "text/plain": [
       "[caracas]: [1  0  1  0]ᵀ"
      ]
     },
     "metadata": {},
     "output_type": "display_data"
    }
   ],
   "source": [
    "x<-igA%*%b\n",
    "x"
   ]
  },
  {
   "cell_type": "markdown",
   "metadata": {},
   "source": [
    "El sistema no es compatible, ya que $Ax\\neq b$."
   ]
  },
  {
   "cell_type": "code",
   "execution_count": 33,
   "metadata": {
    "scrolled": true
   },
   "outputs": [
    {
     "data": {
      "text/plain": [
       "[caracas]: [4  3  1]ᵀ"
      ]
     },
     "metadata": {},
     "output_type": "display_data"
    }
   ],
   "source": [
    "A%*%x"
   ]
  },
  {
   "cell_type": "markdown",
   "metadata": {},
   "source": [
    "El siguiente ejemplo se corresponde con los Ejemplos 14 y 15 (Capítulo VII) de [L. Merino, E. Santos, [Álgebra Lineal con Métodos Elementales](https://www.amazon.es/%C3%81lgebra-lineal-m%C3%A9todos-elementales-GONZALEZ/dp/8497324811)]."
   ]
  },
  {
   "cell_type": "markdown",
   "metadata": {},
   "source": [
    "### Ejemplo\n",
    "\n",
    "La siguiente tabla muestra la estatura media de los niños de cero a cuatro semestres de vida\n",
    "\n",
    "| x | 0 | 1 | 2 | 3 | 4 |\n",
    "| :---| :--- | :--- | :--- | :--- | :---| \n",
    "| y | 50 | 66.5 | 75 | 81 | 86.5 |\n",
    "\n",
    "Intentemos ajustar una recta $y=ax+b$. Idealmente, por los datos que tenemos\n",
    "$$\n",
    "\\begin{array}{rcl}\n",
    "b & =& 50,\\\\\n",
    "a + b & =& 66.5,\\\\\n",
    "2a+b &=& 75,\\\\\n",
    "3a+b &=& 81,\\\\\n",
    "4a+b &=& 86.5.\n",
    "\\end{array}\n",
    "$$\n",
    "Que podemos escribir en forma de matriz como \n",
    "$$\n",
    "\\begin{pmatrix}\n",
    "0 & 1\\\\\n",
    "1 & 1\\\\\n",
    "2 & 1\\\\\n",
    "3 & 1\\\\\n",
    "4 & 1\n",
    "\\end{pmatrix} \n",
    "\\begin{pmatrix}\n",
    "a \\\\ b\n",
    "\\end{pmatrix}\n",
    "= \n",
    "\\begin{pmatrix}\n",
    "50 \\\\ 66.5 \\\\ 75 \\\\ 81 \\\\ 86.5\n",
    "\\end{pmatrix}.\n",
    "$$"
   ]
  },
  {
   "cell_type": "code",
   "execution_count": 34,
   "metadata": {},
   "outputs": [
    {
     "data": {
      "text/html": [
       "<table class=\"dataframe\">\n",
       "<caption>A matrix: 5 × 2 of type dbl</caption>\n",
       "<tbody>\n",
       "\t<tr><td>0</td><td>1</td></tr>\n",
       "\t<tr><td>1</td><td>1</td></tr>\n",
       "\t<tr><td>2</td><td>1</td></tr>\n",
       "\t<tr><td>3</td><td>1</td></tr>\n",
       "\t<tr><td>4</td><td>1</td></tr>\n",
       "</tbody>\n",
       "</table>\n"
      ],
      "text/latex": [
       "A matrix: 5 × 2 of type dbl\n",
       "\\begin{tabular}{ll}\n",
       "\t 0 & 1\\\\\n",
       "\t 1 & 1\\\\\n",
       "\t 2 & 1\\\\\n",
       "\t 3 & 1\\\\\n",
       "\t 4 & 1\\\\\n",
       "\\end{tabular}\n"
      ],
      "text/markdown": [
       "\n",
       "A matrix: 5 × 2 of type dbl\n",
       "\n",
       "| 0 | 1 |\n",
       "| 1 | 1 |\n",
       "| 2 | 1 |\n",
       "| 3 | 1 |\n",
       "| 4 | 1 |\n",
       "\n"
      ],
      "text/plain": [
       "     [,1] [,2]\n",
       "[1,] 0    1   \n",
       "[2,] 1    1   \n",
       "[3,] 2    1   \n",
       "[4,] 3    1   \n",
       "[5,] 4    1   "
      ]
     },
     "metadata": {},
     "output_type": "display_data"
    }
   ],
   "source": [
    "A<-cbind(0:4,rep(1,5))\n",
    "A"
   ]
  },
  {
   "cell_type": "code",
   "execution_count": 35,
   "metadata": {},
   "outputs": [],
   "source": [
    "alt<-c(50,66.5,75,81,86.5)"
   ]
  },
  {
   "cell_type": "code",
   "execution_count": 36,
   "metadata": {},
   "outputs": [],
   "source": [
    "igA<-pinv(as_sym(A))"
   ]
  },
  {
   "cell_type": "code",
   "execution_count": 37,
   "metadata": {},
   "outputs": [
    {
     "data": {
      "text/plain": [
       "[caracas]: [8.75  54.3]ᵀ"
      ]
     },
     "metadata": {},
     "output_type": "display_data"
    }
   ],
   "source": [
    "xo<-igA%*%as_sym(alt)\n",
    "xo"
   ]
  },
  {
   "cell_type": "code",
   "execution_count": 38,
   "metadata": {},
   "outputs": [
    {
     "data": {
      "text/html": [
       "8.75"
      ],
      "text/latex": [
       "8.75"
      ],
      "text/markdown": [
       "8.75"
      ],
      "text/plain": [
       "[1] 8.75"
      ]
     },
     "metadata": {},
     "output_type": "display_data"
    }
   ],
   "source": [
    "a<-as_expr(xo[1])\n",
    "a"
   ]
  },
  {
   "cell_type": "code",
   "execution_count": 39,
   "metadata": {},
   "outputs": [
    {
     "data": {
      "text/html": [
       "54.3"
      ],
      "text/latex": [
       "54.3"
      ],
      "text/markdown": [
       "54.3"
      ],
      "text/plain": [
       "[1] 54.3"
      ]
     },
     "metadata": {},
     "output_type": "display_data"
    }
   ],
   "source": [
    "b<-as_expr(xo[2])\n",
    "b"
   ]
  },
  {
   "cell_type": "markdown",
   "metadata": {},
   "source": [
    "Así nuestra recta de aproximación es $y=8.75x+54.3$."
   ]
  },
  {
   "cell_type": "code",
   "execution_count": 40,
   "metadata": {},
   "outputs": [
    {
     "data": {
      "image/png": "[encoded data removed]",
      "text/plain": [
       "plot without title"
      ]
     },
     "metadata": {
      "image/png": {
       "height": 420,
       "width": 420
      }
     },
     "output_type": "display_data"
    }
   ],
   "source": [
    "plot(0:4,alt)\n",
    "lines(0:4,a*(0:4)+b,col=\"red\")"
   ]
  },
  {
   "cell_type": "markdown",
   "metadata": {},
   "source": [
    "Esta recta también la podríamos haber obtenido con `lsfit`."
   ]
  },
  {
   "cell_type": "code",
   "execution_count": 41,
   "metadata": {
    "scrolled": false
   },
   "outputs": [
    {
     "data": {
      "text/plain": [
       "$coefficients\n",
       "Intercept         X \n",
       "    54.30      8.75 \n",
       "\n",
       "$residuals\n",
       "[1] -4.30  3.45  3.20  0.45 -2.80\n",
       "\n",
       "$intercept\n",
       "[1] TRUE\n",
       "\n",
       "$qr\n",
       "$qt\n",
       "[1] -160.54968   27.66993    5.36208    3.96040    2.05872\n",
       "\n",
       "$qr\n",
       "      Intercept          X\n",
       "[1,] -2.2360680 -4.4721360\n",
       "[2,]  0.4472136  3.1622777\n",
       "[3,]  0.4472136 -0.1954395\n",
       "[4,]  0.4472136 -0.5116673\n",
       "[5,]  0.4472136 -0.8278950\n",
       "\n",
       "$qraux\n",
       "[1] 1.447214 1.120788\n",
       "\n",
       "$rank\n",
       "[1] 2\n",
       "\n",
       "$pivot\n",
       "[1] 1 2\n",
       "\n",
       "$tol\n",
       "[1] 1e-07\n",
       "\n",
       "attr(,\"class\")\n",
       "[1] \"qr\"\n"
      ]
     },
     "metadata": {},
     "output_type": "display_data"
    }
   ],
   "source": [
    "lsfit(0:4,alt)"
   ]
  },
  {
   "cell_type": "markdown",
   "metadata": {},
   "source": [
    "Y también con `lm`."
   ]
  },
  {
   "cell_type": "code",
   "execution_count": 42,
   "metadata": {},
   "outputs": [],
   "source": [
    "datos<-data.frame(\n",
    "    \"edad\"<-0:4, \n",
    "    \"altura\"<-alt\n",
    ")"
   ]
  },
  {
   "cell_type": "code",
   "execution_count": 43,
   "metadata": {
    "scrolled": true
   },
   "outputs": [
    {
     "data": {
      "text/plain": [
       "\n",
       "Call:\n",
       "lm(formula = altura ~ edad, data = datos)\n",
       "\n",
       "Coefficients:\n",
       "(Intercept)         edad  \n",
       "      54.30         8.75  \n"
      ]
     },
     "metadata": {},
     "output_type": "display_data"
    }
   ],
   "source": [
    "rl<-lm(altura~edad,datos)\n",
    "rl"
   ]
  },
  {
   "cell_type": "code",
   "execution_count": 44,
   "metadata": {},
   "outputs": [
    {
     "data": {
      "text/plain": [
       "\n",
       "Call:\n",
       "lm(formula = altura ~ edad, data = datos)\n",
       "\n",
       "Residuals:\n",
       "    1     2     3     4     5 \n",
       "-4.30  3.45  3.20  0.45 -2.80 \n",
       "\n",
       "Coefficients:\n",
       "            Estimate Std. Error t value Pr(>|t|)    \n",
       "(Intercept)   54.300      3.120  17.403 0.000413 ***\n",
       "edad           8.750      1.274   6.869 0.006317 ** \n",
       "---\n",
       "Signif. codes:  0 ‘***’ 0.001 ‘**’ 0.01 ‘*’ 0.05 ‘.’ 0.1 ‘ ’ 1\n",
       "\n",
       "Residual standard error: 4.028 on 3 degrees of freedom\n",
       "Multiple R-squared:  0.9402,\tAdjusted R-squared:  0.9203 \n",
       "F-statistic: 47.19 on 1 and 3 DF,  p-value: 0.006317\n"
      ]
     },
     "metadata": {},
     "output_type": "display_data"
    }
   ],
   "source": [
    "summary(rl)"
   ]
  },
  {
   "cell_type": "code",
   "execution_count": 45,
   "metadata": {
    "scrolled": false
   },
   "outputs": [
    {
     "data": {
      "image/png": "[encoded data removed]",
      "text/plain": [
       "plot without title"
      ]
     },
     "metadata": {
      "image/png": {
       "height": 420,
       "width": 420
      }
     },
     "output_type": "display_data"
    }
   ],
   "source": [
    "plot(0:4,alt)\n",
    "abline(rl,col=\"red\")"
   ]
  },
  {
   "cell_type": "markdown",
   "metadata": {},
   "source": [
    "### Ejemplo\n",
    "\n",
    "Supongamos que en nuestro problema de edades y alturas queremos ajustar $y$ por un polinomio de grado dos en $x$, $y=ax^2+bx+c$. Evaluando ese polinomio en los valores que conocemos en $x$ y en $y$, obtenemos \n",
    "$$\n",
    "\\begin{pmatrix}\n",
    "0 & 0 & 1\\\\\n",
    "1 & 1 & 1\\\\\n",
    "4 & 2 & 1\\\\\n",
    "9 & 3 & 1\\\\\n",
    "16 & 4 & 1\n",
    "\\end{pmatrix} \n",
    "\\begin{pmatrix}\n",
    "a \\\\ b \\\\ c\n",
    "\\end{pmatrix}\n",
    "= \n",
    "\\begin{pmatrix}\n",
    "50 \\\\ 66.5 \\\\ 75 \\\\ 81 \\\\ 86.5\n",
    "\\end{pmatrix}.\n",
    "$$"
   ]
  },
  {
   "cell_type": "code",
   "execution_count": 46,
   "metadata": {},
   "outputs": [
    {
     "data": {
      "text/html": [
       "<table class=\"dataframe\">\n",
       "<caption>A matrix: 5 × 3 of type dbl</caption>\n",
       "<tbody>\n",
       "\t<tr><td> 0</td><td>0</td><td>1</td></tr>\n",
       "\t<tr><td> 1</td><td>1</td><td>1</td></tr>\n",
       "\t<tr><td> 4</td><td>2</td><td>1</td></tr>\n",
       "\t<tr><td> 9</td><td>3</td><td>1</td></tr>\n",
       "\t<tr><td>16</td><td>4</td><td>1</td></tr>\n",
       "</tbody>\n",
       "</table>\n"
      ],
      "text/latex": [
       "A matrix: 5 × 3 of type dbl\n",
       "\\begin{tabular}{lll}\n",
       "\t  0 & 0 & 1\\\\\n",
       "\t  1 & 1 & 1\\\\\n",
       "\t  4 & 2 & 1\\\\\n",
       "\t  9 & 3 & 1\\\\\n",
       "\t 16 & 4 & 1\\\\\n",
       "\\end{tabular}\n"
      ],
      "text/markdown": [
       "\n",
       "A matrix: 5 × 3 of type dbl\n",
       "\n",
       "|  0 | 0 | 1 |\n",
       "|  1 | 1 | 1 |\n",
       "|  4 | 2 | 1 |\n",
       "|  9 | 3 | 1 |\n",
       "| 16 | 4 | 1 |\n",
       "\n"
      ],
      "text/plain": [
       "     [,1] [,2] [,3]\n",
       "[1,]  0   0    1   \n",
       "[2,]  1   1    1   \n",
       "[3,]  4   2    1   \n",
       "[4,]  9   3    1   \n",
       "[5,] 16   4    1   "
      ]
     },
     "metadata": {},
     "output_type": "display_data"
    }
   ],
   "source": [
    "A<-cbind((0:4)^2,0:4,rep(1,5))\n",
    "A"
   ]
  },
  {
   "cell_type": "code",
   "execution_count": 47,
   "metadata": {},
   "outputs": [
    {
     "data": {
      "text/plain": [
       "[caracas]: [-1.75  15.75  50.8]ᵀ"
      ]
     },
     "metadata": {},
     "output_type": "display_data"
    }
   ],
   "source": [
    "igA<-pinv(as_sym(A))\n",
    "o<-igA%*%as_sym(alt)\n",
    "o"
   ]
  },
  {
   "cell_type": "code",
   "execution_count": 48,
   "metadata": {},
   "outputs": [],
   "source": [
    "a<-as_expr(o[1])\n",
    "b<-as_expr(o[2])\n",
    "c<-as_expr(o[3])"
   ]
  },
  {
   "cell_type": "code",
   "execution_count": 49,
   "metadata": {
    "scrolled": false
   },
   "outputs": [
    {
     "data": {
      "image/png": "[encoded data removed]",
      "text/plain": [
       "plot without title"
      ]
     },
     "metadata": {
      "image/png": {
       "height": 420,
       "width": 420
      }
     },
     "output_type": "display_data"
    }
   ],
   "source": [
    "plot(0:4,alt)\n",
    "lines(0:4,a*(0:4)^2+b*(0:4)+c,col=\"red\")"
   ]
  },
  {
   "cell_type": "markdown",
   "metadata": {},
   "source": [
    "En nuestros dos últimos ejemplos, $A$ es de rango pleno por columnas, por lo que la solución minimo-cuadrática podríamos haberla calculado con $A^L=(A^tA)^{-1}A^t$ (inversa a la izquierda de $A$)."
   ]
  },
  {
   "cell_type": "code",
   "execution_count": 50,
   "metadata": {
    "scrolled": false
   },
   "outputs": [
    {
     "data": {
      "text/plain": [
       "[caracas]: ⎡1/7   -1/14  -1/7   -1/14  1/7 ⎤\n",
       "           ⎢                               ⎥\n",
       "           ⎢-27    13            27    -13 ⎥\n",
       "           ⎢────   ──     4/7    ──    ────⎥\n",
       "           ⎢ 35    70            70     35 ⎥\n",
       "           ⎢                               ⎥\n",
       "           ⎢ 31                            ⎥\n",
       "           ⎢ ──   9/35   -3/35  -1/7   3/35⎥\n",
       "           ⎣ 35                            ⎦"
      ]
     },
     "metadata": {},
     "output_type": "display_data"
    }
   ],
   "source": [
    "AL<-inv(t(as_sym(A))%*%as_sym(A))%*%t(as_sym(A))\n",
    "AL"
   ]
  },
  {
   "cell_type": "code",
   "execution_count": 51,
   "metadata": {},
   "outputs": [
    {
     "data": {
      "text/plain": [
       "[caracas]: ⎡1/7   -1/14  -1/7   -1/14  1/7 ⎤\n",
       "           ⎢                               ⎥\n",
       "           ⎢-27    13            27    -13 ⎥\n",
       "           ⎢────   ──     4/7    ──    ────⎥\n",
       "           ⎢ 35    70            70     35 ⎥\n",
       "           ⎢                               ⎥\n",
       "           ⎢ 31                            ⎥\n",
       "           ⎢ ──   9/35   -3/35  -1/7   3/35⎥\n",
       "           ⎣ 35                            ⎦"
      ]
     },
     "metadata": {},
     "output_type": "display_data"
    }
   ],
   "source": [
    "igA"
   ]
  }
 ],
 "metadata": {
  "kernelspec": {
   "display_name": "R",
   "language": "R",
   "name": "ir"
  },
  "language_info": {
   "codemirror_mode": "r",
   "file_extension": ".r",
   "mimetype": "text/x-r-source",
   "name": "R",
   "pygments_lexer": "r",
   "version": "4.2.2"
  }
 },
 "nbformat": 4,
 "nbformat_minor": 5
}
