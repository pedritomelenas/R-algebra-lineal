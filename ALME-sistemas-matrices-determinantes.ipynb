{
 "cells": [
  {
   "cell_type": "markdown",
   "id": "1055edc7",
   "metadata": {},
   "source": [
    "# Sistemas de ecuaciones, matrices y determinantes"
   ]
  },
  {
   "cell_type": "markdown",
   "id": "19b73448",
   "metadata": {},
   "source": [
    "Utilizaremos como ejemplos los proporcionados por L. Merino y E. Santos en su [página de resolución de ejercicios tipo](https://www.ugr.es/~lmerino/ALME.html) de su libro [Álgebra lineal con métodos elementales](https://www.amazon.es/%C3%81lgebra-lineal-m%C3%A9todos-elementales-GONZALEZ/dp/8497324811)."
   ]
  },
  {
   "cell_type": "markdown",
   "id": "6f033d5b",
   "metadata": {},
   "source": [
    "## Forma normal de Hermite de una matriz"
   ]
  },
  {
   "cell_type": "markdown",
   "id": "232c27c9",
   "metadata": {},
   "source": [
    "Para calcular la forma normal de Hermite por filas, vamos a utilizar el paquete [pracma](https://cran.r-project.org/web/packages/pracma/index.html).\n",
    "\n",
    "Empezamos comprobando si está disponible y, en caso contrario, lo instalamos."
   ]
  },
  {
   "cell_type": "markdown",
   "id": "8de46560",
   "metadata": {},
   "source": [
    "Esto lo podemos hacer con `if(!require(\"pracma\")) install.packages(\"pracma\")`. Como nosotros ya lo tenemos instalado, simplemente cargamos la librería."
   ]
  },
  {
   "cell_type": "code",
   "execution_count": 1,
   "id": "eb7b3fdc",
   "metadata": {},
   "outputs": [],
   "source": [
    "library(\"pracma\")"
   ]
  },
  {
   "cell_type": "markdown",
   "id": "02eeb17a",
   "metadata": {},
   "source": [
    "### Ejercicio\n",
    "\n",
    "*Calcular la forma de Hermite por filas y el rango de la\n",
    "matriz:*\n",
    "$$\n",
    "A=\n",
    " \\left(\\begin{array}{rrrr}\n",
    "-2 & -4 &  2  &  2 \\\\\n",
    " 3 &  6 &  -3 & -3 \\\\\n",
    " 1 &  2 &  0  &  1\n",
    " \\end{array}\\right).\n",
    "$$"
   ]
  },
  {
   "cell_type": "markdown",
   "id": "83e17ec4",
   "metadata": {},
   "source": [
    "Empezamos definiendo la matriz del enunciado."
   ]
  },
  {
   "cell_type": "code",
   "execution_count": 2,
   "id": "a8f084ef",
   "metadata": {},
   "outputs": [
    {
     "data": {
      "text/html": [
       "<table class=\"dataframe\">\n",
       "<caption>A matrix: 3 × 4 of type dbl</caption>\n",
       "<tbody>\n",
       "\t<tr><td>-2</td><td>-4</td><td> 2</td><td> 2</td></tr>\n",
       "\t<tr><td> 3</td><td> 6</td><td>-3</td><td>-3</td></tr>\n",
       "\t<tr><td> 1</td><td> 2</td><td> 0</td><td> 1</td></tr>\n",
       "</tbody>\n",
       "</table>\n"
      ],
      "text/latex": [
       "A matrix: 3 × 4 of type dbl\n",
       "\\begin{tabular}{llll}\n",
       "\t -2 & -4 &  2 &  2\\\\\n",
       "\t  3 &  6 & -3 & -3\\\\\n",
       "\t  1 &  2 &  0 &  1\\\\\n",
       "\\end{tabular}\n"
      ],
      "text/markdown": [
       "\n",
       "A matrix: 3 × 4 of type dbl\n",
       "\n",
       "| -2 | -4 |  2 |  2 |\n",
       "|  3 |  6 | -3 | -3 |\n",
       "|  1 |  2 |  0 |  1 |\n",
       "\n"
      ],
      "text/plain": [
       "     [,1] [,2] [,3] [,4]\n",
       "[1,] -2   -4    2    2  \n",
       "[2,]  3    6   -3   -3  \n",
       "[3,]  1    2    0    1  "
      ]
     },
     "metadata": {},
     "output_type": "display_data"
    }
   ],
   "source": [
    "A<-rbind(c(-2,-4,2,2),c(3,6,-3,-3),c(1,2,0,1))\n",
    "A"
   ]
  },
  {
   "cell_type": "markdown",
   "id": "f0f588f4",
   "metadata": {},
   "source": [
    "Para calcular la forma normal de Hermite por filas, usamos `rref` (row reduced echelon form)."
   ]
  },
  {
   "cell_type": "code",
   "execution_count": 3,
   "id": "1a820cc8",
   "metadata": {},
   "outputs": [
    {
     "data": {
      "text/html": [
       "<table class=\"dataframe\">\n",
       "<caption>A matrix: 3 × 4 of type dbl</caption>\n",
       "<tbody>\n",
       "\t<tr><td>1</td><td>2</td><td>0</td><td>1</td></tr>\n",
       "\t<tr><td>0</td><td>0</td><td>1</td><td>2</td></tr>\n",
       "\t<tr><td>0</td><td>0</td><td>0</td><td>0</td></tr>\n",
       "</tbody>\n",
       "</table>\n"
      ],
      "text/latex": [
       "A matrix: 3 × 4 of type dbl\n",
       "\\begin{tabular}{llll}\n",
       "\t 1 & 2 & 0 & 1\\\\\n",
       "\t 0 & 0 & 1 & 2\\\\\n",
       "\t 0 & 0 & 0 & 0\\\\\n",
       "\\end{tabular}\n"
      ],
      "text/markdown": [
       "\n",
       "A matrix: 3 × 4 of type dbl\n",
       "\n",
       "| 1 | 2 | 0 | 1 |\n",
       "| 0 | 0 | 1 | 2 |\n",
       "| 0 | 0 | 0 | 0 |\n",
       "\n"
      ],
      "text/plain": [
       "     [,1] [,2] [,3] [,4]\n",
       "[1,] 1    2    0    1   \n",
       "[2,] 0    0    1    2   \n",
       "[3,] 0    0    0    0   "
      ]
     },
     "metadata": {},
     "output_type": "display_data"
    }
   ],
   "source": [
    "rref(A)"
   ]
  },
  {
   "cell_type": "markdown",
   "id": "4ea558e2",
   "metadata": {},
   "source": [
    "Y el rango lo podemos calcular con `Rank`."
   ]
  },
  {
   "cell_type": "code",
   "execution_count": 4,
   "id": "23969b88",
   "metadata": {},
   "outputs": [
    {
     "data": {
      "text/html": [
       "2"
      ],
      "text/latex": [
       "2"
      ],
      "text/markdown": [
       "2"
      ],
      "text/plain": [
       "[1] 2"
      ]
     },
     "metadata": {},
     "output_type": "display_data"
    }
   ],
   "source": [
    "Rank(A)"
   ]
  },
  {
   "cell_type": "markdown",
   "id": "9ac71549",
   "metadata": {},
   "source": [
    "### Ejercicio\n",
    "\n",
    "*Calcular la forma de Hermite por columnas de la matriz*\n",
    "$$\n",
    "A= \\left(\\begin{array}{rrr}\n",
    " 1 &  2 &  1 \\\\\n",
    " 2 &  1 &  0 \\\\\n",
    " 4 &  5 &  2 \\\\\n",
    " \\end{array}\\right).\n",
    "$$"
   ]
  },
  {
   "cell_type": "code",
   "execution_count": 5,
   "id": "4489e502",
   "metadata": {},
   "outputs": [
    {
     "data": {
      "text/html": [
       "<table class=\"dataframe\">\n",
       "<caption>A matrix: 3 × 3 of type dbl</caption>\n",
       "<tbody>\n",
       "\t<tr><td>1</td><td>2</td><td>1</td></tr>\n",
       "\t<tr><td>2</td><td>1</td><td>0</td></tr>\n",
       "\t<tr><td>4</td><td>5</td><td>2</td></tr>\n",
       "</tbody>\n",
       "</table>\n"
      ],
      "text/latex": [
       "A matrix: 3 × 3 of type dbl\n",
       "\\begin{tabular}{lll}\n",
       "\t 1 & 2 & 1\\\\\n",
       "\t 2 & 1 & 0\\\\\n",
       "\t 4 & 5 & 2\\\\\n",
       "\\end{tabular}\n"
      ],
      "text/markdown": [
       "\n",
       "A matrix: 3 × 3 of type dbl\n",
       "\n",
       "| 1 | 2 | 1 |\n",
       "| 2 | 1 | 0 |\n",
       "| 4 | 5 | 2 |\n",
       "\n"
      ],
      "text/plain": [
       "     [,1] [,2] [,3]\n",
       "[1,] 1    2    1   \n",
       "[2,] 2    1    0   \n",
       "[3,] 4    5    2   "
      ]
     },
     "metadata": {},
     "output_type": "display_data"
    }
   ],
   "source": [
    "A<-rbind(c(1,2,1),c(2,1,0),c(4,5,2))\n",
    "A"
   ]
  },
  {
   "cell_type": "markdown",
   "id": "268942e9",
   "metadata": {},
   "source": [
    "Para calcular la forma normal reducida por columnas, calculamos la transpuesta de la forma reducida por filas de la transpuesta de la matriz."
   ]
  },
  {
   "cell_type": "code",
   "execution_count": 6,
   "id": "192676f7",
   "metadata": {},
   "outputs": [
    {
     "data": {
      "text/html": [
       "<table class=\"dataframe\">\n",
       "<caption>A matrix: 3 × 3 of type dbl</caption>\n",
       "<tbody>\n",
       "\t<tr><td>1</td><td>0</td><td>0</td></tr>\n",
       "\t<tr><td>0</td><td>1</td><td>0</td></tr>\n",
       "\t<tr><td>2</td><td>1</td><td>0</td></tr>\n",
       "</tbody>\n",
       "</table>\n"
      ],
      "text/latex": [
       "A matrix: 3 × 3 of type dbl\n",
       "\\begin{tabular}{lll}\n",
       "\t 1 & 0 & 0\\\\\n",
       "\t 0 & 1 & 0\\\\\n",
       "\t 2 & 1 & 0\\\\\n",
       "\\end{tabular}\n"
      ],
      "text/markdown": [
       "\n",
       "A matrix: 3 × 3 of type dbl\n",
       "\n",
       "| 1 | 0 | 0 |\n",
       "| 0 | 1 | 0 |\n",
       "| 2 | 1 | 0 |\n",
       "\n"
      ],
      "text/plain": [
       "     [,1] [,2] [,3]\n",
       "[1,] 1    0    0   \n",
       "[2,] 0    1    0   \n",
       "[3,] 2    1    0   "
      ]
     },
     "metadata": {},
     "output_type": "display_data"
    }
   ],
   "source": [
    "t(rref(t(A)))"
   ]
  },
  {
   "cell_type": "markdown",
   "id": "0904fe79",
   "metadata": {},
   "source": [
    "### Ejercicio\n",
    "\n",
    "*Calcular la forma de Hermite por filas $H$ de la matriz*\n",
    "$$\n",
    "A=\n",
    " \\left(\\begin{array}{rrrr}\n",
    "-2 & -4 &  2  &  2 \\\\\n",
    " 3 &  6 &  -3 & -3 \\\\\n",
    " 1 &  2 &  0  &  1\n",
    " \\end{array}\\right)\n",
    "$$\n",
    "*así como una matriz regular $Q$ de forma que $H=Q\\cdot A$*.\n"
   ]
  },
  {
   "cell_type": "markdown",
   "id": "fbc6145e",
   "metadata": {},
   "source": [
    "Empezamos definiendo la matriz del enunciado, y le añadimos la matriz identidad por columnas."
   ]
  },
  {
   "cell_type": "code",
   "execution_count": 7,
   "id": "f65c3341",
   "metadata": {},
   "outputs": [
    {
     "data": {
      "text/html": [
       "<table class=\"dataframe\">\n",
       "<caption>A matrix: 3 × 7 of type dbl</caption>\n",
       "<tbody>\n",
       "\t<tr><td>-2</td><td>-4</td><td> 2</td><td> 2</td><td>1</td><td>0</td><td>0</td></tr>\n",
       "\t<tr><td> 3</td><td> 6</td><td>-3</td><td>-3</td><td>0</td><td>1</td><td>0</td></tr>\n",
       "\t<tr><td> 1</td><td> 2</td><td> 0</td><td> 1</td><td>0</td><td>0</td><td>1</td></tr>\n",
       "</tbody>\n",
       "</table>\n"
      ],
      "text/latex": [
       "A matrix: 3 × 7 of type dbl\n",
       "\\begin{tabular}{lllllll}\n",
       "\t -2 & -4 &  2 &  2 & 1 & 0 & 0\\\\\n",
       "\t  3 &  6 & -3 & -3 & 0 & 1 & 0\\\\\n",
       "\t  1 &  2 &  0 &  1 & 0 & 0 & 1\\\\\n",
       "\\end{tabular}\n"
      ],
      "text/markdown": [
       "\n",
       "A matrix: 3 × 7 of type dbl\n",
       "\n",
       "| -2 | -4 |  2 |  2 | 1 | 0 | 0 |\n",
       "|  3 |  6 | -3 | -3 | 0 | 1 | 0 |\n",
       "|  1 |  2 |  0 |  1 | 0 | 0 | 1 |\n",
       "\n"
      ],
      "text/plain": [
       "     [,1] [,2] [,3] [,4] [,5] [,6] [,7]\n",
       "[1,] -2   -4    2    2   1    0    0   \n",
       "[2,]  3    6   -3   -3   0    1    0   \n",
       "[3,]  1    2    0    1   0    0    1   "
      ]
     },
     "metadata": {},
     "output_type": "display_data"
    }
   ],
   "source": [
    "A<-rbind(c(-2,-4,2,2),c(3,6,-3,-3),c(1,2,0,1))\n",
    "AI<-cbind(A,diag(3))\n",
    "AI"
   ]
  },
  {
   "cell_type": "markdown",
   "id": "776e8efc",
   "metadata": {},
   "source": [
    "Ahora calculamos su forma normal reducida for filas."
   ]
  },
  {
   "cell_type": "code",
   "execution_count": 8,
   "id": "8ceb6c1b",
   "metadata": {},
   "outputs": [
    {
     "data": {
      "text/html": [
       "<table class=\"dataframe\">\n",
       "<caption>A matrix: 3 × 7 of type dbl</caption>\n",
       "<tbody>\n",
       "\t<tr><td>1</td><td>2</td><td>0</td><td>1</td><td>0</td><td> 0.0000000</td><td>1</td></tr>\n",
       "\t<tr><td>0</td><td>0</td><td>1</td><td>2</td><td>0</td><td>-0.3333333</td><td>1</td></tr>\n",
       "\t<tr><td>0</td><td>0</td><td>0</td><td>0</td><td>1</td><td> 0.6666667</td><td>0</td></tr>\n",
       "</tbody>\n",
       "</table>\n"
      ],
      "text/latex": [
       "A matrix: 3 × 7 of type dbl\n",
       "\\begin{tabular}{lllllll}\n",
       "\t 1 & 2 & 0 & 1 & 0 &  0.0000000 & 1\\\\\n",
       "\t 0 & 0 & 1 & 2 & 0 & -0.3333333 & 1\\\\\n",
       "\t 0 & 0 & 0 & 0 & 1 &  0.6666667 & 0\\\\\n",
       "\\end{tabular}\n"
      ],
      "text/markdown": [
       "\n",
       "A matrix: 3 × 7 of type dbl\n",
       "\n",
       "| 1 | 2 | 0 | 1 | 0 |  0.0000000 | 1 |\n",
       "| 0 | 0 | 1 | 2 | 0 | -0.3333333 | 1 |\n",
       "| 0 | 0 | 0 | 0 | 1 |  0.6666667 | 0 |\n",
       "\n"
      ],
      "text/plain": [
       "     [,1] [,2] [,3] [,4] [,5] [,6]       [,7]\n",
       "[1,] 1    2    0    1    0     0.0000000 1   \n",
       "[2,] 0    0    1    2    0    -0.3333333 1   \n",
       "[3,] 0    0    0    0    1     0.6666667 0   "
      ]
     },
     "metadata": {},
     "output_type": "display_data"
    }
   ],
   "source": [
    "hAI<-rref(AI)\n",
    "hAI"
   ]
  },
  {
   "cell_type": "markdown",
   "id": "1e24bc2e",
   "metadata": {},
   "source": [
    "Las primeras cuatro filas nos dan la forma normal reducida por filas."
   ]
  },
  {
   "cell_type": "code",
   "execution_count": 9,
   "id": "ef502662",
   "metadata": {
    "scrolled": true
   },
   "outputs": [
    {
     "data": {
      "text/html": [
       "<table class=\"dataframe\">\n",
       "<caption>A matrix: 3 × 4 of type dbl</caption>\n",
       "<tbody>\n",
       "\t<tr><td>1</td><td>2</td><td>0</td><td>1</td></tr>\n",
       "\t<tr><td>0</td><td>0</td><td>1</td><td>2</td></tr>\n",
       "\t<tr><td>0</td><td>0</td><td>0</td><td>0</td></tr>\n",
       "</tbody>\n",
       "</table>\n"
      ],
      "text/latex": [
       "A matrix: 3 × 4 of type dbl\n",
       "\\begin{tabular}{llll}\n",
       "\t 1 & 2 & 0 & 1\\\\\n",
       "\t 0 & 0 & 1 & 2\\\\\n",
       "\t 0 & 0 & 0 & 0\\\\\n",
       "\\end{tabular}\n"
      ],
      "text/markdown": [
       "\n",
       "A matrix: 3 × 4 of type dbl\n",
       "\n",
       "| 1 | 2 | 0 | 1 |\n",
       "| 0 | 0 | 1 | 2 |\n",
       "| 0 | 0 | 0 | 0 |\n",
       "\n"
      ],
      "text/plain": [
       "     [,1] [,2] [,3] [,4]\n",
       "[1,] 1    2    0    1   \n",
       "[2,] 0    0    1    2   \n",
       "[3,] 0    0    0    0   "
      ]
     },
     "metadata": {},
     "output_type": "display_data"
    }
   ],
   "source": [
    "hAI[,1:4]"
   ]
  },
  {
   "cell_type": "markdown",
   "id": "5ab2b34f",
   "metadata": {},
   "source": [
    "Mientras que las restantes nos dan la matriz de paso."
   ]
  },
  {
   "cell_type": "code",
   "execution_count": 10,
   "id": "5dedac75",
   "metadata": {},
   "outputs": [
    {
     "data": {
      "text/html": [
       "<table class=\"dataframe\">\n",
       "<caption>A matrix: 3 × 3 of type dbl</caption>\n",
       "<tbody>\n",
       "\t<tr><td>0</td><td> 0.0000000</td><td>1</td></tr>\n",
       "\t<tr><td>0</td><td>-0.3333333</td><td>1</td></tr>\n",
       "\t<tr><td>1</td><td> 0.6666667</td><td>0</td></tr>\n",
       "</tbody>\n",
       "</table>\n"
      ],
      "text/latex": [
       "A matrix: 3 × 3 of type dbl\n",
       "\\begin{tabular}{lll}\n",
       "\t 0 &  0.0000000 & 1\\\\\n",
       "\t 0 & -0.3333333 & 1\\\\\n",
       "\t 1 &  0.6666667 & 0\\\\\n",
       "\\end{tabular}\n"
      ],
      "text/markdown": [
       "\n",
       "A matrix: 3 × 3 of type dbl\n",
       "\n",
       "| 0 |  0.0000000 | 1 |\n",
       "| 0 | -0.3333333 | 1 |\n",
       "| 1 |  0.6666667 | 0 |\n",
       "\n"
      ],
      "text/plain": [
       "     [,1] [,2]       [,3]\n",
       "[1,] 0     0.0000000 1   \n",
       "[2,] 0    -0.3333333 1   \n",
       "[3,] 1     0.6666667 0   "
      ]
     },
     "metadata": {},
     "output_type": "display_data"
    }
   ],
   "source": [
    "Q<-hAI[,-(1:4)]\n",
    "Q"
   ]
  },
  {
   "cell_type": "markdown",
   "id": "e330e336",
   "metadata": {},
   "source": [
    "Comprobemos que efectivamente $Q A$ es la forma reducida."
   ]
  },
  {
   "cell_type": "code",
   "execution_count": 11,
   "id": "5b6d1200",
   "metadata": {
    "scrolled": true
   },
   "outputs": [
    {
     "data": {
      "text/html": [
       "<table class=\"dataframe\">\n",
       "<caption>A matrix: 3 × 4 of type dbl</caption>\n",
       "<tbody>\n",
       "\t<tr><td>1</td><td>2</td><td>0</td><td>1</td></tr>\n",
       "\t<tr><td>0</td><td>0</td><td>1</td><td>2</td></tr>\n",
       "\t<tr><td>0</td><td>0</td><td>0</td><td>0</td></tr>\n",
       "</tbody>\n",
       "</table>\n"
      ],
      "text/latex": [
       "A matrix: 3 × 4 of type dbl\n",
       "\\begin{tabular}{llll}\n",
       "\t 1 & 2 & 0 & 1\\\\\n",
       "\t 0 & 0 & 1 & 2\\\\\n",
       "\t 0 & 0 & 0 & 0\\\\\n",
       "\\end{tabular}\n"
      ],
      "text/markdown": [
       "\n",
       "A matrix: 3 × 4 of type dbl\n",
       "\n",
       "| 1 | 2 | 0 | 1 |\n",
       "| 0 | 0 | 1 | 2 |\n",
       "| 0 | 0 | 0 | 0 |\n",
       "\n"
      ],
      "text/plain": [
       "     [,1] [,2] [,3] [,4]\n",
       "[1,] 1    2    0    1   \n",
       "[2,] 0    0    1    2   \n",
       "[3,] 0    0    0    0   "
      ]
     },
     "metadata": {},
     "output_type": "display_data"
    }
   ],
   "source": [
    "Q%*%A"
   ]
  },
  {
   "cell_type": "markdown",
   "id": "14fcdbc5",
   "metadata": {},
   "source": [
    "### Ejercicio\n",
    "\n",
    "*Calcular la forma de Hermite por columnas $C$ de la matriz*\n",
    "$$\n",
    "A=\n",
    " \\left(\\begin{array}{rrrr}\n",
    " -2 & -4 &  2 &  2 \\\\\n",
    "  3 &  6 & -3 & -3 \\\\\n",
    "  1 &  2 &  0 &  1  \\\\\n",
    " \\end{array}\\right)\n",
    "$$\n",
    "*así como una matriz regular $Q$ de forma que $C=A\\cdot Q$*.\n"
   ]
  },
  {
   "cell_type": "markdown",
   "id": "e44c804d",
   "metadata": {},
   "source": [
    "Procedemos como en el ejercicio anterior, pero ahora añadiendo la identidad por columnas debajo de $A$."
   ]
  },
  {
   "cell_type": "code",
   "execution_count": 12,
   "id": "60becafe",
   "metadata": {},
   "outputs": [
    {
     "data": {
      "text/html": [
       "<table class=\"dataframe\">\n",
       "<caption>A matrix: 7 × 4 of type dbl</caption>\n",
       "<tbody>\n",
       "\t<tr><td>-2</td><td>-4</td><td> 2</td><td> 2</td></tr>\n",
       "\t<tr><td> 3</td><td> 6</td><td>-3</td><td>-3</td></tr>\n",
       "\t<tr><td> 1</td><td> 2</td><td> 0</td><td> 1</td></tr>\n",
       "\t<tr><td> 1</td><td> 0</td><td> 0</td><td> 0</td></tr>\n",
       "\t<tr><td> 0</td><td> 1</td><td> 0</td><td> 0</td></tr>\n",
       "\t<tr><td> 0</td><td> 0</td><td> 1</td><td> 0</td></tr>\n",
       "\t<tr><td> 0</td><td> 0</td><td> 0</td><td> 1</td></tr>\n",
       "</tbody>\n",
       "</table>\n"
      ],
      "text/latex": [
       "A matrix: 7 × 4 of type dbl\n",
       "\\begin{tabular}{llll}\n",
       "\t -2 & -4 &  2 &  2\\\\\n",
       "\t  3 &  6 & -3 & -3\\\\\n",
       "\t  1 &  2 &  0 &  1\\\\\n",
       "\t  1 &  0 &  0 &  0\\\\\n",
       "\t  0 &  1 &  0 &  0\\\\\n",
       "\t  0 &  0 &  1 &  0\\\\\n",
       "\t  0 &  0 &  0 &  1\\\\\n",
       "\\end{tabular}\n"
      ],
      "text/markdown": [
       "\n",
       "A matrix: 7 × 4 of type dbl\n",
       "\n",
       "| -2 | -4 |  2 |  2 |\n",
       "|  3 |  6 | -3 | -3 |\n",
       "|  1 |  2 |  0 |  1 |\n",
       "|  1 |  0 |  0 |  0 |\n",
       "|  0 |  1 |  0 |  0 |\n",
       "|  0 |  0 |  1 |  0 |\n",
       "|  0 |  0 |  0 |  1 |\n",
       "\n"
      ],
      "text/plain": [
       "     [,1] [,2] [,3] [,4]\n",
       "[1,] -2   -4    2    2  \n",
       "[2,]  3    6   -3   -3  \n",
       "[3,]  1    2    0    1  \n",
       "[4,]  1    0    0    0  \n",
       "[5,]  0    1    0    0  \n",
       "[6,]  0    0    1    0  \n",
       "[7,]  0    0    0    1  "
      ]
     },
     "metadata": {},
     "output_type": "display_data"
    }
   ],
   "source": [
    "A<-rbind(c(-2,-4,2,2),c(3,6,-3,-3),c(1,2,0,1))\n",
    "AI<-rbind(A,diag(4))\n",
    "AI"
   ]
  },
  {
   "cell_type": "markdown",
   "id": "0ba6c59f",
   "metadata": {},
   "source": [
    "Calculamos la forma normal de hermite de `AI` por columnas (transponiendo, calculando la forma reducida por filas, y volviendo a transponer)."
   ]
  },
  {
   "cell_type": "code",
   "execution_count": 13,
   "id": "e136ca10",
   "metadata": {},
   "outputs": [
    {
     "data": {
      "text/html": [
       "<table class=\"dataframe\">\n",
       "<caption>A matrix: 7 × 4 of type dbl</caption>\n",
       "<tbody>\n",
       "\t<tr><td> 1.0</td><td> 0</td><td> 0</td><td> 0</td></tr>\n",
       "\t<tr><td>-1.5</td><td> 0</td><td> 0</td><td> 0</td></tr>\n",
       "\t<tr><td> 0.0</td><td> 1</td><td> 0</td><td> 0</td></tr>\n",
       "\t<tr><td> 0.0</td><td> 0</td><td> 1</td><td> 0</td></tr>\n",
       "\t<tr><td> 0.0</td><td> 0</td><td> 0</td><td> 1</td></tr>\n",
       "\t<tr><td> 0.5</td><td>-1</td><td> 2</td><td> 4</td></tr>\n",
       "\t<tr><td> 0.0</td><td> 1</td><td>-1</td><td>-2</td></tr>\n",
       "</tbody>\n",
       "</table>\n"
      ],
      "text/latex": [
       "A matrix: 7 × 4 of type dbl\n",
       "\\begin{tabular}{llll}\n",
       "\t  1.0 &  0 &  0 &  0\\\\\n",
       "\t -1.5 &  0 &  0 &  0\\\\\n",
       "\t  0.0 &  1 &  0 &  0\\\\\n",
       "\t  0.0 &  0 &  1 &  0\\\\\n",
       "\t  0.0 &  0 &  0 &  1\\\\\n",
       "\t  0.5 & -1 &  2 &  4\\\\\n",
       "\t  0.0 &  1 & -1 & -2\\\\\n",
       "\\end{tabular}\n"
      ],
      "text/markdown": [
       "\n",
       "A matrix: 7 × 4 of type dbl\n",
       "\n",
       "|  1.0 |  0 |  0 |  0 |\n",
       "| -1.5 |  0 |  0 |  0 |\n",
       "|  0.0 |  1 |  0 |  0 |\n",
       "|  0.0 |  0 |  1 |  0 |\n",
       "|  0.0 |  0 |  0 |  1 |\n",
       "|  0.5 | -1 |  2 |  4 |\n",
       "|  0.0 |  1 | -1 | -2 |\n",
       "\n"
      ],
      "text/plain": [
       "     [,1] [,2] [,3] [,4]\n",
       "[1,]  1.0  0    0    0  \n",
       "[2,] -1.5  0    0    0  \n",
       "[3,]  0.0  1    0    0  \n",
       "[4,]  0.0  0    1    0  \n",
       "[5,]  0.0  0    0    1  \n",
       "[6,]  0.5 -1    2    4  \n",
       "[7,]  0.0  1   -1   -2  "
      ]
     },
     "metadata": {},
     "output_type": "display_data"
    }
   ],
   "source": [
    "hAI<-t(rref(t(AI)))\n",
    "hAI"
   ]
  },
  {
   "cell_type": "markdown",
   "id": "9bfeb3ac",
   "metadata": {},
   "source": [
    "Así la forma reducida por columnas es"
   ]
  },
  {
   "cell_type": "code",
   "execution_count": 14,
   "id": "a5e81dfb",
   "metadata": {},
   "outputs": [
    {
     "data": {
      "text/html": [
       "<table class=\"dataframe\">\n",
       "<caption>A matrix: 3 × 4 of type dbl</caption>\n",
       "<tbody>\n",
       "\t<tr><td> 1.0</td><td>0</td><td>0</td><td>0</td></tr>\n",
       "\t<tr><td>-1.5</td><td>0</td><td>0</td><td>0</td></tr>\n",
       "\t<tr><td> 0.0</td><td>1</td><td>0</td><td>0</td></tr>\n",
       "</tbody>\n",
       "</table>\n"
      ],
      "text/latex": [
       "A matrix: 3 × 4 of type dbl\n",
       "\\begin{tabular}{llll}\n",
       "\t  1.0 & 0 & 0 & 0\\\\\n",
       "\t -1.5 & 0 & 0 & 0\\\\\n",
       "\t  0.0 & 1 & 0 & 0\\\\\n",
       "\\end{tabular}\n"
      ],
      "text/markdown": [
       "\n",
       "A matrix: 3 × 4 of type dbl\n",
       "\n",
       "|  1.0 | 0 | 0 | 0 |\n",
       "| -1.5 | 0 | 0 | 0 |\n",
       "|  0.0 | 1 | 0 | 0 |\n",
       "\n"
      ],
      "text/plain": [
       "     [,1] [,2] [,3] [,4]\n",
       "[1,]  1.0 0    0    0   \n",
       "[2,] -1.5 0    0    0   \n",
       "[3,]  0.0 1    0    0   "
      ]
     },
     "metadata": {},
     "output_type": "display_data"
    }
   ],
   "source": [
    "hAI[1:3,]"
   ]
  },
  {
   "cell_type": "markdown",
   "id": "640f545e",
   "metadata": {},
   "source": [
    "Y la matriz $Q$ es "
   ]
  },
  {
   "cell_type": "code",
   "execution_count": 15,
   "id": "7f56a697",
   "metadata": {},
   "outputs": [
    {
     "data": {
      "text/html": [
       "<table class=\"dataframe\">\n",
       "<caption>A matrix: 4 × 4 of type dbl</caption>\n",
       "<tbody>\n",
       "\t<tr><td>0.0</td><td> 0</td><td> 1</td><td> 0</td></tr>\n",
       "\t<tr><td>0.0</td><td> 0</td><td> 0</td><td> 1</td></tr>\n",
       "\t<tr><td>0.5</td><td>-1</td><td> 2</td><td> 4</td></tr>\n",
       "\t<tr><td>0.0</td><td> 1</td><td>-1</td><td>-2</td></tr>\n",
       "</tbody>\n",
       "</table>\n"
      ],
      "text/latex": [
       "A matrix: 4 × 4 of type dbl\n",
       "\\begin{tabular}{llll}\n",
       "\t 0.0 &  0 &  1 &  0\\\\\n",
       "\t 0.0 &  0 &  0 &  1\\\\\n",
       "\t 0.5 & -1 &  2 &  4\\\\\n",
       "\t 0.0 &  1 & -1 & -2\\\\\n",
       "\\end{tabular}\n"
      ],
      "text/markdown": [
       "\n",
       "A matrix: 4 × 4 of type dbl\n",
       "\n",
       "| 0.0 |  0 |  1 |  0 |\n",
       "| 0.0 |  0 |  0 |  1 |\n",
       "| 0.5 | -1 |  2 |  4 |\n",
       "| 0.0 |  1 | -1 | -2 |\n",
       "\n"
      ],
      "text/plain": [
       "     [,1] [,2] [,3] [,4]\n",
       "[1,] 0.0   0    1    0  \n",
       "[2,] 0.0   0    0    1  \n",
       "[3,] 0.5  -1    2    4  \n",
       "[4,] 0.0   1   -1   -2  "
      ]
     },
     "metadata": {},
     "output_type": "display_data"
    }
   ],
   "source": [
    "Q<-hAI[-(1:3),]\n",
    "Q"
   ]
  },
  {
   "cell_type": "markdown",
   "id": "08ae1f65",
   "metadata": {},
   "source": [
    "Comprobamos que el resultado es correcto."
   ]
  },
  {
   "cell_type": "code",
   "execution_count": 16,
   "id": "88a54ba0",
   "metadata": {
    "scrolled": true
   },
   "outputs": [
    {
     "data": {
      "text/html": [
       "TRUE"
      ],
      "text/latex": [
       "TRUE"
      ],
      "text/markdown": [
       "TRUE"
      ],
      "text/plain": [
       "[1] TRUE"
      ]
     },
     "metadata": {},
     "output_type": "display_data"
    }
   ],
   "source": [
    "all(A%*%Q == hAI[1:3,])"
   ]
  },
  {
   "cell_type": "markdown",
   "id": "69ea3597",
   "metadata": {},
   "source": [
    "## Sistemas de ecuaciones usando Gauss-Jordan"
   ]
  },
  {
   "cell_type": "markdown",
   "id": "ac56231a",
   "metadata": {},
   "source": [
    "### Ejercicio\n",
    "\n",
    "*Discutir y resolver, en su caso, el sistema de ecuaciones lineales:*\n",
    "$$\n",
    "\\left\\{ \\begin{array}{rcl}\n",
    "3x +2y +z&= & 1, \\\\\n",
    "2x+3y+z &= & 0,\\\\\n",
    "2x+ y+3z &= & 0.\n",
    "\\end{array} \\right. \n",
    "$$"
   ]
  },
  {
   "cell_type": "markdown",
   "id": "6bf8b386",
   "metadata": {},
   "source": [
    "Empezamos definiendo la matriz de coeficientes y la matriz ampliada."
   ]
  },
  {
   "cell_type": "code",
   "execution_count": 17,
   "id": "5bd91829",
   "metadata": {},
   "outputs": [],
   "source": [
    "A<- rbind(c(3,2,1),c(2,3,1),c(2,1,3))\n",
    "b<-c(1,0,0)"
   ]
  },
  {
   "cell_type": "markdown",
   "id": "146450b3",
   "metadata": {},
   "source": [
    "Al ser un sistema de ecuaciones con el mismo número de incógnitas que de ecuaciones, podemos utilizar `solve`."
   ]
  },
  {
   "cell_type": "code",
   "execution_count": 18,
   "id": "e745129f",
   "metadata": {
    "scrolled": false
   },
   "outputs": [
    {
     "data": {
      "text/html": [
       "<style>\n",
       ".list-inline {list-style: none; margin:0; padding: 0}\n",
       ".list-inline>li {display: inline-block}\n",
       ".list-inline>li:not(:last-child)::after {content: \"\\00b7\"; padding: 0 .5ex}\n",
       "</style>\n",
       "<ol class=list-inline><li>0.666666666666667</li><li>-0.333333333333333</li><li>-0.333333333333333</li></ol>\n"
      ],
      "text/latex": [
       "\\begin{enumerate*}\n",
       "\\item 0.666666666666667\n",
       "\\item -0.333333333333333\n",
       "\\item -0.333333333333333\n",
       "\\end{enumerate*}\n"
      ],
      "text/markdown": [
       "1. 0.666666666666667\n",
       "2. -0.333333333333333\n",
       "3. -0.333333333333333\n",
       "\n",
       "\n"
      ],
      "text/plain": [
       "[1]  0.6666667 -0.3333333 -0.3333333"
      ]
     },
     "metadata": {},
     "output_type": "display_data"
    }
   ],
   "source": [
    "solve(A,b)"
   ]
  },
  {
   "cell_type": "markdown",
   "id": "04848eb9",
   "metadata": {},
   "source": [
    "Por lo que la solución es $x=2/3$, $y=-1/3$ y $z=-1/3$."
   ]
  },
  {
   "cell_type": "markdown",
   "id": "2b029f56",
   "metadata": {},
   "source": [
    "Usando la forma normal reducida de la matriz ampliada"
   ]
  },
  {
   "cell_type": "code",
   "execution_count": 19,
   "id": "962aa964",
   "metadata": {},
   "outputs": [
    {
     "data": {
      "text/html": [
       "<table class=\"dataframe\">\n",
       "<caption>A matrix: 3 × 4 of type dbl</caption>\n",
       "<thead>\n",
       "\t<tr><th scope=col></th><th scope=col></th><th scope=col></th><th scope=col>b</th></tr>\n",
       "</thead>\n",
       "<tbody>\n",
       "\t<tr><td>3</td><td>2</td><td>1</td><td>1</td></tr>\n",
       "\t<tr><td>2</td><td>3</td><td>1</td><td>0</td></tr>\n",
       "\t<tr><td>2</td><td>1</td><td>3</td><td>0</td></tr>\n",
       "</tbody>\n",
       "</table>\n"
      ],
      "text/latex": [
       "A matrix: 3 × 4 of type dbl\n",
       "\\begin{tabular}{llll}\n",
       "  &  &  & b\\\\\n",
       "\\hline\n",
       "\t 3 & 2 & 1 & 1\\\\\n",
       "\t 2 & 3 & 1 & 0\\\\\n",
       "\t 2 & 1 & 3 & 0\\\\\n",
       "\\end{tabular}\n"
      ],
      "text/markdown": [
       "\n",
       "A matrix: 3 × 4 of type dbl\n",
       "\n",
       "| <!----> | <!----> | <!----> | b |\n",
       "|---|---|---|---|\n",
       "| 3 | 2 | 1 | 1 |\n",
       "| 2 | 3 | 1 | 0 |\n",
       "| 2 | 1 | 3 | 0 |\n",
       "\n"
      ],
      "text/plain": [
       "           b\n",
       "[1,] 3 2 1 1\n",
       "[2,] 2 3 1 0\n",
       "[3,] 2 1 3 0"
      ]
     },
     "metadata": {},
     "output_type": "display_data"
    }
   ],
   "source": [
    "Ab<-cbind(A,b)\n",
    "Ab"
   ]
  },
  {
   "cell_type": "code",
   "execution_count": 20,
   "id": "3420571a",
   "metadata": {
    "scrolled": false
   },
   "outputs": [
    {
     "data": {
      "text/html": [
       "<table class=\"dataframe\">\n",
       "<caption>A matrix: 3 × 4 of type dbl</caption>\n",
       "<thead>\n",
       "\t<tr><th scope=col></th><th scope=col></th><th scope=col></th><th scope=col>b</th></tr>\n",
       "</thead>\n",
       "<tbody>\n",
       "\t<tr><td>1</td><td>0</td><td>0</td><td> 0.6666667</td></tr>\n",
       "\t<tr><td>0</td><td>1</td><td>0</td><td>-0.3333333</td></tr>\n",
       "\t<tr><td>0</td><td>0</td><td>1</td><td>-0.3333333</td></tr>\n",
       "</tbody>\n",
       "</table>\n"
      ],
      "text/latex": [
       "A matrix: 3 × 4 of type dbl\n",
       "\\begin{tabular}{llll}\n",
       "  &  &  & b\\\\\n",
       "\\hline\n",
       "\t 1 & 0 & 0 &  0.6666667\\\\\n",
       "\t 0 & 1 & 0 & -0.3333333\\\\\n",
       "\t 0 & 0 & 1 & -0.3333333\\\\\n",
       "\\end{tabular}\n"
      ],
      "text/markdown": [
       "\n",
       "A matrix: 3 × 4 of type dbl\n",
       "\n",
       "| <!----> | <!----> | <!----> | b |\n",
       "|---|---|---|---|\n",
       "| 1 | 0 | 0 |  0.6666667 |\n",
       "| 0 | 1 | 0 | -0.3333333 |\n",
       "| 0 | 0 | 1 | -0.3333333 |\n",
       "\n"
      ],
      "text/plain": [
       "           b         \n",
       "[1,] 1 0 0  0.6666667\n",
       "[2,] 0 1 0 -0.3333333\n",
       "[3,] 0 0 1 -0.3333333"
      ]
     },
     "metadata": {},
     "output_type": "display_data"
    }
   ],
   "source": [
    "rref(Ab)"
   ]
  },
  {
   "cell_type": "markdown",
   "id": "3940348d",
   "metadata": {},
   "source": [
    "Obtenemos que la solución es única: $x=2/3$, $y=-1/3$ y $z=-1/3$.\n",
    "\n",
    "En este caso los rangos de la matriz de coeficientes y de la matriz ampliada coinciden y son máximos."
   ]
  },
  {
   "cell_type": "code",
   "execution_count": 21,
   "id": "42c3e3ae",
   "metadata": {
    "scrolled": true
   },
   "outputs": [
    {
     "data": {
      "text/html": [
       "3"
      ],
      "text/latex": [
       "3"
      ],
      "text/markdown": [
       "3"
      ],
      "text/plain": [
       "[1] 3"
      ]
     },
     "metadata": {},
     "output_type": "display_data"
    }
   ],
   "source": [
    "Rank(A)"
   ]
  },
  {
   "cell_type": "code",
   "execution_count": 22,
   "id": "bdfbaee8",
   "metadata": {},
   "outputs": [
    {
     "data": {
      "text/html": [
       "3"
      ],
      "text/latex": [
       "3"
      ],
      "text/markdown": [
       "3"
      ],
      "text/plain": [
       "[1] 3"
      ]
     },
     "metadata": {},
     "output_type": "display_data"
    }
   ],
   "source": [
    "Rank(Ab)"
   ]
  },
  {
   "cell_type": "markdown",
   "id": "b45cd8e2",
   "metadata": {},
   "source": [
    "### Ejercicio\n",
    "\n",
    "*Discutir y resolver, en su caso, el sistema de ecuaciones lineales:*\n",
    "$$\n",
    "\\left\\{ \\begin{array}{rcl}\n",
    "3x +2y +z&= & 1, \\\\\n",
    "2x+3y+z &= & 0,\\\\\n",
    "x+ 4y+z &= & 0.\n",
    "\\end{array} \\right. \n",
    "$$"
   ]
  },
  {
   "cell_type": "code",
   "execution_count": 23,
   "id": "a919ff71",
   "metadata": {},
   "outputs": [],
   "source": [
    "A<- rbind(c(3,2,1),c(2,3,1),c(1,4,1))\n",
    "b<-c(1,0,0)"
   ]
  },
  {
   "cell_type": "code",
   "execution_count": 24,
   "id": "c23b0c7c",
   "metadata": {},
   "outputs": [
    {
     "ename": "ERROR",
     "evalue": "Error in solve.default(A, b): Lapack routine dgesv: system is exactly singular: U[3,3] = 0\n",
     "output_type": "error",
     "traceback": [
      "Error in solve.default(A, b): Lapack routine dgesv: system is exactly singular: U[3,3] = 0\nTraceback:\n",
      "1. solve(A, b)",
      "2. solve.default(A, b)"
     ]
    }
   ],
   "source": [
    "solve(A,b)"
   ]
  },
  {
   "cell_type": "markdown",
   "id": "46b4db69",
   "metadata": {},
   "source": [
    "Veamos cómo es la forma reducida por filas de la matriz ampliada."
   ]
  },
  {
   "cell_type": "code",
   "execution_count": 25,
   "id": "8bd61c5f",
   "metadata": {},
   "outputs": [],
   "source": [
    "Ab<- cbind(A,b)"
   ]
  },
  {
   "cell_type": "code",
   "execution_count": 26,
   "id": "5fedc459",
   "metadata": {},
   "outputs": [
    {
     "data": {
      "text/html": [
       "<table class=\"dataframe\">\n",
       "<caption>A matrix: 3 × 4 of type dbl</caption>\n",
       "<thead>\n",
       "\t<tr><th scope=col></th><th scope=col></th><th scope=col></th><th scope=col>b</th></tr>\n",
       "</thead>\n",
       "<tbody>\n",
       "\t<tr><td>1</td><td>0</td><td>0.2</td><td>0</td></tr>\n",
       "\t<tr><td>0</td><td>1</td><td>0.2</td><td>0</td></tr>\n",
       "\t<tr><td>0</td><td>0</td><td>0.0</td><td>1</td></tr>\n",
       "</tbody>\n",
       "</table>\n"
      ],
      "text/latex": [
       "A matrix: 3 × 4 of type dbl\n",
       "\\begin{tabular}{llll}\n",
       "  &  &  & b\\\\\n",
       "\\hline\n",
       "\t 1 & 0 & 0.2 & 0\\\\\n",
       "\t 0 & 1 & 0.2 & 0\\\\\n",
       "\t 0 & 0 & 0.0 & 1\\\\\n",
       "\\end{tabular}\n"
      ],
      "text/markdown": [
       "\n",
       "A matrix: 3 × 4 of type dbl\n",
       "\n",
       "| <!----> | <!----> | <!----> | b |\n",
       "|---|---|---|---|\n",
       "| 1 | 0 | 0.2 | 0 |\n",
       "| 0 | 1 | 0.2 | 0 |\n",
       "| 0 | 0 | 0.0 | 1 |\n",
       "\n"
      ],
      "text/plain": [
       "             b\n",
       "[1,] 1 0 0.2 0\n",
       "[2,] 0 1 0.2 0\n",
       "[3,] 0 0 0.0 1"
      ]
     },
     "metadata": {},
     "output_type": "display_data"
    }
   ],
   "source": [
    "rref(Ab)"
   ]
  },
  {
   "cell_type": "markdown",
   "id": "cfc06cb2",
   "metadata": {},
   "source": [
    "La incompatibilidad del sistema se aprecia en la última fila, que corresponde a una equación $0=1$.\n",
    "\n",
    "Podemos ver la incompatibilidad también estudiando los rangos de la matriz de coeficientes y de la ampliada."
   ]
  },
  {
   "cell_type": "code",
   "execution_count": 27,
   "id": "f3322c65",
   "metadata": {},
   "outputs": [
    {
     "data": {
      "text/html": [
       "2"
      ],
      "text/latex": [
       "2"
      ],
      "text/markdown": [
       "2"
      ],
      "text/plain": [
       "[1] 2"
      ]
     },
     "metadata": {},
     "output_type": "display_data"
    }
   ],
   "source": [
    "Rank(A)"
   ]
  },
  {
   "cell_type": "code",
   "execution_count": 28,
   "id": "d597d30a",
   "metadata": {},
   "outputs": [
    {
     "data": {
      "text/html": [
       "3"
      ],
      "text/latex": [
       "3"
      ],
      "text/markdown": [
       "3"
      ],
      "text/plain": [
       "[1] 3"
      ]
     },
     "metadata": {},
     "output_type": "display_data"
    }
   ],
   "source": [
    "Rank(Ab)"
   ]
  },
  {
   "cell_type": "markdown",
   "id": "0848e7f3",
   "metadata": {},
   "source": [
    "### Ejercicio\n",
    "\n",
    "*Discutir y resolver, en su caso, el sistema de ecuaciones lineales:*\n",
    "$$\n",
    "\\left\\{ \\begin{array}{rcl}\n",
    "3x +2y +z&= & 1, \\\\\n",
    "2x+3y+z &= & 2,\\\\\n",
    "x+ 4y+z &= & 3.\n",
    "\\end{array} \\right. \n",
    "$$"
   ]
  },
  {
   "cell_type": "code",
   "execution_count": 29,
   "id": "01258baf",
   "metadata": {},
   "outputs": [],
   "source": [
    "A<- rbind(c(3,2,1),c(2,3,1),c(1,4,1))\n",
    "b<-c(1,2,3)"
   ]
  },
  {
   "cell_type": "code",
   "execution_count": 30,
   "id": "6f99577e",
   "metadata": {},
   "outputs": [
    {
     "ename": "ERROR",
     "evalue": "Error in solve.default(A, b): Lapack routine dgesv: system is exactly singular: U[3,3] = 0\n",
     "output_type": "error",
     "traceback": [
      "Error in solve.default(A, b): Lapack routine dgesv: system is exactly singular: U[3,3] = 0\nTraceback:\n",
      "1. solve(A, b)",
      "2. solve.default(A, b)"
     ]
    }
   ],
   "source": [
    "solve(A,b)"
   ]
  },
  {
   "cell_type": "markdown",
   "id": "b66e4c97",
   "metadata": {},
   "source": [
    "El comando `solve` no nos sirve en el caso en que la matriz de coeficientes tenga determinante cero. Veamos qué información podemos sacar de la forma reducida por filas."
   ]
  },
  {
   "cell_type": "code",
   "execution_count": 31,
   "id": "0b532f82",
   "metadata": {},
   "outputs": [],
   "source": [
    "Ab<-cbind(A,b)"
   ]
  },
  {
   "cell_type": "code",
   "execution_count": 32,
   "id": "bdbb0af7",
   "metadata": {},
   "outputs": [
    {
     "data": {
      "text/html": [
       "<table class=\"dataframe\">\n",
       "<caption>A matrix: 3 × 4 of type dbl</caption>\n",
       "<thead>\n",
       "\t<tr><th scope=col></th><th scope=col></th><th scope=col></th><th scope=col>b</th></tr>\n",
       "</thead>\n",
       "<tbody>\n",
       "\t<tr><td>1</td><td>0</td><td>0.2</td><td>-0.2</td></tr>\n",
       "\t<tr><td>0</td><td>1</td><td>0.2</td><td> 0.8</td></tr>\n",
       "\t<tr><td>0</td><td>0</td><td>0.0</td><td> 0.0</td></tr>\n",
       "</tbody>\n",
       "</table>\n"
      ],
      "text/latex": [
       "A matrix: 3 × 4 of type dbl\n",
       "\\begin{tabular}{llll}\n",
       "  &  &  & b\\\\\n",
       "\\hline\n",
       "\t 1 & 0 & 0.2 & -0.2\\\\\n",
       "\t 0 & 1 & 0.2 &  0.8\\\\\n",
       "\t 0 & 0 & 0.0 &  0.0\\\\\n",
       "\\end{tabular}\n"
      ],
      "text/markdown": [
       "\n",
       "A matrix: 3 × 4 of type dbl\n",
       "\n",
       "| <!----> | <!----> | <!----> | b |\n",
       "|---|---|---|---|\n",
       "| 1 | 0 | 0.2 | -0.2 |\n",
       "| 0 | 1 | 0.2 |  0.8 |\n",
       "| 0 | 0 | 0.0 |  0.0 |\n",
       "\n"
      ],
      "text/plain": [
       "             b   \n",
       "[1,] 1 0 0.2 -0.2\n",
       "[2,] 0 1 0.2  0.8\n",
       "[3,] 0 0 0.0  0.0"
      ]
     },
     "metadata": {},
     "output_type": "display_data"
    }
   ],
   "source": [
    "rref(Ab)"
   ]
  },
  {
   "cell_type": "markdown",
   "id": "522ade38",
   "metadata": {},
   "source": [
    "Por lo que el sistema tiene infinitas soluciones. Podemos tomar $z$ como parámatro. Y las soluciones son $x=-1/5-1/5z$, $y=4/5-1/5z$.\n",
    "\n",
    "Veamos que en este caso los rangos de la matriz de coeficientes y de la matriz ampliada coinciden, pero no son máximos."
   ]
  },
  {
   "cell_type": "code",
   "execution_count": 33,
   "id": "478749b8",
   "metadata": {},
   "outputs": [
    {
     "data": {
      "text/html": [
       "2"
      ],
      "text/latex": [
       "2"
      ],
      "text/markdown": [
       "2"
      ],
      "text/plain": [
       "[1] 2"
      ]
     },
     "metadata": {},
     "output_type": "display_data"
    }
   ],
   "source": [
    "Rank(A)"
   ]
  },
  {
   "cell_type": "code",
   "execution_count": 34,
   "id": "1cceb634",
   "metadata": {},
   "outputs": [
    {
     "data": {
      "text/html": [
       "2"
      ],
      "text/latex": [
       "2"
      ],
      "text/markdown": [
       "2"
      ],
      "text/plain": [
       "[1] 2"
      ]
     },
     "metadata": {},
     "output_type": "display_data"
    }
   ],
   "source": [
    "Rank(Ab)"
   ]
  },
  {
   "cell_type": "markdown",
   "id": "b299f6f9",
   "metadata": {},
   "source": [
    "## Matriz inversa usando operaciones elementales por filas"
   ]
  },
  {
   "cell_type": "markdown",
   "id": "8e0cba77",
   "metadata": {},
   "source": [
    "### Ejercicio\n",
    "\n",
    "*Estudiar si la matriz*\n",
    "$$\n",
    " \\left(\\begin{array}{rrrr}\n",
    " 3 &  2 &  3 & 4 \\\\\n",
    " 3 &  2 &  2 &  3 \\\\\n",
    " 2 &  1 &  2  & 1 \\\\\n",
    " 0 & 1 & 1 & 0\n",
    " \\end{array}\\right)\n",
    "$$\n",
    "*es regular y en tal caso, calcular su matriz inversa.*"
   ]
  },
  {
   "cell_type": "code",
   "execution_count": 35,
   "id": "c45c3489",
   "metadata": {},
   "outputs": [],
   "source": [
    "A<-rbind(c(3,2,3,4),c(3,2,2,3),c(2,1,2,1),c(0,1,1,0))"
   ]
  },
  {
   "cell_type": "markdown",
   "id": "01f18167",
   "metadata": {},
   "source": [
    "Si $A$ tiene inversa, la podemos calcular con `solve`."
   ]
  },
  {
   "cell_type": "code",
   "execution_count": 36,
   "id": "246de64c",
   "metadata": {},
   "outputs": [
    {
     "data": {
      "text/html": [
       "<table class=\"dataframe\">\n",
       "<caption>A matrix: 4 × 4 of type dbl</caption>\n",
       "<tbody>\n",
       "\t<tr><td>-0.5</td><td> 0.5000000</td><td> 0.5</td><td>-0.5000000</td></tr>\n",
       "\t<tr><td>-0.5</td><td> 0.8333333</td><td>-0.5</td><td> 0.8333333</td></tr>\n",
       "\t<tr><td> 0.5</td><td>-0.8333333</td><td> 0.5</td><td> 0.1666667</td></tr>\n",
       "\t<tr><td> 0.5</td><td>-0.1666667</td><td>-0.5</td><td>-0.1666667</td></tr>\n",
       "</tbody>\n",
       "</table>\n"
      ],
      "text/latex": [
       "A matrix: 4 × 4 of type dbl\n",
       "\\begin{tabular}{llll}\n",
       "\t -0.5 &  0.5000000 &  0.5 & -0.5000000\\\\\n",
       "\t -0.5 &  0.8333333 & -0.5 &  0.8333333\\\\\n",
       "\t  0.5 & -0.8333333 &  0.5 &  0.1666667\\\\\n",
       "\t  0.5 & -0.1666667 & -0.5 & -0.1666667\\\\\n",
       "\\end{tabular}\n"
      ],
      "text/markdown": [
       "\n",
       "A matrix: 4 × 4 of type dbl\n",
       "\n",
       "| -0.5 |  0.5000000 |  0.5 | -0.5000000 |\n",
       "| -0.5 |  0.8333333 | -0.5 |  0.8333333 |\n",
       "|  0.5 | -0.8333333 |  0.5 |  0.1666667 |\n",
       "|  0.5 | -0.1666667 | -0.5 | -0.1666667 |\n",
       "\n"
      ],
      "text/plain": [
       "     [,1] [,2]       [,3] [,4]      \n",
       "[1,] -0.5  0.5000000  0.5 -0.5000000\n",
       "[2,] -0.5  0.8333333 -0.5  0.8333333\n",
       "[3,]  0.5 -0.8333333  0.5  0.1666667\n",
       "[4,]  0.5 -0.1666667 -0.5 -0.1666667"
      ]
     },
     "metadata": {},
     "output_type": "display_data"
    }
   ],
   "source": [
    "solve(A)"
   ]
  },
  {
   "cell_type": "markdown",
   "id": "092bacb3",
   "metadata": {},
   "source": [
    "Veamos cómo se puede calcular utilizando la forma normal de Hermite por filas."
   ]
  },
  {
   "cell_type": "code",
   "execution_count": 37,
   "id": "73cc7bbc",
   "metadata": {},
   "outputs": [],
   "source": [
    "AI<-cbind(A,diag(4))"
   ]
  },
  {
   "cell_type": "code",
   "execution_count": 38,
   "id": "36e903e4",
   "metadata": {},
   "outputs": [
    {
     "data": {
      "text/html": [
       "<table class=\"dataframe\">\n",
       "<caption>A matrix: 4 × 8 of type dbl</caption>\n",
       "<tbody>\n",
       "\t<tr><td>3</td><td>2</td><td>3</td><td>4</td><td>1</td><td>0</td><td>0</td><td>0</td></tr>\n",
       "\t<tr><td>3</td><td>2</td><td>2</td><td>3</td><td>0</td><td>1</td><td>0</td><td>0</td></tr>\n",
       "\t<tr><td>2</td><td>1</td><td>2</td><td>1</td><td>0</td><td>0</td><td>1</td><td>0</td></tr>\n",
       "\t<tr><td>0</td><td>1</td><td>1</td><td>0</td><td>0</td><td>0</td><td>0</td><td>1</td></tr>\n",
       "</tbody>\n",
       "</table>\n"
      ],
      "text/latex": [
       "A matrix: 4 × 8 of type dbl\n",
       "\\begin{tabular}{llllllll}\n",
       "\t 3 & 2 & 3 & 4 & 1 & 0 & 0 & 0\\\\\n",
       "\t 3 & 2 & 2 & 3 & 0 & 1 & 0 & 0\\\\\n",
       "\t 2 & 1 & 2 & 1 & 0 & 0 & 1 & 0\\\\\n",
       "\t 0 & 1 & 1 & 0 & 0 & 0 & 0 & 1\\\\\n",
       "\\end{tabular}\n"
      ],
      "text/markdown": [
       "\n",
       "A matrix: 4 × 8 of type dbl\n",
       "\n",
       "| 3 | 2 | 3 | 4 | 1 | 0 | 0 | 0 |\n",
       "| 3 | 2 | 2 | 3 | 0 | 1 | 0 | 0 |\n",
       "| 2 | 1 | 2 | 1 | 0 | 0 | 1 | 0 |\n",
       "| 0 | 1 | 1 | 0 | 0 | 0 | 0 | 1 |\n",
       "\n"
      ],
      "text/plain": [
       "     [,1] [,2] [,3] [,4] [,5] [,6] [,7] [,8]\n",
       "[1,] 3    2    3    4    1    0    0    0   \n",
       "[2,] 3    2    2    3    0    1    0    0   \n",
       "[3,] 2    1    2    1    0    0    1    0   \n",
       "[4,] 0    1    1    0    0    0    0    1   "
      ]
     },
     "metadata": {},
     "output_type": "display_data"
    }
   ],
   "source": [
    "AI"
   ]
  },
  {
   "cell_type": "code",
   "execution_count": 39,
   "id": "75328042",
   "metadata": {},
   "outputs": [
    {
     "data": {
      "text/html": [
       "<table class=\"dataframe\">\n",
       "<caption>A matrix: 4 × 8 of type dbl</caption>\n",
       "<tbody>\n",
       "\t<tr><td>1</td><td>0</td><td>0</td><td>0</td><td>-0.5</td><td> 0.5000000</td><td> 0.5</td><td>-0.5000000</td></tr>\n",
       "\t<tr><td>0</td><td>1</td><td>0</td><td>0</td><td>-0.5</td><td> 0.8333333</td><td>-0.5</td><td> 0.8333333</td></tr>\n",
       "\t<tr><td>0</td><td>0</td><td>1</td><td>0</td><td> 0.5</td><td>-0.8333333</td><td> 0.5</td><td> 0.1666667</td></tr>\n",
       "\t<tr><td>0</td><td>0</td><td>0</td><td>1</td><td> 0.5</td><td>-0.1666667</td><td>-0.5</td><td>-0.1666667</td></tr>\n",
       "</tbody>\n",
       "</table>\n"
      ],
      "text/latex": [
       "A matrix: 4 × 8 of type dbl\n",
       "\\begin{tabular}{llllllll}\n",
       "\t 1 & 0 & 0 & 0 & -0.5 &  0.5000000 &  0.5 & -0.5000000\\\\\n",
       "\t 0 & 1 & 0 & 0 & -0.5 &  0.8333333 & -0.5 &  0.8333333\\\\\n",
       "\t 0 & 0 & 1 & 0 &  0.5 & -0.8333333 &  0.5 &  0.1666667\\\\\n",
       "\t 0 & 0 & 0 & 1 &  0.5 & -0.1666667 & -0.5 & -0.1666667\\\\\n",
       "\\end{tabular}\n"
      ],
      "text/markdown": [
       "\n",
       "A matrix: 4 × 8 of type dbl\n",
       "\n",
       "| 1 | 0 | 0 | 0 | -0.5 |  0.5000000 |  0.5 | -0.5000000 |\n",
       "| 0 | 1 | 0 | 0 | -0.5 |  0.8333333 | -0.5 |  0.8333333 |\n",
       "| 0 | 0 | 1 | 0 |  0.5 | -0.8333333 |  0.5 |  0.1666667 |\n",
       "| 0 | 0 | 0 | 1 |  0.5 | -0.1666667 | -0.5 | -0.1666667 |\n",
       "\n"
      ],
      "text/plain": [
       "     [,1] [,2] [,3] [,4] [,5] [,6]       [,7] [,8]      \n",
       "[1,] 1    0    0    0    -0.5  0.5000000  0.5 -0.5000000\n",
       "[2,] 0    1    0    0    -0.5  0.8333333 -0.5  0.8333333\n",
       "[3,] 0    0    1    0     0.5 -0.8333333  0.5  0.1666667\n",
       "[4,] 0    0    0    1     0.5 -0.1666667 -0.5 -0.1666667"
      ]
     },
     "metadata": {},
     "output_type": "display_data"
    }
   ],
   "source": [
    "rAI<-rref(AI)\n",
    "rAI"
   ]
  },
  {
   "cell_type": "markdown",
   "id": "6819ef53",
   "metadata": {},
   "source": [
    "Por tanto, la inversa es la submatriz formada por las últimas cuatro columnas. "
   ]
  },
  {
   "cell_type": "code",
   "execution_count": 40,
   "id": "3612edc9",
   "metadata": {},
   "outputs": [
    {
     "data": {
      "text/html": [
       "<table class=\"dataframe\">\n",
       "<caption>A matrix: 4 × 4 of type dbl</caption>\n",
       "<tbody>\n",
       "\t<tr><td>-0.5</td><td> 0.5000000</td><td> 0.5</td><td>-0.5000000</td></tr>\n",
       "\t<tr><td>-0.5</td><td> 0.8333333</td><td>-0.5</td><td> 0.8333333</td></tr>\n",
       "\t<tr><td> 0.5</td><td>-0.8333333</td><td> 0.5</td><td> 0.1666667</td></tr>\n",
       "\t<tr><td> 0.5</td><td>-0.1666667</td><td>-0.5</td><td>-0.1666667</td></tr>\n",
       "</tbody>\n",
       "</table>\n"
      ],
      "text/latex": [
       "A matrix: 4 × 4 of type dbl\n",
       "\\begin{tabular}{llll}\n",
       "\t -0.5 &  0.5000000 &  0.5 & -0.5000000\\\\\n",
       "\t -0.5 &  0.8333333 & -0.5 &  0.8333333\\\\\n",
       "\t  0.5 & -0.8333333 &  0.5 &  0.1666667\\\\\n",
       "\t  0.5 & -0.1666667 & -0.5 & -0.1666667\\\\\n",
       "\\end{tabular}\n"
      ],
      "text/markdown": [
       "\n",
       "A matrix: 4 × 4 of type dbl\n",
       "\n",
       "| -0.5 |  0.5000000 |  0.5 | -0.5000000 |\n",
       "| -0.5 |  0.8333333 | -0.5 |  0.8333333 |\n",
       "|  0.5 | -0.8333333 |  0.5 |  0.1666667 |\n",
       "|  0.5 | -0.1666667 | -0.5 | -0.1666667 |\n",
       "\n"
      ],
      "text/plain": [
       "     [,1] [,2]       [,3] [,4]      \n",
       "[1,] -0.5  0.5000000  0.5 -0.5000000\n",
       "[2,] -0.5  0.8333333 -0.5  0.8333333\n",
       "[3,]  0.5 -0.8333333  0.5  0.1666667\n",
       "[4,]  0.5 -0.1666667 -0.5 -0.1666667"
      ]
     },
     "metadata": {},
     "output_type": "display_data"
    }
   ],
   "source": [
    "rAI[,5:8]"
   ]
  },
  {
   "cell_type": "markdown",
   "id": "9e26a670",
   "metadata": {},
   "source": [
    "### Ejercicio\n",
    "\n",
    "*Estudiar si la matriz*\n",
    "$$\n",
    " \\left(\\begin{array}{rrrr}\n",
    " 1 &  2 &  3 & 4 \\\\\n",
    " 0 &  1 &   2 &  3 \\\\\n",
    " 1 &  0 &  2  &  0 \\\\\n",
    " 1 & 1 & 1 & 1\n",
    " \\end{array}\\right)\n",
    "$$\n",
    "*es regular y en tal caso, calcular su matriz inversa.*"
   ]
  },
  {
   "cell_type": "code",
   "execution_count": 41,
   "id": "1f692dea",
   "metadata": {},
   "outputs": [],
   "source": [
    "A<-rbind(c(1,2,3,4),c(0,1,2,3),c(1,0,2,0),c(1,1,1,1))"
   ]
  },
  {
   "cell_type": "code",
   "execution_count": 42,
   "id": "63e0c85b",
   "metadata": {},
   "outputs": [
    {
     "ename": "ERROR",
     "evalue": "Error in solve.default(A): Lapack routine dgesv: system is exactly singular: U[4,4] = 0\n",
     "output_type": "error",
     "traceback": [
      "Error in solve.default(A): Lapack routine dgesv: system is exactly singular: U[4,4] = 0\nTraceback:\n",
      "1. solve(A)",
      "2. solve.default(A)"
     ]
    }
   ],
   "source": [
    "solve(A)"
   ]
  },
  {
   "cell_type": "markdown",
   "id": "691a4ea5",
   "metadata": {},
   "source": [
    "Luego no tiene inversa. "
   ]
  },
  {
   "cell_type": "code",
   "execution_count": 43,
   "id": "491a293e",
   "metadata": {},
   "outputs": [
    {
     "data": {
      "text/html": [
       "3"
      ],
      "text/latex": [
       "3"
      ],
      "text/markdown": [
       "3"
      ],
      "text/plain": [
       "[1] 3"
      ]
     },
     "metadata": {},
     "output_type": "display_data"
    }
   ],
   "source": [
    "Rank(A)"
   ]
  },
  {
   "cell_type": "code",
   "execution_count": 44,
   "id": "8b8b4ff9",
   "metadata": {
    "scrolled": true
   },
   "outputs": [
    {
     "data": {
      "text/html": [
       "<table class=\"dataframe\">\n",
       "<caption>A matrix: 4 × 8 of type dbl</caption>\n",
       "<tbody>\n",
       "\t<tr><td>1</td><td>0</td><td>0</td><td>-1.3333333</td><td>0</td><td>-0.6666667</td><td> 0.3333333</td><td> 0.6666667</td></tr>\n",
       "\t<tr><td>0</td><td>1</td><td>0</td><td> 1.6666667</td><td>0</td><td> 0.3333333</td><td>-0.6666667</td><td> 0.6666667</td></tr>\n",
       "\t<tr><td>0</td><td>0</td><td>1</td><td> 0.6666667</td><td>0</td><td> 0.3333333</td><td> 0.3333333</td><td>-0.3333333</td></tr>\n",
       "\t<tr><td>0</td><td>0</td><td>0</td><td> 0.0000000</td><td>1</td><td>-1.0000000</td><td> 0.0000000</td><td>-1.0000000</td></tr>\n",
       "</tbody>\n",
       "</table>\n"
      ],
      "text/latex": [
       "A matrix: 4 × 8 of type dbl\n",
       "\\begin{tabular}{llllllll}\n",
       "\t 1 & 0 & 0 & -1.3333333 & 0 & -0.6666667 &  0.3333333 &  0.6666667\\\\\n",
       "\t 0 & 1 & 0 &  1.6666667 & 0 &  0.3333333 & -0.6666667 &  0.6666667\\\\\n",
       "\t 0 & 0 & 1 &  0.6666667 & 0 &  0.3333333 &  0.3333333 & -0.3333333\\\\\n",
       "\t 0 & 0 & 0 &  0.0000000 & 1 & -1.0000000 &  0.0000000 & -1.0000000\\\\\n",
       "\\end{tabular}\n"
      ],
      "text/markdown": [
       "\n",
       "A matrix: 4 × 8 of type dbl\n",
       "\n",
       "| 1 | 0 | 0 | -1.3333333 | 0 | -0.6666667 |  0.3333333 |  0.6666667 |\n",
       "| 0 | 1 | 0 |  1.6666667 | 0 |  0.3333333 | -0.6666667 |  0.6666667 |\n",
       "| 0 | 0 | 1 |  0.6666667 | 0 |  0.3333333 |  0.3333333 | -0.3333333 |\n",
       "| 0 | 0 | 0 |  0.0000000 | 1 | -1.0000000 |  0.0000000 | -1.0000000 |\n",
       "\n"
      ],
      "text/plain": [
       "     [,1] [,2] [,3] [,4]       [,5] [,6]       [,7]       [,8]      \n",
       "[1,] 1    0    0    -1.3333333 0    -0.6666667  0.3333333  0.6666667\n",
       "[2,] 0    1    0     1.6666667 0     0.3333333 -0.6666667  0.6666667\n",
       "[3,] 0    0    1     0.6666667 0     0.3333333  0.3333333 -0.3333333\n",
       "[4,] 0    0    0     0.0000000 1    -1.0000000  0.0000000 -1.0000000"
      ]
     },
     "metadata": {},
     "output_type": "display_data"
    }
   ],
   "source": [
    "rref(cbind(A,diag(4)))"
   ]
  },
  {
   "cell_type": "markdown",
   "id": "3709a9ee",
   "metadata": {},
   "source": [
    "La última fila muestra que la matriz no puede tener inversa."
   ]
  },
  {
   "cell_type": "markdown",
   "id": "c151d293",
   "metadata": {},
   "source": [
    "## Matriz de paso entre dos matrices equivalentes por filas"
   ]
  },
  {
   "cell_type": "markdown",
   "id": "1ce237b6",
   "metadata": {},
   "source": [
    "### Ejercicio\n",
    "\n",
    "*Estudiar si las matrices:*\n",
    "$$\n",
    "A=\n",
    " \\left(\\begin{array}{rrrr}\n",
    "  1 &  1 & 1 & 1 \\\\\n",
    "  0 &  1 & 1 & 1 \\\\\n",
    "  0 &  0 & 1 & 1 \\\\\n",
    " \\end{array}\\right)\n",
    " ; \\;\\;\n",
    "B=\n",
    " \\left(\\begin{array}{rrrr}\n",
    "  1 & 0 &  0 &  0 \\\\\n",
    "  1 & 1 &  0 &  0 \\\\\n",
    "  1 & 1 &  1 &  1 \\\\\n",
    " \\end{array}\\right)\n",
    "$$\n",
    "*son equivalentes por filas, y en tal caso determinar una matriz regular $Q$ de forma que $A=Q\\cdot B$.*"
   ]
  },
  {
   "cell_type": "code",
   "execution_count": 45,
   "id": "58cf08a3",
   "metadata": {},
   "outputs": [
    {
     "data": {
      "text/html": [
       "<table class=\"dataframe\">\n",
       "<caption>A matrix: 3 × 4 of type dbl</caption>\n",
       "<tbody>\n",
       "\t<tr><td>1</td><td>1</td><td>1</td><td>1</td></tr>\n",
       "\t<tr><td>0</td><td>1</td><td>1</td><td>1</td></tr>\n",
       "\t<tr><td>0</td><td>0</td><td>1</td><td>1</td></tr>\n",
       "</tbody>\n",
       "</table>\n"
      ],
      "text/latex": [
       "A matrix: 3 × 4 of type dbl\n",
       "\\begin{tabular}{llll}\n",
       "\t 1 & 1 & 1 & 1\\\\\n",
       "\t 0 & 1 & 1 & 1\\\\\n",
       "\t 0 & 0 & 1 & 1\\\\\n",
       "\\end{tabular}\n"
      ],
      "text/markdown": [
       "\n",
       "A matrix: 3 × 4 of type dbl\n",
       "\n",
       "| 1 | 1 | 1 | 1 |\n",
       "| 0 | 1 | 1 | 1 |\n",
       "| 0 | 0 | 1 | 1 |\n",
       "\n"
      ],
      "text/plain": [
       "     [,1] [,2] [,3] [,4]\n",
       "[1,] 1    1    1    1   \n",
       "[2,] 0    1    1    1   \n",
       "[3,] 0    0    1    1   "
      ]
     },
     "metadata": {},
     "output_type": "display_data"
    }
   ],
   "source": [
    "A<-matrix(c(1,1,1,1,0,1,1,1,0,0,1,1),3,4,byrow=TRUE)\n",
    "A"
   ]
  },
  {
   "cell_type": "code",
   "execution_count": 46,
   "id": "3fca14b3",
   "metadata": {},
   "outputs": [],
   "source": [
    "B<-rbind(c(1,0,0,0),c(1,1,0,0),c(1,1,1,1))"
   ]
  },
  {
   "cell_type": "markdown",
   "id": "b40867a9",
   "metadata": {},
   "source": [
    "Veamos cómo son sus formas normales de Hermite por filas."
   ]
  },
  {
   "cell_type": "code",
   "execution_count": 47,
   "id": "61028d65",
   "metadata": {
    "scrolled": true
   },
   "outputs": [
    {
     "data": {
      "text/html": [
       "<table class=\"dataframe\">\n",
       "<caption>A matrix: 3 × 4 of type dbl</caption>\n",
       "<tbody>\n",
       "\t<tr><td>1</td><td>0</td><td>0</td><td>0</td></tr>\n",
       "\t<tr><td>0</td><td>1</td><td>0</td><td>0</td></tr>\n",
       "\t<tr><td>0</td><td>0</td><td>1</td><td>1</td></tr>\n",
       "</tbody>\n",
       "</table>\n"
      ],
      "text/latex": [
       "A matrix: 3 × 4 of type dbl\n",
       "\\begin{tabular}{llll}\n",
       "\t 1 & 0 & 0 & 0\\\\\n",
       "\t 0 & 1 & 0 & 0\\\\\n",
       "\t 0 & 0 & 1 & 1\\\\\n",
       "\\end{tabular}\n"
      ],
      "text/markdown": [
       "\n",
       "A matrix: 3 × 4 of type dbl\n",
       "\n",
       "| 1 | 0 | 0 | 0 |\n",
       "| 0 | 1 | 0 | 0 |\n",
       "| 0 | 0 | 1 | 1 |\n",
       "\n"
      ],
      "text/plain": [
       "     [,1] [,2] [,3] [,4]\n",
       "[1,] 1    0    0    0   \n",
       "[2,] 0    1    0    0   \n",
       "[3,] 0    0    1    1   "
      ]
     },
     "metadata": {},
     "output_type": "display_data"
    }
   ],
   "source": [
    "rref(A)"
   ]
  },
  {
   "cell_type": "code",
   "execution_count": 48,
   "id": "8eb42cc2",
   "metadata": {},
   "outputs": [
    {
     "data": {
      "text/html": [
       "<table class=\"dataframe\">\n",
       "<caption>A matrix: 3 × 4 of type dbl</caption>\n",
       "<tbody>\n",
       "\t<tr><td>1</td><td>0</td><td>0</td><td>0</td></tr>\n",
       "\t<tr><td>0</td><td>1</td><td>0</td><td>0</td></tr>\n",
       "\t<tr><td>0</td><td>0</td><td>1</td><td>1</td></tr>\n",
       "</tbody>\n",
       "</table>\n"
      ],
      "text/latex": [
       "A matrix: 3 × 4 of type dbl\n",
       "\\begin{tabular}{llll}\n",
       "\t 1 & 0 & 0 & 0\\\\\n",
       "\t 0 & 1 & 0 & 0\\\\\n",
       "\t 0 & 0 & 1 & 1\\\\\n",
       "\\end{tabular}\n"
      ],
      "text/markdown": [
       "\n",
       "A matrix: 3 × 4 of type dbl\n",
       "\n",
       "| 1 | 0 | 0 | 0 |\n",
       "| 0 | 1 | 0 | 0 |\n",
       "| 0 | 0 | 1 | 1 |\n",
       "\n"
      ],
      "text/plain": [
       "     [,1] [,2] [,3] [,4]\n",
       "[1,] 1    0    0    0   \n",
       "[2,] 0    1    0    0   \n",
       "[3,] 0    0    1    1   "
      ]
     },
     "metadata": {},
     "output_type": "display_data"
    }
   ],
   "source": [
    "rref(B)"
   ]
  },
  {
   "cell_type": "markdown",
   "id": "0adf2173",
   "metadata": {},
   "source": [
    "Ahora calculemos la matriz $Q$ del enunciado. Para ello buscamos las matrices $Q_A$ y $Q_B$ tales que $Q_A A$ y $Q_B B$ estén en forma normal reducida por filas."
   ]
  },
  {
   "cell_type": "code",
   "execution_count": 49,
   "id": "45b205d3",
   "metadata": {},
   "outputs": [
    {
     "data": {
      "text/html": [
       "<table class=\"dataframe\">\n",
       "<caption>A matrix: 3 × 7 of type dbl</caption>\n",
       "<tbody>\n",
       "\t<tr><td>1</td><td>0</td><td>0</td><td>0</td><td>1</td><td>-1</td><td> 0</td></tr>\n",
       "\t<tr><td>0</td><td>1</td><td>0</td><td>0</td><td>0</td><td> 1</td><td>-1</td></tr>\n",
       "\t<tr><td>0</td><td>0</td><td>1</td><td>1</td><td>0</td><td> 0</td><td> 1</td></tr>\n",
       "</tbody>\n",
       "</table>\n"
      ],
      "text/latex": [
       "A matrix: 3 × 7 of type dbl\n",
       "\\begin{tabular}{lllllll}\n",
       "\t 1 & 0 & 0 & 0 & 1 & -1 &  0\\\\\n",
       "\t 0 & 1 & 0 & 0 & 0 &  1 & -1\\\\\n",
       "\t 0 & 0 & 1 & 1 & 0 &  0 &  1\\\\\n",
       "\\end{tabular}\n"
      ],
      "text/markdown": [
       "\n",
       "A matrix: 3 × 7 of type dbl\n",
       "\n",
       "| 1 | 0 | 0 | 0 | 1 | -1 |  0 |\n",
       "| 0 | 1 | 0 | 0 | 0 |  1 | -1 |\n",
       "| 0 | 0 | 1 | 1 | 0 |  0 |  1 |\n",
       "\n"
      ],
      "text/plain": [
       "     [,1] [,2] [,3] [,4] [,5] [,6] [,7]\n",
       "[1,] 1    0    0    0    1    -1    0  \n",
       "[2,] 0    1    0    0    0     1   -1  \n",
       "[3,] 0    0    1    1    0     0    1  "
      ]
     },
     "metadata": {},
     "output_type": "display_data"
    }
   ],
   "source": [
    "rAI<-rref(cbind(A,diag(3)))\n",
    "rAI"
   ]
  },
  {
   "cell_type": "code",
   "execution_count": 50,
   "id": "51a06d1d",
   "metadata": {},
   "outputs": [
    {
     "data": {
      "text/html": [
       "<table class=\"dataframe\">\n",
       "<caption>A matrix: 3 × 3 of type dbl</caption>\n",
       "<tbody>\n",
       "\t<tr><td>1</td><td>-1</td><td> 0</td></tr>\n",
       "\t<tr><td>0</td><td> 1</td><td>-1</td></tr>\n",
       "\t<tr><td>0</td><td> 0</td><td> 1</td></tr>\n",
       "</tbody>\n",
       "</table>\n"
      ],
      "text/latex": [
       "A matrix: 3 × 3 of type dbl\n",
       "\\begin{tabular}{lll}\n",
       "\t 1 & -1 &  0\\\\\n",
       "\t 0 &  1 & -1\\\\\n",
       "\t 0 &  0 &  1\\\\\n",
       "\\end{tabular}\n"
      ],
      "text/markdown": [
       "\n",
       "A matrix: 3 × 3 of type dbl\n",
       "\n",
       "| 1 | -1 |  0 |\n",
       "| 0 |  1 | -1 |\n",
       "| 0 |  0 |  1 |\n",
       "\n"
      ],
      "text/plain": [
       "     [,1] [,2] [,3]\n",
       "[1,] 1    -1    0  \n",
       "[2,] 0     1   -1  \n",
       "[3,] 0     0    1  "
      ]
     },
     "metadata": {},
     "output_type": "display_data"
    }
   ],
   "source": [
    "QA<-rAI[,-(1:4)]\n",
    "QA"
   ]
  },
  {
   "cell_type": "code",
   "execution_count": 51,
   "id": "6cb601d9",
   "metadata": {},
   "outputs": [],
   "source": [
    "QB<-rref(cbind(B,diag(3)))[,-(1:4)]"
   ]
  },
  {
   "cell_type": "markdown",
   "id": "691ef940",
   "metadata": {},
   "source": [
    "Sabemos que $Q_A A = Q_B B$, por lo que la matriz $Q$ que buscamos es $Q_A^{-1}Q_B$."
   ]
  },
  {
   "cell_type": "code",
   "execution_count": 52,
   "id": "6247835c",
   "metadata": {},
   "outputs": [],
   "source": [
    "Q<-solve(QA)%*%QB"
   ]
  },
  {
   "cell_type": "code",
   "execution_count": 53,
   "id": "f00ef44d",
   "metadata": {},
   "outputs": [
    {
     "data": {
      "text/html": [
       "<table class=\"dataframe\">\n",
       "<caption>A matrix: 3 × 3 of type dbl</caption>\n",
       "<tbody>\n",
       "\t<tr><td> 0</td><td> 0</td><td>1</td></tr>\n",
       "\t<tr><td>-1</td><td> 0</td><td>1</td></tr>\n",
       "\t<tr><td> 0</td><td>-1</td><td>1</td></tr>\n",
       "</tbody>\n",
       "</table>\n"
      ],
      "text/latex": [
       "A matrix: 3 × 3 of type dbl\n",
       "\\begin{tabular}{lll}\n",
       "\t  0 &  0 & 1\\\\\n",
       "\t -1 &  0 & 1\\\\\n",
       "\t  0 & -1 & 1\\\\\n",
       "\\end{tabular}\n"
      ],
      "text/markdown": [
       "\n",
       "A matrix: 3 × 3 of type dbl\n",
       "\n",
       "|  0 |  0 | 1 |\n",
       "| -1 |  0 | 1 |\n",
       "|  0 | -1 | 1 |\n",
       "\n"
      ],
      "text/plain": [
       "     [,1] [,2] [,3]\n",
       "[1,]  0    0   1   \n",
       "[2,] -1    0   1   \n",
       "[3,]  0   -1   1   "
      ]
     },
     "metadata": {},
     "output_type": "display_data"
    }
   ],
   "source": [
    "Q"
   ]
  },
  {
   "cell_type": "markdown",
   "id": "7307092c",
   "metadata": {},
   "source": [
    "Finalmente, comprobamos que $QB$ es $A$."
   ]
  },
  {
   "cell_type": "code",
   "execution_count": 54,
   "id": "30aab25b",
   "metadata": {
    "scrolled": true
   },
   "outputs": [
    {
     "data": {
      "text/html": [
       "<table class=\"dataframe\">\n",
       "<caption>A matrix: 3 × 4 of type dbl</caption>\n",
       "<tbody>\n",
       "\t<tr><td>1</td><td>1</td><td>1</td><td>1</td></tr>\n",
       "\t<tr><td>0</td><td>1</td><td>1</td><td>1</td></tr>\n",
       "\t<tr><td>0</td><td>0</td><td>1</td><td>1</td></tr>\n",
       "</tbody>\n",
       "</table>\n"
      ],
      "text/latex": [
       "A matrix: 3 × 4 of type dbl\n",
       "\\begin{tabular}{llll}\n",
       "\t 1 & 1 & 1 & 1\\\\\n",
       "\t 0 & 1 & 1 & 1\\\\\n",
       "\t 0 & 0 & 1 & 1\\\\\n",
       "\\end{tabular}\n"
      ],
      "text/markdown": [
       "\n",
       "A matrix: 3 × 4 of type dbl\n",
       "\n",
       "| 1 | 1 | 1 | 1 |\n",
       "| 0 | 1 | 1 | 1 |\n",
       "| 0 | 0 | 1 | 1 |\n",
       "\n"
      ],
      "text/plain": [
       "     [,1] [,2] [,3] [,4]\n",
       "[1,] 1    1    1    1   \n",
       "[2,] 0    1    1    1   \n",
       "[3,] 0    0    1    1   "
      ]
     },
     "metadata": {},
     "output_type": "display_data"
    }
   ],
   "source": [
    "Q%*%B"
   ]
  },
  {
   "cell_type": "markdown",
   "id": "92ea5697",
   "metadata": {},
   "source": [
    "## Determinantes y operaciones elementales"
   ]
  },
  {
   "cell_type": "markdown",
   "id": "39fc8119",
   "metadata": {},
   "source": [
    "### Ejercicio\n",
    "\n",
    "*Calcular el determinante*\n",
    "$$\n",
    "\\left|\n",
    "\\begin{array}{rrrr}\n",
    "1 & 1/2 & 1/3 & 1/5\\\\\n",
    "-1 & 1/2 & -1/3 & -1/5\\\\\n",
    "1 & 1/2 & 4/3 & 1/5\\\\\n",
    "2 & 1 & 2/3 & 11/5\\\\\n",
    "\\end{array}\n",
    "\\right|.\n",
    "$$"
   ]
  },
  {
   "cell_type": "code",
   "execution_count": 55,
   "id": "d6a08c73",
   "metadata": {},
   "outputs": [],
   "source": [
    "A<-rbind(c(1,1/2,1/3,1/5),c(-1,1/2,-1/3,-1/5),c(1,1/2,4/3,1/5),c(2,1,2/3,11/5))"
   ]
  },
  {
   "cell_type": "markdown",
   "id": "d47184bc",
   "metadata": {},
   "source": [
    "En `R` podemos utilizar `det` para calcular el determinante de una matriz."
   ]
  },
  {
   "cell_type": "code",
   "execution_count": 56,
   "id": "214b2033",
   "metadata": {},
   "outputs": [
    {
     "data": {
      "text/html": [
       "1.8"
      ],
      "text/latex": [
       "1.8"
      ],
      "text/markdown": [
       "1.8"
      ],
      "text/plain": [
       "[1] 1.8"
      ]
     },
     "metadata": {},
     "output_type": "display_data"
    }
   ],
   "source": [
    "det(A)"
   ]
  },
  {
   "cell_type": "markdown",
   "id": "215ef207",
   "metadata": {},
   "source": [
    "Hagamos operaciones elementales por filas que no alteren el determinante de forma que lleguemos a una matriz triangular."
   ]
  },
  {
   "cell_type": "code",
   "execution_count": 57,
   "id": "02f49fe5",
   "metadata": {},
   "outputs": [
    {
     "data": {
      "text/html": [
       "<table class=\"dataframe\">\n",
       "<caption>A matrix: 4 × 4 of type dbl</caption>\n",
       "<tbody>\n",
       "\t<tr><td> 1</td><td>0.5</td><td> 0.3333333</td><td> 0.2</td></tr>\n",
       "\t<tr><td>-1</td><td>0.5</td><td>-0.3333333</td><td>-0.2</td></tr>\n",
       "\t<tr><td> 1</td><td>0.5</td><td> 1.3333333</td><td> 0.2</td></tr>\n",
       "\t<tr><td> 2</td><td>1.0</td><td> 0.6666667</td><td> 2.2</td></tr>\n",
       "</tbody>\n",
       "</table>\n"
      ],
      "text/latex": [
       "A matrix: 4 × 4 of type dbl\n",
       "\\begin{tabular}{llll}\n",
       "\t  1 & 0.5 &  0.3333333 &  0.2\\\\\n",
       "\t -1 & 0.5 & -0.3333333 & -0.2\\\\\n",
       "\t  1 & 0.5 &  1.3333333 &  0.2\\\\\n",
       "\t  2 & 1.0 &  0.6666667 &  2.2\\\\\n",
       "\\end{tabular}\n"
      ],
      "text/markdown": [
       "\n",
       "A matrix: 4 × 4 of type dbl\n",
       "\n",
       "|  1 | 0.5 |  0.3333333 |  0.2 |\n",
       "| -1 | 0.5 | -0.3333333 | -0.2 |\n",
       "|  1 | 0.5 |  1.3333333 |  0.2 |\n",
       "|  2 | 1.0 |  0.6666667 |  2.2 |\n",
       "\n"
      ],
      "text/plain": [
       "     [,1] [,2] [,3]       [,4]\n",
       "[1,]  1   0.5   0.3333333  0.2\n",
       "[2,] -1   0.5  -0.3333333 -0.2\n",
       "[3,]  1   0.5   1.3333333  0.2\n",
       "[4,]  2   1.0   0.6666667  2.2"
      ]
     },
     "metadata": {},
     "output_type": "display_data"
    }
   ],
   "source": [
    "A"
   ]
  },
  {
   "cell_type": "markdown",
   "id": "20a0e0f9",
   "metadata": {},
   "source": [
    "Vamos a conseguir ceros debajo de la primera posición de la primera fila. Para ello empezamos cambiando la segunda fila por la suma de las dos primeras files (lo que no altera el valor del determinante)."
   ]
  },
  {
   "cell_type": "code",
   "execution_count": 58,
   "id": "700a264b",
   "metadata": {},
   "outputs": [
    {
     "data": {
      "text/html": [
       "<table class=\"dataframe\">\n",
       "<caption>A matrix: 4 × 4 of type dbl</caption>\n",
       "<tbody>\n",
       "\t<tr><td>1</td><td>0.5</td><td>0.3333333</td><td>0.2</td></tr>\n",
       "\t<tr><td>0</td><td>1.0</td><td>0.0000000</td><td>0.0</td></tr>\n",
       "\t<tr><td>1</td><td>0.5</td><td>1.3333333</td><td>0.2</td></tr>\n",
       "\t<tr><td>2</td><td>1.0</td><td>0.6666667</td><td>2.2</td></tr>\n",
       "</tbody>\n",
       "</table>\n"
      ],
      "text/latex": [
       "A matrix: 4 × 4 of type dbl\n",
       "\\begin{tabular}{llll}\n",
       "\t 1 & 0.5 & 0.3333333 & 0.2\\\\\n",
       "\t 0 & 1.0 & 0.0000000 & 0.0\\\\\n",
       "\t 1 & 0.5 & 1.3333333 & 0.2\\\\\n",
       "\t 2 & 1.0 & 0.6666667 & 2.2\\\\\n",
       "\\end{tabular}\n"
      ],
      "text/markdown": [
       "\n",
       "A matrix: 4 × 4 of type dbl\n",
       "\n",
       "| 1 | 0.5 | 0.3333333 | 0.2 |\n",
       "| 0 | 1.0 | 0.0000000 | 0.0 |\n",
       "| 1 | 0.5 | 1.3333333 | 0.2 |\n",
       "| 2 | 1.0 | 0.6666667 | 2.2 |\n",
       "\n"
      ],
      "text/plain": [
       "     [,1] [,2] [,3]      [,4]\n",
       "[1,] 1    0.5  0.3333333 0.2 \n",
       "[2,] 0    1.0  0.0000000 0.0 \n",
       "[3,] 1    0.5  1.3333333 0.2 \n",
       "[4,] 2    1.0  0.6666667 2.2 "
      ]
     },
     "metadata": {},
     "output_type": "display_data"
    }
   ],
   "source": [
    "A[2,]<-A[1,]+A[2,]\n",
    "A"
   ]
  },
  {
   "cell_type": "markdown",
   "id": "f3ad9791",
   "metadata": {},
   "source": [
    "Ahor cambiamos la tercera por la diferencia de la tercera con la primera."
   ]
  },
  {
   "cell_type": "code",
   "execution_count": 59,
   "id": "4403a0be",
   "metadata": {},
   "outputs": [
    {
     "data": {
      "text/html": [
       "<table class=\"dataframe\">\n",
       "<caption>A matrix: 4 × 4 of type dbl</caption>\n",
       "<tbody>\n",
       "\t<tr><td>1</td><td>0.5</td><td>0.3333333</td><td>0.2</td></tr>\n",
       "\t<tr><td>0</td><td>1.0</td><td>0.0000000</td><td>0.0</td></tr>\n",
       "\t<tr><td>0</td><td>0.0</td><td>1.0000000</td><td>0.0</td></tr>\n",
       "\t<tr><td>2</td><td>1.0</td><td>0.6666667</td><td>2.2</td></tr>\n",
       "</tbody>\n",
       "</table>\n"
      ],
      "text/latex": [
       "A matrix: 4 × 4 of type dbl\n",
       "\\begin{tabular}{llll}\n",
       "\t 1 & 0.5 & 0.3333333 & 0.2\\\\\n",
       "\t 0 & 1.0 & 0.0000000 & 0.0\\\\\n",
       "\t 0 & 0.0 & 1.0000000 & 0.0\\\\\n",
       "\t 2 & 1.0 & 0.6666667 & 2.2\\\\\n",
       "\\end{tabular}\n"
      ],
      "text/markdown": [
       "\n",
       "A matrix: 4 × 4 of type dbl\n",
       "\n",
       "| 1 | 0.5 | 0.3333333 | 0.2 |\n",
       "| 0 | 1.0 | 0.0000000 | 0.0 |\n",
       "| 0 | 0.0 | 1.0000000 | 0.0 |\n",
       "| 2 | 1.0 | 0.6666667 | 2.2 |\n",
       "\n"
      ],
      "text/plain": [
       "     [,1] [,2] [,3]      [,4]\n",
       "[1,] 1    0.5  0.3333333 0.2 \n",
       "[2,] 0    1.0  0.0000000 0.0 \n",
       "[3,] 0    0.0  1.0000000 0.0 \n",
       "[4,] 2    1.0  0.6666667 2.2 "
      ]
     },
     "metadata": {},
     "output_type": "display_data"
    }
   ],
   "source": [
    "A[3,]<-A[3,]-A[1,]\n",
    "A"
   ]
  },
  {
   "cell_type": "markdown",
   "id": "bcb5e16e",
   "metadata": {},
   "source": [
    "Y la cuarta por la diferencia de la cuarta por dos veces la primera."
   ]
  },
  {
   "cell_type": "code",
   "execution_count": 60,
   "id": "ddc0c604",
   "metadata": {},
   "outputs": [],
   "source": [
    "A[4,]<-A[4,]-2*A[1,]"
   ]
  },
  {
   "cell_type": "code",
   "execution_count": 61,
   "id": "d604e490",
   "metadata": {},
   "outputs": [
    {
     "data": {
      "text/html": [
       "<table class=\"dataframe\">\n",
       "<caption>A matrix: 4 × 4 of type dbl</caption>\n",
       "<tbody>\n",
       "\t<tr><td>1</td><td>0.5</td><td>0.3333333</td><td>0.2</td></tr>\n",
       "\t<tr><td>0</td><td>1.0</td><td>0.0000000</td><td>0.0</td></tr>\n",
       "\t<tr><td>0</td><td>0.0</td><td>1.0000000</td><td>0.0</td></tr>\n",
       "\t<tr><td>0</td><td>0.0</td><td>0.0000000</td><td>1.8</td></tr>\n",
       "</tbody>\n",
       "</table>\n"
      ],
      "text/latex": [
       "A matrix: 4 × 4 of type dbl\n",
       "\\begin{tabular}{llll}\n",
       "\t 1 & 0.5 & 0.3333333 & 0.2\\\\\n",
       "\t 0 & 1.0 & 0.0000000 & 0.0\\\\\n",
       "\t 0 & 0.0 & 1.0000000 & 0.0\\\\\n",
       "\t 0 & 0.0 & 0.0000000 & 1.8\\\\\n",
       "\\end{tabular}\n"
      ],
      "text/markdown": [
       "\n",
       "A matrix: 4 × 4 of type dbl\n",
       "\n",
       "| 1 | 0.5 | 0.3333333 | 0.2 |\n",
       "| 0 | 1.0 | 0.0000000 | 0.0 |\n",
       "| 0 | 0.0 | 1.0000000 | 0.0 |\n",
       "| 0 | 0.0 | 0.0000000 | 1.8 |\n",
       "\n"
      ],
      "text/plain": [
       "     [,1] [,2] [,3]      [,4]\n",
       "[1,] 1    0.5  0.3333333 0.2 \n",
       "[2,] 0    1.0  0.0000000 0.0 \n",
       "[3,] 0    0.0  1.0000000 0.0 \n",
       "[4,] 0    0.0  0.0000000 1.8 "
      ]
     },
     "metadata": {},
     "output_type": "display_data"
    }
   ],
   "source": [
    "A"
   ]
  },
  {
   "cell_type": "markdown",
   "id": "efcb5772",
   "metadata": {},
   "source": [
    "La matriz ya es triangular, con lo que el determinante es el producto de los elementos de la diagonal."
   ]
  },
  {
   "cell_type": "code",
   "execution_count": 62,
   "id": "102ca1d5",
   "metadata": {},
   "outputs": [
    {
     "data": {
      "text/html": [
       "<style>\n",
       ".list-inline {list-style: none; margin:0; padding: 0}\n",
       ".list-inline>li {display: inline-block}\n",
       ".list-inline>li:not(:last-child)::after {content: \"\\00b7\"; padding: 0 .5ex}\n",
       "</style>\n",
       "<ol class=list-inline><li>1</li><li>1</li><li>1</li><li>1.8</li></ol>\n"
      ],
      "text/latex": [
       "\\begin{enumerate*}\n",
       "\\item 1\n",
       "\\item 1\n",
       "\\item 1\n",
       "\\item 1.8\n",
       "\\end{enumerate*}\n"
      ],
      "text/markdown": [
       "1. 1\n",
       "2. 1\n",
       "3. 1\n",
       "4. 1.8\n",
       "\n",
       "\n"
      ],
      "text/plain": [
       "[1] 1.0 1.0 1.0 1.8"
      ]
     },
     "metadata": {},
     "output_type": "display_data"
    }
   ],
   "source": [
    "diag(A)"
   ]
  },
  {
   "cell_type": "code",
   "execution_count": 63,
   "id": "0d35dc83",
   "metadata": {
    "scrolled": true
   },
   "outputs": [
    {
     "data": {
      "text/html": [
       "1.8"
      ],
      "text/latex": [
       "1.8"
      ],
      "text/markdown": [
       "1.8"
      ],
      "text/plain": [
       "[1] 1.8"
      ]
     },
     "metadata": {},
     "output_type": "display_data"
    }
   ],
   "source": [
    "prod(diag(A))"
   ]
  },
  {
   "cell_type": "markdown",
   "id": "6f8f8aa6",
   "metadata": {},
   "source": [
    "### El paquete `fractional`\n",
    "\n",
    "Por defecto `R` utiliza reales (dobles) para guardar las entradas de una matriz. El paquete `fractional` sirve para mostrar aproximaciones racionales de esos reales, aunque las operaciones sigan haciéndose con números reales."
   ]
  },
  {
   "cell_type": "code",
   "execution_count": 6,
   "id": "8ea11083",
   "metadata": {},
   "outputs": [],
   "source": [
    "library(\"fractional\")"
   ]
  },
  {
   "cell_type": "code",
   "execution_count": 7,
   "id": "6a3bae16",
   "metadata": {
    "scrolled": true
   },
   "outputs": [
    {
     "data": {
      "text/html": [
       "<table class=\"dataframe\">\n",
       "<caption>A fractional: 4 × 8 of type dbl</caption>\n",
       "<tbody>\n",
       "\t<tr><td>3</td><td>2</td><td>3</td><td>4</td><td>1</td><td>0</td><td>0</td><td>0</td></tr>\n",
       "\t<tr><td>3</td><td>2</td><td>2</td><td>3</td><td>0</td><td>1</td><td>0</td><td>0</td></tr>\n",
       "\t<tr><td>2</td><td>1</td><td>2</td><td>1</td><td>0</td><td>0</td><td>1</td><td>0</td></tr>\n",
       "\t<tr><td>0</td><td>1</td><td>1</td><td>0</td><td>0</td><td>0</td><td>0</td><td>1</td></tr>\n",
       "</tbody>\n",
       "</table>\n"
      ],
      "text/latex": [
       "A fractional: 4 × 8 of type dbl\n",
       "\\begin{tabular}{llllllll}\n",
       "\t 3 & 2 & 3 & 4 & 1 & 0 & 0 & 0\\\\\n",
       "\t 3 & 2 & 2 & 3 & 0 & 1 & 0 & 0\\\\\n",
       "\t 2 & 1 & 2 & 1 & 0 & 0 & 1 & 0\\\\\n",
       "\t 0 & 1 & 1 & 0 & 0 & 0 & 0 & 1\\\\\n",
       "\\end{tabular}\n"
      ],
      "text/markdown": [
       "\n",
       "A fractional: 4 × 8 of type dbl\n",
       "\n",
       "| 3 | 2 | 3 | 4 | 1 | 0 | 0 | 0 |\n",
       "| 3 | 2 | 2 | 3 | 0 | 1 | 0 | 0 |\n",
       "| 2 | 1 | 2 | 1 | 0 | 0 | 1 | 0 |\n",
       "| 0 | 1 | 1 | 0 | 0 | 0 | 0 | 1 |\n",
       "\n"
      ],
      "text/plain": [
       "     [,1] [,2] [,3] [,4] [,5] [,6] [,7] [,8]\n",
       "[1,] 3    2    3    4    1    0    0    0   \n",
       "[2,] 3    2    2    3    0    1    0    0   \n",
       "[3,] 2    1    2    1    0    0    1    0   \n",
       "[4,] 0    1    1    0    0    0    0    1   "
      ]
     },
     "metadata": {},
     "output_type": "display_data"
    }
   ],
   "source": [
    "A<-fractional(cbind(rbind(c(3,2,3,4),c(3,2,2,3),c(2,1,2,1),c(0,1,1,0)),diag(4)))\n",
    "A"
   ]
  },
  {
   "cell_type": "markdown",
   "id": "9653555e",
   "metadata": {},
   "source": [
    "Nótese que ahora el tipo de las entradas de `A` es `fractional`."
   ]
  },
  {
   "cell_type": "code",
   "execution_count": 4,
   "id": "cf12dbcd",
   "metadata": {},
   "outputs": [
    {
     "name": "stdout",
     "output_type": "stream",
     "text": [
      "     [,1] [,2] [,3] [,4] [,5] [,6] [,7] [,8]\n",
      "[1,]    1    .    .    . -1/2  1/2  1/2 -1/2\n",
      "[2,]    .    1    .    . -1/2  5/6 -1/2  5/6\n",
      "[3,]    .    .    1    .  1/2 -5/6  1/2  1/6\n",
      "[4,]    .    .    .    1  1/2 -1/6 -1/2 -1/6\n"
     ]
    }
   ],
   "source": [
    "print(rref(A))"
   ]
  },
  {
   "cell_type": "markdown",
   "id": "be52e50c",
   "metadata": {},
   "source": [
    "### Forma normal de Hermite con `matlib`\n",
    "\n",
    "La librería `matlib` ofrece la posibilidad de mostrar las operaciones elementales que llevan a la forma normal de Hermite de una matriz. Veámoslo con el primer ejemplo que hicimos."
   ]
  },
  {
   "cell_type": "code",
   "execution_count": 67,
   "id": "39a48e0d",
   "metadata": {},
   "outputs": [
    {
     "name": "stderr",
     "output_type": "stream",
     "text": [
      "\n",
      "Attaching package: ‘matlib’\n",
      "\n",
      "\n",
      "The following objects are masked from ‘package:pracma’:\n",
      "\n",
      "    angle, inv\n",
      "\n",
      "\n"
     ]
    }
   ],
   "source": [
    "library(\"matlib\")"
   ]
  },
  {
   "cell_type": "code",
   "execution_count": 68,
   "id": "e6763c86",
   "metadata": {},
   "outputs": [
    {
     "name": "stdout",
     "output_type": "stream",
     "text": [
      "\n",
      "Initial matrix:\n",
      "     [,1] [,2] [,3] [,4]\n",
      "[1,]   -2   -4    2    2\n",
      "[2,]    3    6   -3   -3\n",
      "[3,]    1    2    0    1\n",
      "\n",
      "row: 1 \n",
      "\n",
      " exchange rows 1 and 2 \n",
      "     [,1] [,2] [,3] [,4]\n",
      "[1,]    3    6   -3   -3\n",
      "[2,]   -2   -4    2    2\n",
      "[3,]    1    2    0    1\n",
      "\n",
      " multiply row 1 by 0.3333333 \n",
      "     [,1] [,2] [,3] [,4]\n",
      "[1,]    1    2   -1   -1\n",
      "[2,]   -2   -4    2    2\n",
      "[3,]    1    2    0    1\n",
      "\n",
      " multiply row 1 by 2 and add to row 2 \n",
      "     [,1] [,2] [,3] [,4]\n",
      "[1,]    1    2   -1   -1\n",
      "[2,]    0    0    0    0\n",
      "[3,]    1    2    0    1\n",
      "\n",
      " subtract row 1 from row 3 \n",
      "     [,1] [,2] [,3] [,4]\n",
      "[1,]    1    2   -1   -1\n",
      "[2,]    0    0    0    0\n",
      "[3,]    0    0    1    2\n",
      "\n",
      "row: 2 \n",
      "\n",
      " exchange rows 2 and 3 \n",
      "     [,1] [,2] [,3] [,4]\n",
      "[1,]    1    2   -1   -1\n",
      "[2,]    0    0    1    2\n",
      "[3,]    0    0    0    0\n",
      "\n",
      " multiply row 2 by 1 and add to row 1 \n",
      "     [,1] [,2] [,3] [,4]\n",
      "[1,]    1    2    0    1\n",
      "[2,]    0    0    1    2\n",
      "[3,]    0    0    0    0\n",
      "\n",
      "row: 3 \n"
     ]
    }
   ],
   "source": [
    "A<-rbind(c(-2,-4,2,2),c(3,6,-3,-3),c(1,2,0,1))\n",
    "echelon(A,verbose=TRUE)"
   ]
  },
  {
   "cell_type": "markdown",
   "id": "caa054f2",
   "metadata": {},
   "source": [
    "También se puede utilizar para calcular una forma que no sea reducida."
   ]
  },
  {
   "cell_type": "code",
   "execution_count": 69,
   "id": "fd385efc",
   "metadata": {},
   "outputs": [
    {
     "name": "stdout",
     "output_type": "stream",
     "text": [
      "\n",
      "Initial matrix:\n",
      "     [,1] [,2] [,3] [,4]\n",
      "[1,]   -2   -4    2    2\n",
      "[2,]    3    6   -3   -3\n",
      "[3,]    1    2    0    1\n",
      "\n",
      "row: 1 \n",
      "\n",
      " exchange rows 1 and 2 \n",
      "     [,1] [,2] [,3] [,4]\n",
      "[1,]    3    6   -3   -3\n",
      "[2,]   -2   -4    2    2\n",
      "[3,]    1    2    0    1\n",
      "\n",
      " multiply row 1 by 0.3333333 \n",
      "     [,1] [,2] [,3] [,4]\n",
      "[1,]    1    2   -1   -1\n",
      "[2,]   -2   -4    2    2\n",
      "[3,]    1    2    0    1\n",
      "\n",
      " multiply row 1 by 2 and add to row 2 \n",
      "     [,1] [,2] [,3] [,4]\n",
      "[1,]    1    2   -1   -1\n",
      "[2,]    0    0    0    0\n",
      "[3,]    1    2    0    1\n",
      "\n",
      " subtract row 1 from row 3 \n",
      "     [,1] [,2] [,3] [,4]\n",
      "[1,]    1    2   -1   -1\n",
      "[2,]    0    0    0    0\n",
      "[3,]    0    0    1    2\n",
      "\n",
      "row: 2 \n",
      "\n",
      " exchange rows 2 and 3 \n",
      "     [,1] [,2] [,3] [,4]\n",
      "[1,]    1    2   -1   -1\n",
      "[2,]    0    0    1    2\n",
      "[3,]    0    0    0    0\n",
      "\n",
      "row: 3 \n"
     ]
    }
   ],
   "source": [
    "A<-rbind(c(-2,-4,2,2),c(3,6,-3,-3),c(1,2,0,1))\n",
    "echelon(A,reduced=FALSE,verbose=TRUE)"
   ]
  },
  {
   "cell_type": "markdown",
   "id": "34407c51",
   "metadata": {},
   "source": [
    "También podemos hacer que las operaciones entre racionales se muestren sin usar notación decimal. Veamos uno de los ejemplos que hicimos de cálculo de inversa de una matriz."
   ]
  },
  {
   "cell_type": "code",
   "execution_count": 70,
   "id": "fc92a788",
   "metadata": {
    "scrolled": false
   },
   "outputs": [
    {
     "name": "stdout",
     "output_type": "stream",
     "text": [
      "\n",
      "Initial matrix:\n",
      "     [,1] [,2] [,3] [,4] [,5] [,6] [,7] [,8]\n",
      "[1,] 3    2    3    4    1    0    0    0   \n",
      "[2,] 3    2    2    3    0    1    0    0   \n",
      "[3,] 2    1    2    1    0    0    1    0   \n",
      "[4,] 0    1    1    0    0    0    0    1   \n",
      "\n",
      "row: 1 \n",
      "\n",
      " multiply row 1 by 1/3 \n",
      "     [,1] [,2] [,3] [,4] [,5] [,6] [,7] [,8]\n",
      "[1,]   1  2/3    1  4/3  1/3    0    0    0 \n",
      "[2,]   3    2    2    3    0    1    0    0 \n",
      "[3,]   2    1    2    1    0    0    1    0 \n",
      "[4,]   0    1    1    0    0    0    0    1 \n",
      "\n",
      " multiply row 1 by 3 and subtract from row 2 \n",
      "     [,1] [,2] [,3] [,4] [,5] [,6] [,7] [,8]\n",
      "[1,]   1  2/3    1  4/3  1/3    0    0    0 \n",
      "[2,]   0    0   -1   -1   -1    1    0    0 \n",
      "[3,]   2    1    2    1    0    0    1    0 \n",
      "[4,]   0    1    1    0    0    0    0    1 \n",
      "\n",
      " multiply row 1 by 2 and subtract from row 3 \n",
      "     [,1] [,2] [,3] [,4] [,5] [,6] [,7] [,8]\n",
      "[1,]    1  2/3    1  4/3  1/3    0    0    0\n",
      "[2,]    0    0   -1   -1   -1    1    0    0\n",
      "[3,]    0 -1/3    0 -5/3 -2/3    0    1    0\n",
      "[4,]    0    1    1    0    0    0    0    1\n",
      "\n",
      "row: 2 \n",
      "\n",
      " exchange rows 2 and 4 \n",
      "     [,1] [,2] [,3] [,4] [,5] [,6] [,7] [,8]\n",
      "[1,]    1  2/3    1  4/3  1/3    0    0    0\n",
      "[2,]    0    1    1    0    0    0    0    1\n",
      "[3,]    0 -1/3    0 -5/3 -2/3    0    1    0\n",
      "[4,]    0    0   -1   -1   -1    1    0    0\n",
      "\n",
      " multiply row 2 by 2/3 and subtract from row 1 \n",
      "     [,1] [,2] [,3] [,4] [,5] [,6] [,7] [,8]\n",
      "[1,]    1    0  1/3  4/3  1/3    0    0 -2/3\n",
      "[2,]    0    1    1    0    0    0    0    1\n",
      "[3,]    0 -1/3    0 -5/3 -2/3    0    1    0\n",
      "[4,]    0    0   -1   -1   -1    1    0    0\n",
      "\n",
      " multiply row 2 by 1/3 and add to row 3 \n",
      "     [,1] [,2] [,3] [,4] [,5] [,6] [,7] [,8]\n",
      "[1,]    1    0  1/3  4/3  1/3    0    0 -2/3\n",
      "[2,]    0    1    1    0    0    0    0    1\n",
      "[3,]    0    0  1/3 -5/3 -2/3    0    1  1/3\n",
      "[4,]    0    0   -1   -1   -1    1    0    0\n",
      "\n",
      "row: 3 \n",
      "\n",
      " exchange rows 3 and 4 \n",
      "     [,1] [,2] [,3] [,4] [,5] [,6] [,7] [,8]\n",
      "[1,]    1    0  1/3  4/3  1/3    0    0 -2/3\n",
      "[2,]    0    1    1    0    0    0    0    1\n",
      "[3,]    0    0   -1   -1   -1    1    0    0\n",
      "[4,]    0    0  1/3 -5/3 -2/3    0    1  1/3\n",
      "\n",
      " multiply row 3 by -1 \n",
      "     [,1] [,2] [,3] [,4] [,5] [,6] [,7] [,8]\n",
      "[1,]    1    0  1/3  4/3  1/3    0    0 -2/3\n",
      "[2,]    0    1    1    0    0    0    0    1\n",
      "[3,]    0    0    1    1    1   -1    0    0\n",
      "[4,]    0    0  1/3 -5/3 -2/3    0    1  1/3\n",
      "\n",
      " multiply row 3 by 1/3 and subtract from row 1 \n",
      "     [,1] [,2] [,3] [,4] [,5] [,6] [,7] [,8]\n",
      "[1,]    1    0    0    1    0  1/3    0 -2/3\n",
      "[2,]    0    1    1    0    0    0    0    1\n",
      "[3,]    0    0    1    1    1   -1    0    0\n",
      "[4,]    0    0  1/3 -5/3 -2/3    0    1  1/3\n",
      "\n",
      " subtract row 3 from row 2 \n",
      "     [,1] [,2] [,3] [,4] [,5] [,6] [,7] [,8]\n",
      "[1,]    1    0    0    1    0  1/3    0 -2/3\n",
      "[2,]    0    1    0   -1   -1    1    0    1\n",
      "[3,]    0    0    1    1    1   -1    0    0\n",
      "[4,]    0    0  1/3 -5/3 -2/3    0    1  1/3\n",
      "\n",
      " multiply row 3 by 1/3 and subtract from row 4 \n",
      "     [,1] [,2] [,3] [,4] [,5] [,6] [,7] [,8]\n",
      "[1,]    1    0    0    1    0  1/3    0 -2/3\n",
      "[2,]    0    1    0   -1   -1    1    0    1\n",
      "[3,]    0    0    1    1    1   -1    0    0\n",
      "[4,]    0    0    0   -2   -1  1/3    1  1/3\n",
      "\n",
      "row: 4 \n",
      "\n",
      " multiply row 4 by -1/2 \n",
      "     [,1] [,2] [,3] [,4] [,5] [,6] [,7] [,8]\n",
      "[1,]    1    0    0    1    0  1/3    0 -2/3\n",
      "[2,]    0    1    0   -1   -1    1    0    1\n",
      "[3,]    0    0    1    1    1   -1    0    0\n",
      "[4,]    0    0    0    1  1/2 -1/6 -1/2 -1/6\n",
      "\n",
      " subtract row 4 from row 1 \n",
      "     [,1] [,2] [,3] [,4] [,5] [,6] [,7] [,8]\n",
      "[1,]    1    0    0    0 -1/2  1/2  1/2 -1/2\n",
      "[2,]    0    1    0   -1   -1    1    0    1\n",
      "[3,]    0    0    1    1    1   -1    0    0\n",
      "[4,]    0    0    0    1  1/2 -1/6 -1/2 -1/6\n",
      "\n",
      " multiply row 4 by 1 and add to row 2 \n",
      "     [,1] [,2] [,3] [,4] [,5] [,6] [,7] [,8]\n",
      "[1,]    1    0    0    0 -1/2  1/2  1/2 -1/2\n",
      "[2,]    0    1    0    0 -1/2  5/6 -1/2  5/6\n",
      "[3,]    0    0    1    1    1   -1    0    0\n",
      "[4,]    0    0    0    1  1/2 -1/6 -1/2 -1/6\n",
      "\n",
      " subtract row 4 from row 3 \n",
      "     [,1] [,2] [,3] [,4] [,5] [,6] [,7] [,8]\n",
      "[1,]    1    0    0    0 -1/2  1/2  1/2 -1/2\n",
      "[2,]    0    1    0    0 -1/2  5/6 -1/2  5/6\n",
      "[3,]    0    0    1    0  1/2 -5/6  1/2  1/6\n",
      "[4,]    0    0    0    1  1/2 -1/6 -1/2 -1/6\n"
     ]
    }
   ],
   "source": [
    "A<-rbind(c(3,2,3,4),c(3,2,2,3),c(2,1,2,1),c(0,1,1,0))\n",
    "echelon(cbind(A,diag(4)),verbose=TRUE,fractions=TRUE)"
   ]
  },
  {
   "cell_type": "markdown",
   "id": "a2296af3",
   "metadata": {},
   "source": [
    "O que nos muestre los resultados en `LaTeX`."
   ]
  },
  {
   "cell_type": "code",
   "execution_count": 71,
   "id": "12414a76",
   "metadata": {
    "scrolled": false
   },
   "outputs": [
    {
     "name": "stdout",
     "output_type": "stream",
     "text": [
      "\n",
      "Initial matrix:\n",
      "\\left[\n",
      " \\begin{array}{llll}\n",
      "  -2 & -4 & 2 & 2 \\\\ \n",
      "  3 & 6 & -3 & -3 \\\\ \n",
      "  1 & 2 & 0 & 1 \\\\ \n",
      "  \\end{array}\n",
      "\\right]\n",
      "\n",
      "row: 1 \n",
      "\n",
      " exchange rows 1 and 2 \n",
      "\\left[\n",
      " \\begin{array}{llll}\n",
      "  3 & 6 & -3 & -3 \\\\ \n",
      "  -2 & -4 & 2 & 2 \\\\ \n",
      "  1 & 2 & 0 & 1 \\\\ \n",
      "  \\end{array}\n",
      "\\right]\n",
      "\n",
      " multiply row 1 by 1/3 \n",
      "\\left[\n",
      " \\begin{array}{llll}\n",
      "  1 & 2 & -1 & -1 \\\\ \n",
      "  -2 & -4 & 2 & 2 \\\\ \n",
      "  1 & 2 & 0 & 1 \\\\ \n",
      "  \\end{array}\n",
      "\\right]\n",
      "\n",
      " multiply row 1 by 2 and add to row 2 \n",
      "\\left[\n",
      " \\begin{array}{llll}\n",
      "  1 & 2 & -1 & -1 \\\\ \n",
      "  0 & 0 & 0 & 0 \\\\ \n",
      "  1 & 2 & 0 & 1 \\\\ \n",
      "  \\end{array}\n",
      "\\right]\n",
      "\n",
      " subtract row 1 from row 3 \n",
      "\\left[\n",
      " \\begin{array}{llll}\n",
      "  1 & 2 & -1 & -1 \\\\ \n",
      "  0 & 0 & 0 & 0 \\\\ \n",
      "  0 & 0 & 1 & 2 \\\\ \n",
      "  \\end{array}\n",
      "\\right]\n",
      "\n",
      "row: 2 \n",
      "\n",
      " exchange rows 2 and 3 \n",
      "\\left[\n",
      " \\begin{array}{llll}\n",
      "  1 & 2 & -1 & -1 \\\\ \n",
      "  0 & 0 & 1 & 2 \\\\ \n",
      "  0 & 0 & 0 & 0 \\\\ \n",
      "  \\end{array}\n",
      "\\right]\n",
      "\n",
      "row: 3 \n"
     ]
    }
   ],
   "source": [
    "A<-rbind(c(-2,-4,2,2),c(3,6,-3,-3),c(1,2,0,1))\n",
    "echelon(A,reduced=FALSE,verbose=TRUE,latex=TRUE,fractions=TRUE)"
   ]
  }
 ],
 "metadata": {
  "kernelspec": {
   "display_name": "R",
   "language": "R",
   "name": "ir"
  },
  "language_info": {
   "codemirror_mode": "r",
   "file_extension": ".r",
   "mimetype": "text/x-r-source",
   "name": "R",
   "pygments_lexer": "r",
   "version": "4.2.2"
  }
 },
 "nbformat": 4,
 "nbformat_minor": 5
}
