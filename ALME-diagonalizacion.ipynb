{
 "cells": [
  {
   "cell_type": "markdown",
   "id": "d0ba4e0d",
   "metadata": {},
   "source": [
    "# Diagonalización\n",
    "\n",
    "\n",
    "En este documento ilustraremos cómo usar `R` para resolver los problemas tipo propuestos por L. Merino y E. Santos en  [página de resolución de ejercicios tipo](https://www.ugr.es/~lmerino/ALME.html) correspondientes al bloque \"Diagonalización\"."
   ]
  },
  {
   "cell_type": "markdown",
   "id": "a73cf333",
   "metadata": {},
   "source": [
    "## Ejemplo\n",
    "\n",
    "*Dada la matriz*\n",
    "\n",
    "$$\n",
    "A=\\left(\n",
    "\\begin{array}{ccc}\n",
    "5 & 1 & -3 \\\\\n",
    "1 & 5 & -3 \\\\\n",
    "2 & 2 & -2 \n",
    "\\end{array}\\right).\n",
    "$$\n",
    "\n",
    "*Determinar si es o no diagonalizable y, en caso de que lo sea, determinar su forma diagonal y una matriz de paso.*"
   ]
  },
  {
   "cell_type": "code",
   "execution_count": 1,
   "id": "d647bdf7",
   "metadata": {},
   "outputs": [
    {
     "data": {
      "text/html": [
       "<table class=\"dataframe\">\n",
       "<caption>A matrix: 3 × 3 of type dbl</caption>\n",
       "<tbody>\n",
       "\t<tr><td> 5</td><td> 1</td><td> 2</td></tr>\n",
       "\t<tr><td> 1</td><td> 5</td><td> 2</td></tr>\n",
       "\t<tr><td>-3</td><td>-3</td><td>-2</td></tr>\n",
       "</tbody>\n",
       "</table>\n"
      ],
      "text/latex": [
       "A matrix: 3 × 3 of type dbl\n",
       "\\begin{tabular}{lll}\n",
       "\t  5 &  1 &  2\\\\\n",
       "\t  1 &  5 &  2\\\\\n",
       "\t -3 & -3 & -2\\\\\n",
       "\\end{tabular}\n"
      ],
      "text/markdown": [
       "\n",
       "A matrix: 3 × 3 of type dbl\n",
       "\n",
       "|  5 |  1 |  2 |\n",
       "|  1 |  5 |  2 |\n",
       "| -3 | -3 | -2 |\n",
       "\n"
      ],
      "text/plain": [
       "     [,1] [,2] [,3]\n",
       "[1,]  5    1    2  \n",
       "[2,]  1    5    2  \n",
       "[3,] -3   -3   -2  "
      ]
     },
     "metadata": {},
     "output_type": "display_data"
    }
   ],
   "source": [
    "A<-cbind(c(5,1,-3),c(1,5,-3),c(2,2,-2))\n",
    "A"
   ]
  },
  {
   "cell_type": "markdown",
   "id": "5f52adaf",
   "metadata": {},
   "source": [
    "En `R` podemos usar la función `eigen` para encontrar los valores propios y la matriz de paso."
   ]
  },
  {
   "cell_type": "code",
   "execution_count": 2,
   "id": "61101b28",
   "metadata": {},
   "outputs": [
    {
     "data": {
      "text/plain": [
       "eigen() decomposition\n",
       "$values\n",
       "[1] 4 4 0\n",
       "\n",
       "$vectors\n",
       "              [,1]       [,2]       [,3]\n",
       "[1,]  1.250637e-16 -0.8451543 -0.3015113\n",
       "[2,]  8.944272e-01 -0.1690309 -0.3015113\n",
       "[3,] -4.472136e-01  0.5070926  0.9045340\n"
      ]
     },
     "metadata": {},
     "output_type": "display_data"
    }
   ],
   "source": [
    "vp<-eigen(A)\n",
    "vp"
   ]
  },
  {
   "cell_type": "markdown",
   "id": "43d3a194",
   "metadata": {},
   "source": [
    "La matriz de paso se almacena en `$vectors`."
   ]
  },
  {
   "cell_type": "code",
   "execution_count": null,
   "id": "600b4e8c",
   "metadata": {},
   "outputs": [],
   "source": []
  },
  {
   "cell_type": "code",
   "execution_count": 3,
   "id": "adf9d69a",
   "metadata": {
    "scrolled": true
   },
   "outputs": [
    {
     "data": {
      "text/html": [
       "<table class=\"dataframe\">\n",
       "<caption>A matrix: 3 × 3 of type dbl</caption>\n",
       "<tbody>\n",
       "\t<tr><td> 0.0000000</td><td>-0.8451543</td><td>-0.3015113</td></tr>\n",
       "\t<tr><td> 0.8944272</td><td>-0.1690309</td><td>-0.3015113</td></tr>\n",
       "\t<tr><td>-0.4472136</td><td> 0.5070926</td><td> 0.9045340</td></tr>\n",
       "</tbody>\n",
       "</table>\n"
      ],
      "text/latex": [
       "A matrix: 3 × 3 of type dbl\n",
       "\\begin{tabular}{lll}\n",
       "\t  0.0000000 & -0.8451543 & -0.3015113\\\\\n",
       "\t  0.8944272 & -0.1690309 & -0.3015113\\\\\n",
       "\t -0.4472136 &  0.5070926 &  0.9045340\\\\\n",
       "\\end{tabular}\n"
      ],
      "text/markdown": [
       "\n",
       "A matrix: 3 × 3 of type dbl\n",
       "\n",
       "|  0.0000000 | -0.8451543 | -0.3015113 |\n",
       "|  0.8944272 | -0.1690309 | -0.3015113 |\n",
       "| -0.4472136 |  0.5070926 |  0.9045340 |\n",
       "\n"
      ],
      "text/plain": [
       "     [,1]       [,2]       [,3]      \n",
       "[1,]  0.0000000 -0.8451543 -0.3015113\n",
       "[2,]  0.8944272 -0.1690309 -0.3015113\n",
       "[3,] -0.4472136  0.5070926  0.9045340"
      ]
     },
     "metadata": {},
     "output_type": "display_data"
    }
   ],
   "source": [
    "P<-vp$vectors\n",
    "zapsmall(P)"
   ]
  },
  {
   "cell_type": "markdown",
   "id": "7965dddc",
   "metadata": {},
   "source": [
    "Comprobemos que efectivamente $P^{-1}AP$ es diagonal."
   ]
  },
  {
   "cell_type": "code",
   "execution_count": 4,
   "id": "9e639efd",
   "metadata": {},
   "outputs": [
    {
     "data": {
      "text/html": [
       "<table class=\"dataframe\">\n",
       "<caption>A matrix: 3 × 3 of type dbl</caption>\n",
       "<tbody>\n",
       "\t<tr><td>4.000000e+00</td><td>-1.110223e-16</td><td>6.661338e-16</td></tr>\n",
       "\t<tr><td>2.220446e-16</td><td> 4.000000e+00</td><td>4.440892e-16</td></tr>\n",
       "\t<tr><td>0.000000e+00</td><td> 0.000000e+00</td><td>0.000000e+00</td></tr>\n",
       "</tbody>\n",
       "</table>\n"
      ],
      "text/latex": [
       "A matrix: 3 × 3 of type dbl\n",
       "\\begin{tabular}{lll}\n",
       "\t 4.000000e+00 & -1.110223e-16 & 6.661338e-16\\\\\n",
       "\t 2.220446e-16 &  4.000000e+00 & 4.440892e-16\\\\\n",
       "\t 0.000000e+00 &  0.000000e+00 & 0.000000e+00\\\\\n",
       "\\end{tabular}\n"
      ],
      "text/markdown": [
       "\n",
       "A matrix: 3 × 3 of type dbl\n",
       "\n",
       "| 4.000000e+00 | -1.110223e-16 | 6.661338e-16 |\n",
       "| 2.220446e-16 |  4.000000e+00 | 4.440892e-16 |\n",
       "| 0.000000e+00 |  0.000000e+00 | 0.000000e+00 |\n",
       "\n"
      ],
      "text/plain": [
       "     [,1]         [,2]          [,3]        \n",
       "[1,] 4.000000e+00 -1.110223e-16 6.661338e-16\n",
       "[2,] 2.220446e-16  4.000000e+00 4.440892e-16\n",
       "[3,] 0.000000e+00  0.000000e+00 0.000000e+00"
      ]
     },
     "metadata": {},
     "output_type": "display_data"
    }
   ],
   "source": [
    "solve(P)%*%A%*%P"
   ]
  },
  {
   "cell_type": "code",
   "execution_count": 5,
   "id": "05e2def3",
   "metadata": {},
   "outputs": [
    {
     "data": {
      "text/html": [
       "<table class=\"dataframe\">\n",
       "<caption>A matrix: 3 × 3 of type dbl</caption>\n",
       "<tbody>\n",
       "\t<tr><td>4</td><td>0</td><td>0</td></tr>\n",
       "\t<tr><td>0</td><td>4</td><td>0</td></tr>\n",
       "\t<tr><td>0</td><td>0</td><td>0</td></tr>\n",
       "</tbody>\n",
       "</table>\n"
      ],
      "text/latex": [
       "A matrix: 3 × 3 of type dbl\n",
       "\\begin{tabular}{lll}\n",
       "\t 4 & 0 & 0\\\\\n",
       "\t 0 & 4 & 0\\\\\n",
       "\t 0 & 0 & 0\\\\\n",
       "\\end{tabular}\n"
      ],
      "text/markdown": [
       "\n",
       "A matrix: 3 × 3 of type dbl\n",
       "\n",
       "| 4 | 0 | 0 |\n",
       "| 0 | 4 | 0 |\n",
       "| 0 | 0 | 0 |\n",
       "\n"
      ],
      "text/plain": [
       "     [,1] [,2] [,3]\n",
       "[1,] 4    0    0   \n",
       "[2,] 0    4    0   \n",
       "[3,] 0    0    0   "
      ]
     },
     "metadata": {},
     "output_type": "display_data"
    }
   ],
   "source": [
    "zapsmall(.Last.value)"
   ]
  },
  {
   "cell_type": "markdown",
   "id": "66e9e00b",
   "metadata": {},
   "source": [
    "Hagamos este proceso paso a paso usando `pracma`."
   ]
  },
  {
   "cell_type": "code",
   "execution_count": 6,
   "id": "ff0d278a",
   "metadata": {},
   "outputs": [],
   "source": [
    "library(pracma)"
   ]
  },
  {
   "cell_type": "markdown",
   "id": "a2006650",
   "metadata": {},
   "source": [
    "Empezamos calculando el polinomio característico de `A` y sus raíces (valores propios)."
   ]
  },
  {
   "cell_type": "code",
   "execution_count": 7,
   "id": "52430dfe",
   "metadata": {},
   "outputs": [
    {
     "data": {
      "text/html": [
       "<style>\n",
       ".list-inline {list-style: none; margin:0; padding: 0}\n",
       ".list-inline>li {display: inline-block}\n",
       ".list-inline>li:not(:last-child)::after {content: \"\\00b7\"; padding: 0 .5ex}\n",
       "</style>\n",
       "<ol class=list-inline><li>1</li><li>-8</li><li>16</li><li>0</li></ol>\n"
      ],
      "text/latex": [
       "\\begin{enumerate*}\n",
       "\\item 1\n",
       "\\item -8\n",
       "\\item 16\n",
       "\\item 0\n",
       "\\end{enumerate*}\n"
      ],
      "text/markdown": [
       "1. 1\n",
       "2. -8\n",
       "3. 16\n",
       "4. 0\n",
       "\n",
       "\n"
      ],
      "text/plain": [
       "[1]  1 -8 16  0"
      ]
     },
     "metadata": {},
     "output_type": "display_data"
    }
   ],
   "source": [
    "p<-charpoly(A)\n",
    "p"
   ]
  },
  {
   "cell_type": "code",
   "execution_count": 8,
   "id": "8fdbee3d",
   "metadata": {},
   "outputs": [
    {
     "data": {
      "text/html": [
       "<style>\n",
       ".list-inline {list-style: none; margin:0; padding: 0}\n",
       ".list-inline>li {display: inline-block}\n",
       ".list-inline>li:not(:last-child)::after {content: \"\\00b7\"; padding: 0 .5ex}\n",
       "</style>\n",
       "<ol class=list-inline><li>0</li><li>4</li><li>4</li></ol>\n"
      ],
      "text/latex": [
       "\\begin{enumerate*}\n",
       "\\item 0\n",
       "\\item 4\n",
       "\\item 4\n",
       "\\end{enumerate*}\n"
      ],
      "text/markdown": [
       "1. 0\n",
       "2. 4\n",
       "3. 4\n",
       "\n",
       "\n"
      ],
      "text/plain": [
       "[1] 0 4 4"
      ]
     },
     "metadata": {},
     "output_type": "display_data"
    }
   ],
   "source": [
    "roots(p)"
   ]
  },
  {
   "cell_type": "markdown",
   "id": "1d4c4c5c",
   "metadata": {},
   "source": [
    "Por lo que 0 tiene multiplicidad 1, y 4 multiplicidad 2.\n",
    "\n",
    "Calculemos ahora los subespacios propios asociados a cada uno de esos valores propios."
   ]
  },
  {
   "cell_type": "code",
   "execution_count": 9,
   "id": "c92f74d5",
   "metadata": {},
   "outputs": [
    {
     "data": {
      "text/html": [
       "<table class=\"dataframe\">\n",
       "<caption>A matrix: 3 × 1 of type dbl</caption>\n",
       "<tbody>\n",
       "\t<tr><td>-0.3015113</td></tr>\n",
       "\t<tr><td>-0.3015113</td></tr>\n",
       "\t<tr><td> 0.9045340</td></tr>\n",
       "</tbody>\n",
       "</table>\n"
      ],
      "text/latex": [
       "A matrix: 3 × 1 of type dbl\n",
       "\\begin{tabular}{l}\n",
       "\t -0.3015113\\\\\n",
       "\t -0.3015113\\\\\n",
       "\t  0.9045340\\\\\n",
       "\\end{tabular}\n"
      ],
      "text/markdown": [
       "\n",
       "A matrix: 3 × 1 of type dbl\n",
       "\n",
       "| -0.3015113 |\n",
       "| -0.3015113 |\n",
       "|  0.9045340 |\n",
       "\n"
      ],
      "text/plain": [
       "     [,1]      \n",
       "[1,] -0.3015113\n",
       "[2,] -0.3015113\n",
       "[3,]  0.9045340"
      ]
     },
     "metadata": {},
     "output_type": "display_data"
    }
   ],
   "source": [
    "V0<-null(A)\n",
    "V0"
   ]
  },
  {
   "cell_type": "code",
   "execution_count": 10,
   "id": "46c0741d",
   "metadata": {
    "scrolled": false
   },
   "outputs": [
    {
     "data": {
      "text/html": [
       "<table class=\"dataframe\">\n",
       "<caption>A matrix: 3 × 2 of type dbl</caption>\n",
       "<tbody>\n",
       "\t<tr><td>-0.4082483</td><td>-0.8164966</td></tr>\n",
       "\t<tr><td> 0.8816497</td><td>-0.2367007</td></tr>\n",
       "\t<tr><td>-0.2367007</td><td> 0.5265986</td></tr>\n",
       "</tbody>\n",
       "</table>\n"
      ],
      "text/latex": [
       "A matrix: 3 × 2 of type dbl\n",
       "\\begin{tabular}{ll}\n",
       "\t -0.4082483 & -0.8164966\\\\\n",
       "\t  0.8816497 & -0.2367007\\\\\n",
       "\t -0.2367007 &  0.5265986\\\\\n",
       "\\end{tabular}\n"
      ],
      "text/markdown": [
       "\n",
       "A matrix: 3 × 2 of type dbl\n",
       "\n",
       "| -0.4082483 | -0.8164966 |\n",
       "|  0.8816497 | -0.2367007 |\n",
       "| -0.2367007 |  0.5265986 |\n",
       "\n"
      ],
      "text/plain": [
       "     [,1]       [,2]      \n",
       "[1,] -0.4082483 -0.8164966\n",
       "[2,]  0.8816497 -0.2367007\n",
       "[3,] -0.2367007  0.5265986"
      ]
     },
     "metadata": {},
     "output_type": "display_data"
    }
   ],
   "source": [
    "V4<-null(A-4*diag(3))\n",
    "V4"
   ]
  },
  {
   "cell_type": "code",
   "execution_count": 11,
   "id": "c152d1c8",
   "metadata": {
    "scrolled": true
   },
   "outputs": [
    {
     "data": {
      "text/html": [
       "<table class=\"dataframe\">\n",
       "<caption>A matrix: 3 × 3 of type dbl</caption>\n",
       "<tbody>\n",
       "\t<tr><td>-0.3015113</td><td>-0.4082483</td><td>-0.8164966</td></tr>\n",
       "\t<tr><td>-0.3015113</td><td> 0.8816497</td><td>-0.2367007</td></tr>\n",
       "\t<tr><td> 0.9045340</td><td>-0.2367007</td><td> 0.5265986</td></tr>\n",
       "</tbody>\n",
       "</table>\n"
      ],
      "text/latex": [
       "A matrix: 3 × 3 of type dbl\n",
       "\\begin{tabular}{lll}\n",
       "\t -0.3015113 & -0.4082483 & -0.8164966\\\\\n",
       "\t -0.3015113 &  0.8816497 & -0.2367007\\\\\n",
       "\t  0.9045340 & -0.2367007 &  0.5265986\\\\\n",
       "\\end{tabular}\n"
      ],
      "text/markdown": [
       "\n",
       "A matrix: 3 × 3 of type dbl\n",
       "\n",
       "| -0.3015113 | -0.4082483 | -0.8164966 |\n",
       "| -0.3015113 |  0.8816497 | -0.2367007 |\n",
       "|  0.9045340 | -0.2367007 |  0.5265986 |\n",
       "\n"
      ],
      "text/plain": [
       "     [,1]       [,2]       [,3]      \n",
       "[1,] -0.3015113 -0.4082483 -0.8164966\n",
       "[2,] -0.3015113  0.8816497 -0.2367007\n",
       "[3,]  0.9045340 -0.2367007  0.5265986"
      ]
     },
     "metadata": {},
     "output_type": "display_data"
    }
   ],
   "source": [
    "P<-cbind(V0,V4)\n",
    "P"
   ]
  },
  {
   "cell_type": "code",
   "execution_count": 12,
   "id": "b58dc32c",
   "metadata": {
    "scrolled": true
   },
   "outputs": [
    {
     "data": {
      "text/html": [
       "<table class=\"dataframe\">\n",
       "<caption>A matrix: 3 × 3 of type dbl</caption>\n",
       "<tbody>\n",
       "\t<tr><td>0</td><td>0</td><td>0</td></tr>\n",
       "\t<tr><td>0</td><td>4</td><td>0</td></tr>\n",
       "\t<tr><td>0</td><td>0</td><td>4</td></tr>\n",
       "</tbody>\n",
       "</table>\n"
      ],
      "text/latex": [
       "A matrix: 3 × 3 of type dbl\n",
       "\\begin{tabular}{lll}\n",
       "\t 0 & 0 & 0\\\\\n",
       "\t 0 & 4 & 0\\\\\n",
       "\t 0 & 0 & 4\\\\\n",
       "\\end{tabular}\n"
      ],
      "text/markdown": [
       "\n",
       "A matrix: 3 × 3 of type dbl\n",
       "\n",
       "| 0 | 0 | 0 |\n",
       "| 0 | 4 | 0 |\n",
       "| 0 | 0 | 4 |\n",
       "\n"
      ],
      "text/plain": [
       "     [,1] [,2] [,3]\n",
       "[1,] 0    0    0   \n",
       "[2,] 0    4    0   \n",
       "[3,] 0    0    4   "
      ]
     },
     "metadata": {},
     "output_type": "display_data"
    }
   ],
   "source": [
    "zapsmall(solve(P)%*%A%*%P)"
   ]
  },
  {
   "cell_type": "markdown",
   "id": "eeac4e85",
   "metadata": {},
   "source": [
    "O bien usando nuestra función `gensec` que ya vimos en el bloc de espacios vectoriales."
   ]
  },
  {
   "cell_type": "code",
   "execution_count": 13,
   "id": "8e7ae2c4",
   "metadata": {},
   "outputs": [],
   "source": [
    "gensec<-function(A){\n",
    "    # A es una matrix cuyas filas son los generadores del subespacio \n",
    "    # (o los coeficientes de las ecuaciones que lo definen)                                       \n",
    "    c<-ncol(A) # número columnas de A                                                                           \n",
    "    f<-nrow(A) # número de filas de A                                                                           \n",
    "    r<-Rank(A) # rango de A                                                                                     \n",
    "    rtAI<-rref(cbind(t(A),diag(c))) # trasponemos A y le añadimos la identidad por columnas                     \n",
    "    ecs<-rtAI[(r+1):c,(f+1):(f+c)] # nos quedamos con la parte de ceros que corresponden\n",
    "                                   # a las ecuaciones (o a los generadores dependiendo de la entrada)       \n",
    "    return(ecs)\n",
    "}"
   ]
  },
  {
   "cell_type": "code",
   "execution_count": 14,
   "id": "63bcd0d9",
   "metadata": {},
   "outputs": [
    {
     "data": {
      "text/html": [
       "<style>\n",
       ".list-inline {list-style: none; margin:0; padding: 0}\n",
       ".list-inline>li {display: inline-block}\n",
       ".list-inline>li:not(:last-child)::after {content: \"\\00b7\"; padding: 0 .5ex}\n",
       "</style>\n",
       "<ol class=list-inline><li>1</li><li>1</li><li>-3</li></ol>\n"
      ],
      "text/latex": [
       "\\begin{enumerate*}\n",
       "\\item 1\n",
       "\\item 1\n",
       "\\item -3\n",
       "\\end{enumerate*}\n"
      ],
      "text/markdown": [
       "1. 1\n",
       "2. 1\n",
       "3. -3\n",
       "\n",
       "\n"
      ],
      "text/plain": [
       "[1]  1  1 -3"
      ]
     },
     "metadata": {},
     "output_type": "display_data"
    }
   ],
   "source": [
    "gV0<-gensec(A)\n",
    "gV0"
   ]
  },
  {
   "cell_type": "code",
   "execution_count": 15,
   "id": "138bf68c",
   "metadata": {},
   "outputs": [
    {
     "data": {
      "text/html": [
       "<table class=\"dataframe\">\n",
       "<caption>A matrix: 2 × 3 of type dbl</caption>\n",
       "<tbody>\n",
       "\t<tr><td>1</td><td>0</td><td>-0.5</td></tr>\n",
       "\t<tr><td>0</td><td>1</td><td>-0.5</td></tr>\n",
       "</tbody>\n",
       "</table>\n"
      ],
      "text/latex": [
       "A matrix: 2 × 3 of type dbl\n",
       "\\begin{tabular}{lll}\n",
       "\t 1 & 0 & -0.5\\\\\n",
       "\t 0 & 1 & -0.5\\\\\n",
       "\\end{tabular}\n"
      ],
      "text/markdown": [
       "\n",
       "A matrix: 2 × 3 of type dbl\n",
       "\n",
       "| 1 | 0 | -0.5 |\n",
       "| 0 | 1 | -0.5 |\n",
       "\n"
      ],
      "text/plain": [
       "     [,1] [,2] [,3]\n",
       "[1,] 1    0    -0.5\n",
       "[2,] 0    1    -0.5"
      ]
     },
     "metadata": {},
     "output_type": "display_data"
    }
   ],
   "source": [
    "gV4<-gensec(A-4*diag(3))\n",
    "gV4"
   ]
  },
  {
   "cell_type": "markdown",
   "id": "2c5ed487",
   "metadata": {},
   "source": [
    "Como `gensec` representa los generadores por filas, tenemos que transponer para obtener la matriz de paso."
   ]
  },
  {
   "cell_type": "code",
   "execution_count": 16,
   "id": "b2efcbf4",
   "metadata": {
    "scrolled": true
   },
   "outputs": [
    {
     "data": {
      "text/html": [
       "<table class=\"dataframe\">\n",
       "<caption>A matrix: 3 × 3 of type dbl</caption>\n",
       "<thead>\n",
       "\t<tr><th scope=col>gV0</th><th scope=col></th><th scope=col></th></tr>\n",
       "</thead>\n",
       "<tbody>\n",
       "\t<tr><td> 1</td><td> 1.0</td><td> 0.0</td></tr>\n",
       "\t<tr><td> 1</td><td> 0.0</td><td> 1.0</td></tr>\n",
       "\t<tr><td>-3</td><td>-0.5</td><td>-0.5</td></tr>\n",
       "</tbody>\n",
       "</table>\n"
      ],
      "text/latex": [
       "A matrix: 3 × 3 of type dbl\n",
       "\\begin{tabular}{lll}\n",
       " gV0 &  & \\\\\n",
       "\\hline\n",
       "\t  1 &  1.0 &  0.0\\\\\n",
       "\t  1 &  0.0 &  1.0\\\\\n",
       "\t -3 & -0.5 & -0.5\\\\\n",
       "\\end{tabular}\n"
      ],
      "text/markdown": [
       "\n",
       "A matrix: 3 × 3 of type dbl\n",
       "\n",
       "| gV0 | <!----> | <!----> |\n",
       "|---|---|---|\n",
       "|  1 |  1.0 |  0.0 |\n",
       "|  1 |  0.0 |  1.0 |\n",
       "| -3 | -0.5 | -0.5 |\n",
       "\n"
      ],
      "text/plain": [
       "     gV0          \n",
       "[1,]  1   1.0  0.0\n",
       "[2,]  1   0.0  1.0\n",
       "[3,] -3  -0.5 -0.5"
      ]
     },
     "metadata": {},
     "output_type": "display_data"
    }
   ],
   "source": [
    "Q<-t(rbind(gV0,gV4))\n",
    "Q"
   ]
  },
  {
   "cell_type": "code",
   "execution_count": 17,
   "id": "069f7c4c",
   "metadata": {
    "scrolled": false
   },
   "outputs": [
    {
     "data": {
      "text/html": [
       "<table class=\"dataframe\">\n",
       "<caption>A matrix: 3 × 3 of type dbl</caption>\n",
       "<thead>\n",
       "\t<tr><th></th><th scope=col>gV0</th><th scope=col></th><th scope=col></th></tr>\n",
       "</thead>\n",
       "<tbody>\n",
       "\t<tr><th scope=row>gV0</th><td>0</td><td>0</td><td>0</td></tr>\n",
       "\t<tr><th scope=row></th><td>0</td><td>4</td><td>0</td></tr>\n",
       "\t<tr><th scope=row></th><td>0</td><td>0</td><td>4</td></tr>\n",
       "</tbody>\n",
       "</table>\n"
      ],
      "text/latex": [
       "A matrix: 3 × 3 of type dbl\n",
       "\\begin{tabular}{r|lll}\n",
       "  & gV0 &  & \\\\\n",
       "\\hline\n",
       "\tgV0 & 0 & 0 & 0\\\\\n",
       "\t & 0 & 4 & 0\\\\\n",
       "\t & 0 & 0 & 4\\\\\n",
       "\\end{tabular}\n"
      ],
      "text/markdown": [
       "\n",
       "A matrix: 3 × 3 of type dbl\n",
       "\n",
       "| <!--/--> | gV0 | <!----> | <!----> |\n",
       "|---|---|---|---|\n",
       "| gV0 | 0 | 0 | 0 |\n",
       "| <!----> | 0 | 4 | 0 |\n",
       "| <!----> | 0 | 0 | 4 |\n",
       "\n"
      ],
      "text/plain": [
       "    gV0    \n",
       "gV0 0   0 0\n",
       "    0   4 0\n",
       "    0   0 4"
      ]
     },
     "metadata": {},
     "output_type": "display_data"
    }
   ],
   "source": [
    "zapsmall(solve(Q)%*%A%*%Q)"
   ]
  },
  {
   "cell_type": "markdown",
   "id": "671eec32",
   "metadata": {},
   "source": [
    "### Ejercicio\n",
    "\n",
    "*Estudiar si la siguiente matriz es o no diagonalizable y, en tal caso, determinar su forma diagonal y una matriz de paso.*\n",
    "$$\n",
    "A=\\left(\n",
    "\\begin{array}{ccc}\n",
    "2 & 1 & -2 \\\\\n",
    "0 & 2 & -1 \\\\\n",
    "0 & 0 & 1 \n",
    "\\end{array}\\right)\n",
    "$$"
   ]
  },
  {
   "cell_type": "code",
   "execution_count": 18,
   "id": "0b2eea63",
   "metadata": {},
   "outputs": [
    {
     "data": {
      "text/html": [
       "<table class=\"dataframe\">\n",
       "<caption>A matrix: 3 × 3 of type dbl</caption>\n",
       "<tbody>\n",
       "\t<tr><td>2</td><td>1</td><td>-2</td></tr>\n",
       "\t<tr><td>0</td><td>2</td><td>-1</td></tr>\n",
       "\t<tr><td>0</td><td>0</td><td> 1</td></tr>\n",
       "</tbody>\n",
       "</table>\n"
      ],
      "text/latex": [
       "A matrix: 3 × 3 of type dbl\n",
       "\\begin{tabular}{lll}\n",
       "\t 2 & 1 & -2\\\\\n",
       "\t 0 & 2 & -1\\\\\n",
       "\t 0 & 0 &  1\\\\\n",
       "\\end{tabular}\n"
      ],
      "text/markdown": [
       "\n",
       "A matrix: 3 × 3 of type dbl\n",
       "\n",
       "| 2 | 1 | -2 |\n",
       "| 0 | 2 | -1 |\n",
       "| 0 | 0 |  1 |\n",
       "\n"
      ],
      "text/plain": [
       "     [,1] [,2] [,3]\n",
       "[1,] 2    1    -2  \n",
       "[2,] 0    2    -1  \n",
       "[3,] 0    0     1  "
      ]
     },
     "metadata": {},
     "output_type": "display_data"
    }
   ],
   "source": [
    "A<-rbind(c(2,1,-2),c(0,2,-1),c(0,0,1))\n",
    "A"
   ]
  },
  {
   "cell_type": "markdown",
   "id": "876d0a00",
   "metadata": {},
   "source": [
    "Al ser triangular, ya sabemos cuáles van a ser los valores propios (2 y 1)."
   ]
  },
  {
   "cell_type": "code",
   "execution_count": 19,
   "id": "48aa3551",
   "metadata": {
    "scrolled": true
   },
   "outputs": [
    {
     "data": {
      "text/html": [
       "<style>\n",
       ".list-inline {list-style: none; margin:0; padding: 0}\n",
       ".list-inline>li {display: inline-block}\n",
       ".list-inline>li:not(:last-child)::after {content: \"\\00b7\"; padding: 0 .5ex}\n",
       "</style>\n",
       "<ol class=list-inline><li>1</li><li>-5</li><li>8</li><li>-4</li></ol>\n"
      ],
      "text/latex": [
       "\\begin{enumerate*}\n",
       "\\item 1\n",
       "\\item -5\n",
       "\\item 8\n",
       "\\item -4\n",
       "\\end{enumerate*}\n"
      ],
      "text/markdown": [
       "1. 1\n",
       "2. -5\n",
       "3. 8\n",
       "4. -4\n",
       "\n",
       "\n"
      ],
      "text/plain": [
       "[1]  1 -5  8 -4"
      ]
     },
     "metadata": {},
     "output_type": "display_data"
    }
   ],
   "source": [
    "p<-charpoly(A)\n",
    "p"
   ]
  },
  {
   "cell_type": "code",
   "execution_count": 20,
   "id": "cc88b6ea",
   "metadata": {},
   "outputs": [
    {
     "data": {
      "text/html": [
       "<style>\n",
       ".list-inline {list-style: none; margin:0; padding: 0}\n",
       ".list-inline>li {display: inline-block}\n",
       ".list-inline>li:not(:last-child)::after {content: \"\\00b7\"; padding: 0 .5ex}\n",
       "</style>\n",
       "<ol class=list-inline><li>2.00000005705974</li><li>1.99999994294026</li><li>1</li></ol>\n"
      ],
      "text/latex": [
       "\\begin{enumerate*}\n",
       "\\item 2.00000005705974\n",
       "\\item 1.99999994294026\n",
       "\\item 1\n",
       "\\end{enumerate*}\n"
      ],
      "text/markdown": [
       "1. 2.00000005705974\n",
       "2. 1.99999994294026\n",
       "3. 1\n",
       "\n",
       "\n"
      ],
      "text/plain": [
       "[1] 2 2 1"
      ]
     },
     "metadata": {},
     "output_type": "display_data"
    }
   ],
   "source": [
    "roots(p)"
   ]
  },
  {
   "cell_type": "markdown",
   "id": "ac451ccb",
   "metadata": {},
   "source": [
    "El valor propio 2 tiene multiplicidad algebraica 2, pero sin embargo, su subespacio propio asociado tiene dimensión uno, por lo que $A$ no es diagonalizable."
   ]
  },
  {
   "cell_type": "code",
   "execution_count": 21,
   "id": "1926cd36",
   "metadata": {
    "scrolled": true
   },
   "outputs": [
    {
     "data": {
      "text/html": [
       "<table class=\"dataframe\">\n",
       "<caption>A matrix: 3 × 1 of type dbl</caption>\n",
       "<tbody>\n",
       "\t<tr><td> 1.000000e+00</td></tr>\n",
       "\t<tr><td>-2.220446e-16</td></tr>\n",
       "\t<tr><td> 0.000000e+00</td></tr>\n",
       "</tbody>\n",
       "</table>\n"
      ],
      "text/latex": [
       "A matrix: 3 × 1 of type dbl\n",
       "\\begin{tabular}{l}\n",
       "\t  1.000000e+00\\\\\n",
       "\t -2.220446e-16\\\\\n",
       "\t  0.000000e+00\\\\\n",
       "\\end{tabular}\n"
      ],
      "text/markdown": [
       "\n",
       "A matrix: 3 × 1 of type dbl\n",
       "\n",
       "|  1.000000e+00 |\n",
       "| -2.220446e-16 |\n",
       "|  0.000000e+00 |\n",
       "\n"
      ],
      "text/plain": [
       "     [,1]         \n",
       "[1,]  1.000000e+00\n",
       "[2,] -2.220446e-16\n",
       "[3,]  0.000000e+00"
      ]
     },
     "metadata": {},
     "output_type": "display_data"
    }
   ],
   "source": [
    "null(A-2*diag(3))"
   ]
  },
  {
   "cell_type": "markdown",
   "id": "d76372ea",
   "metadata": {},
   "source": [
    "Hay que tener en cuenta que `eigen` no da error en este caso. Simplemente, los vectores que devuelve no son una base."
   ]
  },
  {
   "cell_type": "code",
   "execution_count": 22,
   "id": "c4f9d5db",
   "metadata": {
    "scrolled": false
   },
   "outputs": [
    {
     "data": {
      "text/plain": [
       "eigen() decomposition\n",
       "$values\n",
       "[1] 2 2 1\n",
       "\n",
       "$vectors\n",
       "     [,1]          [,2]      [,3]\n",
       "[1,]    1 -1.000000e+00 0.5773503\n",
       "[2,]    0  4.440892e-16 0.5773503\n",
       "[3,]    0  0.000000e+00 0.5773503\n"
      ]
     },
     "metadata": {},
     "output_type": "display_data"
    }
   ],
   "source": [
    "vp<-eigen(A)\n",
    "vp"
   ]
  },
  {
   "cell_type": "code",
   "execution_count": 23,
   "id": "ec20e6f3",
   "metadata": {
    "scrolled": true
   },
   "outputs": [
    {
     "data": {
      "text/html": [
       "<table class=\"dataframe\">\n",
       "<caption>A matrix: 3 × 3 of type dbl</caption>\n",
       "<tbody>\n",
       "\t<tr><td>1</td><td>-1</td><td>0.5773503</td></tr>\n",
       "\t<tr><td>0</td><td> 0</td><td>0.5773503</td></tr>\n",
       "\t<tr><td>0</td><td> 0</td><td>0.5773503</td></tr>\n",
       "</tbody>\n",
       "</table>\n"
      ],
      "text/latex": [
       "A matrix: 3 × 3 of type dbl\n",
       "\\begin{tabular}{lll}\n",
       "\t 1 & -1 & 0.5773503\\\\\n",
       "\t 0 &  0 & 0.5773503\\\\\n",
       "\t 0 &  0 & 0.5773503\\\\\n",
       "\\end{tabular}\n"
      ],
      "text/markdown": [
       "\n",
       "A matrix: 3 × 3 of type dbl\n",
       "\n",
       "| 1 | -1 | 0.5773503 |\n",
       "| 0 |  0 | 0.5773503 |\n",
       "| 0 |  0 | 0.5773503 |\n",
       "\n"
      ],
      "text/plain": [
       "     [,1] [,2] [,3]     \n",
       "[1,] 1    -1   0.5773503\n",
       "[2,] 0     0   0.5773503\n",
       "[3,] 0     0   0.5773503"
      ]
     },
     "metadata": {},
     "output_type": "display_data"
    }
   ],
   "source": [
    "P<-vp$vectors\n",
    "zapsmall(P)"
   ]
  },
  {
   "cell_type": "code",
   "execution_count": 24,
   "id": "f8bcd925",
   "metadata": {
    "scrolled": true
   },
   "outputs": [
    {
     "data": {
      "text/html": [
       "2"
      ],
      "text/latex": [
       "2"
      ],
      "text/markdown": [
       "2"
      ],
      "text/plain": [
       "[1] 2"
      ]
     },
     "metadata": {},
     "output_type": "display_data"
    }
   ],
   "source": [
    "Rank(P)"
   ]
  },
  {
   "cell_type": "markdown",
   "id": "7176acc6",
   "metadata": {},
   "source": [
    "### Ejercicio\n",
    "\n",
    "Razonar que la siguiente matriz $A$ es diagonalizable y determinar su forma diagonal y una matriz de paso. Determinar $A^k$ en función de $k$.\n",
    "$$\n",
    "A=\\left(\n",
    "\\begin{array}{cccc}\n",
    "1 & 0 & 0 & 1 \\\\\n",
    "0 & 1 & 0 & 0 \\\\\n",
    "0 & 0 & 1 & -2 \\\\\n",
    "1 & 0 & -2 & 5 \n",
    "\\end{array}\\right)\n",
    "$$"
   ]
  },
  {
   "cell_type": "code",
   "execution_count": 25,
   "id": "c52147e9",
   "metadata": {},
   "outputs": [
    {
     "data": {
      "text/html": [
       "<table class=\"dataframe\">\n",
       "<caption>A matrix: 4 × 4 of type dbl</caption>\n",
       "<tbody>\n",
       "\t<tr><td>1</td><td>0</td><td> 0</td><td> 1</td></tr>\n",
       "\t<tr><td>0</td><td>1</td><td> 0</td><td> 0</td></tr>\n",
       "\t<tr><td>0</td><td>0</td><td> 1</td><td>-2</td></tr>\n",
       "\t<tr><td>1</td><td>0</td><td>-2</td><td> 5</td></tr>\n",
       "</tbody>\n",
       "</table>\n"
      ],
      "text/latex": [
       "A matrix: 4 × 4 of type dbl\n",
       "\\begin{tabular}{llll}\n",
       "\t 1 & 0 &  0 &  1\\\\\n",
       "\t 0 & 1 &  0 &  0\\\\\n",
       "\t 0 & 0 &  1 & -2\\\\\n",
       "\t 1 & 0 & -2 &  5\\\\\n",
       "\\end{tabular}\n"
      ],
      "text/markdown": [
       "\n",
       "A matrix: 4 × 4 of type dbl\n",
       "\n",
       "| 1 | 0 |  0 |  1 |\n",
       "| 0 | 1 |  0 |  0 |\n",
       "| 0 | 0 |  1 | -2 |\n",
       "| 1 | 0 | -2 |  5 |\n",
       "\n"
      ],
      "text/plain": [
       "     [,1] [,2] [,3] [,4]\n",
       "[1,] 1    0     0    1  \n",
       "[2,] 0    1     0    0  \n",
       "[3,] 0    0     1   -2  \n",
       "[4,] 1    0    -2    5  "
      ]
     },
     "metadata": {},
     "output_type": "display_data"
    }
   ],
   "source": [
    "A<-rbind(c(1,0,0,1),c(0,1,0,0),c(0,0,1,-2),c(1,0,-2,5))\n",
    "A"
   ]
  },
  {
   "cell_type": "code",
   "execution_count": 26,
   "id": "46079c5e",
   "metadata": {},
   "outputs": [
    {
     "data": {
      "text/plain": [
       "eigen() decomposition\n",
       "$values\n",
       "[1]   6.000000e+00   1.000000e+00   1.000000e+00 -2.656934e-307\n",
       "\n",
       "$vectors\n",
       "           [,1] [,2]          [,3]       [,4]\n",
       "[1,] -0.1825742    0  8.944272e-01 -0.4082483\n",
       "[2,]  0.0000000   -1  0.000000e+00  0.0000000\n",
       "[3,]  0.3651484    0  4.472136e-01  0.8164966\n",
       "[4,] -0.9128709    0 -2.482534e-16  0.4082483\n"
      ]
     },
     "metadata": {},
     "output_type": "display_data"
    }
   ],
   "source": [
    "vp<-eigen(A)\n",
    "vp"
   ]
  },
  {
   "cell_type": "code",
   "execution_count": 27,
   "id": "02f05abc",
   "metadata": {},
   "outputs": [
    {
     "data": {
      "text/html": [
       "4"
      ],
      "text/latex": [
       "4"
      ],
      "text/markdown": [
       "4"
      ],
      "text/plain": [
       "[1] 4"
      ]
     },
     "metadata": {},
     "output_type": "display_data"
    }
   ],
   "source": [
    "Rank(vp$vectors)"
   ]
  },
  {
   "cell_type": "code",
   "execution_count": 28,
   "id": "da6a49f7",
   "metadata": {},
   "outputs": [],
   "source": [
    "P<-vp$vectors"
   ]
  },
  {
   "cell_type": "code",
   "execution_count": 29,
   "id": "58ec1515",
   "metadata": {},
   "outputs": [
    {
     "data": {
      "text/html": [
       "<table class=\"dataframe\">\n",
       "<caption>A matrix: 4 × 4 of type dbl</caption>\n",
       "<tbody>\n",
       "\t<tr><td>6</td><td>0</td><td>0</td><td>0</td></tr>\n",
       "\t<tr><td>0</td><td>1</td><td>0</td><td>0</td></tr>\n",
       "\t<tr><td>0</td><td>0</td><td>1</td><td>0</td></tr>\n",
       "\t<tr><td>0</td><td>0</td><td>0</td><td>0</td></tr>\n",
       "</tbody>\n",
       "</table>\n"
      ],
      "text/latex": [
       "A matrix: 4 × 4 of type dbl\n",
       "\\begin{tabular}{llll}\n",
       "\t 6 & 0 & 0 & 0\\\\\n",
       "\t 0 & 1 & 0 & 0\\\\\n",
       "\t 0 & 0 & 1 & 0\\\\\n",
       "\t 0 & 0 & 0 & 0\\\\\n",
       "\\end{tabular}\n"
      ],
      "text/markdown": [
       "\n",
       "A matrix: 4 × 4 of type dbl\n",
       "\n",
       "| 6 | 0 | 0 | 0 |\n",
       "| 0 | 1 | 0 | 0 |\n",
       "| 0 | 0 | 1 | 0 |\n",
       "| 0 | 0 | 0 | 0 |\n",
       "\n"
      ],
      "text/plain": [
       "     [,1] [,2] [,3] [,4]\n",
       "[1,] 6    0    0    0   \n",
       "[2,] 0    1    0    0   \n",
       "[3,] 0    0    1    0   \n",
       "[4,] 0    0    0    0   "
      ]
     },
     "metadata": {},
     "output_type": "display_data"
    }
   ],
   "source": [
    "zapsmall(solve(P)%*%A%*%P)"
   ]
  },
  {
   "cell_type": "markdown",
   "id": "fe2bcba7",
   "metadata": {},
   "source": [
    "Por lo que ya tenemos la matriz de paso y la diagonal. De esta forma $A=P D P^{-1}$, por lo que $A^k=P D^k P^{-1}$. Para calcular la expresión general haremos uso de `caracas`, y así tener las expresiones de la matriz de paso como racionales."
   ]
  },
  {
   "cell_type": "code",
   "execution_count": 30,
   "id": "74f7ae1c",
   "metadata": {
    "scrolled": true
   },
   "outputs": [
    {
     "name": "stderr",
     "output_type": "stream",
     "text": [
      "\n",
      "Attaching package: ‘caracas’\n",
      "\n",
      "\n",
      "The following objects are masked from ‘package:pracma’:\n",
      "\n",
      "    inv, nullspace, pinv, rref, taylor\n",
      "\n",
      "\n",
      "The following objects are masked from ‘package:base’:\n",
      "\n",
      "    %*%, det, diag, diag<-\n",
      "\n",
      "\n"
     ]
    }
   ],
   "source": [
    "library(\"caracas\")"
   ]
  },
  {
   "cell_type": "code",
   "execution_count": 31,
   "id": "1a79638f",
   "metadata": {},
   "outputs": [],
   "source": [
    "As<-as_sym(A)"
   ]
  },
  {
   "cell_type": "code",
   "execution_count": 32,
   "id": "a7412713",
   "metadata": {},
   "outputs": [
    {
     "data": {
      "text/plain": [
       "[caracas]: ⎡1  0  0   1 ⎤\n",
       "           ⎢            ⎥\n",
       "           ⎢0  1  0   0 ⎥\n",
       "           ⎢            ⎥\n",
       "           ⎢0  0  1   -2⎥\n",
       "           ⎢            ⎥\n",
       "           ⎣1  0  -2  5 ⎦"
      ]
     },
     "metadata": {},
     "output_type": "display_data"
    }
   ],
   "source": [
    "As"
   ]
  },
  {
   "cell_type": "code",
   "execution_count": 45,
   "id": "b980e06e",
   "metadata": {},
   "outputs": [
    {
     "data": {
      "text/plain": [
       "[[1]]\n",
       "[[1]]$eigval\n",
       "[caracas]: 6\n",
       "\n",
       "[[1]]$eigmult\n",
       "[1] 1\n",
       "\n",
       "\n",
       "[[2]]\n",
       "[[2]]$eigval\n",
       "[caracas]: 1\n",
       "\n",
       "[[2]]$eigmult\n",
       "[1] 2\n",
       "\n",
       "\n",
       "[[3]]\n",
       "[[3]]$eigval\n",
       "[caracas]: 0\n",
       "\n",
       "[[3]]$eigmult\n",
       "[1] 1\n",
       "\n"
      ]
     },
     "metadata": {},
     "output_type": "display_data"
    }
   ],
   "source": [
    "eigenval(As)"
   ]
  },
  {
   "cell_type": "code",
   "execution_count": 33,
   "id": "ab7881b5",
   "metadata": {},
   "outputs": [
    {
     "data": {
      "text/plain": [
       "[[1]]\n",
       "[caracas]: [-1  0  2  1]ᵀ\n"
      ]
     },
     "metadata": {},
     "output_type": "display_data"
    }
   ],
   "source": [
    "Vs0<-nullspace(As)\n",
    "Vs0"
   ]
  },
  {
   "cell_type": "code",
   "execution_count": 34,
   "id": "f254247e",
   "metadata": {},
   "outputs": [
    {
     "data": {
      "text/plain": [
       "[[1]]\n",
       "[caracas]: [0  1  0  0]ᵀ\n",
       "\n",
       "[[2]]\n",
       "[caracas]: [2  0  1  0]ᵀ\n"
      ]
     },
     "metadata": {},
     "output_type": "display_data"
    }
   ],
   "source": [
    "Vs1<-nullspace(As-as_sym(diag(4)))\n",
    "Vs1"
   ]
  },
  {
   "cell_type": "code",
   "execution_count": 35,
   "id": "01b42c3a",
   "metadata": {},
   "outputs": [
    {
     "data": {
      "text/plain": [
       "[[1]]\n",
       "[caracas]: [1/5  0  -2/5  1]ᵀ\n"
      ]
     },
     "metadata": {},
     "output_type": "display_data"
    }
   ],
   "source": [
    "Vs6<-nullspace(As-as_sym(6*diag(4)))\n",
    "Vs6"
   ]
  },
  {
   "cell_type": "code",
   "execution_count": 36,
   "id": "2f88642f",
   "metadata": {},
   "outputs": [
    {
     "data": {
      "text/plain": [
       "[caracas]: ⎡1/5   0  2  -1⎤\n",
       "           ⎢              ⎥\n",
       "           ⎢ 0    1  0  0 ⎥\n",
       "           ⎢              ⎥\n",
       "           ⎢-2/5  0  1  2 ⎥\n",
       "           ⎢              ⎥\n",
       "           ⎣ 1    0  0  1 ⎦"
      ]
     },
     "metadata": {},
     "output_type": "display_data"
    }
   ],
   "source": [
    "Ps<-cbind(Vs6[[1]],Vs1[[1]],Vs1[[2]],Vs0[[1]])\n",
    "Ps"
   ]
  },
  {
   "cell_type": "code",
   "execution_count": 37,
   "id": "c7db6859",
   "metadata": {},
   "outputs": [
    {
     "data": {
      "text/plain": [
       "[caracas]: ⎡1/6   0  -1/3  5/6⎤\n",
       "           ⎢                  ⎥\n",
       "           ⎢ 0    1   0     0 ⎥\n",
       "           ⎢                  ⎥\n",
       "           ⎢2/5   0  1/5    0 ⎥\n",
       "           ⎢                  ⎥\n",
       "           ⎣-1/6  0  1/3   1/6⎦"
      ]
     },
     "metadata": {},
     "output_type": "display_data"
    }
   ],
   "source": [
    "inv(Ps)"
   ]
  },
  {
   "cell_type": "code",
   "execution_count": 38,
   "id": "4770826b",
   "metadata": {},
   "outputs": [
    {
     "data": {
      "text/plain": [
       "[caracas]: ⎡6  0  0  0⎤\n",
       "           ⎢          ⎥\n",
       "           ⎢0  1  0  0⎥\n",
       "           ⎢          ⎥\n",
       "           ⎢0  0  1  0⎥\n",
       "           ⎢          ⎥\n",
       "           ⎣0  0  0  0⎦"
      ]
     },
     "metadata": {},
     "output_type": "display_data"
    }
   ],
   "source": [
    "inv(Ps)%*%As%*%Ps"
   ]
  },
  {
   "cell_type": "code",
   "execution_count": 39,
   "id": "ad2b05f5",
   "metadata": {},
   "outputs": [],
   "source": [
    "Dk<-diag_(c(\"6**k\",\"1\",\"1\",\"0\"))"
   ]
  },
  {
   "cell_type": "code",
   "execution_count": 40,
   "id": "a8707c88",
   "metadata": {},
   "outputs": [
    {
     "data": {
      "text/plain": [
       "[caracas]: ⎡ k               k     k ⎤\n",
       "           ⎢6    4      2   6     6  ⎥\n",
       "           ⎢── + ─  0   ─ - ──    ── ⎥\n",
       "           ⎢30   5      5   15    6  ⎥\n",
       "           ⎢                         ⎥\n",
       "           ⎢  0     1     0       0  ⎥\n",
       "           ⎢                         ⎥\n",
       "           ⎢     k        k        k ⎥\n",
       "           ⎢2   6      2⋅6    1  -6  ⎥\n",
       "           ⎢─ - ──  0  ──── + ─  ────⎥\n",
       "           ⎢5   15      15    5   3  ⎥\n",
       "           ⎢                         ⎥\n",
       "           ⎢   k           k        k⎥\n",
       "           ⎢  6          -6      5⋅6 ⎥\n",
       "           ⎢  ──    0    ────    ────⎥\n",
       "           ⎣  6           3       6  ⎦"
      ]
     },
     "metadata": {},
     "output_type": "display_data"
    }
   ],
   "source": [
    "Ak<-Ps%*%Dk%*%inv(Ps)\n",
    "Ak"
   ]
  },
  {
   "cell_type": "code",
   "execution_count": 41,
   "id": "c0fb71d3",
   "metadata": {
    "scrolled": true
   },
   "outputs": [
    {
     "data": {
      "text/plain": [
       "[caracas]: ⎡ k               k           ⎤\n",
       "           ⎢6    4      2   6      k - 1 ⎥\n",
       "           ⎢── + ─  0   ─ - ──    6      ⎥\n",
       "           ⎢30   5      5   15           ⎥\n",
       "           ⎢                             ⎥\n",
       "           ⎢  0     1     0         0    ⎥\n",
       "           ⎢                             ⎥\n",
       "           ⎢     k        k          k   ⎥\n",
       "           ⎢2   6      2⋅6    1    -6    ⎥\n",
       "           ⎢─ - ──  0  ──── + ─    ────  ⎥\n",
       "           ⎢5   15      15    5     3    ⎥\n",
       "           ⎢                             ⎥\n",
       "           ⎢               k             ⎥\n",
       "           ⎢ k - 1       -6         k - 1⎥\n",
       "           ⎢6       0    ────    5⋅6     ⎥\n",
       "           ⎣              3              ⎦"
      ]
     },
     "metadata": {},
     "output_type": "display_data"
    }
   ],
   "source": [
    "simplify(Ak)"
   ]
  },
  {
   "cell_type": "markdown",
   "id": "fc35da0d",
   "metadata": {},
   "source": [
    "### Ejercicio\n",
    "\n",
    "*Estudiar para qué valores de los parámetros $a$ y $b$ es diagonalizable la matriz*\n",
    "$$\n",
    "A=\\left(\n",
    "\\begin{array}{ccc}\n",
    "1 & a & 0 \\\\\n",
    "0 & 0 & b \\\\\n",
    "0 & b & 0 \n",
    "\\end{array}\\right).\n",
    "$$\n"
   ]
  },
  {
   "cell_type": "code",
   "execution_count": 47,
   "id": "52bd4879",
   "metadata": {},
   "outputs": [
    {
     "data": {
      "text/plain": [
       "[caracas]: ⎡1  a  0⎤\n",
       "           ⎢       ⎥\n",
       "           ⎢0  0  b⎥\n",
       "           ⎢       ⎥\n",
       "           ⎣0  b  0⎦"
      ]
     },
     "metadata": {},
     "output_type": "display_data"
    }
   ],
   "source": [
    "A<-matrix_(c(\"1\",\"a\",\"0\",\n",
    "             \"0\",\"0\",\"b\",\n",
    "             \"0\",\"b\",\"0\"),3,3,byrow=TRUE)\n",
    "A"
   ]
  },
  {
   "cell_type": "code",
   "execution_count": 50,
   "id": "1fed637a",
   "metadata": {},
   "outputs": [
    {
     "data": {
      "text/plain": [
       "[caracas]:    2      2    3    2\n",
       "           - b ⋅λ + b  + λ  - λ"
      ]
     },
     "metadata": {},
     "output_type": "display_data"
    }
   ],
   "source": [
    "cp<-do_la(A,\"charpoly\")\n",
    "cp"
   ]
  },
  {
   "cell_type": "code",
   "execution_count": 56,
   "id": "8e854364",
   "metadata": {},
   "outputs": [
    {
     "data": {
      "text/plain": [
       "[caracas]: -(b - λ)⋅(b + λ)⋅(λ - 1)"
      ]
     },
     "metadata": {},
     "output_type": "display_data"
    }
   ],
   "source": [
    "sympy_func(cp,\"factor\")"
   ]
  },
  {
   "cell_type": "markdown",
   "id": "81084f87",
   "metadata": {},
   "source": [
    "Los valores propios son $\\{1,b,-b\\}$. Así si $b\\not\\in\\{0,1,-1\\}$, los tres valores propios son diferentes y la matriz es diagonalizable."
   ]
  },
  {
   "cell_type": "markdown",
   "id": "c5250633",
   "metadata": {},
   "source": [
    "Estudiemos ahora qué ocurre para $b=0$, en cuyo caso los valores propios son $1$ y $0$ con multiplicidad dos. Nos interesa por tanto ver si el subespacio propio asociado a $0$ tiene dimensión dos."
   ]
  },
  {
   "cell_type": "code",
   "execution_count": 58,
   "id": "97ab46ce",
   "metadata": {},
   "outputs": [
    {
     "data": {
      "text/plain": [
       "[caracas]: ⎡1  a  0⎤\n",
       "           ⎢       ⎥\n",
       "           ⎢0  0  0⎥\n",
       "           ⎢       ⎥\n",
       "           ⎣0  0  0⎦"
      ]
     },
     "metadata": {},
     "output_type": "display_data"
    }
   ],
   "source": [
    "Ab0<-subs(A,\"b\",0)\n",
    "Ab0"
   ]
  },
  {
   "cell_type": "markdown",
   "id": "5f7b2903",
   "metadata": {},
   "source": [
    "El rango de $A=A-0\\times I$ en este caso no depende de $a$."
   ]
  },
  {
   "cell_type": "code",
   "execution_count": 61,
   "id": "8e0a3511",
   "metadata": {
    "scrolled": true
   },
   "outputs": [
    {
     "data": {
      "text/plain": [
       "[[1]]\n",
       "[caracas]: [-a  1  0]ᵀ\n",
       "\n",
       "[[2]]\n",
       "[caracas]: [0  0  1]ᵀ\n"
      ]
     },
     "metadata": {},
     "output_type": "display_data"
    }
   ],
   "source": [
    "Vb0_0<-nullspace(Ab0)\n",
    "Vb0_0"
   ]
  },
  {
   "cell_type": "markdown",
   "id": "33864def",
   "metadata": {},
   "source": [
    "Por lo que para $b=0$, la multiplicidad algebraica y geométrica de cada valor propio coincide, siendo así `Ab0` diagonalizable."
   ]
  },
  {
   "cell_type": "markdown",
   "id": "3731c48f",
   "metadata": {},
   "source": [
    "Veamos ahora el caso $b=1$. Los valores propios son $1$, con multiplicidad dos, y $-1$."
   ]
  },
  {
   "cell_type": "code",
   "execution_count": 62,
   "id": "2284ecbb",
   "metadata": {},
   "outputs": [
    {
     "data": {
      "text/plain": [
       "[caracas]: ⎡1   a    0 ⎤\n",
       "           ⎢           ⎥\n",
       "           ⎢0   0   1.0⎥\n",
       "           ⎢           ⎥\n",
       "           ⎣0  1.0   0 ⎦"
      ]
     },
     "metadata": {},
     "output_type": "display_data"
    }
   ],
   "source": [
    "Ab1<-subs(A,\"b\",1)\n",
    "Ab1"
   ]
  },
  {
   "cell_type": "code",
   "execution_count": 68,
   "id": "fb6e190b",
   "metadata": {},
   "outputs": [
    {
     "data": {
      "text/plain": [
       "[caracas]: ⎡0   a    0 ⎤\n",
       "           ⎢           ⎥\n",
       "           ⎢0  -1   1.0⎥\n",
       "           ⎢           ⎥\n",
       "           ⎣0  1.0  -1 ⎦"
      ]
     },
     "metadata": {},
     "output_type": "display_data"
    }
   ],
   "source": [
    "T<-Ab1-as_sym(diag(3))\n",
    "T"
   ]
  },
  {
   "cell_type": "markdown",
   "id": "5fcd73ab",
   "metadata": {},
   "source": [
    "En este caso el rango de $A-I$ depende de $a$. \n",
    "- Si $a\\neq 0$, el rango es dos, y la dimension del subespacio propio asociado a 1 sería 1, por lo que la matriz no sería diagonalizable.\n",
    "- Si $a=0$, entonces la matriz es diagonalizable, pues el rango de $A-I$ es 1, y por tanto su núcleo tiene dimensión 2."
   ]
  },
  {
   "cell_type": "markdown",
   "id": "129fa615",
   "metadata": {},
   "source": [
    "Para $b=-1$, tenemos como valores propios a 1 (multiplicidad 2) y -1."
   ]
  },
  {
   "cell_type": "code",
   "execution_count": 69,
   "id": "7252b00b",
   "metadata": {},
   "outputs": [
    {
     "data": {
      "text/plain": [
       "[caracas]: ⎡1   a     0  ⎤\n",
       "           ⎢             ⎥\n",
       "           ⎢0   0    -1.0⎥\n",
       "           ⎢             ⎥\n",
       "           ⎣0  -1.0   0  ⎦"
      ]
     },
     "metadata": {},
     "output_type": "display_data"
    }
   ],
   "source": [
    "Abm1<-subs(A,\"b\",-1)\n",
    "Abm1"
   ]
  },
  {
   "cell_type": "code",
   "execution_count": 71,
   "id": "194fe530",
   "metadata": {},
   "outputs": [
    {
     "data": {
      "text/plain": [
       "[caracas]: ⎡0   a     0  ⎤\n",
       "           ⎢             ⎥\n",
       "           ⎢0   -1   -1.0⎥\n",
       "           ⎢             ⎥\n",
       "           ⎣0  -1.0   -1 ⎦"
      ]
     },
     "metadata": {},
     "output_type": "display_data"
    }
   ],
   "source": [
    "T<-Abm1-as_sym(diag(3))\n",
    "T"
   ]
  },
  {
   "cell_type": "markdown",
   "id": "794b6b1d",
   "metadata": {},
   "source": [
    "Repitiéndose la distinción que hicimos para $b=1$."
   ]
  }
 ],
 "metadata": {
  "kernelspec": {
   "display_name": "R",
   "language": "R",
   "name": "ir"
  },
  "language_info": {
   "codemirror_mode": "r",
   "file_extension": ".r",
   "mimetype": "text/x-r-source",
   "name": "R",
   "pygments_lexer": "r",
   "version": "4.2.2"
  }
 },
 "nbformat": 4,
 "nbformat_minor": 5
}
