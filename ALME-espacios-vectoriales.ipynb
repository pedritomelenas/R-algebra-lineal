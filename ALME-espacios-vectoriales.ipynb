{
 "cells": [
  {
   "cell_type": "markdown",
   "id": "a07b850c",
   "metadata": {},
   "source": [
    "# Espacios vectoriales \n",
    "\n",
    "En este documento ilustraremos cómo usar `R` para resolver los problemas tipo propuestos por L. Merino y E. Santos en  [página de resolución de ejercicios tipo](https://www.ugr.es/~lmerino/ALME.html) correspondientes al bloque \"Espacios Vectoriales\"."
   ]
  },
  {
   "cell_type": "markdown",
   "id": "69c7c543",
   "metadata": {},
   "source": [
    "## Coordenadas. Dependencia lineal"
   ]
  },
  {
   "cell_type": "markdown",
   "id": "d1db3719",
   "metadata": {},
   "source": [
    "### Ejercicio\n",
    "\n",
    "*Se considera en el espacio vectorial ${\\mathbb{R}}^3$ la base $B=\\{(1,0,1), (0,2,0) , (0,0,3)\\}$. Determinar el vector $x$ \n",
    "cuyas cordenadas respecto de $B$ son $x=(2,1,2)_{B}$.*"
   ]
  },
  {
   "cell_type": "markdown",
   "id": "a2ca8127",
   "metadata": {},
   "source": [
    "Nuestro vector tiene coordenadas $(2,1,2)_B$, por lo que $x=2\\times(1,0,1)+1\\times(0,2,0)+2\\times (0,0,3)$. Ponemos por tanto los vectores de $B$ como columnas en un matriz y multiplicamos por el vector $(2,1,2)$."
   ]
  },
  {
   "cell_type": "code",
   "execution_count": 1,
   "id": "f2b7377a",
   "metadata": {},
   "outputs": [
    {
     "data": {
      "text/html": [
       "<table class=\"dataframe\">\n",
       "<caption>A matrix: 3 × 3 of type dbl</caption>\n",
       "<tbody>\n",
       "\t<tr><td>1</td><td>0</td><td>0</td></tr>\n",
       "\t<tr><td>0</td><td>2</td><td>0</td></tr>\n",
       "\t<tr><td>1</td><td>0</td><td>3</td></tr>\n",
       "</tbody>\n",
       "</table>\n"
      ],
      "text/latex": [
       "A matrix: 3 × 3 of type dbl\n",
       "\\begin{tabular}{lll}\n",
       "\t 1 & 0 & 0\\\\\n",
       "\t 0 & 2 & 0\\\\\n",
       "\t 1 & 0 & 3\\\\\n",
       "\\end{tabular}\n"
      ],
      "text/markdown": [
       "\n",
       "A matrix: 3 × 3 of type dbl\n",
       "\n",
       "| 1 | 0 | 0 |\n",
       "| 0 | 2 | 0 |\n",
       "| 1 | 0 | 3 |\n",
       "\n"
      ],
      "text/plain": [
       "     [,1] [,2] [,3]\n",
       "[1,] 1    0    0   \n",
       "[2,] 0    2    0   \n",
       "[3,] 1    0    3   "
      ]
     },
     "metadata": {},
     "output_type": "display_data"
    }
   ],
   "source": [
    "B<-cbind(c(1,0,1),c(0,2,0),c(0,0,3))\n",
    "B"
   ]
  },
  {
   "cell_type": "code",
   "execution_count": 2,
   "id": "d93d9d42",
   "metadata": {},
   "outputs": [
    {
     "data": {
      "text/html": [
       "<table class=\"dataframe\">\n",
       "<caption>A matrix: 3 × 1 of type dbl</caption>\n",
       "<tbody>\n",
       "\t<tr><td>2</td></tr>\n",
       "\t<tr><td>2</td></tr>\n",
       "\t<tr><td>8</td></tr>\n",
       "</tbody>\n",
       "</table>\n"
      ],
      "text/latex": [
       "A matrix: 3 × 1 of type dbl\n",
       "\\begin{tabular}{l}\n",
       "\t 2\\\\\n",
       "\t 2\\\\\n",
       "\t 8\\\\\n",
       "\\end{tabular}\n"
      ],
      "text/markdown": [
       "\n",
       "A matrix: 3 × 1 of type dbl\n",
       "\n",
       "| 2 |\n",
       "| 2 |\n",
       "| 8 |\n",
       "\n"
      ],
      "text/plain": [
       "     [,1]\n",
       "[1,] 2   \n",
       "[2,] 2   \n",
       "[3,] 8   "
      ]
     },
     "metadata": {},
     "output_type": "display_data"
    }
   ],
   "source": [
    "B%*%c(2,1,2)"
   ]
  },
  {
   "cell_type": "markdown",
   "id": "938ca12a",
   "metadata": {},
   "source": [
    "Con lo que nuestro vector es $(2,2,8)$."
   ]
  },
  {
   "cell_type": "markdown",
   "id": "eb0af7ce",
   "metadata": {},
   "source": [
    "### Ejercicio\n",
    "\n",
    "*Se considera en el espacio vectorial ${\\mathbb{R}}^3$ la base $B=\\{(1,0,1), (0,2,0) , (0,0,3)\\}$. Determinar \n",
    "coordenadas respecto de $B'$ del vector $x=(5,4,2)$.*"
   ]
  },
  {
   "cell_type": "markdown",
   "id": "6c175953",
   "metadata": {},
   "source": [
    "Tenemos que encontrar $a,b,c\\in \\mathbb{R}$ tales que $(5,4,2)=a(1,0,1)+b(0,2,0)+c(0,0,3)$, y esto equivale a resolver el sistema \n",
    "\n",
    "$$\n",
    "\\left\\{\n",
    "\\begin{array}{rcl}\n",
    "a&=&5,\\\\\n",
    "2b&=&4,\\\\\n",
    "a+3c&=&2.\n",
    "\\end{array}\n",
    "\\right.\n",
    "$$"
   ]
  },
  {
   "cell_type": "markdown",
   "id": "0c0b52e1",
   "metadata": {},
   "source": [
    "Aprovechamos que ya tenemos definida la matriz $B$ del ejercicio anterior."
   ]
  },
  {
   "cell_type": "code",
   "execution_count": 3,
   "id": "6d245137",
   "metadata": {},
   "outputs": [
    {
     "data": {
      "text/html": [
       "<style>\n",
       ".list-inline {list-style: none; margin:0; padding: 0}\n",
       ".list-inline>li {display: inline-block}\n",
       ".list-inline>li:not(:last-child)::after {content: \"\\00b7\"; padding: 0 .5ex}\n",
       "</style>\n",
       "<ol class=list-inline><li>5</li><li>2</li><li>-1</li></ol>\n"
      ],
      "text/latex": [
       "\\begin{enumerate*}\n",
       "\\item 5\n",
       "\\item 2\n",
       "\\item -1\n",
       "\\end{enumerate*}\n"
      ],
      "text/markdown": [
       "1. 5\n",
       "2. 2\n",
       "3. -1\n",
       "\n",
       "\n"
      ],
      "text/plain": [
       "[1]  5  2 -1"
      ]
     },
     "metadata": {},
     "output_type": "display_data"
    }
   ],
   "source": [
    "B<-cbind(c(1,0,1),c(0,2,0),c(0,0,3))\n",
    "solve(B,c(5,4,2))"
   ]
  },
  {
   "cell_type": "markdown",
   "id": "5bc0089b",
   "metadata": {},
   "source": [
    "Por lo que $x=(5,3,-1)_B$."
   ]
  },
  {
   "cell_type": "markdown",
   "id": "a316b752",
   "metadata": {},
   "source": [
    "### Ejercicio\n",
    "\n",
    "*En el espacio vectorial $\\mathcal{P}_3(\\mathbb{R})$ se consideran los vectores $p(x) = x^3+x^2+x+1$, $q(x)= 2x^2+1$ y $r(x)= x^3+2x^2$. Estudiar si son linealmente dependientes o independientes.*"
   ]
  },
  {
   "cell_type": "markdown",
   "id": "1d44339c",
   "metadata": {},
   "source": [
    "Consideramos la base estándar de $\\mathcal{P}_3(\\mathbb{R})$, $B=\\{1,x,x^2, x^3 \\}$. Respecto de esta base, las coordenadas de los vectores que nos dan son:\n",
    "$$ p(x)=(1,1,1,1)_B, \\;\\; q(x)=(1,0,2,0)_B, \\;\\; r(x)=(0,0,2,1)_B. $$\n",
    "De esta forma, si ponemos esos vectores en una matriz y vemos su forma reducida por filas, podremos ver si son linealmente dependientes o no. Para ello haremos uso de `rref` del paquete [pracma](https://cran.r-project.org/package=pracma)."
   ]
  },
  {
   "cell_type": "code",
   "execution_count": 4,
   "id": "fab50d36",
   "metadata": {},
   "outputs": [],
   "source": [
    "A<-rbind(c(1,1,1,1),c(1,0,2,0),c(0,0,2,1))"
   ]
  },
  {
   "cell_type": "code",
   "execution_count": 5,
   "id": "1c64c73c",
   "metadata": {},
   "outputs": [
    {
     "data": {
      "text/html": [
       "<table class=\"dataframe\">\n",
       "<caption>A matrix: 3 × 4 of type dbl</caption>\n",
       "<tbody>\n",
       "\t<tr><td>1</td><td>0</td><td>0</td><td>-1.0</td></tr>\n",
       "\t<tr><td>0</td><td>1</td><td>0</td><td> 1.5</td></tr>\n",
       "\t<tr><td>0</td><td>0</td><td>1</td><td> 0.5</td></tr>\n",
       "</tbody>\n",
       "</table>\n"
      ],
      "text/latex": [
       "A matrix: 3 × 4 of type dbl\n",
       "\\begin{tabular}{llll}\n",
       "\t 1 & 0 & 0 & -1.0\\\\\n",
       "\t 0 & 1 & 0 &  1.5\\\\\n",
       "\t 0 & 0 & 1 &  0.5\\\\\n",
       "\\end{tabular}\n"
      ],
      "text/markdown": [
       "\n",
       "A matrix: 3 × 4 of type dbl\n",
       "\n",
       "| 1 | 0 | 0 | -1.0 |\n",
       "| 0 | 1 | 0 |  1.5 |\n",
       "| 0 | 0 | 1 |  0.5 |\n",
       "\n"
      ],
      "text/plain": [
       "     [,1] [,2] [,3] [,4]\n",
       "[1,] 1    0    0    -1.0\n",
       "[2,] 0    1    0     1.5\n",
       "[3,] 0    0    1     0.5"
      ]
     },
     "metadata": {},
     "output_type": "display_data"
    }
   ],
   "source": [
    "library(\"pracma\")\n",
    "rref(A)"
   ]
  },
  {
   "cell_type": "markdown",
   "id": "4b43e223",
   "metadata": {},
   "source": [
    "Vemos que la matriz tiene rango máximo, por lo que los vectores del enunciado son linealmente independientes."
   ]
  },
  {
   "cell_type": "markdown",
   "id": "b6410db5",
   "metadata": {},
   "source": [
    "### Ejercicio\n",
    "*En el espacio vectorial ${\\mathfrak M}_2(\\mathbb{R})$ se consideran los vectores  $a=\\begin{pmatrix} 1  & 2 \\\\ 2 & 1 \\end{pmatrix}$,  $b=\\begin{pmatrix} 1  & 1 \\\\ 2 & 0 \\end{pmatrix}$,  $c=\\begin{pmatrix} 0  & 1 \\\\ 2 & 1 \\end{pmatrix}$ y   $b=\\begin{pmatrix} 1  & 2 \\\\ 3 & 1 \\end{pmatrix}$.    Estudiar si son linealmente dependientes o independientes.*"
   ]
  },
  {
   "cell_type": "markdown",
   "id": "d4d25598",
   "metadata": {},
   "source": [
    "Consideramos la base estándar de ${\\mathfrak M}_2(\\mathbb{R})$, $B=\\left\\{\n",
    " \\begin{pmatrix} 1  & 0 \\\\ 0 & 0 \\end{pmatrix},\n",
    " \\begin{pmatrix} 0  & 1 \\\\ 0 & 0 \\end{pmatrix},\n",
    " \\begin{pmatrix} 0  & 0 \\\\ 1 & 0 \\end{pmatrix},\n",
    " \\begin{pmatrix} 0  & 0 \\\\ 0 & 1 \\end{pmatrix}\n",
    " \\right\\}$.\n",
    "Respecto de esta base los vectores dados tienen coordenadas $(1,2,2,1)_B$, $(1,1,2,0)_B$, $(0,1,2,1)_B$ y $(1,2,3,1)_B$, respectivamente. Procedemos como antes poniendo esos vectores por filas en una matriz y calculamos su forma reducida por filas."
   ]
  },
  {
   "cell_type": "code",
   "execution_count": 6,
   "id": "ff93ce34",
   "metadata": {},
   "outputs": [
    {
     "data": {
      "text/html": [
       "<table class=\"dataframe\">\n",
       "<caption>A matrix: 4 × 4 of type dbl</caption>\n",
       "<tbody>\n",
       "\t<tr><td>1</td><td>0</td><td>0</td><td>-1</td></tr>\n",
       "\t<tr><td>0</td><td>1</td><td>0</td><td> 1</td></tr>\n",
       "\t<tr><td>0</td><td>0</td><td>1</td><td> 0</td></tr>\n",
       "\t<tr><td>0</td><td>0</td><td>0</td><td> 0</td></tr>\n",
       "</tbody>\n",
       "</table>\n"
      ],
      "text/latex": [
       "A matrix: 4 × 4 of type dbl\n",
       "\\begin{tabular}{llll}\n",
       "\t 1 & 0 & 0 & -1\\\\\n",
       "\t 0 & 1 & 0 &  1\\\\\n",
       "\t 0 & 0 & 1 &  0\\\\\n",
       "\t 0 & 0 & 0 &  0\\\\\n",
       "\\end{tabular}\n"
      ],
      "text/markdown": [
       "\n",
       "A matrix: 4 × 4 of type dbl\n",
       "\n",
       "| 1 | 0 | 0 | -1 |\n",
       "| 0 | 1 | 0 |  1 |\n",
       "| 0 | 0 | 1 |  0 |\n",
       "| 0 | 0 | 0 |  0 |\n",
       "\n"
      ],
      "text/plain": [
       "     [,1] [,2] [,3] [,4]\n",
       "[1,] 1    0    0    -1  \n",
       "[2,] 0    1    0     1  \n",
       "[3,] 0    0    1     0  \n",
       "[4,] 0    0    0     0  "
      ]
     },
     "metadata": {},
     "output_type": "display_data"
    }
   ],
   "source": [
    "A<-rbind(c(1,2,2,1),c(1,1,2,0),c(0,1,2,1),c(1,2,3,1))\n",
    "rref(A)"
   ]
  },
  {
   "cell_type": "markdown",
   "id": "1ed8b9d4",
   "metadata": {},
   "source": [
    "Como podemos observar, hay una fila de ceros, por lo que a lo sumo tres de ellos son linealmente independientes, y los cuatro son linealmente dependientes."
   ]
  },
  {
   "cell_type": "code",
   "execution_count": 10,
   "id": "a6cb209d",
   "metadata": {},
   "outputs": [
    {
     "data": {
      "text/html": [
       "<table class=\"dataframe\">\n",
       "<caption>A matrix: 4 × 8 of type dbl</caption>\n",
       "<tbody>\n",
       "\t<tr><td>1</td><td>0</td><td>0</td><td>-1</td><td>0</td><td> 1</td><td>-1</td><td> 0</td></tr>\n",
       "\t<tr><td>0</td><td>1</td><td>0</td><td> 1</td><td>0</td><td>-2</td><td>-1</td><td> 2</td></tr>\n",
       "\t<tr><td>0</td><td>0</td><td>1</td><td> 0</td><td>0</td><td> 1</td><td> 1</td><td>-1</td></tr>\n",
       "\t<tr><td>0</td><td>0</td><td>0</td><td> 0</td><td>1</td><td> 1</td><td> 1</td><td>-2</td></tr>\n",
       "</tbody>\n",
       "</table>\n"
      ],
      "text/latex": [
       "A matrix: 4 × 8 of type dbl\n",
       "\\begin{tabular}{llllllll}\n",
       "\t 1 & 0 & 0 & -1 & 0 &  1 & -1 &  0\\\\\n",
       "\t 0 & 1 & 0 &  1 & 0 & -2 & -1 &  2\\\\\n",
       "\t 0 & 0 & 1 &  0 & 0 &  1 &  1 & -1\\\\\n",
       "\t 0 & 0 & 0 &  0 & 1 &  1 &  1 & -2\\\\\n",
       "\\end{tabular}\n"
      ],
      "text/markdown": [
       "\n",
       "A matrix: 4 × 8 of type dbl\n",
       "\n",
       "| 1 | 0 | 0 | -1 | 0 |  1 | -1 |  0 |\n",
       "| 0 | 1 | 0 |  1 | 0 | -2 | -1 |  2 |\n",
       "| 0 | 0 | 1 |  0 | 0 |  1 |  1 | -1 |\n",
       "| 0 | 0 | 0 |  0 | 1 |  1 |  1 | -2 |\n",
       "\n"
      ],
      "text/plain": [
       "     [,1] [,2] [,3] [,4] [,5] [,6] [,7] [,8]\n",
       "[1,] 1    0    0    -1   0     1   -1    0  \n",
       "[2,] 0    1    0     1   0    -2   -1    2  \n",
       "[3,] 0    0    1     0   0     1    1   -1  \n",
       "[4,] 0    0    0     0   1     1    1   -2  "
      ]
     },
     "metadata": {},
     "output_type": "display_data"
    }
   ],
   "source": [
    "AI<-cbind(A,diag(4))\n",
    "AIr<-rref(AI)\n",
    "AIr"
   ]
  },
  {
   "cell_type": "code",
   "execution_count": 13,
   "id": "9accda77",
   "metadata": {},
   "outputs": [
    {
     "data": {
      "text/html": [
       "<table class=\"dataframe\">\n",
       "<caption>A matrix: 4 × 4 of type dbl</caption>\n",
       "<tbody>\n",
       "\t<tr><td>0</td><td> 1</td><td>-1</td><td> 0</td></tr>\n",
       "\t<tr><td>0</td><td>-2</td><td>-1</td><td> 2</td></tr>\n",
       "\t<tr><td>0</td><td> 1</td><td> 1</td><td>-1</td></tr>\n",
       "\t<tr><td>1</td><td> 1</td><td> 1</td><td>-2</td></tr>\n",
       "</tbody>\n",
       "</table>\n"
      ],
      "text/latex": [
       "A matrix: 4 × 4 of type dbl\n",
       "\\begin{tabular}{llll}\n",
       "\t 0 &  1 & -1 &  0\\\\\n",
       "\t 0 & -2 & -1 &  2\\\\\n",
       "\t 0 &  1 &  1 & -1\\\\\n",
       "\t 1 &  1 &  1 & -2\\\\\n",
       "\\end{tabular}\n"
      ],
      "text/markdown": [
       "\n",
       "A matrix: 4 × 4 of type dbl\n",
       "\n",
       "| 0 |  1 | -1 |  0 |\n",
       "| 0 | -2 | -1 |  2 |\n",
       "| 0 |  1 |  1 | -1 |\n",
       "| 1 |  1 |  1 | -2 |\n",
       "\n"
      ],
      "text/plain": [
       "     [,1] [,2] [,3] [,4]\n",
       "[1,] 0     1   -1    0  \n",
       "[2,] 0    -2   -1    2  \n",
       "[3,] 0     1    1   -1  \n",
       "[4,] 1     1    1   -2  "
      ]
     },
     "metadata": {},
     "output_type": "display_data"
    }
   ],
   "source": [
    "Q<-AIr[,5:8]\n",
    "Q"
   ]
  },
  {
   "cell_type": "code",
   "execution_count": 14,
   "id": "f4c4261d",
   "metadata": {},
   "outputs": [
    {
     "data": {
      "text/html": [
       "<table class=\"dataframe\">\n",
       "<caption>A matrix: 4 × 4 of type dbl</caption>\n",
       "<tbody>\n",
       "\t<tr><td>1</td><td>0</td><td>0</td><td>-1</td></tr>\n",
       "\t<tr><td>0</td><td>1</td><td>0</td><td> 1</td></tr>\n",
       "\t<tr><td>0</td><td>0</td><td>1</td><td> 0</td></tr>\n",
       "\t<tr><td>0</td><td>0</td><td>0</td><td> 0</td></tr>\n",
       "</tbody>\n",
       "</table>\n"
      ],
      "text/latex": [
       "A matrix: 4 × 4 of type dbl\n",
       "\\begin{tabular}{llll}\n",
       "\t 1 & 0 & 0 & -1\\\\\n",
       "\t 0 & 1 & 0 &  1\\\\\n",
       "\t 0 & 0 & 1 &  0\\\\\n",
       "\t 0 & 0 & 0 &  0\\\\\n",
       "\\end{tabular}\n"
      ],
      "text/markdown": [
       "\n",
       "A matrix: 4 × 4 of type dbl\n",
       "\n",
       "| 1 | 0 | 0 | -1 |\n",
       "| 0 | 1 | 0 |  1 |\n",
       "| 0 | 0 | 1 |  0 |\n",
       "| 0 | 0 | 0 |  0 |\n",
       "\n"
      ],
      "text/plain": [
       "     [,1] [,2] [,3] [,4]\n",
       "[1,] 1    0    0    -1  \n",
       "[2,] 0    1    0     1  \n",
       "[3,] 0    0    1     0  \n",
       "[4,] 0    0    0     0  "
      ]
     },
     "metadata": {},
     "output_type": "display_data"
    }
   ],
   "source": [
    "Q%*%A"
   ]
  },
  {
   "cell_type": "markdown",
   "id": "4412da8b",
   "metadata": {},
   "source": [
    "Al ser la última fila todo ceros, ya tenemos la relación de dependencia lineal."
   ]
  },
  {
   "cell_type": "code",
   "execution_count": 15,
   "id": "681afbce",
   "metadata": {},
   "outputs": [
    {
     "data": {
      "text/html": [
       "<table class=\"dataframe\">\n",
       "<caption>A matrix: 1 × 4 of type dbl</caption>\n",
       "<tbody>\n",
       "\t<tr><td>0</td><td>0</td><td>0</td><td>0</td></tr>\n",
       "</tbody>\n",
       "</table>\n"
      ],
      "text/latex": [
       "A matrix: 1 × 4 of type dbl\n",
       "\\begin{tabular}{llll}\n",
       "\t 0 & 0 & 0 & 0\\\\\n",
       "\\end{tabular}\n"
      ],
      "text/markdown": [
       "\n",
       "A matrix: 1 × 4 of type dbl\n",
       "\n",
       "| 0 | 0 | 0 | 0 |\n",
       "\n"
      ],
      "text/plain": [
       "     [,1] [,2] [,3] [,4]\n",
       "[1,] 0    0    0    0   "
      ]
     },
     "metadata": {},
     "output_type": "display_data"
    }
   ],
   "source": [
    "c(1,1,1,-2)%*%A"
   ]
  },
  {
   "cell_type": "markdown",
   "id": "de58fef2",
   "metadata": {},
   "source": [
    "Por lo que $a+b+c-2d=0$."
   ]
  },
  {
   "cell_type": "markdown",
   "id": "7614e9bc",
   "metadata": {},
   "source": [
    "## Cambio de base"
   ]
  },
  {
   "cell_type": "markdown",
   "id": "2c0d6a25",
   "metadata": {},
   "source": [
    "### Ejercicio\n",
    "\n",
    "*En el espacio vectorial $\\mathcal{P}_3(\\mathbb{R})$ de los polinomios de grado menor o igual que $3$, se consideran las bases estándar $B=\\{1,x,x^2, x^3 \\}$ y $B'=\\{x^3+x^2+x+1, x^3+x^2+x, x^3+x^2, x^3\\}$. Determinar la ecuación del cambio de base de $B$ a $B'$ y las coordenadas respecto de $B'$ del vector $p(x)=x^3+2x$.*"
   ]
  },
  {
   "cell_type": "markdown",
   "id": "57d40390",
   "metadata": {},
   "source": [
    "Tenemos que los vectores de $B'$ tienen coordenadas\n",
    "$$\n",
    "\\begin{array}{lcl}\n",
    "x^3+x^2+x+1 &= & (1,1,1,1)_B, \\\\\n",
    "x^3+x^2+x   &= & (0,1,1,1)_B, \\\\\n",
    "x^3+x^2     &= & (0,0,1,1)_B, \\\\\n",
    "x^3         &= & (0,0,0,1)_B.\n",
    "\\end{array}\n",
    "$$\n",
    "\n",
    "Por lo que la matriz de cambio de base de $B'$ a $B$ es \n",
    "$$\n",
    "P=\n",
    "\\begin{pmatrix}\n",
    "1 & 0 & 0 & 0 \\\\\n",
    "1 & 1 & 0 & 0 \\\\\n",
    "1 & 1 & 1 & 0 \\\\\n",
    "1 & 1 & 1 & 1\n",
    "\\end{pmatrix}.\n",
    "$$\n",
    "Y la de $B$ a $B'$ será su inversa."
   ]
  },
  {
   "cell_type": "code",
   "execution_count": 16,
   "id": "d7a35ae7",
   "metadata": {},
   "outputs": [
    {
     "data": {
      "text/html": [
       "<table class=\"dataframe\">\n",
       "<caption>A matrix: 4 × 4 of type dbl</caption>\n",
       "<tbody>\n",
       "\t<tr><td>1</td><td>0</td><td>0</td><td>0</td></tr>\n",
       "\t<tr><td>1</td><td>1</td><td>0</td><td>0</td></tr>\n",
       "\t<tr><td>1</td><td>1</td><td>1</td><td>0</td></tr>\n",
       "\t<tr><td>1</td><td>1</td><td>1</td><td>1</td></tr>\n",
       "</tbody>\n",
       "</table>\n"
      ],
      "text/latex": [
       "A matrix: 4 × 4 of type dbl\n",
       "\\begin{tabular}{llll}\n",
       "\t 1 & 0 & 0 & 0\\\\\n",
       "\t 1 & 1 & 0 & 0\\\\\n",
       "\t 1 & 1 & 1 & 0\\\\\n",
       "\t 1 & 1 & 1 & 1\\\\\n",
       "\\end{tabular}\n"
      ],
      "text/markdown": [
       "\n",
       "A matrix: 4 × 4 of type dbl\n",
       "\n",
       "| 1 | 0 | 0 | 0 |\n",
       "| 1 | 1 | 0 | 0 |\n",
       "| 1 | 1 | 1 | 0 |\n",
       "| 1 | 1 | 1 | 1 |\n",
       "\n"
      ],
      "text/plain": [
       "     [,1] [,2] [,3] [,4]\n",
       "[1,] 1    0    0    0   \n",
       "[2,] 1    1    0    0   \n",
       "[3,] 1    1    1    0   \n",
       "[4,] 1    1    1    1   "
      ]
     },
     "metadata": {},
     "output_type": "display_data"
    }
   ],
   "source": [
    "P<-cbind(c(1,1,1,1),c(0,1,1,1),c(0,0,1,1),c(0,0,0,1))\n",
    "P"
   ]
  },
  {
   "cell_type": "markdown",
   "id": "c9f7bc4f",
   "metadata": {},
   "source": [
    "La inversa la podemos calcular con `pracma::inv` o con `solve`. "
   ]
  },
  {
   "cell_type": "code",
   "execution_count": 17,
   "id": "f794d975",
   "metadata": {},
   "outputs": [
    {
     "data": {
      "text/html": [
       "<table class=\"dataframe\">\n",
       "<caption>A matrix: 4 × 4 of type dbl</caption>\n",
       "<tbody>\n",
       "\t<tr><td> 1</td><td> 0</td><td> 0</td><td>0</td></tr>\n",
       "\t<tr><td>-1</td><td> 1</td><td> 0</td><td>0</td></tr>\n",
       "\t<tr><td> 0</td><td>-1</td><td> 1</td><td>0</td></tr>\n",
       "\t<tr><td> 0</td><td> 0</td><td>-1</td><td>1</td></tr>\n",
       "</tbody>\n",
       "</table>\n"
      ],
      "text/latex": [
       "A matrix: 4 × 4 of type dbl\n",
       "\\begin{tabular}{llll}\n",
       "\t  1 &  0 &  0 & 0\\\\\n",
       "\t -1 &  1 &  0 & 0\\\\\n",
       "\t  0 & -1 &  1 & 0\\\\\n",
       "\t  0 &  0 & -1 & 1\\\\\n",
       "\\end{tabular}\n"
      ],
      "text/markdown": [
       "\n",
       "A matrix: 4 × 4 of type dbl\n",
       "\n",
       "|  1 |  0 |  0 | 0 |\n",
       "| -1 |  1 |  0 | 0 |\n",
       "|  0 | -1 |  1 | 0 |\n",
       "|  0 |  0 | -1 | 1 |\n",
       "\n"
      ],
      "text/plain": [
       "     [,1] [,2] [,3] [,4]\n",
       "[1,]  1    0    0   0   \n",
       "[2,] -1    1    0   0   \n",
       "[3,]  0   -1    1   0   \n",
       "[4,]  0    0   -1   1   "
      ]
     },
     "metadata": {},
     "output_type": "display_data"
    }
   ],
   "source": [
    "inv(P)"
   ]
  },
  {
   "cell_type": "code",
   "execution_count": 18,
   "id": "003e1370",
   "metadata": {},
   "outputs": [
    {
     "data": {
      "text/html": [
       "<table class=\"dataframe\">\n",
       "<caption>A matrix: 4 × 4 of type dbl</caption>\n",
       "<tbody>\n",
       "\t<tr><td> 1</td><td> 0</td><td> 0</td><td>0</td></tr>\n",
       "\t<tr><td>-1</td><td> 1</td><td> 0</td><td>0</td></tr>\n",
       "\t<tr><td> 0</td><td>-1</td><td> 1</td><td>0</td></tr>\n",
       "\t<tr><td> 0</td><td> 0</td><td>-1</td><td>1</td></tr>\n",
       "</tbody>\n",
       "</table>\n"
      ],
      "text/latex": [
       "A matrix: 4 × 4 of type dbl\n",
       "\\begin{tabular}{llll}\n",
       "\t  1 &  0 &  0 & 0\\\\\n",
       "\t -1 &  1 &  0 & 0\\\\\n",
       "\t  0 & -1 &  1 & 0\\\\\n",
       "\t  0 &  0 & -1 & 1\\\\\n",
       "\\end{tabular}\n"
      ],
      "text/markdown": [
       "\n",
       "A matrix: 4 × 4 of type dbl\n",
       "\n",
       "|  1 |  0 |  0 | 0 |\n",
       "| -1 |  1 |  0 | 0 |\n",
       "|  0 | -1 |  1 | 0 |\n",
       "|  0 |  0 | -1 | 1 |\n",
       "\n"
      ],
      "text/plain": [
       "     [,1] [,2] [,3] [,4]\n",
       "[1,]  1    0    0   0   \n",
       "[2,] -1    1    0   0   \n",
       "[3,]  0   -1    1   0   \n",
       "[4,]  0    0   -1   1   "
      ]
     },
     "metadata": {},
     "output_type": "display_data"
    }
   ],
   "source": [
    "solve(P)"
   ]
  },
  {
   "cell_type": "markdown",
   "id": "f3aececd",
   "metadata": {},
   "source": [
    "El polinomio $p(x)$ tiene coordenadas $(0,2,0,1)_B$, por lo que sus coordenadas respecto de $B'$ son"
   ]
  },
  {
   "cell_type": "code",
   "execution_count": 19,
   "id": "5f650d85",
   "metadata": {},
   "outputs": [
    {
     "data": {
      "text/html": [
       "<table class=\"dataframe\">\n",
       "<caption>A matrix: 4 × 1 of type dbl</caption>\n",
       "<tbody>\n",
       "\t<tr><td> 0</td></tr>\n",
       "\t<tr><td> 2</td></tr>\n",
       "\t<tr><td>-2</td></tr>\n",
       "\t<tr><td> 1</td></tr>\n",
       "</tbody>\n",
       "</table>\n"
      ],
      "text/latex": [
       "A matrix: 4 × 1 of type dbl\n",
       "\\begin{tabular}{l}\n",
       "\t  0\\\\\n",
       "\t  2\\\\\n",
       "\t -2\\\\\n",
       "\t  1\\\\\n",
       "\\end{tabular}\n"
      ],
      "text/markdown": [
       "\n",
       "A matrix: 4 × 1 of type dbl\n",
       "\n",
       "|  0 |\n",
       "|  2 |\n",
       "| -2 |\n",
       "|  1 |\n",
       "\n"
      ],
      "text/plain": [
       "     [,1]\n",
       "[1,]  0  \n",
       "[2,]  2  \n",
       "[3,] -2  \n",
       "[4,]  1  "
      ]
     },
     "metadata": {},
     "output_type": "display_data"
    }
   ],
   "source": [
    "inv(P)%*%c(0,2,0,1)"
   ]
  },
  {
   "cell_type": "markdown",
   "id": "35f278c2",
   "metadata": {},
   "source": [
    "esto es, $p(x)=(0,2,-2,1)_{B'}$"
   ]
  },
  {
   "cell_type": "markdown",
   "id": "b5cea394",
   "metadata": {},
   "source": [
    "### Ejercicio\n",
    "\n",
    "*En el espacio vectorial $\\mathbb{R}^3$ se consideran las bases $B'=\\{ (1,1,0), (0,1,2),  (1,0,1) \\}$   y  $B''=\\{(1,0,0), (2,1,0), (1,1,1)\\}$. Determinar la ecuación del cambio de base de $B'$ a $B''$.*"
   ]
  },
  {
   "cell_type": "markdown",
   "id": "e657f5de",
   "metadata": {},
   "source": [
    "Vamos a determinar la matriz de cambio de base $P$ de $B'$ a la base estándar $B$, y luego la de $B$ a $B''$, $Q$. Multiplicando $Q$ y $P$, tendremos la matriz de cambio de base de $B'$ a $B''$."
   ]
  },
  {
   "cell_type": "code",
   "execution_count": 20,
   "id": "01ea16aa",
   "metadata": {},
   "outputs": [],
   "source": [
    "P<-cbind(c(1,1,0),c(0,1,2),c(1,0,1))\n",
    "Q<-inv(cbind(c(1,0,0),c(2,1,0),c(1,1,1)))"
   ]
  },
  {
   "cell_type": "code",
   "execution_count": 24,
   "id": "1bd18c71",
   "metadata": {},
   "outputs": [
    {
     "data": {
      "text/html": [
       "<table class=\"dataframe\">\n",
       "<caption>A matrix: 3 × 3 of type dbl</caption>\n",
       "<tbody>\n",
       "\t<tr><td>1</td><td>0</td><td>1</td></tr>\n",
       "\t<tr><td>1</td><td>1</td><td>0</td></tr>\n",
       "\t<tr><td>0</td><td>2</td><td>1</td></tr>\n",
       "</tbody>\n",
       "</table>\n"
      ],
      "text/latex": [
       "A matrix: 3 × 3 of type dbl\n",
       "\\begin{tabular}{lll}\n",
       "\t 1 & 0 & 1\\\\\n",
       "\t 1 & 1 & 0\\\\\n",
       "\t 0 & 2 & 1\\\\\n",
       "\\end{tabular}\n"
      ],
      "text/markdown": [
       "\n",
       "A matrix: 3 × 3 of type dbl\n",
       "\n",
       "| 1 | 0 | 1 |\n",
       "| 1 | 1 | 0 |\n",
       "| 0 | 2 | 1 |\n",
       "\n"
      ],
      "text/plain": [
       "     [,1] [,2] [,3]\n",
       "[1,] 1    0    1   \n",
       "[2,] 1    1    0   \n",
       "[3,] 0    2    1   "
      ]
     },
     "metadata": {},
     "output_type": "display_data"
    }
   ],
   "source": [
    "P"
   ]
  },
  {
   "cell_type": "code",
   "execution_count": 21,
   "id": "248626eb",
   "metadata": {
    "scrolled": true
   },
   "outputs": [
    {
     "data": {
      "text/html": [
       "<table class=\"dataframe\">\n",
       "<caption>A matrix: 3 × 3 of type dbl</caption>\n",
       "<tbody>\n",
       "\t<tr><td>1</td><td>-2</td><td> 1</td></tr>\n",
       "\t<tr><td>0</td><td> 1</td><td>-1</td></tr>\n",
       "\t<tr><td>0</td><td> 0</td><td> 1</td></tr>\n",
       "</tbody>\n",
       "</table>\n"
      ],
      "text/latex": [
       "A matrix: 3 × 3 of type dbl\n",
       "\\begin{tabular}{lll}\n",
       "\t 1 & -2 &  1\\\\\n",
       "\t 0 &  1 & -1\\\\\n",
       "\t 0 &  0 &  1\\\\\n",
       "\\end{tabular}\n"
      ],
      "text/markdown": [
       "\n",
       "A matrix: 3 × 3 of type dbl\n",
       "\n",
       "| 1 | -2 |  1 |\n",
       "| 0 |  1 | -1 |\n",
       "| 0 |  0 |  1 |\n",
       "\n"
      ],
      "text/plain": [
       "     [,1] [,2] [,3]\n",
       "[1,] 1    -2    1  \n",
       "[2,] 0     1   -1  \n",
       "[3,] 0     0    1  "
      ]
     },
     "metadata": {},
     "output_type": "display_data"
    }
   ],
   "source": [
    "Q"
   ]
  },
  {
   "cell_type": "code",
   "execution_count": 23,
   "id": "a20e78f8",
   "metadata": {},
   "outputs": [
    {
     "data": {
      "text/html": [
       "<table class=\"dataframe\">\n",
       "<caption>A matrix: 3 × 3 of type dbl</caption>\n",
       "<tbody>\n",
       "\t<tr><td>-1</td><td> 0</td><td> 2</td></tr>\n",
       "\t<tr><td> 1</td><td>-1</td><td>-1</td></tr>\n",
       "\t<tr><td> 0</td><td> 2</td><td> 1</td></tr>\n",
       "</tbody>\n",
       "</table>\n"
      ],
      "text/latex": [
       "A matrix: 3 × 3 of type dbl\n",
       "\\begin{tabular}{lll}\n",
       "\t -1 &  0 &  2\\\\\n",
       "\t  1 & -1 & -1\\\\\n",
       "\t  0 &  2 &  1\\\\\n",
       "\\end{tabular}\n"
      ],
      "text/markdown": [
       "\n",
       "A matrix: 3 × 3 of type dbl\n",
       "\n",
       "| -1 |  0 |  2 |\n",
       "|  1 | -1 | -1 |\n",
       "|  0 |  2 |  1 |\n",
       "\n"
      ],
      "text/plain": [
       "     [,1] [,2] [,3]\n",
       "[1,] -1    0    2  \n",
       "[2,]  1   -1   -1  \n",
       "[3,]  0    2    1  "
      ]
     },
     "metadata": {},
     "output_type": "display_data"
    }
   ],
   "source": [
    "Q%*%P"
   ]
  },
  {
   "cell_type": "markdown",
   "id": "409bcd54",
   "metadata": {},
   "source": [
    "## Espresiones de un subespacio"
   ]
  },
  {
   "cell_type": "markdown",
   "id": "a3743181",
   "metadata": {},
   "source": [
    "### Ejercicio\n",
    "\n",
    "*En el espacio vectorial $\\mathcal{P}_3(\\mathbb{K})$ de los polinomios de grado menor o igual que $3$, se considera el subespacio $U$ generado por $2x^3+2x+1, 2x^3+x^2+3x+1, x^3+x^2+2x, 2x^2+2x+1$. Determinar una base de $U$, unas ecuaciones paramétricas y unas cartesianas.*"
   ]
  },
  {
   "cell_type": "markdown",
   "id": "75fd0df5",
   "metadata": {},
   "source": [
    "Consideramos la base estándar $B=\\{1,x,x^2,x^3\\}$ de $\\mathcal{P}_3(\\mathbb{K})$, entonces\n",
    "$$\n",
    "\\begin{array}{rcl}\n",
    " 2x^3+2x+1    & = & (1,2,0,2)_B, \\\\\n",
    "2x^3+x^2+3x+1 & = & (1,3,1,2)_B, \\\\\n",
    "x^3+x^2+2x    & = & (0,2,1,1)_B, \\\\\n",
    "2x^2+2x+1     & = & (1,2,2,0)_B.\n",
    "\\end{array}\n",
    "$$\n",
    "Para encontrar una base, calculamos la forma normal reducida de la matriz cuyas filas son esas coordenadas."
   ]
  },
  {
   "cell_type": "code",
   "execution_count": 25,
   "id": "b33e30c5",
   "metadata": {},
   "outputs": [],
   "source": [
    "A<-rbind(c(1,2,0,2),c(1,3,1,2),c(0,2,1,1),c(1,2,2,0))"
   ]
  },
  {
   "cell_type": "code",
   "execution_count": 28,
   "id": "2bf928a7",
   "metadata": {},
   "outputs": [
    {
     "data": {
      "text/html": [
       "<table class=\"dataframe\">\n",
       "<caption>A matrix: 4 × 4 of type dbl</caption>\n",
       "<tbody>\n",
       "\t<tr><td>1</td><td>0</td><td>0</td><td> 0</td></tr>\n",
       "\t<tr><td>0</td><td>1</td><td>0</td><td> 1</td></tr>\n",
       "\t<tr><td>0</td><td>0</td><td>1</td><td>-1</td></tr>\n",
       "\t<tr><td>0</td><td>0</td><td>0</td><td> 0</td></tr>\n",
       "</tbody>\n",
       "</table>\n"
      ],
      "text/latex": [
       "A matrix: 4 × 4 of type dbl\n",
       "\\begin{tabular}{llll}\n",
       "\t 1 & 0 & 0 &  0\\\\\n",
       "\t 0 & 1 & 0 &  1\\\\\n",
       "\t 0 & 0 & 1 & -1\\\\\n",
       "\t 0 & 0 & 0 &  0\\\\\n",
       "\\end{tabular}\n"
      ],
      "text/markdown": [
       "\n",
       "A matrix: 4 × 4 of type dbl\n",
       "\n",
       "| 1 | 0 | 0 |  0 |\n",
       "| 0 | 1 | 0 |  1 |\n",
       "| 0 | 0 | 1 | -1 |\n",
       "| 0 | 0 | 0 |  0 |\n",
       "\n"
      ],
      "text/plain": [
       "     [,1] [,2] [,3] [,4]\n",
       "[1,] 1    0    0     0  \n",
       "[2,] 0    1    0     1  \n",
       "[3,] 0    0    1    -1  \n",
       "[4,] 0    0    0     0  "
      ]
     },
     "metadata": {},
     "output_type": "display_data"
    }
   ],
   "source": [
    "rA<-rref(A)\n",
    "rA"
   ]
  },
  {
   "cell_type": "markdown",
   "id": "31abc75d",
   "metadata": {},
   "source": [
    "Por lo que una base de $U$ es $\\{(1,0,0,0),(0,1,0,1),(0,0,1,-1)\\}$. Las ecuaciones paramétricas serán\n",
    "$$\n",
    "\\left\\{ \\begin{array}{rcl}\n",
    "x_1 &=& \\lambda,     \\\\\n",
    "x_2 &=& \\mu,  \\\\\n",
    "x_3 &=& \\gamma, \\\\\n",
    "x_4  &=&  \\mu - \\gamma.\n",
    "\\end{array} \\right.\n",
    "$$"
   ]
  },
  {
   "cell_type": "markdown",
   "id": "1e63123d",
   "metadata": {},
   "source": [
    "Para encontrar las ecuaciones implícitas, vamos a colocar los vectores de la base que hemos elegido de $U$ por columnas."
   ]
  },
  {
   "cell_type": "code",
   "execution_count": 30,
   "id": "90b99b19",
   "metadata": {},
   "outputs": [
    {
     "data": {
      "text/html": [
       "<table class=\"dataframe\">\n",
       "<caption>A matrix: 4 × 3 of type dbl</caption>\n",
       "<tbody>\n",
       "\t<tr><td>1</td><td>0</td><td> 0</td></tr>\n",
       "\t<tr><td>0</td><td>1</td><td> 0</td></tr>\n",
       "\t<tr><td>0</td><td>0</td><td> 1</td></tr>\n",
       "\t<tr><td>0</td><td>1</td><td>-1</td></tr>\n",
       "</tbody>\n",
       "</table>\n"
      ],
      "text/latex": [
       "A matrix: 4 × 3 of type dbl\n",
       "\\begin{tabular}{lll}\n",
       "\t 1 & 0 &  0\\\\\n",
       "\t 0 & 1 &  0\\\\\n",
       "\t 0 & 0 &  1\\\\\n",
       "\t 0 & 1 & -1\\\\\n",
       "\\end{tabular}\n"
      ],
      "text/markdown": [
       "\n",
       "A matrix: 4 × 3 of type dbl\n",
       "\n",
       "| 1 | 0 |  0 |\n",
       "| 0 | 1 |  0 |\n",
       "| 0 | 0 |  1 |\n",
       "| 0 | 1 | -1 |\n",
       "\n"
      ],
      "text/plain": [
       "     [,1] [,2] [,3]\n",
       "[1,] 1    0     0  \n",
       "[2,] 0    1     0  \n",
       "[3,] 0    0     1  \n",
       "[4,] 0    1    -1  "
      ]
     },
     "metadata": {},
     "output_type": "display_data"
    }
   ],
   "source": [
    "U<-t(rA[1:3,])\n",
    "U"
   ]
  },
  {
   "cell_type": "markdown",
   "id": "a92541ce",
   "metadata": {},
   "source": [
    "Le añadimos la identidad."
   ]
  },
  {
   "cell_type": "code",
   "execution_count": 57,
   "id": "48fd1fc1",
   "metadata": {},
   "outputs": [
    {
     "data": {
      "text/html": [
       "<table class=\"dataframe\">\n",
       "<caption>A matrix: 4 × 7 of type dbl</caption>\n",
       "<tbody>\n",
       "\t<tr><td>1</td><td>0</td><td> 0</td><td>1</td><td>0</td><td>0</td><td>0</td></tr>\n",
       "\t<tr><td>0</td><td>1</td><td> 0</td><td>0</td><td>1</td><td>0</td><td>0</td></tr>\n",
       "\t<tr><td>0</td><td>0</td><td> 1</td><td>0</td><td>0</td><td>1</td><td>0</td></tr>\n",
       "\t<tr><td>0</td><td>1</td><td>-1</td><td>0</td><td>0</td><td>0</td><td>1</td></tr>\n",
       "</tbody>\n",
       "</table>\n"
      ],
      "text/latex": [
       "A matrix: 4 × 7 of type dbl\n",
       "\\begin{tabular}{lllllll}\n",
       "\t 1 & 0 &  0 & 1 & 0 & 0 & 0\\\\\n",
       "\t 0 & 1 &  0 & 0 & 1 & 0 & 0\\\\\n",
       "\t 0 & 0 &  1 & 0 & 0 & 1 & 0\\\\\n",
       "\t 0 & 1 & -1 & 0 & 0 & 0 & 1\\\\\n",
       "\\end{tabular}\n"
      ],
      "text/markdown": [
       "\n",
       "A matrix: 4 × 7 of type dbl\n",
       "\n",
       "| 1 | 0 |  0 | 1 | 0 | 0 | 0 |\n",
       "| 0 | 1 |  0 | 0 | 1 | 0 | 0 |\n",
       "| 0 | 0 |  1 | 0 | 0 | 1 | 0 |\n",
       "| 0 | 1 | -1 | 0 | 0 | 0 | 1 |\n",
       "\n"
      ],
      "text/plain": [
       "     [,1] [,2] [,3] [,4] [,5] [,6] [,7]\n",
       "[1,] 1    0     0   1    0    0    0   \n",
       "[2,] 0    1     0   0    1    0    0   \n",
       "[3,] 0    0     1   0    0    1    0   \n",
       "[4,] 0    1    -1   0    0    0    1   "
      ]
     },
     "metadata": {},
     "output_type": "display_data"
    }
   ],
   "source": [
    "cbind(U,diag(4))"
   ]
  },
  {
   "cell_type": "markdown",
   "id": "17d43fec",
   "metadata": {},
   "source": [
    "Eliminar parámetros (tres primeras columnas) se corresponde con encontrar la forma reducida por filas, y ver en qué filas dejan de haber parámetros."
   ]
  },
  {
   "cell_type": "code",
   "execution_count": 31,
   "id": "1aeb4641",
   "metadata": {},
   "outputs": [
    {
     "data": {
      "text/html": [
       "<table class=\"dataframe\">\n",
       "<caption>A matrix: 4 × 7 of type dbl</caption>\n",
       "<tbody>\n",
       "\t<tr><td>1</td><td>0</td><td>0</td><td>1</td><td>0</td><td> 0</td><td> 0</td></tr>\n",
       "\t<tr><td>0</td><td>1</td><td>0</td><td>0</td><td>0</td><td> 1</td><td> 1</td></tr>\n",
       "\t<tr><td>0</td><td>0</td><td>1</td><td>0</td><td>0</td><td> 1</td><td> 0</td></tr>\n",
       "\t<tr><td>0</td><td>0</td><td>0</td><td>0</td><td>1</td><td>-1</td><td>-1</td></tr>\n",
       "</tbody>\n",
       "</table>\n"
      ],
      "text/latex": [
       "A matrix: 4 × 7 of type dbl\n",
       "\\begin{tabular}{lllllll}\n",
       "\t 1 & 0 & 0 & 1 & 0 &  0 &  0\\\\\n",
       "\t 0 & 1 & 0 & 0 & 0 &  1 &  1\\\\\n",
       "\t 0 & 0 & 1 & 0 & 0 &  1 &  0\\\\\n",
       "\t 0 & 0 & 0 & 0 & 1 & -1 & -1\\\\\n",
       "\\end{tabular}\n"
      ],
      "text/markdown": [
       "\n",
       "A matrix: 4 × 7 of type dbl\n",
       "\n",
       "| 1 | 0 | 0 | 1 | 0 |  0 |  0 |\n",
       "| 0 | 1 | 0 | 0 | 0 |  1 |  1 |\n",
       "| 0 | 0 | 1 | 0 | 0 |  1 |  0 |\n",
       "| 0 | 0 | 0 | 0 | 1 | -1 | -1 |\n",
       "\n"
      ],
      "text/plain": [
       "     [,1] [,2] [,3] [,4] [,5] [,6] [,7]\n",
       "[1,] 1    0    0    1    0     0    0  \n",
       "[2,] 0    1    0    0    0     1    1  \n",
       "[3,] 0    0    1    0    0     1    0  \n",
       "[4,] 0    0    0    0    1    -1   -1  "
      ]
     },
     "metadata": {},
     "output_type": "display_data"
    }
   ],
   "source": [
    "rref(cbind(U,diag(4)))"
   ]
  },
  {
   "cell_type": "markdown",
   "id": "a550022c",
   "metadata": {},
   "source": [
    "De la última fila se deduce que una ecuación implícita de $U$ es $x_2-x_3-x_4=0$."
   ]
  },
  {
   "cell_type": "markdown",
   "id": "e6c812fe",
   "metadata": {},
   "source": [
    "### Ejercicio\n",
    "\n",
    "*En $\\mathfrak{M}_2(\\mathbb{R})$ se considera el subespacio $U$ que tiene ecuaciones cartesianas respecto de la base estándar*\n",
    "$$\n",
    "\\left\\{ \\begin{array}{rcl}\n",
    "x+y+t&=& 0, \\\\\n",
    "2x-y+t&=& 0.\n",
    "\\end{array} \\right.\n",
    "$$\n",
    "*Determinar una base de $U$.*"
   ]
  },
  {
   "cell_type": "code",
   "execution_count": 35,
   "id": "34dab13d",
   "metadata": {},
   "outputs": [
    {
     "data": {
      "text/html": [
       "<table class=\"dataframe\">\n",
       "<caption>A matrix: 2 × 5 of type dbl</caption>\n",
       "<tbody>\n",
       "\t<tr><td>1</td><td> 1</td><td>0</td><td>1</td><td>0</td></tr>\n",
       "\t<tr><td>2</td><td>-1</td><td>0</td><td>1</td><td>0</td></tr>\n",
       "</tbody>\n",
       "</table>\n"
      ],
      "text/latex": [
       "A matrix: 2 × 5 of type dbl\n",
       "\\begin{tabular}{lllll}\n",
       "\t 1 &  1 & 0 & 1 & 0\\\\\n",
       "\t 2 & -1 & 0 & 1 & 0\\\\\n",
       "\\end{tabular}\n"
      ],
      "text/markdown": [
       "\n",
       "A matrix: 2 × 5 of type dbl\n",
       "\n",
       "| 1 |  1 | 0 | 1 | 0 |\n",
       "| 2 | -1 | 0 | 1 | 0 |\n",
       "\n"
      ],
      "text/plain": [
       "     [,1] [,2] [,3] [,4] [,5]\n",
       "[1,] 1     1   0    1    0   \n",
       "[2,] 2    -1   0    1    0   "
      ]
     },
     "metadata": {},
     "output_type": "display_data"
    }
   ],
   "source": [
    "A<-rbind(c(1,1,0,1),c(2,-1,0,1))\n",
    "Ab<-cbind(A,c(0,0))\n",
    "Ab"
   ]
  },
  {
   "cell_type": "code",
   "execution_count": 36,
   "id": "e31ae531",
   "metadata": {},
   "outputs": [
    {
     "data": {
      "text/html": [
       "<table class=\"dataframe\">\n",
       "<caption>A matrix: 2 × 5 of type dbl</caption>\n",
       "<tbody>\n",
       "\t<tr><td>1</td><td>0</td><td>0</td><td>0.6666667</td><td>0</td></tr>\n",
       "\t<tr><td>0</td><td>1</td><td>0</td><td>0.3333333</td><td>0</td></tr>\n",
       "</tbody>\n",
       "</table>\n"
      ],
      "text/latex": [
       "A matrix: 2 × 5 of type dbl\n",
       "\\begin{tabular}{lllll}\n",
       "\t 1 & 0 & 0 & 0.6666667 & 0\\\\\n",
       "\t 0 & 1 & 0 & 0.3333333 & 0\\\\\n",
       "\\end{tabular}\n"
      ],
      "text/markdown": [
       "\n",
       "A matrix: 2 × 5 of type dbl\n",
       "\n",
       "| 1 | 0 | 0 | 0.6666667 | 0 |\n",
       "| 0 | 1 | 0 | 0.3333333 | 0 |\n",
       "\n"
      ],
      "text/plain": [
       "     [,1] [,2] [,3] [,4]      [,5]\n",
       "[1,] 1    0    0    0.6666667 0   \n",
       "[2,] 0    1    0    0.3333333 0   "
      ]
     },
     "metadata": {},
     "output_type": "display_data"
    }
   ],
   "source": [
    "rref(Ab)"
   ]
  },
  {
   "cell_type": "markdown",
   "id": "021f635a",
   "metadata": {},
   "source": [
    "Por lo que nuestro sistema original es equivalente a\n",
    "$$\n",
    "\\left\\{ \\begin{array}{rcl}\n",
    "x+\\frac{2}{3} t&=& 0, \\\\\n",
    "y+\\frac{1}{3}t&=& 0. \n",
    "\\end{array} \\right.\n",
    "$$"
   ]
  },
  {
   "cell_type": "markdown",
   "id": "ed81c580",
   "metadata": {},
   "source": [
    "Tomando como parámetros $z$ y $t$, y pasando a paramétricas obtenemos que una base de $U$ es $\\{(0,0,1,0)_B, (-2/3,-1/3,0,1)_B\\}$, esto es, \n",
    "$$\n",
    "\\left\\{\\begin{pmatrix}\n",
    "-\\frac{2}{3} & -\\frac{1}{3} \\\\\n",
    "0 & 1\n",
    "\\end{pmatrix}\n",
    ",\n",
    "\\;\n",
    "\\begin{pmatrix}\n",
    "0 & 0 \\\\\n",
    "1 & 0\n",
    "\\end{pmatrix}\n",
    "\\right\\}.\n",
    "$$ "
   ]
  },
  {
   "cell_type": "markdown",
   "id": "bca79756",
   "metadata": {},
   "source": [
    "Esto también lo podemos obtener calculando la forma reducida por filas de la traspuesta de $A$. "
   ]
  },
  {
   "cell_type": "code",
   "execution_count": 46,
   "id": "4bf77f24",
   "metadata": {
    "scrolled": true
   },
   "outputs": [
    {
     "data": {
      "text/html": [
       "<table class=\"dataframe\">\n",
       "<caption>A matrix: 4 × 6 of type dbl</caption>\n",
       "<tbody>\n",
       "\t<tr><td>1</td><td>0</td><td>0</td><td> 0.5</td><td>0</td><td> 0.5</td></tr>\n",
       "\t<tr><td>0</td><td>1</td><td>0</td><td>-0.5</td><td>0</td><td> 0.5</td></tr>\n",
       "\t<tr><td>0</td><td>0</td><td>1</td><td> 0.5</td><td>0</td><td>-1.5</td></tr>\n",
       "\t<tr><td>0</td><td>0</td><td>0</td><td> 0.0</td><td>1</td><td> 0.0</td></tr>\n",
       "</tbody>\n",
       "</table>\n"
      ],
      "text/latex": [
       "A matrix: 4 × 6 of type dbl\n",
       "\\begin{tabular}{llllll}\n",
       "\t 1 & 0 & 0 &  0.5 & 0 &  0.5\\\\\n",
       "\t 0 & 1 & 0 & -0.5 & 0 &  0.5\\\\\n",
       "\t 0 & 0 & 1 &  0.5 & 0 & -1.5\\\\\n",
       "\t 0 & 0 & 0 &  0.0 & 1 &  0.0\\\\\n",
       "\\end{tabular}\n"
      ],
      "text/markdown": [
       "\n",
       "A matrix: 4 × 6 of type dbl\n",
       "\n",
       "| 1 | 0 | 0 |  0.5 | 0 |  0.5 |\n",
       "| 0 | 1 | 0 | -0.5 | 0 |  0.5 |\n",
       "| 0 | 0 | 1 |  0.5 | 0 | -1.5 |\n",
       "| 0 | 0 | 0 |  0.0 | 1 |  0.0 |\n",
       "\n"
      ],
      "text/plain": [
       "     [,1] [,2] [,3] [,4] [,5] [,6]\n",
       "[1,] 1    0    0     0.5 0     0.5\n",
       "[2,] 0    1    0    -0.5 0     0.5\n",
       "[3,] 0    0    1     0.5 0    -1.5\n",
       "[4,] 0    0    0     0.0 1     0.0"
      ]
     },
     "metadata": {},
     "output_type": "display_data"
    }
   ],
   "source": [
    "rtAI<-rref(cbind(t(A),diag(4)))\n",
    "rtAI"
   ]
  },
  {
   "cell_type": "markdown",
   "id": "d1b8cfee",
   "metadata": {},
   "source": [
    "La matriz de paso es "
   ]
  },
  {
   "cell_type": "code",
   "execution_count": 51,
   "id": "f48a8637",
   "metadata": {},
   "outputs": [
    {
     "data": {
      "text/html": [
       "<table class=\"dataframe\">\n",
       "<caption>A matrix: 4 × 4 of type dbl</caption>\n",
       "<tbody>\n",
       "\t<tr><td>0</td><td> 0.5</td><td>0</td><td> 0.5</td></tr>\n",
       "\t<tr><td>0</td><td>-0.5</td><td>0</td><td> 0.5</td></tr>\n",
       "\t<tr><td>1</td><td> 0.5</td><td>0</td><td>-1.5</td></tr>\n",
       "\t<tr><td>0</td><td> 0.0</td><td>1</td><td> 0.0</td></tr>\n",
       "</tbody>\n",
       "</table>\n"
      ],
      "text/latex": [
       "A matrix: 4 × 4 of type dbl\n",
       "\\begin{tabular}{llll}\n",
       "\t 0 &  0.5 & 0 &  0.5\\\\\n",
       "\t 0 & -0.5 & 0 &  0.5\\\\\n",
       "\t 1 &  0.5 & 0 & -1.5\\\\\n",
       "\t 0 &  0.0 & 1 &  0.0\\\\\n",
       "\\end{tabular}\n"
      ],
      "text/markdown": [
       "\n",
       "A matrix: 4 × 4 of type dbl\n",
       "\n",
       "| 0 |  0.5 | 0 |  0.5 |\n",
       "| 0 | -0.5 | 0 |  0.5 |\n",
       "| 1 |  0.5 | 0 | -1.5 |\n",
       "| 0 |  0.0 | 1 |  0.0 |\n",
       "\n"
      ],
      "text/plain": [
       "     [,1] [,2] [,3] [,4]\n",
       "[1,] 0     0.5 0     0.5\n",
       "[2,] 0    -0.5 0     0.5\n",
       "[3,] 1     0.5 0    -1.5\n",
       "[4,] 0     0.0 1     0.0"
      ]
     },
     "metadata": {},
     "output_type": "display_data"
    }
   ],
   "source": [
    "Q<-rtAI[,-(1:2)]\n",
    "Q"
   ]
  },
  {
   "cell_type": "markdown",
   "id": "bdbf80b4",
   "metadata": {},
   "source": [
    "Al ser las dos últimas filas de la forma reducida de `t(A)` cero, esto nos dice que las dos últimas filas de $Q$ son una base para $U$, pues son linealmente independientes y verifican las ecuaciones de $U$."
   ]
  },
  {
   "cell_type": "code",
   "execution_count": 56,
   "id": "299564e2",
   "metadata": {},
   "outputs": [
    {
     "data": {
      "text/html": [
       "<table class=\"dataframe\">\n",
       "<caption>A matrix: 2 × 4 of type dbl</caption>\n",
       "<tbody>\n",
       "\t<tr><td>1</td><td>0.5</td><td>0</td><td>-1.5</td></tr>\n",
       "\t<tr><td>0</td><td>0.0</td><td>1</td><td> 0.0</td></tr>\n",
       "</tbody>\n",
       "</table>\n"
      ],
      "text/latex": [
       "A matrix: 2 × 4 of type dbl\n",
       "\\begin{tabular}{llll}\n",
       "\t 1 & 0.5 & 0 & -1.5\\\\\n",
       "\t 0 & 0.0 & 1 &  0.0\\\\\n",
       "\\end{tabular}\n"
      ],
      "text/markdown": [
       "\n",
       "A matrix: 2 × 4 of type dbl\n",
       "\n",
       "| 1 | 0.5 | 0 | -1.5 |\n",
       "| 0 | 0.0 | 1 |  0.0 |\n",
       "\n"
      ],
      "text/plain": [
       "     [,1] [,2] [,3] [,4]\n",
       "[1,] 1    0.5  0    -1.5\n",
       "[2,] 0    0.0  1     0.0"
      ]
     },
     "metadata": {},
     "output_type": "display_data"
    }
   ],
   "source": [
    "Q[3:4,]"
   ]
  },
  {
   "cell_type": "markdown",
   "id": "8a6d961e",
   "metadata": {},
   "source": [
    "Lo que nos dice que otra posible base es $\\{(0,0,1,0)_B,(1,1/2,0,-3/2)_B\\}$ (nótese que el último vector es $-2/3$ por el segundo vector que obtuvimos antes)."
   ]
  },
  {
   "cell_type": "markdown",
   "id": "3dc41191",
   "metadata": {},
   "source": [
    "## Suma e intersección de subespacios"
   ]
  },
  {
   "cell_type": "markdown",
   "id": "82da900c",
   "metadata": {},
   "source": [
    "### Ejercicio\n",
    "\n",
    "*Determinar bases de la suma y la intersección de los subespacios $U=\\mathcal{L}((1,1,0,0), (0,0,1,1))$ y $W=\\mathcal{L}((1,1,1,0), (1,1,1,1))$ de $\\mathbb{R}^4$.*"
   ]
  },
  {
   "cell_type": "markdown",
   "id": "86f3ec4c",
   "metadata": {},
   "source": [
    "Para calcular la suma, basta con calcular una base del espacio vectorial generado por la unión de los generadores de $U$ y $V$."
   ]
  },
  {
   "cell_type": "code",
   "execution_count": 58,
   "id": "e7956609",
   "metadata": {},
   "outputs": [
    {
     "data": {
      "text/html": [
       "<table class=\"dataframe\">\n",
       "<caption>A matrix: 4 × 4 of type dbl</caption>\n",
       "<tbody>\n",
       "\t<tr><td>1</td><td>1</td><td>0</td><td>0</td></tr>\n",
       "\t<tr><td>0</td><td>0</td><td>1</td><td>0</td></tr>\n",
       "\t<tr><td>0</td><td>0</td><td>0</td><td>1</td></tr>\n",
       "\t<tr><td>0</td><td>0</td><td>0</td><td>0</td></tr>\n",
       "</tbody>\n",
       "</table>\n"
      ],
      "text/latex": [
       "A matrix: 4 × 4 of type dbl\n",
       "\\begin{tabular}{llll}\n",
       "\t 1 & 1 & 0 & 0\\\\\n",
       "\t 0 & 0 & 1 & 0\\\\\n",
       "\t 0 & 0 & 0 & 1\\\\\n",
       "\t 0 & 0 & 0 & 0\\\\\n",
       "\\end{tabular}\n"
      ],
      "text/markdown": [
       "\n",
       "A matrix: 4 × 4 of type dbl\n",
       "\n",
       "| 1 | 1 | 0 | 0 |\n",
       "| 0 | 0 | 1 | 0 |\n",
       "| 0 | 0 | 0 | 1 |\n",
       "| 0 | 0 | 0 | 0 |\n",
       "\n"
      ],
      "text/plain": [
       "     [,1] [,2] [,3] [,4]\n",
       "[1,] 1    1    0    0   \n",
       "[2,] 0    0    1    0   \n",
       "[3,] 0    0    0    1   \n",
       "[4,] 0    0    0    0   "
      ]
     },
     "metadata": {},
     "output_type": "display_data"
    }
   ],
   "source": [
    "U<-rbind(c(1,1,0,0),c(0,0,1,1))\n",
    "V<-rbind(c(1,1,1,0),c(1,1,1,1))\n",
    "rref(rbind(U,V))"
   ]
  },
  {
   "cell_type": "markdown",
   "id": "65b998ed",
   "metadata": {},
   "source": [
    "Luego la suma está generada por $\\{(1,1,0,0),(0,0,1,0),(0,0,0,1)\\}$."
   ]
  },
  {
   "cell_type": "markdown",
   "id": "2b4ba20e",
   "metadata": {},
   "source": [
    "Para la intersección, calculamos las ecuaciones implícitas de $U$ y $V$, y luego las juntamos."
   ]
  },
  {
   "cell_type": "code",
   "execution_count": 61,
   "id": "307dd69b",
   "metadata": {
    "scrolled": true
   },
   "outputs": [
    {
     "data": {
      "text/html": [
       "<table class=\"dataframe\">\n",
       "<caption>A matrix: 4 × 6 of type dbl</caption>\n",
       "<tbody>\n",
       "\t<tr><td>1</td><td>0</td><td>0</td><td> 1</td><td>0</td><td> 0</td></tr>\n",
       "\t<tr><td>0</td><td>1</td><td>0</td><td> 0</td><td>0</td><td> 1</td></tr>\n",
       "\t<tr><td>0</td><td>0</td><td>1</td><td>-1</td><td>0</td><td> 0</td></tr>\n",
       "\t<tr><td>0</td><td>0</td><td>0</td><td> 0</td><td>1</td><td>-1</td></tr>\n",
       "</tbody>\n",
       "</table>\n"
      ],
      "text/latex": [
       "A matrix: 4 × 6 of type dbl\n",
       "\\begin{tabular}{llllll}\n",
       "\t 1 & 0 & 0 &  1 & 0 &  0\\\\\n",
       "\t 0 & 1 & 0 &  0 & 0 &  1\\\\\n",
       "\t 0 & 0 & 1 & -1 & 0 &  0\\\\\n",
       "\t 0 & 0 & 0 &  0 & 1 & -1\\\\\n",
       "\\end{tabular}\n"
      ],
      "text/markdown": [
       "\n",
       "A matrix: 4 × 6 of type dbl\n",
       "\n",
       "| 1 | 0 | 0 |  1 | 0 |  0 |\n",
       "| 0 | 1 | 0 |  0 | 0 |  1 |\n",
       "| 0 | 0 | 1 | -1 | 0 |  0 |\n",
       "| 0 | 0 | 0 |  0 | 1 | -1 |\n",
       "\n"
      ],
      "text/plain": [
       "     [,1] [,2] [,3] [,4] [,5] [,6]\n",
       "[1,] 1    0    0     1   0     0  \n",
       "[2,] 0    1    0     0   0     1  \n",
       "[3,] 0    0    1    -1   0     0  \n",
       "[4,] 0    0    0     0   1    -1  "
      ]
     },
     "metadata": {},
     "output_type": "display_data"
    }
   ],
   "source": [
    "rtUI<-rref(cbind(t(U),diag(4)))\n",
    "rtUI"
   ]
  },
  {
   "cell_type": "markdown",
   "id": "164db5bf",
   "metadata": {},
   "source": [
    "Las ecuaciones de $U$ corresponden a las dos últimas vilas de esa forma reducida: $x-y=0$, $z-t=0$."
   ]
  },
  {
   "cell_type": "code",
   "execution_count": 62,
   "id": "4310ce9c",
   "metadata": {},
   "outputs": [
    {
     "data": {
      "text/html": [
       "<table class=\"dataframe\">\n",
       "<caption>A matrix: 4 × 6 of type dbl</caption>\n",
       "<tbody>\n",
       "\t<tr><td>1</td><td>0</td><td>0</td><td>0</td><td> 1</td><td>-1</td></tr>\n",
       "\t<tr><td>0</td><td>1</td><td>0</td><td>0</td><td> 0</td><td> 1</td></tr>\n",
       "\t<tr><td>0</td><td>0</td><td>1</td><td>0</td><td>-1</td><td> 0</td></tr>\n",
       "\t<tr><td>0</td><td>0</td><td>0</td><td>1</td><td>-1</td><td> 0</td></tr>\n",
       "</tbody>\n",
       "</table>\n"
      ],
      "text/latex": [
       "A matrix: 4 × 6 of type dbl\n",
       "\\begin{tabular}{llllll}\n",
       "\t 1 & 0 & 0 & 0 &  1 & -1\\\\\n",
       "\t 0 & 1 & 0 & 0 &  0 &  1\\\\\n",
       "\t 0 & 0 & 1 & 0 & -1 &  0\\\\\n",
       "\t 0 & 0 & 0 & 1 & -1 &  0\\\\\n",
       "\\end{tabular}\n"
      ],
      "text/markdown": [
       "\n",
       "A matrix: 4 × 6 of type dbl\n",
       "\n",
       "| 1 | 0 | 0 | 0 |  1 | -1 |\n",
       "| 0 | 1 | 0 | 0 |  0 |  1 |\n",
       "| 0 | 0 | 1 | 0 | -1 |  0 |\n",
       "| 0 | 0 | 0 | 1 | -1 |  0 |\n",
       "\n"
      ],
      "text/plain": [
       "     [,1] [,2] [,3] [,4] [,5] [,6]\n",
       "[1,] 1    0    0    0     1   -1  \n",
       "[2,] 0    1    0    0     0    1  \n",
       "[3,] 0    0    1    0    -1    0  \n",
       "[4,] 0    0    0    1    -1    0  "
      ]
     },
     "metadata": {},
     "output_type": "display_data"
    }
   ],
   "source": [
    "rtVI<-rref(cbind(t(V),diag(4)))\n",
    "rtVI"
   ]
  },
  {
   "cell_type": "markdown",
   "id": "b0af998a",
   "metadata": {},
   "source": [
    "Las de $V$ son $x-y=0$, $y-t=0$. Las de la intersección por tanto se obtienen juntando estas ecuaciones y reduciendo."
   ]
  },
  {
   "cell_type": "code",
   "execution_count": 78,
   "id": "4d9ce39b",
   "metadata": {},
   "outputs": [
    {
     "data": {
      "text/html": [
       "<table class=\"dataframe\">\n",
       "<caption>A matrix: 4 × 4 of type dbl</caption>\n",
       "<tbody>\n",
       "\t<tr><td>1</td><td>-1</td><td> 0</td><td> 0</td></tr>\n",
       "\t<tr><td>0</td><td> 0</td><td> 1</td><td>-1</td></tr>\n",
       "\t<tr><td>1</td><td> 0</td><td>-1</td><td> 0</td></tr>\n",
       "\t<tr><td>0</td><td> 1</td><td>-1</td><td> 0</td></tr>\n",
       "</tbody>\n",
       "</table>\n"
      ],
      "text/latex": [
       "A matrix: 4 × 4 of type dbl\n",
       "\\begin{tabular}{llll}\n",
       "\t 1 & -1 &  0 &  0\\\\\n",
       "\t 0 &  0 &  1 & -1\\\\\n",
       "\t 1 &  0 & -1 &  0\\\\\n",
       "\t 0 &  1 & -1 &  0\\\\\n",
       "\\end{tabular}\n"
      ],
      "text/markdown": [
       "\n",
       "A matrix: 4 × 4 of type dbl\n",
       "\n",
       "| 1 | -1 |  0 |  0 |\n",
       "| 0 |  0 |  1 | -1 |\n",
       "| 1 |  0 | -1 |  0 |\n",
       "| 0 |  1 | -1 |  0 |\n",
       "\n"
      ],
      "text/plain": [
       "     [,1] [,2] [,3] [,4]\n",
       "[1,] 1    -1    0    0  \n",
       "[2,] 0     0    1   -1  \n",
       "[3,] 1     0   -1    0  \n",
       "[4,] 0     1   -1    0  "
      ]
     },
     "metadata": {},
     "output_type": "display_data"
    }
   ],
   "source": [
    "rbind(rtUI[3:4,3:6],rtVI[3:4,3:6])"
   ]
  },
  {
   "cell_type": "code",
   "execution_count": 79,
   "id": "78b2b0ce",
   "metadata": {},
   "outputs": [
    {
     "data": {
      "text/html": [
       "<table class=\"dataframe\">\n",
       "<caption>A matrix: 4 × 4 of type dbl</caption>\n",
       "<tbody>\n",
       "\t<tr><td>1</td><td>0</td><td>0</td><td>-1</td></tr>\n",
       "\t<tr><td>0</td><td>1</td><td>0</td><td>-1</td></tr>\n",
       "\t<tr><td>0</td><td>0</td><td>1</td><td>-1</td></tr>\n",
       "\t<tr><td>0</td><td>0</td><td>0</td><td> 0</td></tr>\n",
       "</tbody>\n",
       "</table>\n"
      ],
      "text/latex": [
       "A matrix: 4 × 4 of type dbl\n",
       "\\begin{tabular}{llll}\n",
       "\t 1 & 0 & 0 & -1\\\\\n",
       "\t 0 & 1 & 0 & -1\\\\\n",
       "\t 0 & 0 & 1 & -1\\\\\n",
       "\t 0 & 0 & 0 &  0\\\\\n",
       "\\end{tabular}\n"
      ],
      "text/markdown": [
       "\n",
       "A matrix: 4 × 4 of type dbl\n",
       "\n",
       "| 1 | 0 | 0 | -1 |\n",
       "| 0 | 1 | 0 | -1 |\n",
       "| 0 | 0 | 1 | -1 |\n",
       "| 0 | 0 | 0 |  0 |\n",
       "\n"
      ],
      "text/plain": [
       "     [,1] [,2] [,3] [,4]\n",
       "[1,] 1    0    0    -1  \n",
       "[2,] 0    1    0    -1  \n",
       "[3,] 0    0    1    -1  \n",
       "[4,] 0    0    0     0  "
      ]
     },
     "metadata": {},
     "output_type": "display_data"
    }
   ],
   "source": [
    "eqUiV<-rref(rbind(rtUI[3:4,3:6],rtVI[3:4,3:6]))\n",
    "eqUiV"
   ]
  },
  {
   "cell_type": "markdown",
   "id": "a76a7844",
   "metadata": {},
   "source": [
    "Por tanto las ecuaciones de la intersección son\n",
    "$$\n",
    "\\left\\{ \\begin{array}{rcl}\n",
    "x - t &=& 0, \\\\\n",
    "y - t &=&  0, \\\\\n",
    "z - t &=& 0.\n",
    "\\end{array} \\right.\n",
    "$$"
   ]
  },
  {
   "cell_type": "markdown",
   "id": "595c1333",
   "metadata": {},
   "source": [
    "Teniendo así que $U\\cap V$ está generado por $(1,1,1,1)$."
   ]
  }
 ],
 "metadata": {
  "kernelspec": {
   "display_name": "R",
   "language": "R",
   "name": "ir"
  },
  "language_info": {
   "codemirror_mode": "r",
   "file_extension": ".r",
   "mimetype": "text/x-r-source",
   "name": "R",
   "pygments_lexer": "r",
   "version": "4.2.2"
  }
 },
 "nbformat": 4,
 "nbformat_minor": 5
}
