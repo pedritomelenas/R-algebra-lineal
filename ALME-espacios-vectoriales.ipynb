{
 "cells": [
  {
   "cell_type": "markdown",
   "id": "a07b850c",
   "metadata": {},
   "source": [
    "# Espacios vectoriales \n",
    "\n",
    "En este documento ilustraremos cómo usar `R` para resolver los problemas tipo propuestos por L. Merino y E. Santos en  [página de resolución de ejercicios tipo](https://www.ugr.es/~lmerino/ALME.html) correspondientes al bloque \"Espacios Vectoriales\"."
   ]
  },
  {
   "cell_type": "markdown",
   "id": "69c7c543",
   "metadata": {},
   "source": [
    "## Coordenadas. Dependencia lineal"
   ]
  },
  {
   "cell_type": "markdown",
   "id": "d1db3719",
   "metadata": {},
   "source": [
    "### Ejercicio\n",
    "\n",
    "*Se considera en el espacio vectorial ${\\mathbb{R}}^3$ la base $B=\\{(1,0,1), (0,2,0) , (0,0,3)\\}$. Determinar el vector $x$ \n",
    "cuyas cordenadas respecto de $B$ son $x=(2,1,2)_{B}$.*"
   ]
  },
  {
   "cell_type": "markdown",
   "id": "a2ca8127",
   "metadata": {},
   "source": [
    "Nuestro vector tiene coordenadas $(2,1,2)_B$, por lo que $x=2\\times(1,0,1)+1\\times(0,2,0)+2\\times (0,0,3)$. Ponemos por tanto los vectores de $B$ como columnas en un matriz y multiplicamos por el vector $(2,1,2)$."
   ]
  },
  {
   "cell_type": "code",
   "execution_count": 1,
   "id": "f2b7377a",
   "metadata": {},
   "outputs": [
    {
     "data": {
      "text/html": [
       "<table class=\"dataframe\">\n",
       "<caption>A matrix: 3 × 3 of type dbl</caption>\n",
       "<tbody>\n",
       "\t<tr><td>1</td><td>0</td><td>0</td></tr>\n",
       "\t<tr><td>0</td><td>2</td><td>0</td></tr>\n",
       "\t<tr><td>1</td><td>0</td><td>3</td></tr>\n",
       "</tbody>\n",
       "</table>\n"
      ],
      "text/latex": [
       "A matrix: 3 × 3 of type dbl\n",
       "\\begin{tabular}{lll}\n",
       "\t 1 & 0 & 0\\\\\n",
       "\t 0 & 2 & 0\\\\\n",
       "\t 1 & 0 & 3\\\\\n",
       "\\end{tabular}\n"
      ],
      "text/markdown": [
       "\n",
       "A matrix: 3 × 3 of type dbl\n",
       "\n",
       "| 1 | 0 | 0 |\n",
       "| 0 | 2 | 0 |\n",
       "| 1 | 0 | 3 |\n",
       "\n"
      ],
      "text/plain": [
       "     [,1] [,2] [,3]\n",
       "[1,] 1    0    0   \n",
       "[2,] 0    2    0   \n",
       "[3,] 1    0    3   "
      ]
     },
     "metadata": {},
     "output_type": "display_data"
    }
   ],
   "source": [
    "B<-cbind(c(1,0,1),c(0,2,0),c(0,0,3))\n",
    "B"
   ]
  },
  {
   "cell_type": "code",
   "execution_count": 2,
   "id": "d93d9d42",
   "metadata": {},
   "outputs": [
    {
     "data": {
      "text/html": [
       "<table class=\"dataframe\">\n",
       "<caption>A matrix: 3 × 1 of type dbl</caption>\n",
       "<tbody>\n",
       "\t<tr><td>2</td></tr>\n",
       "\t<tr><td>2</td></tr>\n",
       "\t<tr><td>8</td></tr>\n",
       "</tbody>\n",
       "</table>\n"
      ],
      "text/latex": [
       "A matrix: 3 × 1 of type dbl\n",
       "\\begin{tabular}{l}\n",
       "\t 2\\\\\n",
       "\t 2\\\\\n",
       "\t 8\\\\\n",
       "\\end{tabular}\n"
      ],
      "text/markdown": [
       "\n",
       "A matrix: 3 × 1 of type dbl\n",
       "\n",
       "| 2 |\n",
       "| 2 |\n",
       "| 8 |\n",
       "\n"
      ],
      "text/plain": [
       "     [,1]\n",
       "[1,] 2   \n",
       "[2,] 2   \n",
       "[3,] 8   "
      ]
     },
     "metadata": {},
     "output_type": "display_data"
    }
   ],
   "source": [
    "B%*%c(2,1,2)"
   ]
  },
  {
   "cell_type": "markdown",
   "id": "938ca12a",
   "metadata": {},
   "source": [
    "Con lo que nuestro vector es $(2,2,8)$."
   ]
  },
  {
   "cell_type": "markdown",
   "id": "eb0af7ce",
   "metadata": {},
   "source": [
    "### Ejercicio\n",
    "\n",
    "*Se considera en el espacio vectorial ${\\mathbb{R}}^3$ la base $B=\\{(1,0,1), (0,2,0) , (0,0,3)\\}$. Determinar \n",
    "coordenadas respecto de $B'$ del vector $x=(5,4,2)$.*"
   ]
  },
  {
   "cell_type": "markdown",
   "id": "6c175953",
   "metadata": {},
   "source": [
    "Tenemos que encontrar $a,b,c\\in \\mathbb{R}$ tales que $(5,4,2)=a(1,0,1)+b(0,2,0)+c(0,0,3)$, y esto equivale a resolver el sistema \n",
    "\n",
    "$$\n",
    "\\left\\{\n",
    "\\begin{array}{rcl}\n",
    "a&=&5,\\\\\n",
    "2b&=&4,\\\\\n",
    "a+3c&=&2.\n",
    "\\end{array}\n",
    "\\right.\n",
    "$$"
   ]
  },
  {
   "cell_type": "markdown",
   "id": "0c0b52e1",
   "metadata": {},
   "source": [
    "Aprovechamos que ya tenemos definida la matriz $B$ del ejercicio anterior."
   ]
  },
  {
   "cell_type": "code",
   "execution_count": 3,
   "id": "6d245137",
   "metadata": {},
   "outputs": [
    {
     "data": {
      "text/html": [
       "<style>\n",
       ".list-inline {list-style: none; margin:0; padding: 0}\n",
       ".list-inline>li {display: inline-block}\n",
       ".list-inline>li:not(:last-child)::after {content: \"\\00b7\"; padding: 0 .5ex}\n",
       "</style>\n",
       "<ol class=list-inline><li>5</li><li>2</li><li>-1</li></ol>\n"
      ],
      "text/latex": [
       "\\begin{enumerate*}\n",
       "\\item 5\n",
       "\\item 2\n",
       "\\item -1\n",
       "\\end{enumerate*}\n"
      ],
      "text/markdown": [
       "1. 5\n",
       "2. 2\n",
       "3. -1\n",
       "\n",
       "\n"
      ],
      "text/plain": [
       "[1]  5  2 -1"
      ]
     },
     "metadata": {},
     "output_type": "display_data"
    }
   ],
   "source": [
    "B<-cbind(c(1,0,1),c(0,2,0),c(0,0,3))\n",
    "solve(B,c(5,4,2))"
   ]
  },
  {
   "cell_type": "markdown",
   "id": "5bc0089b",
   "metadata": {},
   "source": [
    "Por lo que $x=(5,3,-1)_B$."
   ]
  },
  {
   "cell_type": "markdown",
   "id": "a316b752",
   "metadata": {},
   "source": [
    "### Ejercicio\n",
    "\n",
    "*En el espacio vectorial $\\mathcal{P}_3(\\mathbb{R})$ se consideran los vectores $p(x) = x^3+x^2+x+1$, $q(x)= 2x^2+1$ y $r(x)= x^3+2x^2$. Estudiar si son linealmente dependientes o independientes.*"
   ]
  },
  {
   "cell_type": "markdown",
   "id": "1d44339c",
   "metadata": {},
   "source": [
    "Consideramos la base estándar de $\\mathcal{P}_3(\\mathbb{R})$, $B=\\{1,x,x^2, x^3 \\}$. Respecto de esta base, las coordenadas de los vectores que nos dan son:\n",
    "$$ p(x)=(1,1,1,1)_B, \\;\\; q(x)=(1,0,2,0)_B, \\;\\; r(x)=(0,0,2,1)_B. $$\n",
    "De esta forma, si ponemos esos vectores en una matriz y vemos su forma reducida por filas, podremos ver si son linealmente dependientes o no. Para ello haremos uso de `rref` del paquete [pracma](https://cran.r-project.org/package=pracma)."
   ]
  },
  {
   "cell_type": "code",
   "execution_count": 4,
   "id": "fab50d36",
   "metadata": {},
   "outputs": [],
   "source": [
    "A<-rbind(c(1,1,1,1),c(1,0,2,0),c(0,0,2,1))"
   ]
  },
  {
   "cell_type": "code",
   "execution_count": 5,
   "id": "1c64c73c",
   "metadata": {},
   "outputs": [
    {
     "data": {
      "text/html": [
       "<table class=\"dataframe\">\n",
       "<caption>A matrix: 3 × 4 of type dbl</caption>\n",
       "<tbody>\n",
       "\t<tr><td>1</td><td>0</td><td>0</td><td>-1.0</td></tr>\n",
       "\t<tr><td>0</td><td>1</td><td>0</td><td> 1.5</td></tr>\n",
       "\t<tr><td>0</td><td>0</td><td>1</td><td> 0.5</td></tr>\n",
       "</tbody>\n",
       "</table>\n"
      ],
      "text/latex": [
       "A matrix: 3 × 4 of type dbl\n",
       "\\begin{tabular}{llll}\n",
       "\t 1 & 0 & 0 & -1.0\\\\\n",
       "\t 0 & 1 & 0 &  1.5\\\\\n",
       "\t 0 & 0 & 1 &  0.5\\\\\n",
       "\\end{tabular}\n"
      ],
      "text/markdown": [
       "\n",
       "A matrix: 3 × 4 of type dbl\n",
       "\n",
       "| 1 | 0 | 0 | -1.0 |\n",
       "| 0 | 1 | 0 |  1.5 |\n",
       "| 0 | 0 | 1 |  0.5 |\n",
       "\n"
      ],
      "text/plain": [
       "     [,1] [,2] [,3] [,4]\n",
       "[1,] 1    0    0    -1.0\n",
       "[2,] 0    1    0     1.5\n",
       "[3,] 0    0    1     0.5"
      ]
     },
     "metadata": {},
     "output_type": "display_data"
    }
   ],
   "source": [
    "library(\"pracma\")\n",
    "rref(A)"
   ]
  },
  {
   "cell_type": "markdown",
   "id": "4b43e223",
   "metadata": {},
   "source": [
    "Vemos que la matriz tiene rango máximo, por lo que los vectores del enunciado son linealmente independientes."
   ]
  },
  {
   "cell_type": "markdown",
   "id": "b6410db5",
   "metadata": {},
   "source": [
    "### Ejercicio\n",
    "*En el espacio vectorial ${\\mathfrak M}_2(\\mathbb{R})$ se consideran los vectores  $a=\\begin{pmatrix} 1  & 2 \\\\ 2 & 1 \\end{pmatrix}$,  $b=\\begin{pmatrix} 1  & 1 \\\\ 2 & 0 \\end{pmatrix}$,  $c=\\begin{pmatrix} 0  & 1 \\\\ 2 & 1 \\end{pmatrix}$ y   $b=\\begin{pmatrix} 1  & 2 \\\\ 3 & 1 \\end{pmatrix}$.    Estudiar si son linealmente dependientes o independientes.*"
   ]
  },
  {
   "cell_type": "markdown",
   "id": "d4d25598",
   "metadata": {},
   "source": [
    "Consideramos la base estándar de ${\\mathfrak M}_2(\\mathbb{R})$, $B=\\left\\{\n",
    " \\begin{pmatrix} 1  & 0 \\\\ 0 & 0 \\end{pmatrix},\n",
    " \\begin{pmatrix} 0  & 1 \\\\ 0 & 0 \\end{pmatrix},\n",
    " \\begin{pmatrix} 0  & 0 \\\\ 1 & 0 \\end{pmatrix},\n",
    " \\begin{pmatrix} 0  & 0 \\\\ 0 & 1 \\end{pmatrix}\n",
    " \\right\\}$.\n",
    "Respecto de esta base los vectores dados tienen coordenadas $(1,2,2,1)_B$, $(1,1,2,0)_B$, $(0,1,2,1)_B$ y $(1,2,3,1)_B$, respectivamente. Procedemos como antes poniendo esos vectores por filas en una matriz y calculamos su forma reducida por filas."
   ]
  },
  {
   "cell_type": "code",
   "execution_count": 6,
   "id": "ff93ce34",
   "metadata": {},
   "outputs": [
    {
     "data": {
      "text/html": [
       "<table class=\"dataframe\">\n",
       "<caption>A matrix: 4 × 4 of type dbl</caption>\n",
       "<tbody>\n",
       "\t<tr><td>1</td><td>0</td><td>0</td><td>-1</td></tr>\n",
       "\t<tr><td>0</td><td>1</td><td>0</td><td> 1</td></tr>\n",
       "\t<tr><td>0</td><td>0</td><td>1</td><td> 0</td></tr>\n",
       "\t<tr><td>0</td><td>0</td><td>0</td><td> 0</td></tr>\n",
       "</tbody>\n",
       "</table>\n"
      ],
      "text/latex": [
       "A matrix: 4 × 4 of type dbl\n",
       "\\begin{tabular}{llll}\n",
       "\t 1 & 0 & 0 & -1\\\\\n",
       "\t 0 & 1 & 0 &  1\\\\\n",
       "\t 0 & 0 & 1 &  0\\\\\n",
       "\t 0 & 0 & 0 &  0\\\\\n",
       "\\end{tabular}\n"
      ],
      "text/markdown": [
       "\n",
       "A matrix: 4 × 4 of type dbl\n",
       "\n",
       "| 1 | 0 | 0 | -1 |\n",
       "| 0 | 1 | 0 |  1 |\n",
       "| 0 | 0 | 1 |  0 |\n",
       "| 0 | 0 | 0 |  0 |\n",
       "\n"
      ],
      "text/plain": [
       "     [,1] [,2] [,3] [,4]\n",
       "[1,] 1    0    0    -1  \n",
       "[2,] 0    1    0     1  \n",
       "[3,] 0    0    1     0  \n",
       "[4,] 0    0    0     0  "
      ]
     },
     "metadata": {},
     "output_type": "display_data"
    }
   ],
   "source": [
    "A<-rbind(c(1,2,2,1),c(1,1,2,0),c(0,1,2,1),c(1,2,3,1))\n",
    "rref(A)"
   ]
  },
  {
   "cell_type": "markdown",
   "id": "1ed8b9d4",
   "metadata": {},
   "source": [
    "Como podemos observar, hay una fila de ceros, por lo que a lo sumo tres de ellos son linealmente independientes, y los cuatro son linealmente dependientes."
   ]
  },
  {
   "cell_type": "code",
   "execution_count": 10,
   "id": "a6cb209d",
   "metadata": {},
   "outputs": [
    {
     "data": {
      "text/html": [
       "<table class=\"dataframe\">\n",
       "<caption>A matrix: 4 × 8 of type dbl</caption>\n",
       "<tbody>\n",
       "\t<tr><td>1</td><td>0</td><td>0</td><td>-1</td><td>0</td><td> 1</td><td>-1</td><td> 0</td></tr>\n",
       "\t<tr><td>0</td><td>1</td><td>0</td><td> 1</td><td>0</td><td>-2</td><td>-1</td><td> 2</td></tr>\n",
       "\t<tr><td>0</td><td>0</td><td>1</td><td> 0</td><td>0</td><td> 1</td><td> 1</td><td>-1</td></tr>\n",
       "\t<tr><td>0</td><td>0</td><td>0</td><td> 0</td><td>1</td><td> 1</td><td> 1</td><td>-2</td></tr>\n",
       "</tbody>\n",
       "</table>\n"
      ],
      "text/latex": [
       "A matrix: 4 × 8 of type dbl\n",
       "\\begin{tabular}{llllllll}\n",
       "\t 1 & 0 & 0 & -1 & 0 &  1 & -1 &  0\\\\\n",
       "\t 0 & 1 & 0 &  1 & 0 & -2 & -1 &  2\\\\\n",
       "\t 0 & 0 & 1 &  0 & 0 &  1 &  1 & -1\\\\\n",
       "\t 0 & 0 & 0 &  0 & 1 &  1 &  1 & -2\\\\\n",
       "\\end{tabular}\n"
      ],
      "text/markdown": [
       "\n",
       "A matrix: 4 × 8 of type dbl\n",
       "\n",
       "| 1 | 0 | 0 | -1 | 0 |  1 | -1 |  0 |\n",
       "| 0 | 1 | 0 |  1 | 0 | -2 | -1 |  2 |\n",
       "| 0 | 0 | 1 |  0 | 0 |  1 |  1 | -1 |\n",
       "| 0 | 0 | 0 |  0 | 1 |  1 |  1 | -2 |\n",
       "\n"
      ],
      "text/plain": [
       "     [,1] [,2] [,3] [,4] [,5] [,6] [,7] [,8]\n",
       "[1,] 1    0    0    -1   0     1   -1    0  \n",
       "[2,] 0    1    0     1   0    -2   -1    2  \n",
       "[3,] 0    0    1     0   0     1    1   -1  \n",
       "[4,] 0    0    0     0   1     1    1   -2  "
      ]
     },
     "metadata": {},
     "output_type": "display_data"
    }
   ],
   "source": [
    "AI<-cbind(A,diag(4))\n",
    "AIr<-rref(AI)\n",
    "AIr"
   ]
  },
  {
   "cell_type": "code",
   "execution_count": 13,
   "id": "9accda77",
   "metadata": {},
   "outputs": [
    {
     "data": {
      "text/html": [
       "<table class=\"dataframe\">\n",
       "<caption>A matrix: 4 × 4 of type dbl</caption>\n",
       "<tbody>\n",
       "\t<tr><td>0</td><td> 1</td><td>-1</td><td> 0</td></tr>\n",
       "\t<tr><td>0</td><td>-2</td><td>-1</td><td> 2</td></tr>\n",
       "\t<tr><td>0</td><td> 1</td><td> 1</td><td>-1</td></tr>\n",
       "\t<tr><td>1</td><td> 1</td><td> 1</td><td>-2</td></tr>\n",
       "</tbody>\n",
       "</table>\n"
      ],
      "text/latex": [
       "A matrix: 4 × 4 of type dbl\n",
       "\\begin{tabular}{llll}\n",
       "\t 0 &  1 & -1 &  0\\\\\n",
       "\t 0 & -2 & -1 &  2\\\\\n",
       "\t 0 &  1 &  1 & -1\\\\\n",
       "\t 1 &  1 &  1 & -2\\\\\n",
       "\\end{tabular}\n"
      ],
      "text/markdown": [
       "\n",
       "A matrix: 4 × 4 of type dbl\n",
       "\n",
       "| 0 |  1 | -1 |  0 |\n",
       "| 0 | -2 | -1 |  2 |\n",
       "| 0 |  1 |  1 | -1 |\n",
       "| 1 |  1 |  1 | -2 |\n",
       "\n"
      ],
      "text/plain": [
       "     [,1] [,2] [,3] [,4]\n",
       "[1,] 0     1   -1    0  \n",
       "[2,] 0    -2   -1    2  \n",
       "[3,] 0     1    1   -1  \n",
       "[4,] 1     1    1   -2  "
      ]
     },
     "metadata": {},
     "output_type": "display_data"
    }
   ],
   "source": [
    "Q<-AIr[,5:8]\n",
    "Q"
   ]
  },
  {
   "cell_type": "code",
   "execution_count": 14,
   "id": "f4c4261d",
   "metadata": {},
   "outputs": [
    {
     "data": {
      "text/html": [
       "<table class=\"dataframe\">\n",
       "<caption>A matrix: 4 × 4 of type dbl</caption>\n",
       "<tbody>\n",
       "\t<tr><td>1</td><td>0</td><td>0</td><td>-1</td></tr>\n",
       "\t<tr><td>0</td><td>1</td><td>0</td><td> 1</td></tr>\n",
       "\t<tr><td>0</td><td>0</td><td>1</td><td> 0</td></tr>\n",
       "\t<tr><td>0</td><td>0</td><td>0</td><td> 0</td></tr>\n",
       "</tbody>\n",
       "</table>\n"
      ],
      "text/latex": [
       "A matrix: 4 × 4 of type dbl\n",
       "\\begin{tabular}{llll}\n",
       "\t 1 & 0 & 0 & -1\\\\\n",
       "\t 0 & 1 & 0 &  1\\\\\n",
       "\t 0 & 0 & 1 &  0\\\\\n",
       "\t 0 & 0 & 0 &  0\\\\\n",
       "\\end{tabular}\n"
      ],
      "text/markdown": [
       "\n",
       "A matrix: 4 × 4 of type dbl\n",
       "\n",
       "| 1 | 0 | 0 | -1 |\n",
       "| 0 | 1 | 0 |  1 |\n",
       "| 0 | 0 | 1 |  0 |\n",
       "| 0 | 0 | 0 |  0 |\n",
       "\n"
      ],
      "text/plain": [
       "     [,1] [,2] [,3] [,4]\n",
       "[1,] 1    0    0    -1  \n",
       "[2,] 0    1    0     1  \n",
       "[3,] 0    0    1     0  \n",
       "[4,] 0    0    0     0  "
      ]
     },
     "metadata": {},
     "output_type": "display_data"
    }
   ],
   "source": [
    "Q%*%A"
   ]
  },
  {
   "cell_type": "markdown",
   "id": "4412da8b",
   "metadata": {},
   "source": [
    "Al ser la última fila todo ceros, ya tenemos la relación de dependencia lineal."
   ]
  },
  {
   "cell_type": "code",
   "execution_count": 15,
   "id": "681afbce",
   "metadata": {},
   "outputs": [
    {
     "data": {
      "text/html": [
       "<table class=\"dataframe\">\n",
       "<caption>A matrix: 1 × 4 of type dbl</caption>\n",
       "<tbody>\n",
       "\t<tr><td>0</td><td>0</td><td>0</td><td>0</td></tr>\n",
       "</tbody>\n",
       "</table>\n"
      ],
      "text/latex": [
       "A matrix: 1 × 4 of type dbl\n",
       "\\begin{tabular}{llll}\n",
       "\t 0 & 0 & 0 & 0\\\\\n",
       "\\end{tabular}\n"
      ],
      "text/markdown": [
       "\n",
       "A matrix: 1 × 4 of type dbl\n",
       "\n",
       "| 0 | 0 | 0 | 0 |\n",
       "\n"
      ],
      "text/plain": [
       "     [,1] [,2] [,3] [,4]\n",
       "[1,] 0    0    0    0   "
      ]
     },
     "metadata": {},
     "output_type": "display_data"
    }
   ],
   "source": [
    "c(1,1,1,-2)%*%A"
   ]
  },
  {
   "cell_type": "markdown",
   "id": "de58fef2",
   "metadata": {},
   "source": [
    "Por lo que $a+b+c-2d=0$."
   ]
  },
  {
   "cell_type": "markdown",
   "id": "7614e9bc",
   "metadata": {},
   "source": [
    "## Cambio de base"
   ]
  },
  {
   "cell_type": "markdown",
   "id": "2c0d6a25",
   "metadata": {},
   "source": [
    "### Ejercicio\n",
    "\n",
    "*En el espacio vectorial $\\mathcal{P}_3(\\mathbb{R})$ de los polinomios de grado menor o igual que $3$, se consideran las bases estándar $B=\\{1,x,x^2, x^3 \\}$ y $B'=\\{x^3+x^2+x+1, x^3+x^2+x, x^3+x^2, x^3\\}$. Determinar la ecuación del cambio de base de $B$ a $B'$ y las coordenadas respecto de $B'$ del vector $p(x)=x^3+2x$.*"
   ]
  },
  {
   "cell_type": "markdown",
   "id": "57d40390",
   "metadata": {},
   "source": [
    "Tenemos que los vectores de $B'$ tienen coordenadas\n",
    "$$\n",
    "\\begin{array}{lcl}\n",
    "x^3+x^2+x+1 &= & (1,1,1,1)_B, \\\\\n",
    "x^3+x^2+x   &= & (0,1,1,1)_B, \\\\\n",
    "x^3+x^2     &= & (0,0,1,1)_B, \\\\\n",
    "x^3         &= & (0,0,0,1)_B.\n",
    "\\end{array}\n",
    "$$\n",
    "\n",
    "Por lo que la matriz de cambio de base de $B'$ a $B$ es \n",
    "$$\n",
    "P=\n",
    "\\begin{pmatrix}\n",
    "1 & 0 & 0 & 0 \\\\\n",
    "1 & 1 & 0 & 0 \\\\\n",
    "1 & 1 & 1 & 0 \\\\\n",
    "1 & 1 & 1 & 1\n",
    "\\end{pmatrix}.\n",
    "$$\n",
    "Y la de $B$ a $B'$ será su inversa."
   ]
  },
  {
   "cell_type": "code",
   "execution_count": 16,
   "id": "d7a35ae7",
   "metadata": {},
   "outputs": [
    {
     "data": {
      "text/html": [
       "<table class=\"dataframe\">\n",
       "<caption>A matrix: 4 × 4 of type dbl</caption>\n",
       "<tbody>\n",
       "\t<tr><td>1</td><td>0</td><td>0</td><td>0</td></tr>\n",
       "\t<tr><td>1</td><td>1</td><td>0</td><td>0</td></tr>\n",
       "\t<tr><td>1</td><td>1</td><td>1</td><td>0</td></tr>\n",
       "\t<tr><td>1</td><td>1</td><td>1</td><td>1</td></tr>\n",
       "</tbody>\n",
       "</table>\n"
      ],
      "text/latex": [
       "A matrix: 4 × 4 of type dbl\n",
       "\\begin{tabular}{llll}\n",
       "\t 1 & 0 & 0 & 0\\\\\n",
       "\t 1 & 1 & 0 & 0\\\\\n",
       "\t 1 & 1 & 1 & 0\\\\\n",
       "\t 1 & 1 & 1 & 1\\\\\n",
       "\\end{tabular}\n"
      ],
      "text/markdown": [
       "\n",
       "A matrix: 4 × 4 of type dbl\n",
       "\n",
       "| 1 | 0 | 0 | 0 |\n",
       "| 1 | 1 | 0 | 0 |\n",
       "| 1 | 1 | 1 | 0 |\n",
       "| 1 | 1 | 1 | 1 |\n",
       "\n"
      ],
      "text/plain": [
       "     [,1] [,2] [,3] [,4]\n",
       "[1,] 1    0    0    0   \n",
       "[2,] 1    1    0    0   \n",
       "[3,] 1    1    1    0   \n",
       "[4,] 1    1    1    1   "
      ]
     },
     "metadata": {},
     "output_type": "display_data"
    }
   ],
   "source": [
    "P<-cbind(c(1,1,1,1),c(0,1,1,1),c(0,0,1,1),c(0,0,0,1))\n",
    "P"
   ]
  },
  {
   "cell_type": "markdown",
   "id": "c9f7bc4f",
   "metadata": {},
   "source": [
    "La inversa la podemos calcular con `pracma::inv` o con `solve`. "
   ]
  },
  {
   "cell_type": "code",
   "execution_count": 17,
   "id": "f794d975",
   "metadata": {},
   "outputs": [
    {
     "data": {
      "text/html": [
       "<table class=\"dataframe\">\n",
       "<caption>A matrix: 4 × 4 of type dbl</caption>\n",
       "<tbody>\n",
       "\t<tr><td> 1</td><td> 0</td><td> 0</td><td>0</td></tr>\n",
       "\t<tr><td>-1</td><td> 1</td><td> 0</td><td>0</td></tr>\n",
       "\t<tr><td> 0</td><td>-1</td><td> 1</td><td>0</td></tr>\n",
       "\t<tr><td> 0</td><td> 0</td><td>-1</td><td>1</td></tr>\n",
       "</tbody>\n",
       "</table>\n"
      ],
      "text/latex": [
       "A matrix: 4 × 4 of type dbl\n",
       "\\begin{tabular}{llll}\n",
       "\t  1 &  0 &  0 & 0\\\\\n",
       "\t -1 &  1 &  0 & 0\\\\\n",
       "\t  0 & -1 &  1 & 0\\\\\n",
       "\t  0 &  0 & -1 & 1\\\\\n",
       "\\end{tabular}\n"
      ],
      "text/markdown": [
       "\n",
       "A matrix: 4 × 4 of type dbl\n",
       "\n",
       "|  1 |  0 |  0 | 0 |\n",
       "| -1 |  1 |  0 | 0 |\n",
       "|  0 | -1 |  1 | 0 |\n",
       "|  0 |  0 | -1 | 1 |\n",
       "\n"
      ],
      "text/plain": [
       "     [,1] [,2] [,3] [,4]\n",
       "[1,]  1    0    0   0   \n",
       "[2,] -1    1    0   0   \n",
       "[3,]  0   -1    1   0   \n",
       "[4,]  0    0   -1   1   "
      ]
     },
     "metadata": {},
     "output_type": "display_data"
    }
   ],
   "source": [
    "inv(P)"
   ]
  },
  {
   "cell_type": "code",
   "execution_count": 18,
   "id": "003e1370",
   "metadata": {},
   "outputs": [
    {
     "data": {
      "text/html": [
       "<table class=\"dataframe\">\n",
       "<caption>A matrix: 4 × 4 of type dbl</caption>\n",
       "<tbody>\n",
       "\t<tr><td> 1</td><td> 0</td><td> 0</td><td>0</td></tr>\n",
       "\t<tr><td>-1</td><td> 1</td><td> 0</td><td>0</td></tr>\n",
       "\t<tr><td> 0</td><td>-1</td><td> 1</td><td>0</td></tr>\n",
       "\t<tr><td> 0</td><td> 0</td><td>-1</td><td>1</td></tr>\n",
       "</tbody>\n",
       "</table>\n"
      ],
      "text/latex": [
       "A matrix: 4 × 4 of type dbl\n",
       "\\begin{tabular}{llll}\n",
       "\t  1 &  0 &  0 & 0\\\\\n",
       "\t -1 &  1 &  0 & 0\\\\\n",
       "\t  0 & -1 &  1 & 0\\\\\n",
       "\t  0 &  0 & -1 & 1\\\\\n",
       "\\end{tabular}\n"
      ],
      "text/markdown": [
       "\n",
       "A matrix: 4 × 4 of type dbl\n",
       "\n",
       "|  1 |  0 |  0 | 0 |\n",
       "| -1 |  1 |  0 | 0 |\n",
       "|  0 | -1 |  1 | 0 |\n",
       "|  0 |  0 | -1 | 1 |\n",
       "\n"
      ],
      "text/plain": [
       "     [,1] [,2] [,3] [,4]\n",
       "[1,]  1    0    0   0   \n",
       "[2,] -1    1    0   0   \n",
       "[3,]  0   -1    1   0   \n",
       "[4,]  0    0   -1   1   "
      ]
     },
     "metadata": {},
     "output_type": "display_data"
    }
   ],
   "source": [
    "solve(P)"
   ]
  },
  {
   "cell_type": "markdown",
   "id": "f3aececd",
   "metadata": {},
   "source": [
    "El polinomio $p(x)$ tiene coordenadas $(0,2,0,1)_B$, por lo que sus coordenadas respecto de $B'$ son"
   ]
  },
  {
   "cell_type": "code",
   "execution_count": 19,
   "id": "5f650d85",
   "metadata": {},
   "outputs": [
    {
     "data": {
      "text/html": [
       "<table class=\"dataframe\">\n",
       "<caption>A matrix: 4 × 1 of type dbl</caption>\n",
       "<tbody>\n",
       "\t<tr><td> 0</td></tr>\n",
       "\t<tr><td> 2</td></tr>\n",
       "\t<tr><td>-2</td></tr>\n",
       "\t<tr><td> 1</td></tr>\n",
       "</tbody>\n",
       "</table>\n"
      ],
      "text/latex": [
       "A matrix: 4 × 1 of type dbl\n",
       "\\begin{tabular}{l}\n",
       "\t  0\\\\\n",
       "\t  2\\\\\n",
       "\t -2\\\\\n",
       "\t  1\\\\\n",
       "\\end{tabular}\n"
      ],
      "text/markdown": [
       "\n",
       "A matrix: 4 × 1 of type dbl\n",
       "\n",
       "|  0 |\n",
       "|  2 |\n",
       "| -2 |\n",
       "|  1 |\n",
       "\n"
      ],
      "text/plain": [
       "     [,1]\n",
       "[1,]  0  \n",
       "[2,]  2  \n",
       "[3,] -2  \n",
       "[4,]  1  "
      ]
     },
     "metadata": {},
     "output_type": "display_data"
    }
   ],
   "source": [
    "inv(P)%*%c(0,2,0,1)"
   ]
  },
  {
   "cell_type": "markdown",
   "id": "35f278c2",
   "metadata": {},
   "source": [
    "esto es, $p(x)=(0,2,-2,1)_{B'}$"
   ]
  },
  {
   "cell_type": "markdown",
   "id": "b5cea394",
   "metadata": {},
   "source": [
    "### Ejercicio\n",
    "\n",
    "*En el espacio vectorial $\\mathbb{R}^3$ se consideran las bases $B'=\\{ (1,1,0), (0,1,2),  (1,0,1) \\}$   y  $B''=\\{(1,0,0), (2,1,0), (1,1,1)\\}$. Determinar la ecuación del cambio de base de $B'$ a $B''$.*"
   ]
  },
  {
   "cell_type": "markdown",
   "id": "e657f5de",
   "metadata": {},
   "source": [
    "Vamos a determinar la matriz de cambio de base $P$ de $B'$ a la base estándar $B$, y luego la de $B$ a $B''$, $Q$. Multiplicando $Q$ y $P$, tendremos la matriz de cambio de base de $B'$ a $B''$."
   ]
  },
  {
   "cell_type": "code",
   "execution_count": 20,
   "id": "01ea16aa",
   "metadata": {},
   "outputs": [],
   "source": [
    "P<-cbind(c(1,1,0),c(0,1,2),c(1,0,1))\n",
    "Q<-inv(cbind(c(1,0,0),c(2,1,0),c(1,1,1)))"
   ]
  },
  {
   "cell_type": "code",
   "execution_count": 24,
   "id": "1bd18c71",
   "metadata": {},
   "outputs": [
    {
     "data": {
      "text/html": [
       "<table class=\"dataframe\">\n",
       "<caption>A matrix: 3 × 3 of type dbl</caption>\n",
       "<tbody>\n",
       "\t<tr><td>1</td><td>0</td><td>1</td></tr>\n",
       "\t<tr><td>1</td><td>1</td><td>0</td></tr>\n",
       "\t<tr><td>0</td><td>2</td><td>1</td></tr>\n",
       "</tbody>\n",
       "</table>\n"
      ],
      "text/latex": [
       "A matrix: 3 × 3 of type dbl\n",
       "\\begin{tabular}{lll}\n",
       "\t 1 & 0 & 1\\\\\n",
       "\t 1 & 1 & 0\\\\\n",
       "\t 0 & 2 & 1\\\\\n",
       "\\end{tabular}\n"
      ],
      "text/markdown": [
       "\n",
       "A matrix: 3 × 3 of type dbl\n",
       "\n",
       "| 1 | 0 | 1 |\n",
       "| 1 | 1 | 0 |\n",
       "| 0 | 2 | 1 |\n",
       "\n"
      ],
      "text/plain": [
       "     [,1] [,2] [,3]\n",
       "[1,] 1    0    1   \n",
       "[2,] 1    1    0   \n",
       "[3,] 0    2    1   "
      ]
     },
     "metadata": {},
     "output_type": "display_data"
    }
   ],
   "source": [
    "P"
   ]
  },
  {
   "cell_type": "code",
   "execution_count": 21,
   "id": "248626eb",
   "metadata": {
    "scrolled": true
   },
   "outputs": [
    {
     "data": {
      "text/html": [
       "<table class=\"dataframe\">\n",
       "<caption>A matrix: 3 × 3 of type dbl</caption>\n",
       "<tbody>\n",
       "\t<tr><td>1</td><td>-2</td><td> 1</td></tr>\n",
       "\t<tr><td>0</td><td> 1</td><td>-1</td></tr>\n",
       "\t<tr><td>0</td><td> 0</td><td> 1</td></tr>\n",
       "</tbody>\n",
       "</table>\n"
      ],
      "text/latex": [
       "A matrix: 3 × 3 of type dbl\n",
       "\\begin{tabular}{lll}\n",
       "\t 1 & -2 &  1\\\\\n",
       "\t 0 &  1 & -1\\\\\n",
       "\t 0 &  0 &  1\\\\\n",
       "\\end{tabular}\n"
      ],
      "text/markdown": [
       "\n",
       "A matrix: 3 × 3 of type dbl\n",
       "\n",
       "| 1 | -2 |  1 |\n",
       "| 0 |  1 | -1 |\n",
       "| 0 |  0 |  1 |\n",
       "\n"
      ],
      "text/plain": [
       "     [,1] [,2] [,3]\n",
       "[1,] 1    -2    1  \n",
       "[2,] 0     1   -1  \n",
       "[3,] 0     0    1  "
      ]
     },
     "metadata": {},
     "output_type": "display_data"
    }
   ],
   "source": [
    "Q"
   ]
  },
  {
   "cell_type": "code",
   "execution_count": 23,
   "id": "a20e78f8",
   "metadata": {},
   "outputs": [
    {
     "data": {
      "text/html": [
       "<table class=\"dataframe\">\n",
       "<caption>A matrix: 3 × 3 of type dbl</caption>\n",
       "<tbody>\n",
       "\t<tr><td>-1</td><td> 0</td><td> 2</td></tr>\n",
       "\t<tr><td> 1</td><td>-1</td><td>-1</td></tr>\n",
       "\t<tr><td> 0</td><td> 2</td><td> 1</td></tr>\n",
       "</tbody>\n",
       "</table>\n"
      ],
      "text/latex": [
       "A matrix: 3 × 3 of type dbl\n",
       "\\begin{tabular}{lll}\n",
       "\t -1 &  0 &  2\\\\\n",
       "\t  1 & -1 & -1\\\\\n",
       "\t  0 &  2 &  1\\\\\n",
       "\\end{tabular}\n"
      ],
      "text/markdown": [
       "\n",
       "A matrix: 3 × 3 of type dbl\n",
       "\n",
       "| -1 |  0 |  2 |\n",
       "|  1 | -1 | -1 |\n",
       "|  0 |  2 |  1 |\n",
       "\n"
      ],
      "text/plain": [
       "     [,1] [,2] [,3]\n",
       "[1,] -1    0    2  \n",
       "[2,]  1   -1   -1  \n",
       "[3,]  0    2    1  "
      ]
     },
     "metadata": {},
     "output_type": "display_data"
    }
   ],
   "source": [
    "Q%*%P"
   ]
  },
  {
   "cell_type": "markdown",
   "id": "409bcd54",
   "metadata": {},
   "source": [
    "## Espresiones de un subespacio"
   ]
  },
  {
   "cell_type": "markdown",
   "id": "a3743181",
   "metadata": {},
   "source": [
    "### Ejercicio\n",
    "\n",
    "*En el espacio vectorial $\\mathcal{P}_3(\\mathbb{K})$ de los polinomios de grado menor o igual que $3$, se considera el subespacio $U$ generado por $2x^3+2x+1, 2x^3+x^2+3x+1, x^3+x^2+2x, 2x^2+2x+1$. Determinar una base de $U$, unas ecuaciones paramétricas y unas cartesianas.*"
   ]
  },
  {
   "cell_type": "markdown",
   "id": "75fd0df5",
   "metadata": {},
   "source": [
    "Consideramos la base estándar $B=\\{1,x,x^2,x^3\\}$ de $\\mathcal{P}_3(\\mathbb{K})$, entonces\n",
    "$$\n",
    "\\begin{array}{rcl}\n",
    " 2x^3+2x+1    & = & (1,2,0,2)_B, \\\\\n",
    "2x^3+x^2+3x+1 & = & (1,3,1,2)_B, \\\\\n",
    "x^3+x^2+2x    & = & (0,2,1,1)_B, \\\\\n",
    "2x^2+2x+1     & = & (1,2,2,0)_B.\n",
    "\\end{array}\n",
    "$$\n",
    "Para encontrar una base, calculamos la forma normal reducida de la matriz cuyas filas son esas coordenadas."
   ]
  },
  {
   "cell_type": "code",
   "execution_count": 25,
   "id": "b33e30c5",
   "metadata": {},
   "outputs": [],
   "source": [
    "A<-rbind(c(1,2,0,2),c(1,3,1,2),c(0,2,1,1),c(1,2,2,0))"
   ]
  },
  {
   "cell_type": "code",
   "execution_count": 28,
   "id": "2bf928a7",
   "metadata": {},
   "outputs": [
    {
     "data": {
      "text/html": [
       "<table class=\"dataframe\">\n",
       "<caption>A matrix: 4 × 4 of type dbl</caption>\n",
       "<tbody>\n",
       "\t<tr><td>1</td><td>0</td><td>0</td><td> 0</td></tr>\n",
       "\t<tr><td>0</td><td>1</td><td>0</td><td> 1</td></tr>\n",
       "\t<tr><td>0</td><td>0</td><td>1</td><td>-1</td></tr>\n",
       "\t<tr><td>0</td><td>0</td><td>0</td><td> 0</td></tr>\n",
       "</tbody>\n",
       "</table>\n"
      ],
      "text/latex": [
       "A matrix: 4 × 4 of type dbl\n",
       "\\begin{tabular}{llll}\n",
       "\t 1 & 0 & 0 &  0\\\\\n",
       "\t 0 & 1 & 0 &  1\\\\\n",
       "\t 0 & 0 & 1 & -1\\\\\n",
       "\t 0 & 0 & 0 &  0\\\\\n",
       "\\end{tabular}\n"
      ],
      "text/markdown": [
       "\n",
       "A matrix: 4 × 4 of type dbl\n",
       "\n",
       "| 1 | 0 | 0 |  0 |\n",
       "| 0 | 1 | 0 |  1 |\n",
       "| 0 | 0 | 1 | -1 |\n",
       "| 0 | 0 | 0 |  0 |\n",
       "\n"
      ],
      "text/plain": [
       "     [,1] [,2] [,3] [,4]\n",
       "[1,] 1    0    0     0  \n",
       "[2,] 0    1    0     1  \n",
       "[3,] 0    0    1    -1  \n",
       "[4,] 0    0    0     0  "
      ]
     },
     "metadata": {},
     "output_type": "display_data"
    }
   ],
   "source": [
    "rA<-rref(A)\n",
    "rA"
   ]
  },
  {
   "cell_type": "markdown",
   "id": "31abc75d",
   "metadata": {},
   "source": [
    "Por lo que una base de $U$ es $\\{(1,0,0,0),(0,1,0,1),(0,0,1,-1)\\}$. Las ecuaciones paramétricas serán\n",
    "$$\n",
    "\\left\\{ \\begin{array}{rcl}\n",
    "x_1 &=& \\lambda,     \\\\\n",
    "x_2 &=& \\mu,  \\\\\n",
    "x_3 &=& \\gamma, \\\\\n",
    "x_4  &=&  \\mu - \\gamma.\n",
    "\\end{array} \\right.\n",
    "$$"
   ]
  },
  {
   "cell_type": "markdown",
   "id": "1e63123d",
   "metadata": {},
   "source": [
    "Para encontrar las ecuaciones implícitas, vamos a colocar los vectores de la base que hemos elegido de $U$ por columnas."
   ]
  },
  {
   "cell_type": "code",
   "execution_count": 30,
   "id": "90b99b19",
   "metadata": {},
   "outputs": [
    {
     "data": {
      "text/html": [
       "<table class=\"dataframe\">\n",
       "<caption>A matrix: 4 × 3 of type dbl</caption>\n",
       "<tbody>\n",
       "\t<tr><td>1</td><td>0</td><td> 0</td></tr>\n",
       "\t<tr><td>0</td><td>1</td><td> 0</td></tr>\n",
       "\t<tr><td>0</td><td>0</td><td> 1</td></tr>\n",
       "\t<tr><td>0</td><td>1</td><td>-1</td></tr>\n",
       "</tbody>\n",
       "</table>\n"
      ],
      "text/latex": [
       "A matrix: 4 × 3 of type dbl\n",
       "\\begin{tabular}{lll}\n",
       "\t 1 & 0 &  0\\\\\n",
       "\t 0 & 1 &  0\\\\\n",
       "\t 0 & 0 &  1\\\\\n",
       "\t 0 & 1 & -1\\\\\n",
       "\\end{tabular}\n"
      ],
      "text/markdown": [
       "\n",
       "A matrix: 4 × 3 of type dbl\n",
       "\n",
       "| 1 | 0 |  0 |\n",
       "| 0 | 1 |  0 |\n",
       "| 0 | 0 |  1 |\n",
       "| 0 | 1 | -1 |\n",
       "\n"
      ],
      "text/plain": [
       "     [,1] [,2] [,3]\n",
       "[1,] 1    0     0  \n",
       "[2,] 0    1     0  \n",
       "[3,] 0    0     1  \n",
       "[4,] 0    1    -1  "
      ]
     },
     "metadata": {},
     "output_type": "display_data"
    }
   ],
   "source": [
    "U<-t(rA[1:3,])\n",
    "U"
   ]
  },
  {
   "cell_type": "markdown",
   "id": "a92541ce",
   "metadata": {},
   "source": [
    "Le añadimos la identidad."
   ]
  },
  {
   "cell_type": "code",
   "execution_count": 57,
   "id": "48fd1fc1",
   "metadata": {},
   "outputs": [
    {
     "data": {
      "text/html": [
       "<table class=\"dataframe\">\n",
       "<caption>A matrix: 4 × 7 of type dbl</caption>\n",
       "<tbody>\n",
       "\t<tr><td>1</td><td>0</td><td> 0</td><td>1</td><td>0</td><td>0</td><td>0</td></tr>\n",
       "\t<tr><td>0</td><td>1</td><td> 0</td><td>0</td><td>1</td><td>0</td><td>0</td></tr>\n",
       "\t<tr><td>0</td><td>0</td><td> 1</td><td>0</td><td>0</td><td>1</td><td>0</td></tr>\n",
       "\t<tr><td>0</td><td>1</td><td>-1</td><td>0</td><td>0</td><td>0</td><td>1</td></tr>\n",
       "</tbody>\n",
       "</table>\n"
      ],
      "text/latex": [
       "A matrix: 4 × 7 of type dbl\n",
       "\\begin{tabular}{lllllll}\n",
       "\t 1 & 0 &  0 & 1 & 0 & 0 & 0\\\\\n",
       "\t 0 & 1 &  0 & 0 & 1 & 0 & 0\\\\\n",
       "\t 0 & 0 &  1 & 0 & 0 & 1 & 0\\\\\n",
       "\t 0 & 1 & -1 & 0 & 0 & 0 & 1\\\\\n",
       "\\end{tabular}\n"
      ],
      "text/markdown": [
       "\n",
       "A matrix: 4 × 7 of type dbl\n",
       "\n",
       "| 1 | 0 |  0 | 1 | 0 | 0 | 0 |\n",
       "| 0 | 1 |  0 | 0 | 1 | 0 | 0 |\n",
       "| 0 | 0 |  1 | 0 | 0 | 1 | 0 |\n",
       "| 0 | 1 | -1 | 0 | 0 | 0 | 1 |\n",
       "\n"
      ],
      "text/plain": [
       "     [,1] [,2] [,3] [,4] [,5] [,6] [,7]\n",
       "[1,] 1    0     0   1    0    0    0   \n",
       "[2,] 0    1     0   0    1    0    0   \n",
       "[3,] 0    0     1   0    0    1    0   \n",
       "[4,] 0    1    -1   0    0    0    1   "
      ]
     },
     "metadata": {},
     "output_type": "display_data"
    }
   ],
   "source": [
    "cbind(U,diag(4))"
   ]
  },
  {
   "cell_type": "markdown",
   "id": "17d43fec",
   "metadata": {},
   "source": [
    "Eliminar parámetros (tres primeras columnas) se corresponde con encontrar la forma reducida por filas, y ver en qué filas dejan de haber parámetros."
   ]
  },
  {
   "cell_type": "code",
   "execution_count": 31,
   "id": "1aeb4641",
   "metadata": {},
   "outputs": [
    {
     "data": {
      "text/html": [
       "<table class=\"dataframe\">\n",
       "<caption>A matrix: 4 × 7 of type dbl</caption>\n",
       "<tbody>\n",
       "\t<tr><td>1</td><td>0</td><td>0</td><td>1</td><td>0</td><td> 0</td><td> 0</td></tr>\n",
       "\t<tr><td>0</td><td>1</td><td>0</td><td>0</td><td>0</td><td> 1</td><td> 1</td></tr>\n",
       "\t<tr><td>0</td><td>0</td><td>1</td><td>0</td><td>0</td><td> 1</td><td> 0</td></tr>\n",
       "\t<tr><td>0</td><td>0</td><td>0</td><td>0</td><td>1</td><td>-1</td><td>-1</td></tr>\n",
       "</tbody>\n",
       "</table>\n"
      ],
      "text/latex": [
       "A matrix: 4 × 7 of type dbl\n",
       "\\begin{tabular}{lllllll}\n",
       "\t 1 & 0 & 0 & 1 & 0 &  0 &  0\\\\\n",
       "\t 0 & 1 & 0 & 0 & 0 &  1 &  1\\\\\n",
       "\t 0 & 0 & 1 & 0 & 0 &  1 &  0\\\\\n",
       "\t 0 & 0 & 0 & 0 & 1 & -1 & -1\\\\\n",
       "\\end{tabular}\n"
      ],
      "text/markdown": [
       "\n",
       "A matrix: 4 × 7 of type dbl\n",
       "\n",
       "| 1 | 0 | 0 | 1 | 0 |  0 |  0 |\n",
       "| 0 | 1 | 0 | 0 | 0 |  1 |  1 |\n",
       "| 0 | 0 | 1 | 0 | 0 |  1 |  0 |\n",
       "| 0 | 0 | 0 | 0 | 1 | -1 | -1 |\n",
       "\n"
      ],
      "text/plain": [
       "     [,1] [,2] [,3] [,4] [,5] [,6] [,7]\n",
       "[1,] 1    0    0    1    0     0    0  \n",
       "[2,] 0    1    0    0    0     1    1  \n",
       "[3,] 0    0    1    0    0     1    0  \n",
       "[4,] 0    0    0    0    1    -1   -1  "
      ]
     },
     "metadata": {},
     "output_type": "display_data"
    }
   ],
   "source": [
    "rref(cbind(U,diag(4)))"
   ]
  },
  {
   "cell_type": "markdown",
   "id": "a550022c",
   "metadata": {},
   "source": [
    "De la última fila se deduce que una ecuación implícita de $U$ es $x_2-x_3-x_4=0$."
   ]
  },
  {
   "cell_type": "markdown",
   "id": "e6c812fe",
   "metadata": {},
   "source": [
    "### Ejercicio\n",
    "\n",
    "*En $\\mathfrak{M}_2(\\mathbb{R})$ se considera el subespacio $U$ que tiene ecuaciones cartesianas respecto de la base estándar*\n",
    "$$\n",
    "\\left\\{ \\begin{array}{rcl}\n",
    "x+y+t&=& 0, \\\\\n",
    "2x-y+t&=& 0.\n",
    "\\end{array} \\right.\n",
    "$$\n",
    "*Determinar una base de $U$.*"
   ]
  },
  {
   "cell_type": "code",
   "execution_count": 35,
   "id": "34dab13d",
   "metadata": {},
   "outputs": [
    {
     "data": {
      "text/html": [
       "<table class=\"dataframe\">\n",
       "<caption>A matrix: 2 × 5 of type dbl</caption>\n",
       "<tbody>\n",
       "\t<tr><td>1</td><td> 1</td><td>0</td><td>1</td><td>0</td></tr>\n",
       "\t<tr><td>2</td><td>-1</td><td>0</td><td>1</td><td>0</td></tr>\n",
       "</tbody>\n",
       "</table>\n"
      ],
      "text/latex": [
       "A matrix: 2 × 5 of type dbl\n",
       "\\begin{tabular}{lllll}\n",
       "\t 1 &  1 & 0 & 1 & 0\\\\\n",
       "\t 2 & -1 & 0 & 1 & 0\\\\\n",
       "\\end{tabular}\n"
      ],
      "text/markdown": [
       "\n",
       "A matrix: 2 × 5 of type dbl\n",
       "\n",
       "| 1 |  1 | 0 | 1 | 0 |\n",
       "| 2 | -1 | 0 | 1 | 0 |\n",
       "\n"
      ],
      "text/plain": [
       "     [,1] [,2] [,3] [,4] [,5]\n",
       "[1,] 1     1   0    1    0   \n",
       "[2,] 2    -1   0    1    0   "
      ]
     },
     "metadata": {},
     "output_type": "display_data"
    }
   ],
   "source": [
    "A<-rbind(c(1,1,0,1),c(2,-1,0,1))\n",
    "Ab<-cbind(A,c(0,0))\n",
    "Ab"
   ]
  },
  {
   "cell_type": "code",
   "execution_count": 36,
   "id": "e31ae531",
   "metadata": {},
   "outputs": [
    {
     "data": {
      "text/html": [
       "<table class=\"dataframe\">\n",
       "<caption>A matrix: 2 × 5 of type dbl</caption>\n",
       "<tbody>\n",
       "\t<tr><td>1</td><td>0</td><td>0</td><td>0.6666667</td><td>0</td></tr>\n",
       "\t<tr><td>0</td><td>1</td><td>0</td><td>0.3333333</td><td>0</td></tr>\n",
       "</tbody>\n",
       "</table>\n"
      ],
      "text/latex": [
       "A matrix: 2 × 5 of type dbl\n",
       "\\begin{tabular}{lllll}\n",
       "\t 1 & 0 & 0 & 0.6666667 & 0\\\\\n",
       "\t 0 & 1 & 0 & 0.3333333 & 0\\\\\n",
       "\\end{tabular}\n"
      ],
      "text/markdown": [
       "\n",
       "A matrix: 2 × 5 of type dbl\n",
       "\n",
       "| 1 | 0 | 0 | 0.6666667 | 0 |\n",
       "| 0 | 1 | 0 | 0.3333333 | 0 |\n",
       "\n"
      ],
      "text/plain": [
       "     [,1] [,2] [,3] [,4]      [,5]\n",
       "[1,] 1    0    0    0.6666667 0   \n",
       "[2,] 0    1    0    0.3333333 0   "
      ]
     },
     "metadata": {},
     "output_type": "display_data"
    }
   ],
   "source": [
    "rref(Ab)"
   ]
  },
  {
   "cell_type": "markdown",
   "id": "021f635a",
   "metadata": {},
   "source": [
    "Por lo que nuestro sistema original es equivalente a\n",
    "$$\n",
    "\\left\\{ \\begin{array}{rcl}\n",
    "x+\\frac{2}{3} t&=& 0, \\\\\n",
    "y+\\frac{1}{3}t&=& 0. \n",
    "\\end{array} \\right.\n",
    "$$"
   ]
  },
  {
   "cell_type": "markdown",
   "id": "ed81c580",
   "metadata": {},
   "source": [
    "Tomando como parámetros $z$ y $t$, y pasando a paramétricas obtenemos que una base de $U$ es $\\{(0,0,1,0)_B, (-2/3,-1/3,0,1)_B\\}$, esto es, \n",
    "$$\n",
    "\\left\\{\\begin{pmatrix}\n",
    "-\\frac{2}{3} & -\\frac{1}{3} \\\\\n",
    "0 & 1\n",
    "\\end{pmatrix}\n",
    ",\n",
    "\\;\n",
    "\\begin{pmatrix}\n",
    "0 & 0 \\\\\n",
    "1 & 0\n",
    "\\end{pmatrix}\n",
    "\\right\\}.\n",
    "$$ "
   ]
  },
  {
   "cell_type": "markdown",
   "id": "bca79756",
   "metadata": {},
   "source": [
    "Esto también lo podemos obtener calculando la forma reducida por filas de la traspuesta de $A$. "
   ]
  },
  {
   "cell_type": "code",
   "execution_count": 46,
   "id": "4bf77f24",
   "metadata": {
    "scrolled": true
   },
   "outputs": [
    {
     "data": {
      "text/html": [
       "<table class=\"dataframe\">\n",
       "<caption>A matrix: 4 × 6 of type dbl</caption>\n",
       "<tbody>\n",
       "\t<tr><td>1</td><td>0</td><td>0</td><td> 0.5</td><td>0</td><td> 0.5</td></tr>\n",
       "\t<tr><td>0</td><td>1</td><td>0</td><td>-0.5</td><td>0</td><td> 0.5</td></tr>\n",
       "\t<tr><td>0</td><td>0</td><td>1</td><td> 0.5</td><td>0</td><td>-1.5</td></tr>\n",
       "\t<tr><td>0</td><td>0</td><td>0</td><td> 0.0</td><td>1</td><td> 0.0</td></tr>\n",
       "</tbody>\n",
       "</table>\n"
      ],
      "text/latex": [
       "A matrix: 4 × 6 of type dbl\n",
       "\\begin{tabular}{llllll}\n",
       "\t 1 & 0 & 0 &  0.5 & 0 &  0.5\\\\\n",
       "\t 0 & 1 & 0 & -0.5 & 0 &  0.5\\\\\n",
       "\t 0 & 0 & 1 &  0.5 & 0 & -1.5\\\\\n",
       "\t 0 & 0 & 0 &  0.0 & 1 &  0.0\\\\\n",
       "\\end{tabular}\n"
      ],
      "text/markdown": [
       "\n",
       "A matrix: 4 × 6 of type dbl\n",
       "\n",
       "| 1 | 0 | 0 |  0.5 | 0 |  0.5 |\n",
       "| 0 | 1 | 0 | -0.5 | 0 |  0.5 |\n",
       "| 0 | 0 | 1 |  0.5 | 0 | -1.5 |\n",
       "| 0 | 0 | 0 |  0.0 | 1 |  0.0 |\n",
       "\n"
      ],
      "text/plain": [
       "     [,1] [,2] [,3] [,4] [,5] [,6]\n",
       "[1,] 1    0    0     0.5 0     0.5\n",
       "[2,] 0    1    0    -0.5 0     0.5\n",
       "[3,] 0    0    1     0.5 0    -1.5\n",
       "[4,] 0    0    0     0.0 1     0.0"
      ]
     },
     "metadata": {},
     "output_type": "display_data"
    }
   ],
   "source": [
    "rtAI<-rref(cbind(t(A),diag(4)))\n",
    "rtAI"
   ]
  },
  {
   "cell_type": "markdown",
   "id": "d1b8cfee",
   "metadata": {},
   "source": [
    "La matriz de paso es "
   ]
  },
  {
   "cell_type": "code",
   "execution_count": 51,
   "id": "f48a8637",
   "metadata": {},
   "outputs": [
    {
     "data": {
      "text/html": [
       "<table class=\"dataframe\">\n",
       "<caption>A matrix: 4 × 4 of type dbl</caption>\n",
       "<tbody>\n",
       "\t<tr><td>0</td><td> 0.5</td><td>0</td><td> 0.5</td></tr>\n",
       "\t<tr><td>0</td><td>-0.5</td><td>0</td><td> 0.5</td></tr>\n",
       "\t<tr><td>1</td><td> 0.5</td><td>0</td><td>-1.5</td></tr>\n",
       "\t<tr><td>0</td><td> 0.0</td><td>1</td><td> 0.0</td></tr>\n",
       "</tbody>\n",
       "</table>\n"
      ],
      "text/latex": [
       "A matrix: 4 × 4 of type dbl\n",
       "\\begin{tabular}{llll}\n",
       "\t 0 &  0.5 & 0 &  0.5\\\\\n",
       "\t 0 & -0.5 & 0 &  0.5\\\\\n",
       "\t 1 &  0.5 & 0 & -1.5\\\\\n",
       "\t 0 &  0.0 & 1 &  0.0\\\\\n",
       "\\end{tabular}\n"
      ],
      "text/markdown": [
       "\n",
       "A matrix: 4 × 4 of type dbl\n",
       "\n",
       "| 0 |  0.5 | 0 |  0.5 |\n",
       "| 0 | -0.5 | 0 |  0.5 |\n",
       "| 1 |  0.5 | 0 | -1.5 |\n",
       "| 0 |  0.0 | 1 |  0.0 |\n",
       "\n"
      ],
      "text/plain": [
       "     [,1] [,2] [,3] [,4]\n",
       "[1,] 0     0.5 0     0.5\n",
       "[2,] 0    -0.5 0     0.5\n",
       "[3,] 1     0.5 0    -1.5\n",
       "[4,] 0     0.0 1     0.0"
      ]
     },
     "metadata": {},
     "output_type": "display_data"
    }
   ],
   "source": [
    "Q<-rtAI[,-(1:2)]\n",
    "Q"
   ]
  },
  {
   "cell_type": "markdown",
   "id": "bdbf80b4",
   "metadata": {},
   "source": [
    "Al ser las dos últimas filas de la forma reducida de `t(A)` cero, esto nos dice que las dos últimas filas de $Q$ son una base para $U$, pues son linealmente independientes y verifican las ecuaciones de $U$."
   ]
  },
  {
   "cell_type": "code",
   "execution_count": 56,
   "id": "299564e2",
   "metadata": {},
   "outputs": [
    {
     "data": {
      "text/html": [
       "<table class=\"dataframe\">\n",
       "<caption>A matrix: 2 × 4 of type dbl</caption>\n",
       "<tbody>\n",
       "\t<tr><td>1</td><td>0.5</td><td>0</td><td>-1.5</td></tr>\n",
       "\t<tr><td>0</td><td>0.0</td><td>1</td><td> 0.0</td></tr>\n",
       "</tbody>\n",
       "</table>\n"
      ],
      "text/latex": [
       "A matrix: 2 × 4 of type dbl\n",
       "\\begin{tabular}{llll}\n",
       "\t 1 & 0.5 & 0 & -1.5\\\\\n",
       "\t 0 & 0.0 & 1 &  0.0\\\\\n",
       "\\end{tabular}\n"
      ],
      "text/markdown": [
       "\n",
       "A matrix: 2 × 4 of type dbl\n",
       "\n",
       "| 1 | 0.5 | 0 | -1.5 |\n",
       "| 0 | 0.0 | 1 |  0.0 |\n",
       "\n"
      ],
      "text/plain": [
       "     [,1] [,2] [,3] [,4]\n",
       "[1,] 1    0.5  0    -1.5\n",
       "[2,] 0    0.0  1     0.0"
      ]
     },
     "metadata": {},
     "output_type": "display_data"
    }
   ],
   "source": [
    "Q[3:4,]"
   ]
  },
  {
   "cell_type": "markdown",
   "id": "8a6d961e",
   "metadata": {},
   "source": [
    "Lo que nos dice que otra posible base es $\\{(0,0,1,0)_B,(1,1/2,0,-3/2)_B\\}$ (nótese que el último vector es $-2/3$ por el segundo vector que obtuvimos antes)."
   ]
  },
  {
   "cell_type": "markdown",
   "id": "ad464e30",
   "metadata": {},
   "source": [
    "## Paso de generadores a implícitas y viceversa\n",
    "\n",
    "Vamos a escribir una función que nos permita calcular las ecuaciones implícitas de un subespacio vectorial a partir de un sistema de generadores de dicho subespacio, y viceversa. \n",
    "\n",
    "Supongamos que nuestro subespacio vectorial $U\\subseteq \\mathbb{R}^n$ está generado por $\\{v_1,\\dots,v_k\\}$. Supongamos que la dimensión de $U$ es $d$, que además coincide con el rango de la matriz $A$ cuyas columnas son $v_1,\\dots, v_k$. Supongamos que $H$ es la forma normal reducida por columnas de $A$, y que $Q$ es tal que $Q A=H$. Tenemos entonces que las últimas $n-d$ columnas de $H$ son cero. Esto quiere decir que las últimas $d-n$ filas de $Q$ cuando las multiplicamos por $A$ dan cero, o dicho de otra forma, esas últimas $d-n$ filas son los coeficientes de ecuaciones que verifican todos los generadores de $U$, y por tanto son unas ecuaciones implícitas de $U$.\n",
    "\n",
    "Si, en lugar de generadores, partimos de $k$ ecuaciones implícitas de $U$, el proceso es dual, por lo que si en $A$ almacenamos los coeficientes de dichas ecuaciones y tomamos su transpuesta, podemos calcular nuevamente la forma normal de hermite de $A^t$, $H$, y $Q$ tal que $QA^t=H$. Si de esas $k$ ecuaciones, $d$ de ellas son independientes, entonces las últimas $n-d$ columnas de $H$ serán nulas. De esta forma las últimas $n-d$ filas de $Q$ conforman una base de $U$.\n",
    "\n",
    "Escribamos este proceso en `R`."
   ]
  },
  {
   "cell_type": "code",
   "execution_count": 9,
   "id": "5346abfa",
   "metadata": {},
   "outputs": [],
   "source": [
    "library(\"pracma\")\n",
    "gensec<-function(A){\n",
    "    # A es una matrix con los generadores del subespacio\n",
    "    # (o los coeficientes de las ecuaciones que lo definen)                                       \n",
    "    c<-ncol(A) # número columnas de A                                                                           \n",
    "    f<-nrow(A) # número de filas de A                                                                           \n",
    "    r<-Rank(A) # rango de A                                                                                     \n",
    "    rtAI<-rref(cbind(t(A),diag(c))) # trasponemos A y le añadimos la identidad por columnas                     \n",
    "    ecs<-rtAI[(r+1):c,(f+1):(f+c)] # nos quedamos con la parte de ceros que corresponden\n",
    "                                   # a las ecuaciones (o a los generadores dependiendo de la entrada)       \n",
    "    return(ecs)\n",
    "}"
   ]
  },
  {
   "cell_type": "markdown",
   "id": "e1eb180e",
   "metadata": {},
   "source": [
    "Veamos su son los dos ejemplos de antes."
   ]
  },
  {
   "cell_type": "markdown",
   "id": "64140140",
   "metadata": {},
   "source": [
    "### Ejemplo 1\n",
    "\n",
    "Sea $U=\\mathcal{L}(\\{(1,2,0,2),(1,3,1,2),(0,2,1,1),(1,2,2,0) \\})\\subseteq\\mathbb{R}^4$. Calculemos sus ecuaciones implícitas."
   ]
  },
  {
   "cell_type": "code",
   "execution_count": 7,
   "id": "6b13b827",
   "metadata": {},
   "outputs": [
    {
     "data": {
      "text/html": [
       "<table class=\"dataframe\">\n",
       "<caption>A matrix: 4 × 4 of type dbl</caption>\n",
       "<tbody>\n",
       "\t<tr><td>1</td><td>2</td><td>0</td><td>2</td></tr>\n",
       "\t<tr><td>1</td><td>3</td><td>1</td><td>2</td></tr>\n",
       "\t<tr><td>0</td><td>2</td><td>1</td><td>1</td></tr>\n",
       "\t<tr><td>1</td><td>2</td><td>2</td><td>0</td></tr>\n",
       "</tbody>\n",
       "</table>\n"
      ],
      "text/latex": [
       "A matrix: 4 × 4 of type dbl\n",
       "\\begin{tabular}{llll}\n",
       "\t 1 & 2 & 0 & 2\\\\\n",
       "\t 1 & 3 & 1 & 2\\\\\n",
       "\t 0 & 2 & 1 & 1\\\\\n",
       "\t 1 & 2 & 2 & 0\\\\\n",
       "\\end{tabular}\n"
      ],
      "text/markdown": [
       "\n",
       "A matrix: 4 × 4 of type dbl\n",
       "\n",
       "| 1 | 2 | 0 | 2 |\n",
       "| 1 | 3 | 1 | 2 |\n",
       "| 0 | 2 | 1 | 1 |\n",
       "| 1 | 2 | 2 | 0 |\n",
       "\n"
      ],
      "text/plain": [
       "     [,1] [,2] [,3] [,4]\n",
       "[1,] 1    2    0    2   \n",
       "[2,] 1    3    1    2   \n",
       "[3,] 0    2    1    1   \n",
       "[4,] 1    2    2    0   "
      ]
     },
     "metadata": {},
     "output_type": "display_data"
    }
   ],
   "source": [
    "A<-rbind(c(1,2,0,2),c(1,3,1,2),c(0,2,1,1),c(1,2,2,0))\n",
    "A"
   ]
  },
  {
   "cell_type": "code",
   "execution_count": 10,
   "id": "707e3be1",
   "metadata": {},
   "outputs": [
    {
     "data": {
      "text/html": [
       "<style>\n",
       ".list-inline {list-style: none; margin:0; padding: 0}\n",
       ".list-inline>li {display: inline-block}\n",
       ".list-inline>li:not(:last-child)::after {content: \"\\00b7\"; padding: 0 .5ex}\n",
       "</style>\n",
       "<ol class=list-inline><li>0</li><li>1</li><li>-1</li><li>-1</li></ol>\n"
      ],
      "text/latex": [
       "\\begin{enumerate*}\n",
       "\\item 0\n",
       "\\item 1\n",
       "\\item -1\n",
       "\\item -1\n",
       "\\end{enumerate*}\n"
      ],
      "text/markdown": [
       "1. 0\n",
       "2. 1\n",
       "3. -1\n",
       "4. -1\n",
       "\n",
       "\n"
      ],
      "text/plain": [
       "[1]  0  1 -1 -1"
      ]
     },
     "metadata": {},
     "output_type": "display_data"
    }
   ],
   "source": [
    "gensec(A)"
   ]
  },
  {
   "cell_type": "markdown",
   "id": "e3cf3a48",
   "metadata": {},
   "source": [
    "Por lo tanto la ecuación de $U$ es $x_2-x_3-x_4=0$.\n"
   ]
  },
  {
   "cell_type": "markdown",
   "id": "aa9df554",
   "metadata": {},
   "source": [
    "### Ejemplo 2\n",
    "\n",
    "Sea ahora el subespacio vectorial de $\\mathbbR}^4$ con ecuaciones $x_1+x_2+x_4=0$, $2x_1-x_2+x_4=0$."
   ]
  },
  {
   "cell_type": "code",
   "execution_count": 11,
   "id": "a2c9ae1a",
   "metadata": {},
   "outputs": [
    {
     "data": {
      "text/html": [
       "<table class=\"dataframe\">\n",
       "<caption>A matrix: 2 × 4 of type dbl</caption>\n",
       "<tbody>\n",
       "\t<tr><td>1</td><td>0.5</td><td>0</td><td>-1.5</td></tr>\n",
       "\t<tr><td>0</td><td>0.0</td><td>1</td><td> 0.0</td></tr>\n",
       "</tbody>\n",
       "</table>\n"
      ],
      "text/latex": [
       "A matrix: 2 × 4 of type dbl\n",
       "\\begin{tabular}{llll}\n",
       "\t 1 & 0.5 & 0 & -1.5\\\\\n",
       "\t 0 & 0.0 & 1 &  0.0\\\\\n",
       "\\end{tabular}\n"
      ],
      "text/markdown": [
       "\n",
       "A matrix: 2 × 4 of type dbl\n",
       "\n",
       "| 1 | 0.5 | 0 | -1.5 |\n",
       "| 0 | 0.0 | 1 |  0.0 |\n",
       "\n"
      ],
      "text/plain": [
       "     [,1] [,2] [,3] [,4]\n",
       "[1,] 1    0.5  0    -1.5\n",
       "[2,] 0    0.0  1     0.0"
      ]
     },
     "metadata": {},
     "output_type": "display_data"
    }
   ],
   "source": [
    "B<-rbind(c(1,1,0,1),c(2,-1,0,1))\n",
    "gensec(B)"
   ]
  },
  {
   "cell_type": "markdown",
   "id": "285bbdfa",
   "metadata": {},
   "source": [
    "Por lo que nuestro subespacio es $\\mathcal{L}(\\{(1,1/2,0,-3/2),(0,0,1,0)\\})$."
   ]
  },
  {
   "cell_type": "markdown",
   "id": "3dc41191",
   "metadata": {},
   "source": [
    "## Suma e intersección de subespacios"
   ]
  },
  {
   "cell_type": "markdown",
   "id": "82da900c",
   "metadata": {},
   "source": [
    "### Ejercicio\n",
    "\n",
    "*Determinar bases de la suma y la intersección de los subespacios $U=\\mathcal{L}((1,1,0,0), (0,0,1,1))$ y $W=\\mathcal{L}((1,1,1,0), (1,1,1,1))$ de $\\mathbb{R}^4$.*"
   ]
  },
  {
   "cell_type": "markdown",
   "id": "86f3ec4c",
   "metadata": {},
   "source": [
    "Para calcular la suma, basta con calcular una base del espacio vectorial generado por la unión de los generadores de $U$ y $V$."
   ]
  },
  {
   "cell_type": "code",
   "execution_count": 13,
   "id": "e7956609",
   "metadata": {},
   "outputs": [
    {
     "data": {
      "text/html": [
       "<table class=\"dataframe\">\n",
       "<caption>A matrix: 4 × 4 of type dbl</caption>\n",
       "<tbody>\n",
       "\t<tr><td>1</td><td>1</td><td>0</td><td>0</td></tr>\n",
       "\t<tr><td>0</td><td>0</td><td>1</td><td>0</td></tr>\n",
       "\t<tr><td>0</td><td>0</td><td>0</td><td>1</td></tr>\n",
       "\t<tr><td>0</td><td>0</td><td>0</td><td>0</td></tr>\n",
       "</tbody>\n",
       "</table>\n"
      ],
      "text/latex": [
       "A matrix: 4 × 4 of type dbl\n",
       "\\begin{tabular}{llll}\n",
       "\t 1 & 1 & 0 & 0\\\\\n",
       "\t 0 & 0 & 1 & 0\\\\\n",
       "\t 0 & 0 & 0 & 1\\\\\n",
       "\t 0 & 0 & 0 & 0\\\\\n",
       "\\end{tabular}\n"
      ],
      "text/markdown": [
       "\n",
       "A matrix: 4 × 4 of type dbl\n",
       "\n",
       "| 1 | 1 | 0 | 0 |\n",
       "| 0 | 0 | 1 | 0 |\n",
       "| 0 | 0 | 0 | 1 |\n",
       "| 0 | 0 | 0 | 0 |\n",
       "\n"
      ],
      "text/plain": [
       "     [,1] [,2] [,3] [,4]\n",
       "[1,] 1    1    0    0   \n",
       "[2,] 0    0    1    0   \n",
       "[3,] 0    0    0    1   \n",
       "[4,] 0    0    0    0   "
      ]
     },
     "metadata": {},
     "output_type": "display_data"
    }
   ],
   "source": [
    "U<-rbind(c(1,1,0,0),c(0,0,1,1))\n",
    "V<-rbind(c(1,1,1,0),c(1,1,1,1))\n",
    "rref(rbind(U,V))"
   ]
  },
  {
   "cell_type": "markdown",
   "id": "65b998ed",
   "metadata": {},
   "source": [
    "Luego la suma está generada por $\\{(1,1,0,0),(0,0,1,0),(0,0,0,1)\\}$."
   ]
  },
  {
   "cell_type": "markdown",
   "id": "2b4ba20e",
   "metadata": {},
   "source": [
    "Para la intersección, calculamos las ecuaciones implícitas de $U$ y $V$, y luego las juntamos."
   ]
  },
  {
   "cell_type": "code",
   "execution_count": 20,
   "id": "9623a718",
   "metadata": {},
   "outputs": [
    {
     "data": {
      "text/html": [
       "<table class=\"dataframe\">\n",
       "<caption>A matrix: 2 × 4 of type dbl</caption>\n",
       "<tbody>\n",
       "\t<tr><td>1</td><td>-1</td><td>0</td><td> 0</td></tr>\n",
       "\t<tr><td>0</td><td> 0</td><td>1</td><td>-1</td></tr>\n",
       "</tbody>\n",
       "</table>\n"
      ],
      "text/latex": [
       "A matrix: 2 × 4 of type dbl\n",
       "\\begin{tabular}{llll}\n",
       "\t 1 & -1 & 0 &  0\\\\\n",
       "\t 0 &  0 & 1 & -1\\\\\n",
       "\\end{tabular}\n"
      ],
      "text/markdown": [
       "\n",
       "A matrix: 2 × 4 of type dbl\n",
       "\n",
       "| 1 | -1 | 0 |  0 |\n",
       "| 0 |  0 | 1 | -1 |\n",
       "\n"
      ],
      "text/plain": [
       "     [,1] [,2] [,3] [,4]\n",
       "[1,] 1    -1   0     0  \n",
       "[2,] 0     0   1    -1  "
      ]
     },
     "metadata": {},
     "output_type": "display_data"
    }
   ],
   "source": [
    "ecU<-gensec(U)\n",
    "ecU"
   ]
  },
  {
   "cell_type": "markdown",
   "id": "164db5bf",
   "metadata": {},
   "source": [
    "Las ecuaciones de $U$ son $x-y=0$, $z-t=0$."
   ]
  },
  {
   "cell_type": "code",
   "execution_count": 21,
   "id": "bb094462",
   "metadata": {},
   "outputs": [
    {
     "data": {
      "text/html": [
       "<table class=\"dataframe\">\n",
       "<caption>A matrix: 2 × 4 of type dbl</caption>\n",
       "<tbody>\n",
       "\t<tr><td>1</td><td>0</td><td>-1</td><td>0</td></tr>\n",
       "\t<tr><td>0</td><td>1</td><td>-1</td><td>0</td></tr>\n",
       "</tbody>\n",
       "</table>\n"
      ],
      "text/latex": [
       "A matrix: 2 × 4 of type dbl\n",
       "\\begin{tabular}{llll}\n",
       "\t 1 & 0 & -1 & 0\\\\\n",
       "\t 0 & 1 & -1 & 0\\\\\n",
       "\\end{tabular}\n"
      ],
      "text/markdown": [
       "\n",
       "A matrix: 2 × 4 of type dbl\n",
       "\n",
       "| 1 | 0 | -1 | 0 |\n",
       "| 0 | 1 | -1 | 0 |\n",
       "\n"
      ],
      "text/plain": [
       "     [,1] [,2] [,3] [,4]\n",
       "[1,] 1    0    -1   0   \n",
       "[2,] 0    1    -1   0   "
      ]
     },
     "metadata": {},
     "output_type": "display_data"
    }
   ],
   "source": [
    "ecV<-gensec(V)\n",
    "ecV"
   ]
  },
  {
   "cell_type": "markdown",
   "id": "b0af998a",
   "metadata": {},
   "source": [
    "Las de $V$ son $x-z=0$, $y-z=0$. Las de la intersección por tanto se obtienen juntando estas ecuaciones y reduciendo."
   ]
  },
  {
   "cell_type": "code",
   "execution_count": 26,
   "id": "4d9ce39b",
   "metadata": {},
   "outputs": [
    {
     "data": {
      "text/html": [
       "<table class=\"dataframe\">\n",
       "<caption>A matrix: 4 × 4 of type dbl</caption>\n",
       "<tbody>\n",
       "\t<tr><td>1</td><td>0</td><td>0</td><td>-1</td></tr>\n",
       "\t<tr><td>0</td><td>1</td><td>0</td><td>-1</td></tr>\n",
       "\t<tr><td>0</td><td>0</td><td>1</td><td>-1</td></tr>\n",
       "\t<tr><td>0</td><td>0</td><td>0</td><td> 0</td></tr>\n",
       "</tbody>\n",
       "</table>\n"
      ],
      "text/latex": [
       "A matrix: 4 × 4 of type dbl\n",
       "\\begin{tabular}{llll}\n",
       "\t 1 & 0 & 0 & -1\\\\\n",
       "\t 0 & 1 & 0 & -1\\\\\n",
       "\t 0 & 0 & 1 & -1\\\\\n",
       "\t 0 & 0 & 0 &  0\\\\\n",
       "\\end{tabular}\n"
      ],
      "text/markdown": [
       "\n",
       "A matrix: 4 × 4 of type dbl\n",
       "\n",
       "| 1 | 0 | 0 | -1 |\n",
       "| 0 | 1 | 0 | -1 |\n",
       "| 0 | 0 | 1 | -1 |\n",
       "| 0 | 0 | 0 |  0 |\n",
       "\n"
      ],
      "text/plain": [
       "     [,1] [,2] [,3] [,4]\n",
       "[1,] 1    0    0    -1  \n",
       "[2,] 0    1    0    -1  \n",
       "[3,] 0    0    1    -1  \n",
       "[4,] 0    0    0     0  "
      ]
     },
     "metadata": {},
     "output_type": "display_data"
    }
   ],
   "source": [
    "eqUiV<-rref(rbind(ecU,ecV))\n",
    "eqUiV"
   ]
  },
  {
   "cell_type": "markdown",
   "id": "a76a7844",
   "metadata": {},
   "source": [
    "Por tanto las ecuaciones de la intersección son\n",
    "$$\n",
    "\\left\\{ \\begin{array}{rcl}\n",
    "x - t &=& 0, \\\\\n",
    "y - t &=&  0, \\\\\n",
    "z - t &=& 0.\n",
    "\\end{array} \\right.\n",
    "$$"
   ]
  },
  {
   "cell_type": "markdown",
   "id": "595c1333",
   "metadata": {},
   "source": [
    "Teniendo así que $U\\cap V$ está generado por $(1,1,1,1)$."
   ]
  },
  {
   "cell_type": "code",
   "execution_count": 25,
   "id": "a0b75124",
   "metadata": {},
   "outputs": [
    {
     "data": {
      "text/html": [
       "<style>\n",
       ".list-inline {list-style: none; margin:0; padding: 0}\n",
       ".list-inline>li {display: inline-block}\n",
       ".list-inline>li:not(:last-child)::after {content: \"\\00b7\"; padding: 0 .5ex}\n",
       "</style>\n",
       "<ol class=list-inline><li>1</li><li>1</li><li>1</li><li>1</li></ol>\n"
      ],
      "text/latex": [
       "\\begin{enumerate*}\n",
       "\\item 1\n",
       "\\item 1\n",
       "\\item 1\n",
       "\\item 1\n",
       "\\end{enumerate*}\n"
      ],
      "text/markdown": [
       "1. 1\n",
       "2. 1\n",
       "3. 1\n",
       "4. 1\n",
       "\n",
       "\n"
      ],
      "text/plain": [
       "[1] 1 1 1 1"
      ]
     },
     "metadata": {},
     "output_type": "display_data"
    }
   ],
   "source": [
    "gensec(rbind(ecU,ecV))"
   ]
  },
  {
   "cell_type": "markdown",
   "id": "867c76e3",
   "metadata": {},
   "source": [
    "## Suma directa de subespacios"
   ]
  },
  {
   "cell_type": "markdown",
   "id": "22eb8c77",
   "metadata": {},
   "source": [
    "### Ejercicio\n",
    "\n",
    "*Dado el subespacio $U$ de $\\mathbb{R}^4$ de ecuaciones cartesianas*\n",
    "$$\n",
    "\\left\\{ \\begin{array}{ccc}\n",
    "x+y & = & 0, \\\\\n",
    "t & = & 0.\n",
    "\\end{array} \\right.\n",
    "$$\n",
    "*Obtener un subespacio complementario de $U$.*"
   ]
  },
  {
   "cell_type": "code",
   "execution_count": 29,
   "id": "ed370b56",
   "metadata": {},
   "outputs": [
    {
     "data": {
      "text/html": [
       "<table class=\"dataframe\">\n",
       "<caption>A matrix: 2 × 4 of type dbl</caption>\n",
       "<tbody>\n",
       "\t<tr><td>1</td><td>-1</td><td>0</td><td>0</td></tr>\n",
       "\t<tr><td>0</td><td> 0</td><td>1</td><td>0</td></tr>\n",
       "</tbody>\n",
       "</table>\n"
      ],
      "text/latex": [
       "A matrix: 2 × 4 of type dbl\n",
       "\\begin{tabular}{llll}\n",
       "\t 1 & -1 & 0 & 0\\\\\n",
       "\t 0 &  0 & 1 & 0\\\\\n",
       "\\end{tabular}\n"
      ],
      "text/markdown": [
       "\n",
       "A matrix: 2 × 4 of type dbl\n",
       "\n",
       "| 1 | -1 | 0 | 0 |\n",
       "| 0 |  0 | 1 | 0 |\n",
       "\n"
      ],
      "text/plain": [
       "     [,1] [,2] [,3] [,4]\n",
       "[1,] 1    -1   0    0   \n",
       "[2,] 0     0   1    0   "
      ]
     },
     "metadata": {},
     "output_type": "display_data"
    }
   ],
   "source": [
    "ecU<-rbind(c(1,1,0,0),c(0,0,0,1))\n",
    "U<-gensec(ecU)\n",
    "U"
   ]
  },
  {
   "cell_type": "code",
   "execution_count": 30,
   "id": "8bb4b7d7",
   "metadata": {},
   "outputs": [
    {
     "data": {
      "text/html": [
       "4"
      ],
      "text/latex": [
       "4"
      ],
      "text/markdown": [
       "4"
      ],
      "text/plain": [
       "[1] 4"
      ]
     },
     "metadata": {},
     "output_type": "display_data"
    }
   ],
   "source": [
    "Rank(rbind(U,ecU))"
   ]
  },
  {
   "cell_type": "markdown",
   "id": "67017d10",
   "metadata": {},
   "source": [
    "Un complementario es por tanto $\\mathcal{L}(\\{(1,1,0,0),(0,0,0,1)\\})$ (los vectores cuyas coordenadas son los coeficientes de las ecuaciones de $U$)."
   ]
  },
  {
   "cell_type": "markdown",
   "id": "66042fa4",
   "metadata": {},
   "source": [
    "### Ejercicio\n",
    "\n",
    "*Se consideran los subespacios de $\\mathcal{P}_2(\\mathbb{R})$ $U=\\mathcal{L}(1+x^2)$ y $W$ con ecuación cartesiana respecto de base estándar $x_1 + x_3= 0$. Comprobar que $\\mathcal{P}_2(\\mathbb{R})=U\\oplus W$ y descomponer el vector $1+3x+3x^2$ como suma de un vector de $U$ y uno de $W$.*"
   ]
  },
  {
   "cell_type": "markdown",
   "id": "b20626b4",
   "metadata": {},
   "source": [
    "Respecto a la base estándar $B=\\{1,x,x^2\\}$, $U$ está generado por $(1,0,1)$. Encontremos una base para $W$."
   ]
  },
  {
   "cell_type": "code",
   "execution_count": 31,
   "id": "54664f3e",
   "metadata": {},
   "outputs": [
    {
     "data": {
      "text/html": [
       "<table class=\"dataframe\">\n",
       "<caption>A matrix: 2 × 3 of type dbl</caption>\n",
       "<tbody>\n",
       "\t<tr><td>1</td><td>0</td><td>-1</td></tr>\n",
       "\t<tr><td>0</td><td>1</td><td> 0</td></tr>\n",
       "</tbody>\n",
       "</table>\n"
      ],
      "text/latex": [
       "A matrix: 2 × 3 of type dbl\n",
       "\\begin{tabular}{lll}\n",
       "\t 1 & 0 & -1\\\\\n",
       "\t 0 & 1 &  0\\\\\n",
       "\\end{tabular}\n"
      ],
      "text/markdown": [
       "\n",
       "A matrix: 2 × 3 of type dbl\n",
       "\n",
       "| 1 | 0 | -1 |\n",
       "| 0 | 1 |  0 |\n",
       "\n"
      ],
      "text/plain": [
       "     [,1] [,2] [,3]\n",
       "[1,] 1    0    -1  \n",
       "[2,] 0    1     0  "
      ]
     },
     "metadata": {},
     "output_type": "display_data"
    }
   ],
   "source": [
    "U<-rbind(c(1,0,1))\n",
    "ecW<-rbind(c(1,0,1))\n",
    "W<-gensec(ecW)\n",
    "W"
   ]
  },
  {
   "cell_type": "markdown",
   "id": "c4c11c2e",
   "metadata": {},
   "source": [
    "Como "
   ]
  },
  {
   "cell_type": "code",
   "execution_count": 32,
   "id": "126fcdc8",
   "metadata": {},
   "outputs": [
    {
     "data": {
      "text/html": [
       "3"
      ],
      "text/latex": [
       "3"
      ],
      "text/markdown": [
       "3"
      ],
      "text/plain": [
       "[1] 3"
      ]
     },
     "metadata": {},
     "output_type": "display_data"
    }
   ],
   "source": [
    "Rank(rbind(U,W))"
   ]
  },
  {
   "cell_type": "markdown",
   "id": "01fa906c",
   "metadata": {},
   "source": [
    "Tenemos que $U+W=\\mathcal{P}_2(\\mathbb{R})$. Además, como $U$ tiene dimensión uno y $W$ tiene dimensión dos, la intersección debe tener dimensión cero, pues $\\dim(U\\cap W) = \\dim(U) + \\dim(W) -\\dim(U+W)= 1 +2 -3 =0$. Por tanto, $\\mathcal{P}_2(\\mathbb{R})=U\\oplus W$. Esto también queda claro por el hecho de que la ecuación cartesianda de $W$ tiene como coeficientes el vector que genera a $U$."
   ]
  },
  {
   "cell_type": "markdown",
   "id": "b22eb1c8",
   "metadata": {},
   "source": [
    "El polinomio $1+3x+3x^2$ tiene coordenadas $(1,3,3)$ respecto de la base estándar. Calculemos sus coordenadas respecto de la base formada por la unión de las bases de $U$ y $W$, $B'=\\{(1,0,1),(1,0,-1),(0,1,0)\\}$."
   ]
  },
  {
   "cell_type": "code",
   "execution_count": 34,
   "id": "4b762bb3",
   "metadata": {},
   "outputs": [
    {
     "data": {
      "text/html": [
       "<table class=\"dataframe\">\n",
       "<caption>A matrix: 3 × 3 of type dbl</caption>\n",
       "<tbody>\n",
       "\t<tr><td>1</td><td> 1</td><td>0</td></tr>\n",
       "\t<tr><td>0</td><td> 0</td><td>1</td></tr>\n",
       "\t<tr><td>1</td><td>-1</td><td>0</td></tr>\n",
       "</tbody>\n",
       "</table>\n"
      ],
      "text/latex": [
       "A matrix: 3 × 3 of type dbl\n",
       "\\begin{tabular}{lll}\n",
       "\t 1 &  1 & 0\\\\\n",
       "\t 0 &  0 & 1\\\\\n",
       "\t 1 & -1 & 0\\\\\n",
       "\\end{tabular}\n"
      ],
      "text/markdown": [
       "\n",
       "A matrix: 3 × 3 of type dbl\n",
       "\n",
       "| 1 |  1 | 0 |\n",
       "| 0 |  0 | 1 |\n",
       "| 1 | -1 | 0 |\n",
       "\n"
      ],
      "text/plain": [
       "     [,1] [,2] [,3]\n",
       "[1,] 1     1   0   \n",
       "[2,] 0     0   1   \n",
       "[3,] 1    -1   0   "
      ]
     },
     "metadata": {},
     "output_type": "display_data"
    }
   ],
   "source": [
    "cb<-t(rbind(U,W))\n",
    "cb"
   ]
  },
  {
   "cell_type": "code",
   "execution_count": 35,
   "id": "13eec17e",
   "metadata": {},
   "outputs": [
    {
     "data": {
      "text/html": [
       "<table class=\"dataframe\">\n",
       "<caption>A matrix: 3 × 3 of type dbl</caption>\n",
       "<tbody>\n",
       "\t<tr><td>0.5</td><td>0</td><td> 0.5</td></tr>\n",
       "\t<tr><td>0.5</td><td>0</td><td>-0.5</td></tr>\n",
       "\t<tr><td>0.0</td><td>1</td><td> 0.0</td></tr>\n",
       "</tbody>\n",
       "</table>\n"
      ],
      "text/latex": [
       "A matrix: 3 × 3 of type dbl\n",
       "\\begin{tabular}{lll}\n",
       "\t 0.5 & 0 &  0.5\\\\\n",
       "\t 0.5 & 0 & -0.5\\\\\n",
       "\t 0.0 & 1 &  0.0\\\\\n",
       "\\end{tabular}\n"
      ],
      "text/markdown": [
       "\n",
       "A matrix: 3 × 3 of type dbl\n",
       "\n",
       "| 0.5 | 0 |  0.5 |\n",
       "| 0.5 | 0 | -0.5 |\n",
       "| 0.0 | 1 |  0.0 |\n",
       "\n"
      ],
      "text/plain": [
       "     [,1] [,2] [,3]\n",
       "[1,] 0.5  0     0.5\n",
       "[2,] 0.5  0    -0.5\n",
       "[3,] 0.0  1     0.0"
      ]
     },
     "metadata": {},
     "output_type": "display_data"
    }
   ],
   "source": [
    "solve(cb)"
   ]
  },
  {
   "cell_type": "code",
   "execution_count": 36,
   "id": "9443fe10",
   "metadata": {},
   "outputs": [
    {
     "data": {
      "text/html": [
       "<table class=\"dataframe\">\n",
       "<caption>A matrix: 3 × 1 of type dbl</caption>\n",
       "<tbody>\n",
       "\t<tr><td> 2</td></tr>\n",
       "\t<tr><td>-1</td></tr>\n",
       "\t<tr><td> 3</td></tr>\n",
       "</tbody>\n",
       "</table>\n"
      ],
      "text/latex": [
       "A matrix: 3 × 1 of type dbl\n",
       "\\begin{tabular}{l}\n",
       "\t  2\\\\\n",
       "\t -1\\\\\n",
       "\t  3\\\\\n",
       "\\end{tabular}\n"
      ],
      "text/markdown": [
       "\n",
       "A matrix: 3 × 1 of type dbl\n",
       "\n",
       "|  2 |\n",
       "| -1 |\n",
       "|  3 |\n",
       "\n"
      ],
      "text/plain": [
       "     [,1]\n",
       "[1,]  2  \n",
       "[2,] -1  \n",
       "[3,]  3  "
      ]
     },
     "metadata": {},
     "output_type": "display_data"
    }
   ],
   "source": [
    "solve(cb)%*%c(1,3,3)"
   ]
  },
  {
   "cell_type": "markdown",
   "id": "686e9cb4",
   "metadata": {},
   "source": [
    "Luego $1+3x+3x^2=(2,-1,3)_{B'}=2(1+x^2)-(1-x^2)+3x$, con $2+2x^2\\in U$ y $-1+3x+x^2\\in W$."
   ]
  },
  {
   "cell_type": "markdown",
   "id": "1babdaf2",
   "metadata": {},
   "source": [
    "## Matrix de Gram"
   ]
  },
  {
   "cell_type": "markdown",
   "id": "e6f0bba4",
   "metadata": {},
   "source": [
    "### Ejercicio\n",
    "\n",
    "*En el espacio vectorial $\\mathcal{P}_2(\\mathbb{K})$ de los polinomios de grado menor o igual que $2$, calcular la matriz de Gram del producto escalar definido por*\n",
    "$$ \\langle p(x),q(x)\\rangle = \\int_{0}^{1} p(x)q(x)dx $$\n",
    "*respecto de la base estándar $B=\\{1,x,x^2 \\}$.*"
   ]
  },
  {
   "cell_type": "code",
   "execution_count": 164,
   "id": "583e6c6b",
   "metadata": {},
   "outputs": [],
   "source": [
    "B<-c(function(x)(1), function(x)(x), function(x)(x^2))"
   ]
  },
  {
   "cell_type": "markdown",
   "id": "96ba1833",
   "metadata": {},
   "source": [
    "Definimos el producto escalar de dos funciones (cuidado que es necesario `Vectorize')"
   ]
  },
  {
   "cell_type": "code",
   "execution_count": 165,
   "id": "63090001",
   "metadata": {},
   "outputs": [],
   "source": [
    "prod<-function(f,g)(integrate(Vectorize(function(x)(f(x)*g(x))),0,1)$value)"
   ]
  },
  {
   "cell_type": "code",
   "execution_count": 166,
   "id": "1f876c5c",
   "metadata": {},
   "outputs": [
    {
     "data": {
      "text/html": [
       "<table class=\"dataframe\">\n",
       "<caption>A matrix: 3 × 3 of type dbl</caption>\n",
       "<tbody>\n",
       "\t<tr><td>1.0000000</td><td>0.5000000</td><td>0.3333333</td></tr>\n",
       "\t<tr><td>0.5000000</td><td>0.3333333</td><td>0.2500000</td></tr>\n",
       "\t<tr><td>0.3333333</td><td>0.2500000</td><td>0.2000000</td></tr>\n",
       "</tbody>\n",
       "</table>\n"
      ],
      "text/latex": [
       "A matrix: 3 × 3 of type dbl\n",
       "\\begin{tabular}{lll}\n",
       "\t 1.0000000 & 0.5000000 & 0.3333333\\\\\n",
       "\t 0.5000000 & 0.3333333 & 0.2500000\\\\\n",
       "\t 0.3333333 & 0.2500000 & 0.2000000\\\\\n",
       "\\end{tabular}\n"
      ],
      "text/markdown": [
       "\n",
       "A matrix: 3 × 3 of type dbl\n",
       "\n",
       "| 1.0000000 | 0.5000000 | 0.3333333 |\n",
       "| 0.5000000 | 0.3333333 | 0.2500000 |\n",
       "| 0.3333333 | 0.2500000 | 0.2000000 |\n",
       "\n"
      ],
      "text/plain": [
       "     [,1]      [,2]      [,3]     \n",
       "[1,] 1.0000000 0.5000000 0.3333333\n",
       "[2,] 0.5000000 0.3333333 0.2500000\n",
       "[3,] 0.3333333 0.2500000 0.2000000"
      ]
     },
     "metadata": {},
     "output_type": "display_data"
    }
   ],
   "source": [
    "G<-matrix(0,3,3)\n",
    "for (i in 1:3){\n",
    "    for (j in 1:3){\n",
    "        G[i,j]<-prod(B[[i]],B[[j]])\n",
    "        #G[i,j]<-integrate(Vectorize(function(x)(B[[i]](x)*B[[j]](x))),0,1)$value\n",
    "    }\n",
    "}\n",
    "G"
   ]
  },
  {
   "cell_type": "markdown",
   "id": "5f45bd6a",
   "metadata": {},
   "source": [
    "Si vectorizamos `prod`, podemos calcular la matriz de Gram de una forma más sencilla con `outer`."
   ]
  },
  {
   "cell_type": "code",
   "execution_count": 168,
   "id": "f4928bd4",
   "metadata": {},
   "outputs": [],
   "source": [
    "prod_v<-Vectorize(prod)"
   ]
  },
  {
   "cell_type": "code",
   "execution_count": 169,
   "id": "e2b64326",
   "metadata": {},
   "outputs": [
    {
     "data": {
      "text/html": [
       "<table class=\"dataframe\">\n",
       "<caption>A matrix: 3 × 3 of type dbl</caption>\n",
       "<tbody>\n",
       "\t<tr><td>1.0000000</td><td>0.5000000</td><td>0.3333333</td></tr>\n",
       "\t<tr><td>0.5000000</td><td>0.3333333</td><td>0.2500000</td></tr>\n",
       "\t<tr><td>0.3333333</td><td>0.2500000</td><td>0.2000000</td></tr>\n",
       "</tbody>\n",
       "</table>\n"
      ],
      "text/latex": [
       "A matrix: 3 × 3 of type dbl\n",
       "\\begin{tabular}{lll}\n",
       "\t 1.0000000 & 0.5000000 & 0.3333333\\\\\n",
       "\t 0.5000000 & 0.3333333 & 0.2500000\\\\\n",
       "\t 0.3333333 & 0.2500000 & 0.2000000\\\\\n",
       "\\end{tabular}\n"
      ],
      "text/markdown": [
       "\n",
       "A matrix: 3 × 3 of type dbl\n",
       "\n",
       "| 1.0000000 | 0.5000000 | 0.3333333 |\n",
       "| 0.5000000 | 0.3333333 | 0.2500000 |\n",
       "| 0.3333333 | 0.2500000 | 0.2000000 |\n",
       "\n"
      ],
      "text/plain": [
       "     [,1]      [,2]      [,3]     \n",
       "[1,] 1.0000000 0.5000000 0.3333333\n",
       "[2,] 0.5000000 0.3333333 0.2500000\n",
       "[3,] 0.3333333 0.2500000 0.2000000"
      ]
     },
     "metadata": {},
     "output_type": "display_data"
    }
   ],
   "source": [
    "outer(B,B,prod_v)"
   ]
  },
  {
   "cell_type": "markdown",
   "id": "5bf2de8f",
   "metadata": {},
   "source": [
    "### Ejercicio\n",
    "\n",
    "*Con el producto escalar anterior y los polinomios $p(x)= 1+6x-10x^2$ y $q(x)=1+2x+4x^2$, calcular*\n",
    " 1. $\\langle p(x), q(x) \\rangle$,\n",
    " 2. $|| p(x)||$, $||q(x) ||$,  \n",
    " 3. *el ángulo que determinan $p(x)$ y $q(x)$."
   ]
  },
  {
   "cell_type": "markdown",
   "id": "c5d6c237",
   "metadata": {},
   "source": [
    "Podemos usar la matriz de Gram antes calculada"
   ]
  },
  {
   "cell_type": "code",
   "execution_count": 170,
   "id": "1d34967d",
   "metadata": {},
   "outputs": [],
   "source": [
    "p<-function(x)(1+6*x-10*x^2)\n",
    "q<-function(x)(1+2*x+4*x^2)"
   ]
  },
  {
   "cell_type": "code",
   "execution_count": 171,
   "id": "b1731ae9",
   "metadata": {},
   "outputs": [
    {
     "data": {
      "text/html": [
       "-4.44089209850063e-16"
      ],
      "text/latex": [
       "-4.44089209850063e-16"
      ],
      "text/markdown": [
       "-4.44089209850063e-16"
      ],
      "text/plain": [
       "[1] -4.440892e-16"
      ]
     },
     "metadata": {},
     "output_type": "display_data"
    }
   ],
   "source": [
    "prod(p,q)"
   ]
  },
  {
   "cell_type": "markdown",
   "id": "955c4447",
   "metadata": {},
   "source": [
    "O bien usando las coordenadas de $p(x)$ y $q(x)$ en la base estándar."
   ]
  },
  {
   "cell_type": "code",
   "execution_count": 173,
   "id": "0afe2c23",
   "metadata": {},
   "outputs": [
    {
     "data": {
      "text/html": [
       "<table class=\"dataframe\">\n",
       "<caption>A matrix: 1 × 1 of type dbl</caption>\n",
       "<tbody>\n",
       "\t<tr><td>-1.776357e-15</td></tr>\n",
       "</tbody>\n",
       "</table>\n"
      ],
      "text/latex": [
       "A matrix: 1 × 1 of type dbl\n",
       "\\begin{tabular}{l}\n",
       "\t -1.776357e-15\\\\\n",
       "\\end{tabular}\n"
      ],
      "text/markdown": [
       "\n",
       "A matrix: 1 × 1 of type dbl\n",
       "\n",
       "| -1.776357e-15 |\n",
       "\n"
      ],
      "text/plain": [
       "     [,1]         \n",
       "[1,] -1.776357e-15"
      ]
     },
     "metadata": {},
     "output_type": "display_data"
    }
   ],
   "source": [
    "c(1,6,-10)%*%G%*%c(1,2,4)"
   ]
  },
  {
   "cell_type": "markdown",
   "id": "2f9563ec",
   "metadata": {},
   "source": [
    "En particular esto implica que son ortogonales (el ángulo que forman es $\\pi/2$)."
   ]
  },
  {
   "cell_type": "markdown",
   "id": "9e595f4c",
   "metadata": {},
   "source": [
    "En cuanto a las normas"
   ]
  },
  {
   "cell_type": "code",
   "execution_count": 174,
   "id": "3777125a",
   "metadata": {},
   "outputs": [
    {
     "data": {
      "text/html": [
       "<table class=\"dataframe\">\n",
       "<caption>A matrix: 1 × 1 of type dbl</caption>\n",
       "<tbody>\n",
       "\t<tr><td>1.527525</td></tr>\n",
       "</tbody>\n",
       "</table>\n"
      ],
      "text/latex": [
       "A matrix: 1 × 1 of type dbl\n",
       "\\begin{tabular}{l}\n",
       "\t 1.527525\\\\\n",
       "\\end{tabular}\n"
      ],
      "text/markdown": [
       "\n",
       "A matrix: 1 × 1 of type dbl\n",
       "\n",
       "| 1.527525 |\n",
       "\n"
      ],
      "text/plain": [
       "     [,1]    \n",
       "[1,] 1.527525"
      ]
     },
     "metadata": {},
     "output_type": "display_data"
    }
   ],
   "source": [
    "sqrt(c(1,6,-10)%*%G%*%c(1,6,-10))"
   ]
  },
  {
   "cell_type": "code",
   "execution_count": 175,
   "id": "f90ea980",
   "metadata": {},
   "outputs": [
    {
     "data": {
      "text/html": [
       "<table class=\"dataframe\">\n",
       "<caption>A matrix: 1 × 1 of type dbl</caption>\n",
       "<tbody>\n",
       "\t<tr><td>3.768289</td></tr>\n",
       "</tbody>\n",
       "</table>\n"
      ],
      "text/latex": [
       "A matrix: 1 × 1 of type dbl\n",
       "\\begin{tabular}{l}\n",
       "\t 3.768289\\\\\n",
       "\\end{tabular}\n"
      ],
      "text/markdown": [
       "\n",
       "A matrix: 1 × 1 of type dbl\n",
       "\n",
       "| 3.768289 |\n",
       "\n"
      ],
      "text/plain": [
       "     [,1]    \n",
       "[1,] 3.768289"
      ]
     },
     "metadata": {},
     "output_type": "display_data"
    }
   ],
   "source": [
    "sqrt(c(1,2,4)%*%G%*%c(1,2,4))"
   ]
  },
  {
   "cell_type": "markdown",
   "id": "3c9eb727",
   "metadata": {},
   "source": [
    "## Cálculo de una base ortogonal usando el método de Gram-Schmidt"
   ]
  },
  {
   "cell_type": "markdown",
   "id": "5104c827",
   "metadata": {},
   "source": [
    "### Ejercicio\n",
    "\n",
    "*En $\\mathbb{R}^3$ con el producto escalar usual, calcular una base ortogonal a partir de los vectores $\\{u_1=(1,1,-1), u_2=(1,-1,1),u_3=(-1,1,1) \\}$.*"
   ]
  },
  {
   "cell_type": "markdown",
   "id": "33219fef",
   "metadata": {},
   "source": [
    "Vamos a automatizar el proceso del cálculo de los coeficientes $\\lambda_{ij}$. Cuardamos los elementos de la base en las filas de una matriz a la que llamamos $U$."
   ]
  },
  {
   "cell_type": "code",
   "execution_count": 230,
   "id": "3ed6b4b8",
   "metadata": {},
   "outputs": [],
   "source": [
    "U <- rbind(c(1,1,-1),c(1,-1,1),c(-1,1,1))\n",
    "m <- nrow(U)\n",
    "n <- ncol(U)\n",
    "E <- matrix(0,m,n)\n",
    "\n",
    "E[1,]<-U[1,]\n",
    "for(j in 2:n){\n",
    "    lambda <- numeric(j-1) # inicializamos lambda a cero\n",
    "    for(i in 1:(j-1)){ # calculamos los valores de los coeficientes correctores\n",
    "        lambda[i]<- -(U[j,]%*%E[i,])/(E[i,]%*%E[i,]) \n",
    "    }\n",
    "    E[j,] = U[j,]+ lambda%*%E[1:(j-1),] # calculamos el nuevo elemento de la base\n",
    "}"
   ]
  },
  {
   "cell_type": "code",
   "execution_count": 231,
   "id": "40a02bdf",
   "metadata": {},
   "outputs": [
    {
     "data": {
      "text/html": [
       "<table class=\"dataframe\">\n",
       "<caption>A matrix: 3 × 3 of type dbl</caption>\n",
       "<tbody>\n",
       "\t<tr><td> 1.000000e+00</td><td> 1.0000000</td><td>-1.0000000</td></tr>\n",
       "\t<tr><td> 1.333333e+00</td><td>-0.6666667</td><td> 0.6666667</td></tr>\n",
       "\t<tr><td>-2.220446e-16</td><td> 1.0000000</td><td> 1.0000000</td></tr>\n",
       "</tbody>\n",
       "</table>\n"
      ],
      "text/latex": [
       "A matrix: 3 × 3 of type dbl\n",
       "\\begin{tabular}{lll}\n",
       "\t  1.000000e+00 &  1.0000000 & -1.0000000\\\\\n",
       "\t  1.333333e+00 & -0.6666667 &  0.6666667\\\\\n",
       "\t -2.220446e-16 &  1.0000000 &  1.0000000\\\\\n",
       "\\end{tabular}\n"
      ],
      "text/markdown": [
       "\n",
       "A matrix: 3 × 3 of type dbl\n",
       "\n",
       "|  1.000000e+00 |  1.0000000 | -1.0000000 |\n",
       "|  1.333333e+00 | -0.6666667 |  0.6666667 |\n",
       "| -2.220446e-16 |  1.0000000 |  1.0000000 |\n",
       "\n"
      ],
      "text/plain": [
       "     [,1]          [,2]       [,3]      \n",
       "[1,]  1.000000e+00  1.0000000 -1.0000000\n",
       "[2,]  1.333333e+00 -0.6666667  0.6666667\n",
       "[3,] -2.220446e-16  1.0000000  1.0000000"
      ]
     },
     "metadata": {},
     "output_type": "display_data"
    }
   ],
   "source": [
    "E"
   ]
  },
  {
   "cell_type": "code",
   "execution_count": 232,
   "id": "2f1a809c",
   "metadata": {
    "scrolled": true
   },
   "outputs": [
    {
     "name": "stdout",
     "output_type": "stream",
     "text": [
      "     [,1] [,2] [,3]\n",
      "[1,]    1    1   -1\n",
      "[2,]  4/3 -2/3  2/3\n",
      "[3,]    .    1    1\n"
     ]
    }
   ],
   "source": [
    "print(fractional(E))"
   ]
  },
  {
   "cell_type": "markdown",
   "id": "39460569",
   "metadata": {},
   "source": [
    "### Ejercicio\n",
    "\n",
    "*En $\\mathbb{R}^3$ se considera el producto escalar que, con respecto de la base canónica, viene dado por la matriz de Gram*\n",
    "\n",
    "$$ G=\\begin{pmatrix}\n",
    "2 & 1 & 1 \\\\\n",
    "1 & 2 & 1 \\\\\n",
    "1 & 1 & 2\n",
    "\\end{pmatrix}.\n",
    "$$\n",
    "\n",
    "*Calcular una base ortogonal a partir de los vectores $\\{(1,-1,0),(0,1,1),(0,0,1)\\}$.*"
   ]
  },
  {
   "cell_type": "code",
   "execution_count": 229,
   "id": "dde4ef55",
   "metadata": {},
   "outputs": [],
   "source": [
    "G<- rbind(c(2,1,1),c(1,2,1),c(1,1,2))\n",
    "U <- rbind(c(1,-1,0),c(0,1,1),c(0,0,1))\n",
    "m <- nrow(U)\n",
    "n <- ncol(U)\n",
    "E <- matrix(0,m,n)\n",
    "lambda = c(0,n,n)\n",
    "\n",
    "E[1,]<-U[1,]\n",
    "for(j in 2:n){\n",
    "    lambda = numeric(j-1) # inicializamos lambda a cero\n",
    "    for(i in 1:(j-1)){ # calculamos los valores de los coeficientes correctores\n",
    "        lambda[i]<- -(U[j,]%*%G%*%E[i,])/(E[i,]%*%G%*%E[i,]) \n",
    "    }\n",
    "    E[j,] = U[j,]+ lambda%*%E[1:(j-1),] # calculamos el nuevo elemento de la base\n",
    "}"
   ]
  },
  {
   "cell_type": "code",
   "execution_count": 227,
   "id": "bddcfe5e",
   "metadata": {},
   "outputs": [
    {
     "data": {
      "text/html": [
       "<table class=\"dataframe\">\n",
       "<caption>A matrix: 3 × 3 of type dbl</caption>\n",
       "<tbody>\n",
       "\t<tr><td> 1.0000000</td><td>-1.0000000</td><td>0.0000000</td></tr>\n",
       "\t<tr><td> 0.5000000</td><td> 0.5000000</td><td>1.0000000</td></tr>\n",
       "\t<tr><td>-0.2727273</td><td>-0.2727273</td><td>0.4545455</td></tr>\n",
       "</tbody>\n",
       "</table>\n"
      ],
      "text/latex": [
       "A matrix: 3 × 3 of type dbl\n",
       "\\begin{tabular}{lll}\n",
       "\t  1.0000000 & -1.0000000 & 0.0000000\\\\\n",
       "\t  0.5000000 &  0.5000000 & 1.0000000\\\\\n",
       "\t -0.2727273 & -0.2727273 & 0.4545455\\\\\n",
       "\\end{tabular}\n"
      ],
      "text/markdown": [
       "\n",
       "A matrix: 3 × 3 of type dbl\n",
       "\n",
       "|  1.0000000 | -1.0000000 | 0.0000000 |\n",
       "|  0.5000000 |  0.5000000 | 1.0000000 |\n",
       "| -0.2727273 | -0.2727273 | 0.4545455 |\n",
       "\n"
      ],
      "text/plain": [
       "     [,1]       [,2]       [,3]     \n",
       "[1,]  1.0000000 -1.0000000 0.0000000\n",
       "[2,]  0.5000000  0.5000000 1.0000000\n",
       "[3,] -0.2727273 -0.2727273 0.4545455"
      ]
     },
     "metadata": {},
     "output_type": "display_data"
    }
   ],
   "source": [
    "E"
   ]
  },
  {
   "cell_type": "code",
   "execution_count": 228,
   "id": "c9f54b10",
   "metadata": {
    "scrolled": true
   },
   "outputs": [
    {
     "name": "stdout",
     "output_type": "stream",
     "text": [
      "     [,1]  [,2]  [,3] \n",
      "[1,]     1    -1     .\n",
      "[2,]   1/2   1/2     1\n",
      "[3,] -3/11 -3/11  5/11\n"
     ]
    }
   ],
   "source": [
    "print(fractional(E))"
   ]
  }
 ],
 "metadata": {
  "kernelspec": {
   "display_name": "R",
   "language": "R",
   "name": "ir"
  },
  "language_info": {
   "codemirror_mode": "r",
   "file_extension": ".r",
   "mimetype": "text/x-r-source",
   "name": "R",
   "pygments_lexer": "r",
   "version": "4.2.2"
  }
 },
 "nbformat": 4,
 "nbformat_minor": 5
}
