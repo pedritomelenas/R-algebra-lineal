{
 "cells": [
  {
   "cell_type": "markdown",
   "id": "179cc268",
   "metadata": {},
   "source": [
    "# Nociones básicas de programación en `R`\n",
    "\n",
    "\n",
    "Los ejemplos que aparecen en esta hoja están inspirados en [An introduction to R](https://cran.r-project.org/doc/manuals/r-release/R-intro.pdf).\n",
    "\n",
    "En `R` varios comandos se pueden agrupar entre llaves, `{exp_1;...;exp_n}`. Normalmente, en una entrada de un bloc de `jupyter` no necesitamos agrupar, pues podemos separar cada expresión en una línea distinta, pero para hacer bucles y escribir nuestras propias funciones, vamos a necesitar agrupar varias expresiones en bloques. Los `;` no serán necesarios si nuestra expresión acaba en una línea determinada y empezamos otra nueva."
   ]
  },
  {
   "cell_type": "code",
   "execution_count": 1,
   "id": "e2b509d8",
   "metadata": {},
   "outputs": [
    {
     "data": {
      "text/html": [
       "<style>\n",
       ".list-inline {list-style: none; margin:0; padding: 0}\n",
       ".list-inline>li {display: inline-block}\n",
       ".list-inline>li:not(:last-child)::after {content: \"\\00b7\"; padding: 0 .5ex}\n",
       "</style>\n",
       "<ol class=list-inline><li>1</li><li>2</li><li>3</li><li>1</li></ol>\n"
      ],
      "text/latex": [
       "\\begin{enumerate*}\n",
       "\\item 1\n",
       "\\item 2\n",
       "\\item 3\n",
       "\\item 1\n",
       "\\end{enumerate*}\n"
      ],
      "text/markdown": [
       "1. 1\n",
       "2. 2\n",
       "3. 3\n",
       "4. 1\n",
       "\n",
       "\n"
      ],
      "text/plain": [
       "[1] 1 2 3 1"
      ]
     },
     "metadata": {},
     "output_type": "display_data"
    }
   ],
   "source": [
    "{a<-c(1:3);b<-c(a,1);b}"
   ]
  },
  {
   "cell_type": "code",
   "execution_count": 2,
   "id": "624c21fe",
   "metadata": {},
   "outputs": [
    {
     "data": {
      "text/html": [
       "<style>\n",
       ".list-inline {list-style: none; margin:0; padding: 0}\n",
       ".list-inline>li {display: inline-block}\n",
       ".list-inline>li:not(:last-child)::after {content: \"\\00b7\"; padding: 0 .5ex}\n",
       "</style>\n",
       "<ol class=list-inline><li>1</li><li>2</li><li>3</li><li>1</li></ol>\n"
      ],
      "text/latex": [
       "\\begin{enumerate*}\n",
       "\\item 1\n",
       "\\item 2\n",
       "\\item 3\n",
       "\\item 1\n",
       "\\end{enumerate*}\n"
      ],
      "text/markdown": [
       "1. 1\n",
       "2. 2\n",
       "3. 3\n",
       "4. 1\n",
       "\n",
       "\n"
      ],
      "text/plain": [
       "[1] 1 2 3 1"
      ]
     },
     "metadata": {},
     "output_type": "display_data"
    }
   ],
   "source": [
    "a<-c(1:3)\n",
    "b<-c(a,1)\n",
    "b"
   ]
  },
  {
   "cell_type": "markdown",
   "id": "2e787faf",
   "metadata": {},
   "source": [
    "### Condicionales `if`\n",
    "\n",
    "Un condicional `if` tiene esta forma `if (exp_1) exp_2 else exp_3`."
   ]
  },
  {
   "cell_type": "code",
   "execution_count": 3,
   "id": "437af2a6",
   "metadata": {},
   "outputs": [
    {
     "data": {
      "text/html": [
       "4"
      ],
      "text/latex": [
       "4"
      ],
      "text/markdown": [
       "4"
      ],
      "text/plain": [
       "[1] 4"
      ]
     },
     "metadata": {},
     "output_type": "display_data"
    }
   ],
   "source": [
    "if (1>2) 3 else 4"
   ]
  },
  {
   "cell_type": "markdown",
   "id": "8e4e9501",
   "metadata": {},
   "source": [
    "## Bucles `for`\n",
    "\n",
    "Un bucle `for` tiene esta estructura: `for (nombre in exp_1) exp_2`, donde `exp_1` es un vector y `exp_2` es normalmente un grupo de expresiones."
   ]
  },
  {
   "cell_type": "code",
   "execution_count": 4,
   "id": "91866a76",
   "metadata": {},
   "outputs": [
    {
     "data": {
      "text/html": [
       "720"
      ],
      "text/latex": [
       "720"
      ],
      "text/markdown": [
       "720"
      ],
      "text/plain": [
       "[1] 720"
      ]
     },
     "metadata": {},
     "output_type": "display_data"
    }
   ],
   "source": [
    "a<-c(1:6)\n",
    "p<-1\n",
    "for (i in a){\n",
    "    p<-p*i\n",
    "}\n",
    "p"
   ]
  },
  {
   "cell_type": "markdown",
   "id": "29de1a57",
   "metadata": {},
   "source": [
    "Veamos un ejemplo que combina `if` y `for`. Vamos a seleccionar los enteros entre 1 y 30 que sean congruentes con 1 módulo 3 (el resto de dividir por 3 es 1). Para ello usaremos `%%` que sirve para calcular el resto de la división entre dos enteros."
   ]
  },
  {
   "cell_type": "code",
   "execution_count": 5,
   "id": "5bbb09e9",
   "metadata": {},
   "outputs": [
    {
     "data": {
      "text/html": [
       "<style>\n",
       ".list-inline {list-style: none; margin:0; padding: 0}\n",
       ".list-inline>li {display: inline-block}\n",
       ".list-inline>li:not(:last-child)::after {content: \"\\00b7\"; padding: 0 .5ex}\n",
       "</style>\n",
       "<ol class=list-inline><li>1</li><li>4</li><li>7</li><li>10</li><li>13</li><li>16</li><li>19</li><li>22</li><li>25</li><li>28</li></ol>\n"
      ],
      "text/latex": [
       "\\begin{enumerate*}\n",
       "\\item 1\n",
       "\\item 4\n",
       "\\item 7\n",
       "\\item 10\n",
       "\\item 13\n",
       "\\item 16\n",
       "\\item 19\n",
       "\\item 22\n",
       "\\item 25\n",
       "\\item 28\n",
       "\\end{enumerate*}\n"
      ],
      "text/markdown": [
       "1. 1\n",
       "2. 4\n",
       "3. 7\n",
       "4. 10\n",
       "5. 13\n",
       "6. 16\n",
       "7. 19\n",
       "8. 22\n",
       "9. 25\n",
       "10. 28\n",
       "\n",
       "\n"
      ],
      "text/plain": [
       " [1]  1  4  7 10 13 16 19 22 25 28"
      ]
     },
     "metadata": {},
     "output_type": "display_data"
    }
   ],
   "source": [
    "a<-c(1:30)\n",
    "b<-c()\n",
    "for (i in a){\n",
    "    if (i %% 3 == 1) {b<-c(b,i)}\n",
    "}\n",
    "b"
   ]
  },
  {
   "cell_type": "markdown",
   "id": "13ce6b3a",
   "metadata": {},
   "source": [
    "Aunque como sabemos, en `R` hay formas más elegantes de hacer lo mismo."
   ]
  },
  {
   "cell_type": "code",
   "execution_count": 6,
   "id": "46cb9731",
   "metadata": {},
   "outputs": [
    {
     "data": {
      "text/html": [
       "<style>\n",
       ".list-inline {list-style: none; margin:0; padding: 0}\n",
       ".list-inline>li {display: inline-block}\n",
       ".list-inline>li:not(:last-child)::after {content: \"\\00b7\"; padding: 0 .5ex}\n",
       "</style>\n",
       "<ol class=list-inline><li>1</li><li>4</li><li>7</li><li>10</li><li>13</li><li>16</li><li>19</li><li>22</li><li>25</li><li>28</li></ol>\n"
      ],
      "text/latex": [
       "\\begin{enumerate*}\n",
       "\\item 1\n",
       "\\item 4\n",
       "\\item 7\n",
       "\\item 10\n",
       "\\item 13\n",
       "\\item 16\n",
       "\\item 19\n",
       "\\item 22\n",
       "\\item 25\n",
       "\\item 28\n",
       "\\end{enumerate*}\n"
      ],
      "text/markdown": [
       "1. 1\n",
       "2. 4\n",
       "3. 7\n",
       "4. 10\n",
       "5. 13\n",
       "6. 16\n",
       "7. 19\n",
       "8. 22\n",
       "9. 25\n",
       "10. 28\n",
       "\n",
       "\n"
      ],
      "text/plain": [
       " [1]  1  4  7 10 13 16 19 22 25 28"
      ]
     },
     "metadata": {},
     "output_type": "display_data"
    }
   ],
   "source": [
    "a[a%%3==1]"
   ]
  },
  {
   "cell_type": "markdown",
   "id": "63745287",
   "metadata": {},
   "source": [
    "## Ejemplos sencillos de funciones"
   ]
  },
  {
   "cell_type": "markdown",
   "id": "85971c7c",
   "metadata": {},
   "source": [
    "Para crear una función usamos `function`, y normalmente tienen esta estructura `function(argumentos) exp`, donde `argumentos` son cero o más argumentos, y `exp` es un conjunto de expresiones."
   ]
  },
  {
   "cell_type": "markdown",
   "id": "75667fb4",
   "metadata": {},
   "source": [
    "Veamos varias formas de escribir la función factorial. Primero con un bucle."
   ]
  },
  {
   "cell_type": "code",
   "execution_count": 22,
   "id": "fea9afa5",
   "metadata": {},
   "outputs": [],
   "source": [
    "f1<-function(n){\n",
    "    p<-1\n",
    "    for (i in 1:n){\n",
    "        p<-i*p\n",
    "    }\n",
    "    p\n",
    "}"
   ]
  },
  {
   "cell_type": "code",
   "execution_count": 23,
   "id": "dba883f7",
   "metadata": {},
   "outputs": [
    {
     "data": {
      "text/html": [
       "6"
      ],
      "text/latex": [
       "6"
      ],
      "text/markdown": [
       "6"
      ],
      "text/plain": [
       "[1] 6"
      ]
     },
     "metadata": {},
     "output_type": "display_data"
    }
   ],
   "source": [
    "f1(3)"
   ]
  },
  {
   "cell_type": "markdown",
   "id": "f02672e9",
   "metadata": {},
   "source": [
    "Luego de forma recursiva."
   ]
  },
  {
   "cell_type": "code",
   "execution_count": 39,
   "id": "c3f66459",
   "metadata": {},
   "outputs": [],
   "source": [
    "f2<-function(n){\n",
    "    if (n==0) {\n",
    "        return(1)\n",
    "    } \n",
    "    else {\n",
    "        return(n*f2(n-1))\n",
    "    }\n",
    "}"
   ]
  },
  {
   "cell_type": "code",
   "execution_count": 40,
   "id": "901193e9",
   "metadata": {},
   "outputs": [
    {
     "data": {
      "text/html": [
       "6"
      ],
      "text/latex": [
       "6"
      ],
      "text/markdown": [
       "6"
      ],
      "text/plain": [
       "[1] 6"
      ]
     },
     "metadata": {},
     "output_type": "display_data"
    }
   ],
   "source": [
    "f2(3)"
   ]
  },
  {
   "cell_type": "markdown",
   "id": "5d152fce",
   "metadata": {},
   "source": [
    "O bien usando vectores."
   ]
  },
  {
   "cell_type": "code",
   "execution_count": 45,
   "id": "7cae591b",
   "metadata": {},
   "outputs": [],
   "source": [
    "f3<-function(n){prod(c(1:n))}"
   ]
  },
  {
   "cell_type": "code",
   "execution_count": 46,
   "id": "ab82d2bf",
   "metadata": {},
   "outputs": [
    {
     "data": {
      "text/html": [
       "6"
      ],
      "text/latex": [
       "6"
      ],
      "text/markdown": [
       "6"
      ],
      "text/plain": [
       "[1] 6"
      ]
     },
     "metadata": {},
     "output_type": "display_data"
    }
   ],
   "source": [
    "f3(3)"
   ]
  },
  {
   "cell_type": "markdown",
   "id": "2b549352",
   "metadata": {},
   "source": [
    "Con control \"simple de errores\""
   ]
  },
  {
   "cell_type": "code",
   "execution_count": 72,
   "id": "1a1c7607",
   "metadata": {},
   "outputs": [],
   "source": [
    "f4<-function(n){\n",
    "    if (!(is.vector(n) && length(n)==1 && n>=0 && n%%1==0)){\n",
    "        stop(\"El argumento debe de ser un entero no negativo\")\n",
    "    }\n",
    "\n",
    "    return(prod(c(1:n)))\n",
    "}   "
   ]
  },
  {
   "cell_type": "code",
   "execution_count": 73,
   "id": "f250c041",
   "metadata": {},
   "outputs": [
    {
     "ename": "ERROR",
     "evalue": "Error in f4(-3): El argumento debe de ser un entero no negativo\n",
     "output_type": "error",
     "traceback": [
      "Error in f4(-3): El argumento debe de ser un entero no negativo\nTraceback:\n",
      "1. f4(-3)",
      "2. stop(\"El argumento debe de ser un entero no negativo\")   # at line 3 of file <text>"
     ]
    }
   ],
   "source": [
    "f4(-3)"
   ]
  },
  {
   "cell_type": "code",
   "execution_count": 74,
   "id": "551e62b6",
   "metadata": {},
   "outputs": [
    {
     "ename": "ERROR",
     "evalue": "Error in f4(1:2): El argumento debe de ser un entero no negativo\n",
     "output_type": "error",
     "traceback": [
      "Error in f4(1:2): El argumento debe de ser un entero no negativo\nTraceback:\n",
      "1. f4(1:2)",
      "2. stop(\"El argumento debe de ser un entero no negativo\")   # at line 3 of file <text>"
     ]
    }
   ],
   "source": [
    "f4(1:2)"
   ]
  },
  {
   "cell_type": "markdown",
   "id": "6181eadc",
   "metadata": {},
   "source": [
    "`R` tiene ya un factorial predefinido."
   ]
  },
  {
   "cell_type": "code",
   "execution_count": 44,
   "id": "70efb7f6",
   "metadata": {
    "scrolled": true
   },
   "outputs": [
    {
     "data": {
      "text/html": [
       "6"
      ],
      "text/latex": [
       "6"
      ],
      "text/markdown": [
       "6"
      ],
      "text/plain": [
       "[1] 6"
      ]
     },
     "metadata": {},
     "output_type": "display_data"
    }
   ],
   "source": [
    "factorial(3)"
   ]
  },
  {
   "cell_type": "markdown",
   "id": "d3225aec",
   "metadata": {},
   "source": [
    "## `Vectorized`"
   ]
  },
  {
   "cell_type": "markdown",
   "id": "87dbb3a5",
   "metadata": {},
   "source": [
    "Una vez que tenemos definida una función se la podemos aplicar a un vector o a una matriz con `sapply`. "
   ]
  },
  {
   "cell_type": "code",
   "execution_count": 17,
   "id": "fbf36a54",
   "metadata": {
    "scrolled": false
   },
   "outputs": [
    {
     "data": {
      "text/html": [
       "<style>\n",
       ".list-inline {list-style: none; margin:0; padding: 0}\n",
       ".list-inline>li {display: inline-block}\n",
       ".list-inline>li:not(:last-child)::after {content: \"\\00b7\"; padding: 0 .5ex}\n",
       "</style>\n",
       "<ol class=list-inline><li>1</li><li>4</li><li>9</li></ol>\n"
      ],
      "text/latex": [
       "\\begin{enumerate*}\n",
       "\\item 1\n",
       "\\item 4\n",
       "\\item 9\n",
       "\\end{enumerate*}\n"
      ],
      "text/markdown": [
       "1. 1\n",
       "2. 4\n",
       "3. 9\n",
       "\n",
       "\n"
      ],
      "text/plain": [
       "[1] 1 4 9"
      ]
     },
     "metadata": {},
     "output_type": "display_data"
    }
   ],
   "source": [
    "sapply(1:3, (function(x) x^2))"
   ]
  },
  {
   "cell_type": "markdown",
   "id": "c738ad5b",
   "metadata": {},
   "source": [
    "Al aplicarlo a una matriz, el resultado es un vector."
   ]
  },
  {
   "cell_type": "code",
   "execution_count": 15,
   "id": "f0f701b2",
   "metadata": {},
   "outputs": [
    {
     "data": {
      "text/html": [
       "<style>\n",
       ".list-inline {list-style: none; margin:0; padding: 0}\n",
       ".list-inline>li {display: inline-block}\n",
       ".list-inline>li:not(:last-child)::after {content: \"\\00b7\"; padding: 0 .5ex}\n",
       "</style>\n",
       "<ol class=list-inline><li>1</li><li>9</li><li>4</li><li>16</li></ol>\n"
      ],
      "text/latex": [
       "\\begin{enumerate*}\n",
       "\\item 1\n",
       "\\item 9\n",
       "\\item 4\n",
       "\\item 16\n",
       "\\end{enumerate*}\n"
      ],
      "text/markdown": [
       "1. 1\n",
       "2. 9\n",
       "3. 4\n",
       "4. 16\n",
       "\n",
       "\n"
      ],
      "text/plain": [
       "[1]  1  9  4 16"
      ]
     },
     "metadata": {},
     "output_type": "display_data"
    }
   ],
   "source": [
    "A<-rbind(c(1,2),c(3,4))\n",
    "B<-sapply(A,(function(x) x^2))\n",
    "B"
   ]
  },
  {
   "cell_type": "markdown",
   "id": "e6da6ab9",
   "metadata": {},
   "source": [
    "Si queremos que `B` tenga el mismo tamaño que `A` (mismas filas y columnas), hacemos lo siguiente:"
   ]
  },
  {
   "cell_type": "code",
   "execution_count": 16,
   "id": "c5a102c6",
   "metadata": {},
   "outputs": [
    {
     "data": {
      "text/html": [
       "<table class=\"dataframe\">\n",
       "<caption>A matrix: 2 × 2 of type dbl</caption>\n",
       "<tbody>\n",
       "\t<tr><td>1</td><td> 4</td></tr>\n",
       "\t<tr><td>9</td><td>16</td></tr>\n",
       "</tbody>\n",
       "</table>\n"
      ],
      "text/latex": [
       "A matrix: 2 × 2 of type dbl\n",
       "\\begin{tabular}{ll}\n",
       "\t 1 &  4\\\\\n",
       "\t 9 & 16\\\\\n",
       "\\end{tabular}\n"
      ],
      "text/markdown": [
       "\n",
       "A matrix: 2 × 2 of type dbl\n",
       "\n",
       "| 1 |  4 |\n",
       "| 9 | 16 |\n",
       "\n"
      ],
      "text/plain": [
       "     [,1] [,2]\n",
       "[1,] 1     4  \n",
       "[2,] 9    16  "
      ]
     },
     "metadata": {},
     "output_type": "display_data"
    }
   ],
   "source": [
    "dim(B)<-dim(A)\n",
    "B"
   ]
  },
  {
   "cell_type": "markdown",
   "id": "b4f09d2c",
   "metadata": {},
   "source": [
    "Podemos también usar `Vectorize` para convertir una función que tengamos definida para aplicarla a un vector o a una matriz. Vesmos un ejemplo. Supongamos que queremos encontrar aproximaciones de un número real por un número racional. Esto lo podemos hacer con `contfrac` de la librería `numbers`."
   ]
  },
  {
   "cell_type": "code",
   "execution_count": 18,
   "id": "724459cf",
   "metadata": {},
   "outputs": [
    {
     "data": {
      "text/html": [
       "<dl>\n",
       "\t<dt>$cf</dt>\n",
       "\t\t<dd><style>\n",
       ".list-inline {list-style: none; margin:0; padding: 0}\n",
       ".list-inline>li {display: inline-block}\n",
       ".list-inline>li:not(:last-child)::after {content: \"\\00b7\"; padding: 0 .5ex}\n",
       "</style>\n",
       "<ol class=list-inline><li>0</li><li>7</li></ol>\n",
       "</dd>\n",
       "\t<dt>$rat</dt>\n",
       "\t\t<dd><style>\n",
       ".list-inline {list-style: none; margin:0; padding: 0}\n",
       ".list-inline>li {display: inline-block}\n",
       ".list-inline>li:not(:last-child)::after {content: \"\\00b7\"; padding: 0 .5ex}\n",
       "</style>\n",
       "<ol class=list-inline><li>1</li><li>7</li></ol>\n",
       "</dd>\n",
       "\t<dt>$prec</dt>\n",
       "\t\t<dd>0</dd>\n",
       "</dl>\n"
      ],
      "text/latex": [
       "\\begin{description}\n",
       "\\item[\\$cf] \\begin{enumerate*}\n",
       "\\item 0\n",
       "\\item 7\n",
       "\\end{enumerate*}\n",
       "\n",
       "\\item[\\$rat] \\begin{enumerate*}\n",
       "\\item 1\n",
       "\\item 7\n",
       "\\end{enumerate*}\n",
       "\n",
       "\\item[\\$prec] 0\n",
       "\\end{description}\n"
      ],
      "text/markdown": [
       "$cf\n",
       ":   1. 0\n",
       "2. 7\n",
       "\n",
       "\n",
       "\n",
       "$rat\n",
       ":   1. 1\n",
       "2. 7\n",
       "\n",
       "\n",
       "\n",
       "$prec\n",
       ":   0\n",
       "\n",
       "\n"
      ],
      "text/plain": [
       "$cf\n",
       "[1] 0 7\n",
       "\n",
       "$rat\n",
       "[1] 1 7\n",
       "\n",
       "$prec\n",
       "[1] 0\n"
      ]
     },
     "metadata": {},
     "output_type": "display_data"
    }
   ],
   "source": [
    "numbers::contfrac(1/7)"
   ]
  },
  {
   "cell_type": "markdown",
   "id": "d1b9368a",
   "metadata": {},
   "source": [
    "Nos podemos quedar con `$rat`, y crear una cadena que separe numerador y denominador con \"/\"."
   ]
  },
  {
   "cell_type": "code",
   "execution_count": 19,
   "id": "b462efec",
   "metadata": {},
   "outputs": [],
   "source": [
    "torat<-function(x){paste(numbers::contfrac(x)$rat,collapse=\"/\")}"
   ]
  },
  {
   "cell_type": "code",
   "execution_count": 20,
   "id": "53a53d93",
   "metadata": {},
   "outputs": [
    {
     "data": {
      "text/html": [
       "'1/7'"
      ],
      "text/latex": [
       "'1/7'"
      ],
      "text/markdown": [
       "'1/7'"
      ],
      "text/plain": [
       "[1] \"1/7\""
      ]
     },
     "metadata": {},
     "output_type": "display_data"
    }
   ],
   "source": [
    "torat(1/7)"
   ]
  },
  {
   "cell_type": "markdown",
   "id": "c71275df",
   "metadata": {},
   "source": [
    "Lo \"vectorizamos\" con `Vectorize`:"
   ]
  },
  {
   "cell_type": "code",
   "execution_count": 22,
   "id": "5b96e892",
   "metadata": {},
   "outputs": [],
   "source": [
    "vtorat<-Vectorize(torat)"
   ]
  },
  {
   "cell_type": "code",
   "execution_count": 23,
   "id": "0ccaeb0c",
   "metadata": {
    "scrolled": true
   },
   "outputs": [
    {
     "data": {
      "text/html": [
       "<table class=\"dataframe\">\n",
       "<caption>A matrix: 2 × 2 of type chr</caption>\n",
       "<tbody>\n",
       "\t<tr><td>1/2</td><td>-1/3</td></tr>\n",
       "\t<tr><td>1/1</td><td>-1/7</td></tr>\n",
       "</tbody>\n",
       "</table>\n"
      ],
      "text/latex": [
       "A matrix: 2 × 2 of type chr\n",
       "\\begin{tabular}{ll}\n",
       "\t 1/2 & -1/3\\\\\n",
       "\t 1/1 & -1/7\\\\\n",
       "\\end{tabular}\n"
      ],
      "text/markdown": [
       "\n",
       "A matrix: 2 × 2 of type chr\n",
       "\n",
       "| 1/2 | -1/3 |\n",
       "| 1/1 | -1/7 |\n",
       "\n"
      ],
      "text/plain": [
       "     [,1] [,2]\n",
       "[1,] 1/2  -1/3\n",
       "[2,] 1/1  -1/7"
      ]
     },
     "metadata": {},
     "output_type": "display_data"
    }
   ],
   "source": [
    "A<-rbind(c(1/2,-1/3),c(1,-1/7))\n",
    "vtorat<-Vectorize(torat)\n",
    "B<-vtorat(A)\n",
    "dim(B)<-dim(A) #c(nrow(A),ncol(A))\n",
    "B"
   ]
  },
  {
   "cell_type": "markdown",
   "id": "8acc0fcb",
   "metadata": {},
   "source": [
    "## Valores por defecto"
   ]
  },
  {
   "cell_type": "markdown",
   "id": "ca1910c1",
   "metadata": {},
   "source": [
    "Podemos crear una función en la que uno o más argumentos tengan un valor por defecto. Veámoslo con un simple ejemplo."
   ]
  },
  {
   "cell_type": "code",
   "execution_count": 24,
   "id": "fc13567e",
   "metadata": {},
   "outputs": [],
   "source": [
    "f<-function(x,y=10){\n",
    "    return(x*y)\n",
    "}"
   ]
  },
  {
   "cell_type": "markdown",
   "id": "2e6b5b89",
   "metadata": {},
   "source": [
    "Si no pasamos el segundo argumento, considerará por defecto que vale 10."
   ]
  },
  {
   "cell_type": "code",
   "execution_count": 29,
   "id": "d3febe7a",
   "metadata": {},
   "outputs": [
    {
     "data": {
      "text/html": [
       "20"
      ],
      "text/latex": [
       "20"
      ],
      "text/markdown": [
       "20"
      ],
      "text/plain": [
       "[1] 20"
      ]
     },
     "metadata": {},
     "output_type": "display_data"
    }
   ],
   "source": [
    "f(2)"
   ]
  },
  {
   "cell_type": "code",
   "execution_count": 26,
   "id": "a834e526",
   "metadata": {},
   "outputs": [
    {
     "data": {
      "text/html": [
       "6"
      ],
      "text/latex": [
       "6"
      ],
      "text/markdown": [
       "6"
      ],
      "text/plain": [
       "[1] 6"
      ]
     },
     "metadata": {},
     "output_type": "display_data"
    }
   ],
   "source": [
    "f(2,3)"
   ]
  },
  {
   "cell_type": "code",
   "execution_count": 27,
   "id": "039e1df4",
   "metadata": {},
   "outputs": [
    {
     "data": {
      "text/html": [
       "10"
      ],
      "text/latex": [
       "10"
      ],
      "text/markdown": [
       "10"
      ],
      "text/plain": [
       "[1] 10"
      ]
     },
     "metadata": {},
     "output_type": "display_data"
    }
   ],
   "source": [
    "f(2,y=5)"
   ]
  },
  {
   "cell_type": "markdown",
   "id": "b432d9da",
   "metadata": {},
   "source": [
    "De hecho, el orden de los argumentos no es importante si especficamos su valor en la llamada a la función."
   ]
  },
  {
   "cell_type": "code",
   "execution_count": 30,
   "id": "054d0379",
   "metadata": {},
   "outputs": [
    {
     "data": {
      "text/html": [
       "2"
      ],
      "text/latex": [
       "2"
      ],
      "text/markdown": [
       "2"
      ],
      "text/plain": [
       "[1] 2"
      ]
     },
     "metadata": {},
     "output_type": "display_data"
    }
   ],
   "source": [
    "f(y=1,x=2)"
   ]
  }
 ],
 "metadata": {
  "kernelspec": {
   "display_name": "R",
   "language": "R",
   "name": "ir"
  },
  "language_info": {
   "codemirror_mode": "r",
   "file_extension": ".r",
   "mimetype": "text/x-r-source",
   "name": "R",
   "pygments_lexer": "r",
   "version": "4.2.2"
  }
 },
 "nbformat": 4,
 "nbformat_minor": 5
}
