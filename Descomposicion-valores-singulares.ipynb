{
 "cells": [
  {
   "cell_type": "markdown",
   "id": "236a58d2",
   "metadata": {},
   "source": [
    "# Descomposición en valores singulares\n",
    "\n",
    "Para ilustrar la descomposición en valores singulares de una matriz vamos a hacer uso del Ejemplo VI.1.8 de [[I. Ojeda, J. Gago, Métodos matemáticos para la Estadística](https://publicauex.unex.es/libro/metodos-matematicos-para-estadistica_135467/)].\n",
    "\n",
    "\n",
    "Otro buen ejemplo de cálculo de esta descomposición paso a paso se puede encontrar [aquí](https://rpubs.com/aaronsc32/singular-value-decomposition-r)."
   ]
  },
  {
   "cell_type": "code",
   "execution_count": 1,
   "id": "5ec0b5bf",
   "metadata": {},
   "outputs": [],
   "source": [
    "A<-rbind(c(2,0,1),c(3,-1,1),c(-2,4,1),c(1,1,1))"
   ]
  },
  {
   "cell_type": "markdown",
   "id": "9e78c85f",
   "metadata": {},
   "source": [
    "### Usando `svd`"
   ]
  },
  {
   "cell_type": "markdown",
   "id": "20272ed4",
   "metadata": {},
   "source": [
    "Vamos a hacer uso de `svd` que calcula la descomposición directamente."
   ]
  },
  {
   "cell_type": "code",
   "execution_count": 4,
   "id": "9bc6c7e6",
   "metadata": {},
   "outputs": [
    {
     "data": {
      "text/html": [
       "<dl>\n",
       "\t<dt>$d</dt>\n",
       "\t\t<dd><style>\n",
       ".list-inline {list-style: none; margin:0; padding: 0}\n",
       ".list-inline>li {display: inline-block}\n",
       ".list-inline>li:not(:last-child)::after {content: \"\\00b7\"; padding: 0 .5ex}\n",
       "</style>\n",
       "<ol class=list-inline><li>5.29150262212918</li><li>3.46410161513775</li><li>3.01120685551131e-16</li></ol>\n",
       "</dd>\n",
       "\t<dt>$u</dt>\n",
       "\t\t<dd><table class=\"dataframe\">\n",
       "<caption>A matrix: 4 × 3 of type dbl</caption>\n",
       "<tbody>\n",
       "\t<tr><td>-2.672612e-01</td><td>-0.5</td><td>-0.77197017</td></tr>\n",
       "\t<tr><td>-5.345225e-01</td><td>-0.5</td><td> 0.27710193</td></tr>\n",
       "\t<tr><td> 8.017837e-01</td><td>-0.5</td><td>-0.07258877</td></tr>\n",
       "\t<tr><td> 2.498002e-16</td><td>-0.5</td><td> 0.56745700</td></tr>\n",
       "</tbody>\n",
       "</table>\n",
       "</dd>\n",
       "\t<dt>$v</dt>\n",
       "\t\t<dd><table class=\"dataframe\">\n",
       "<caption>A matrix: 3 × 3 of type dbl</caption>\n",
       "<tbody>\n",
       "\t<tr><td>-7.071068e-01</td><td>-0.5773503</td><td> 0.4082483</td></tr>\n",
       "\t<tr><td> 7.071068e-01</td><td>-0.5773503</td><td> 0.4082483</td></tr>\n",
       "\t<tr><td> 1.665335e-16</td><td>-0.5773503</td><td>-0.8164966</td></tr>\n",
       "</tbody>\n",
       "</table>\n",
       "</dd>\n",
       "</dl>\n"
      ],
      "text/latex": [
       "\\begin{description}\n",
       "\\item[\\$d] \\begin{enumerate*}\n",
       "\\item 5.29150262212918\n",
       "\\item 3.46410161513775\n",
       "\\item 3.01120685551131e-16\n",
       "\\end{enumerate*}\n",
       "\n",
       "\\item[\\$u] A matrix: 4 × 3 of type dbl\n",
       "\\begin{tabular}{lll}\n",
       "\t -2.672612e-01 & -0.5 & -0.77197017\\\\\n",
       "\t -5.345225e-01 & -0.5 &  0.27710193\\\\\n",
       "\t  8.017837e-01 & -0.5 & -0.07258877\\\\\n",
       "\t  2.498002e-16 & -0.5 &  0.56745700\\\\\n",
       "\\end{tabular}\n",
       "\n",
       "\\item[\\$v] A matrix: 3 × 3 of type dbl\n",
       "\\begin{tabular}{lll}\n",
       "\t -7.071068e-01 & -0.5773503 &  0.4082483\\\\\n",
       "\t  7.071068e-01 & -0.5773503 &  0.4082483\\\\\n",
       "\t  1.665335e-16 & -0.5773503 & -0.8164966\\\\\n",
       "\\end{tabular}\n",
       "\n",
       "\\end{description}\n"
      ],
      "text/markdown": [
       "$d\n",
       ":   1. 5.29150262212918\n",
       "2. 3.46410161513775\n",
       "3. 3.01120685551131e-16\n",
       "\n",
       "\n",
       "\n",
       "$u\n",
       ":   \n",
       "A matrix: 4 × 3 of type dbl\n",
       "\n",
       "| -2.672612e-01 | -0.5 | -0.77197017 |\n",
       "| -5.345225e-01 | -0.5 |  0.27710193 |\n",
       "|  8.017837e-01 | -0.5 | -0.07258877 |\n",
       "|  2.498002e-16 | -0.5 |  0.56745700 |\n",
       "\n",
       "\n",
       "$v\n",
       ":   \n",
       "A matrix: 3 × 3 of type dbl\n",
       "\n",
       "| -7.071068e-01 | -0.5773503 |  0.4082483 |\n",
       "|  7.071068e-01 | -0.5773503 |  0.4082483 |\n",
       "|  1.665335e-16 | -0.5773503 | -0.8164966 |\n",
       "\n",
       "\n",
       "\n",
       "\n"
      ],
      "text/plain": [
       "$d\n",
       "[1] 5.291503e+00 3.464102e+00 3.011207e-16\n",
       "\n",
       "$u\n",
       "              [,1] [,2]        [,3]\n",
       "[1,] -2.672612e-01 -0.5 -0.77197017\n",
       "[2,] -5.345225e-01 -0.5  0.27710193\n",
       "[3,]  8.017837e-01 -0.5 -0.07258877\n",
       "[4,]  2.498002e-16 -0.5  0.56745700\n",
       "\n",
       "$v\n",
       "              [,1]       [,2]       [,3]\n",
       "[1,] -7.071068e-01 -0.5773503  0.4082483\n",
       "[2,]  7.071068e-01 -0.5773503  0.4082483\n",
       "[3,]  1.665335e-16 -0.5773503 -0.8164966\n"
      ]
     },
     "metadata": {},
     "output_type": "display_data"
    }
   ],
   "source": [
    "dA<-svd(A)\n",
    "dA"
   ]
  },
  {
   "cell_type": "code",
   "execution_count": 11,
   "id": "8c9e5c81",
   "metadata": {},
   "outputs": [
    {
     "data": {
      "text/html": [
       "<table class=\"dataframe\">\n",
       "<caption>A matrix: 4 × 3 of type dbl</caption>\n",
       "<tbody>\n",
       "\t<tr><td> 2</td><td> 0</td><td>1</td></tr>\n",
       "\t<tr><td> 3</td><td>-1</td><td>1</td></tr>\n",
       "\t<tr><td>-2</td><td> 4</td><td>1</td></tr>\n",
       "\t<tr><td> 1</td><td> 1</td><td>1</td></tr>\n",
       "</tbody>\n",
       "</table>\n"
      ],
      "text/latex": [
       "A matrix: 4 × 3 of type dbl\n",
       "\\begin{tabular}{lll}\n",
       "\t  2 &  0 & 1\\\\\n",
       "\t  3 & -1 & 1\\\\\n",
       "\t -2 &  4 & 1\\\\\n",
       "\t  1 &  1 & 1\\\\\n",
       "\\end{tabular}\n"
      ],
      "text/markdown": [
       "\n",
       "A matrix: 4 × 3 of type dbl\n",
       "\n",
       "|  2 |  0 | 1 |\n",
       "|  3 | -1 | 1 |\n",
       "| -2 |  4 | 1 |\n",
       "|  1 |  1 | 1 |\n",
       "\n"
      ],
      "text/plain": [
       "     [,1] [,2] [,3]\n",
       "[1,]  2    0   1   \n",
       "[2,]  3   -1   1   \n",
       "[3,] -2    4   1   \n",
       "[4,]  1    1   1   "
      ]
     },
     "metadata": {},
     "output_type": "display_data"
    }
   ],
   "source": [
    "zapsmall((dA$u)%*%diag(dA$d)%*%t(dA$v))"
   ]
  },
  {
   "cell_type": "code",
   "execution_count": 12,
   "id": "98f033d9",
   "metadata": {},
   "outputs": [
    {
     "data": {
      "text/html": [
       "<style>\n",
       ".list-inline {list-style: none; margin:0; padding: 0}\n",
       ".list-inline>li {display: inline-block}\n",
       ".list-inline>li:not(:last-child)::after {content: \"\\00b7\"; padding: 0 .5ex}\n",
       "</style>\n",
       "<ol class=list-inline><li>5.291503</li><li>3.464102</li><li>0</li></ol>\n"
      ],
      "text/latex": [
       "\\begin{enumerate*}\n",
       "\\item 5.291503\n",
       "\\item 3.464102\n",
       "\\item 0\n",
       "\\end{enumerate*}\n"
      ],
      "text/markdown": [
       "1. 5.291503\n",
       "2. 3.464102\n",
       "3. 0\n",
       "\n",
       "\n"
      ],
      "text/plain": [
       "[1] 5.291503 3.464102 0.000000"
      ]
     },
     "metadata": {},
     "output_type": "display_data"
    }
   ],
   "source": [
    "zapsmall(dA$d)"
   ]
  },
  {
   "cell_type": "markdown",
   "id": "ab6445c1",
   "metadata": {},
   "source": [
    "Como el último valor es nulo, nos quedamos con las componentes que nos interesan de $U$ y $V$ para obtener una descomposición en valores singulares corta."
   ]
  },
  {
   "cell_type": "code",
   "execution_count": 18,
   "id": "18a10ac6",
   "metadata": {},
   "outputs": [
    {
     "data": {
      "text/html": [
       "<table class=\"dataframe\">\n",
       "<caption>A matrix: 4 × 3 of type dbl</caption>\n",
       "<tbody>\n",
       "\t<tr><td> 2</td><td> 0</td><td>1</td></tr>\n",
       "\t<tr><td> 3</td><td>-1</td><td>1</td></tr>\n",
       "\t<tr><td>-2</td><td> 4</td><td>1</td></tr>\n",
       "\t<tr><td> 1</td><td> 1</td><td>1</td></tr>\n",
       "</tbody>\n",
       "</table>\n"
      ],
      "text/latex": [
       "A matrix: 4 × 3 of type dbl\n",
       "\\begin{tabular}{lll}\n",
       "\t  2 &  0 & 1\\\\\n",
       "\t  3 & -1 & 1\\\\\n",
       "\t -2 &  4 & 1\\\\\n",
       "\t  1 &  1 & 1\\\\\n",
       "\\end{tabular}\n"
      ],
      "text/markdown": [
       "\n",
       "A matrix: 4 × 3 of type dbl\n",
       "\n",
       "|  2 |  0 | 1 |\n",
       "|  3 | -1 | 1 |\n",
       "| -2 |  4 | 1 |\n",
       "|  1 |  1 | 1 |\n",
       "\n"
      ],
      "text/plain": [
       "     [,1] [,2] [,3]\n",
       "[1,]  2    0   1   \n",
       "[2,]  3   -1   1   \n",
       "[3,] -2    4   1   \n",
       "[4,]  1    1   1   "
      ]
     },
     "metadata": {},
     "output_type": "display_data"
    }
   ],
   "source": [
    "U<-dA$u[,1:2]\n",
    "V<-dA$v[,1:2]\n",
    "d<-dA$d[1:2]\n",
    "zapsmall(U%*%diag(d)%*%t(V))"
   ]
  },
  {
   "cell_type": "markdown",
   "id": "3fd64617",
   "metadata": {},
   "source": [
    "### Usando `caracas`"
   ]
  },
  {
   "cell_type": "code",
   "execution_count": 19,
   "id": "4c99d08c",
   "metadata": {
    "scrolled": true
   },
   "outputs": [
    {
     "name": "stderr",
     "output_type": "stream",
     "text": [
      "\n",
      "Attaching package: ‘caracas’\n",
      "\n",
      "\n",
      "The following objects are masked from ‘package:base’:\n",
      "\n",
      "    %*%, det, diag, diag<-\n",
      "\n",
      "\n"
     ]
    }
   ],
   "source": [
    "library(caracas)"
   ]
  },
  {
   "cell_type": "markdown",
   "id": "f7acf504",
   "metadata": {},
   "source": [
    "`singular_values` nos devuelve los valores singulares."
   ]
  },
  {
   "cell_type": "code",
   "execution_count": 20,
   "id": "01b8da2b",
   "metadata": {
    "scrolled": true
   },
   "outputs": [
    {
     "data": {
      "text/plain": [
       "[[1]]\n",
       "[caracas]: 2⋅√7\n",
       "\n",
       "[[2]]\n",
       "[caracas]: 2⋅√3\n",
       "\n",
       "[[3]]\n",
       "[caracas]: 0\n"
      ]
     },
     "metadata": {},
     "output_type": "display_data"
    }
   ],
   "source": [
    "singular_values(as_sym(A))"
   ]
  },
  {
   "cell_type": "markdown",
   "id": "012a86f1",
   "metadata": {},
   "source": [
    "Con la función `singular_value_deomposition` de `sympy` podemos obtener la descomposición en valores singulares."
   ]
  },
  {
   "cell_type": "code",
   "execution_count": 21,
   "id": "b96ce1da",
   "metadata": {},
   "outputs": [
    {
     "data": {
      "text/plain": [
       "[caracas]: ⎛⎡     -√14 ⎤                          ⎞\n",
       "           ⎜⎢1/2  ─────⎥                ⎡√3  -√2 ⎤⎟\n",
       "           ⎜⎢       14 ⎥                ⎢──  ────⎥⎟\n",
       "           ⎜⎢          ⎥                ⎢3    2  ⎥⎟\n",
       "           ⎜⎢     -√14 ⎥                ⎢        ⎥⎟\n",
       "           ⎜⎢1/2  ─────⎥  ⎡2⋅√3   0  ⎤  ⎢√3   √2 ⎥⎟\n",
       "           ⎜⎢       7  ⎥, ⎢          ⎥, ⎢──   ── ⎥⎟\n",
       "           ⎜⎢          ⎥  ⎣ 0    2⋅√7⎦  ⎢3    2  ⎥⎟\n",
       "           ⎜⎢     3⋅√14⎥                ⎢        ⎥⎟\n",
       "           ⎜⎢1/2  ─────⎥                ⎢√3      ⎥⎟\n",
       "           ⎜⎢       14 ⎥                ⎢──   0  ⎥⎟\n",
       "           ⎜⎢          ⎥                ⎣3       ⎦⎟\n",
       "           ⎝⎣1/2    0  ⎦                          ⎠"
      ]
     },
     "metadata": {},
     "output_type": "display_data"
    }
   ],
   "source": [
    "dcA<-sympy_func(as_sym(A),\"singular_value_decomposition\")\n",
    "dcA"
   ]
  },
  {
   "cell_type": "markdown",
   "id": "50bdc0ed",
   "metadata": {},
   "source": [
    "La salida es una lista `caracas`; la posición 0 es $U$, la 1 es la diagonal y la 2 es $V$."
   ]
  },
  {
   "cell_type": "code",
   "execution_count": 62,
   "id": "4578f8a4",
   "metadata": {},
   "outputs": [
    {
     "data": {
      "text/plain": [
       "Matrix([\n",
       "[1/2,  -sqrt(14)/14],\n",
       "[1/2,   -sqrt(14)/7],\n",
       "[1/2, 3*sqrt(14)/14],\n",
       "[1/2,             0]])"
      ]
     },
     "metadata": {},
     "output_type": "display_data"
    }
   ],
   "source": [
    "dcA[[1]][0]"
   ]
  },
  {
   "cell_type": "markdown",
   "id": "0439805c",
   "metadata": {},
   "source": [
    "Usamos `matrify` para convertirlas a matrices de `R`."
   ]
  },
  {
   "cell_type": "code",
   "execution_count": 46,
   "id": "377b6848",
   "metadata": {},
   "outputs": [
    {
     "data": {
      "text/plain": [
       "[caracas]: ⎡     -√14 ⎤\n",
       "           ⎢1/2  ─────⎥\n",
       "           ⎢       14 ⎥\n",
       "           ⎢          ⎥\n",
       "           ⎢     -√14 ⎥\n",
       "           ⎢1/2  ─────⎥\n",
       "           ⎢       7  ⎥\n",
       "           ⎢          ⎥\n",
       "           ⎢     3⋅√14⎥\n",
       "           ⎢1/2  ─────⎥\n",
       "           ⎢       14 ⎥\n",
       "           ⎢          ⎥\n",
       "           ⎣1/2    0  ⎦"
      ]
     },
     "metadata": {},
     "output_type": "display_data"
    }
   ],
   "source": [
    "cU<-matrify(dcA[[1]][0])\n",
    "cU"
   ]
  },
  {
   "cell_type": "code",
   "execution_count": 48,
   "id": "c2908909",
   "metadata": {},
   "outputs": [
    {
     "data": {
      "text/plain": [
       "[caracas]: ⎡2⋅√3   0  ⎤\n",
       "           ⎢          ⎥\n",
       "           ⎣ 0    2⋅√7⎦"
      ]
     },
     "metadata": {},
     "output_type": "display_data"
    }
   ],
   "source": [
    "cd<-matrify(dcA[[1]][1])\n",
    "cd"
   ]
  },
  {
   "cell_type": "code",
   "execution_count": 52,
   "id": "bdc1b3a4",
   "metadata": {},
   "outputs": [
    {
     "data": {
      "text/plain": [
       "[caracas]: ⎡√3  -√2 ⎤\n",
       "           ⎢──  ────⎥\n",
       "           ⎢3    2  ⎥\n",
       "           ⎢        ⎥\n",
       "           ⎢√3   √2 ⎥\n",
       "           ⎢──   ── ⎥\n",
       "           ⎢3    2  ⎥\n",
       "           ⎢        ⎥\n",
       "           ⎢√3      ⎥\n",
       "           ⎢──   0  ⎥\n",
       "           ⎣3       ⎦"
      ]
     },
     "metadata": {},
     "output_type": "display_data"
    }
   ],
   "source": [
    "cV<-matrify(dcA[[1]][2])\n",
    "cV"
   ]
  },
  {
   "cell_type": "code",
   "execution_count": 54,
   "id": "9c62f1cb",
   "metadata": {
    "scrolled": true
   },
   "outputs": [
    {
     "data": {
      "text/plain": [
       "[caracas]: ⎡2   0   1⎤\n",
       "           ⎢         ⎥\n",
       "           ⎢3   -1  1⎥\n",
       "           ⎢         ⎥\n",
       "           ⎢-2  4   1⎥\n",
       "           ⎢         ⎥\n",
       "           ⎣1   1   1⎦"
      ]
     },
     "metadata": {},
     "output_type": "display_data"
    }
   ],
   "source": [
    "cU%*%cd%*%t(cV)"
   ]
  },
  {
   "cell_type": "markdown",
   "id": "58f4a7bc",
   "metadata": {},
   "source": [
    "### Proceso paso a paso a partir de los valores propios de $A^tA$"
   ]
  },
  {
   "cell_type": "markdown",
   "id": "6d7786d5",
   "metadata": {},
   "source": [
    "Vamos a hacer el proceso paso a paso. Como sabemos, los valores singulares son las raíces cuadradas de los valores propios de $A^tA$."
   ]
  },
  {
   "cell_type": "code",
   "execution_count": 118,
   "id": "afa015a4",
   "metadata": {
    "scrolled": false
   },
   "outputs": [
    {
     "data": {
      "text/plain": [
       "[[1]]\n",
       "[[1]]$eigval\n",
       "[caracas]: 28\n",
       "\n",
       "[[1]]$eigmult\n",
       "[1] 1\n",
       "\n",
       "\n",
       "[[2]]\n",
       "[[2]]$eigval\n",
       "[caracas]: 12\n",
       "\n",
       "[[2]]$eigmult\n",
       "[1] 1\n",
       "\n",
       "\n",
       "[[3]]\n",
       "[[3]]$eigval\n",
       "[caracas]: 0\n",
       "\n",
       "[[3]]$eigmult\n",
       "[1] 1\n",
       "\n"
      ]
     },
     "metadata": {},
     "output_type": "display_data"
    }
   ],
   "source": [
    "vp<-eigenval(as_sym(t(A)%*%A))\n",
    "vp"
   ]
  },
  {
   "cell_type": "code",
   "execution_count": 119,
   "id": "07bb6e4e",
   "metadata": {},
   "outputs": [
    {
     "data": {
      "text/plain": [
       "[caracas]: 2⋅√7"
      ]
     },
     "metadata": {},
     "output_type": "display_data"
    }
   ],
   "source": [
    "d1<-sqrt(vp[[1]]$eigval)\n",
    "d1"
   ]
  },
  {
   "cell_type": "code",
   "execution_count": 120,
   "id": "7c33ce25",
   "metadata": {
    "scrolled": true
   },
   "outputs": [
    {
     "data": {
      "text/plain": [
       "[caracas]: 2⋅√3"
      ]
     },
     "metadata": {},
     "output_type": "display_data"
    }
   ],
   "source": [
    "d2<-sqrt(vp[[2]]$eigval)\n",
    "d2"
   ]
  },
  {
   "cell_type": "code",
   "execution_count": 121,
   "id": "e851fd9e",
   "metadata": {},
   "outputs": [
    {
     "data": {
      "text/plain": [
       "[[1]]\n",
       "[[1]]$eigval\n",
       "[caracas]: 0\n",
       "\n",
       "[[1]]$eigmult\n",
       "[1] 1\n",
       "\n",
       "[[1]]$eigvec\n",
       "[caracas]: [-1/2  -1/2  1]ᵀ\n",
       "\n",
       "\n",
       "[[2]]\n",
       "[[2]]$eigval\n",
       "[caracas]: 12\n",
       "\n",
       "[[2]]$eigmult\n",
       "[1] 1\n",
       "\n",
       "[[2]]$eigvec\n",
       "[caracas]: [1  1  1]ᵀ\n",
       "\n",
       "\n",
       "[[3]]\n",
       "[[3]]$eigval\n",
       "[caracas]: 28\n",
       "\n",
       "[[3]]$eigmult\n",
       "[1] 1\n",
       "\n",
       "[[3]]$eigvec\n",
       "[caracas]: [-1  1  0]ᵀ\n",
       "\n"
      ]
     },
     "metadata": {},
     "output_type": "display_data"
    }
   ],
   "source": [
    "vcp<-eigenvec(as_sym(t(A)%*%A))\n",
    "vcp"
   ]
  },
  {
   "cell_type": "markdown",
   "id": "f5075086",
   "metadata": {},
   "source": [
    "La matriz $V$ está formada por los vectores propios correspondientes a 28 y 12."
   ]
  },
  {
   "cell_type": "code",
   "execution_count": 122,
   "id": "a8114666",
   "metadata": {},
   "outputs": [],
   "source": [
    "V<-cbind(vcp[[3]]$eigvec,vcp[[2]]$eigvec)"
   ]
  },
  {
   "cell_type": "code",
   "execution_count": 123,
   "id": "491d1387",
   "metadata": {},
   "outputs": [
    {
     "data": {
      "text/plain": [
       "[caracas]: ⎡-√2   √3⎤\n",
       "           ⎢────  ──⎥\n",
       "           ⎢ 2    3 ⎥\n",
       "           ⎢        ⎥\n",
       "           ⎢ √2   √3⎥\n",
       "           ⎢ ──   ──⎥\n",
       "           ⎢ 2    3 ⎥\n",
       "           ⎢        ⎥\n",
       "           ⎢      √3⎥\n",
       "           ⎢ 0    ──⎥\n",
       "           ⎣      3 ⎦"
      ]
     },
     "metadata": {},
     "output_type": "display_data"
    }
   ],
   "source": [
    "V<-QRdecomposition(V)$Q\n",
    "V"
   ]
  },
  {
   "cell_type": "code",
   "execution_count": 124,
   "id": "b2daf178",
   "metadata": {},
   "outputs": [
    {
     "data": {
      "text/plain": [
       "[caracas]: ⎡2⋅√7   0  ⎤\n",
       "           ⎢          ⎥\n",
       "           ⎣ 0    2⋅√3⎦"
      ]
     },
     "metadata": {},
     "output_type": "display_data"
    }
   ],
   "source": [
    "D<-diag_(c(toString(d1),toString(d2)))\n",
    "D"
   ]
  },
  {
   "cell_type": "markdown",
   "id": "e9a4c44b",
   "metadata": {},
   "source": [
    "Como $A=UDV^t$, tenemos $AV=UD$, luego $U$ se calcula como sigue."
   ]
  },
  {
   "cell_type": "code",
   "execution_count": 125,
   "id": "93363b4a",
   "metadata": {},
   "outputs": [
    {
     "data": {
      "text/plain": [
       "[caracas]: ⎡-√14      ⎤\n",
       "           ⎢─────  1/2⎥\n",
       "           ⎢  14      ⎥\n",
       "           ⎢          ⎥\n",
       "           ⎢-√14      ⎥\n",
       "           ⎢─────  1/2⎥\n",
       "           ⎢  7       ⎥\n",
       "           ⎢          ⎥\n",
       "           ⎢3⋅√14     ⎥\n",
       "           ⎢─────  1/2⎥\n",
       "           ⎢  14      ⎥\n",
       "           ⎢          ⎥\n",
       "           ⎣  0    1/2⎦"
      ]
     },
     "metadata": {},
     "output_type": "display_data"
    }
   ],
   "source": [
    "U<-as_sym(A)%*%V%*%inv(D)\n",
    "U"
   ]
  },
  {
   "cell_type": "markdown",
   "id": "1b334a3d",
   "metadata": {},
   "source": [
    "Comprobemos que es efectivamente una descomposición de $A$."
   ]
  },
  {
   "cell_type": "code",
   "execution_count": 126,
   "id": "3a4dd770",
   "metadata": {
    "scrolled": true
   },
   "outputs": [
    {
     "data": {
      "text/plain": [
       "[caracas]: ⎡2   0   1⎤\n",
       "           ⎢         ⎥\n",
       "           ⎢3   -1  1⎥\n",
       "           ⎢         ⎥\n",
       "           ⎢-2  4   1⎥\n",
       "           ⎢         ⎥\n",
       "           ⎣1   1   1⎦"
      ]
     },
     "metadata": {},
     "output_type": "display_data"
    }
   ],
   "source": [
    "U%*%D%*%t(V)"
   ]
  },
  {
   "cell_type": "code",
   "execution_count": 127,
   "id": "87c24561",
   "metadata": {},
   "outputs": [
    {
     "data": {
      "text/html": [
       "<table class=\"dataframe\">\n",
       "<caption>A matrix: 4 × 3 of type dbl</caption>\n",
       "<tbody>\n",
       "\t<tr><td> 2</td><td> 0</td><td>1</td></tr>\n",
       "\t<tr><td> 3</td><td>-1</td><td>1</td></tr>\n",
       "\t<tr><td>-2</td><td> 4</td><td>1</td></tr>\n",
       "\t<tr><td> 1</td><td> 1</td><td>1</td></tr>\n",
       "</tbody>\n",
       "</table>\n"
      ],
      "text/latex": [
       "A matrix: 4 × 3 of type dbl\n",
       "\\begin{tabular}{lll}\n",
       "\t  2 &  0 & 1\\\\\n",
       "\t  3 & -1 & 1\\\\\n",
       "\t -2 &  4 & 1\\\\\n",
       "\t  1 &  1 & 1\\\\\n",
       "\\end{tabular}\n"
      ],
      "text/markdown": [
       "\n",
       "A matrix: 4 × 3 of type dbl\n",
       "\n",
       "|  2 |  0 | 1 |\n",
       "|  3 | -1 | 1 |\n",
       "| -2 |  4 | 1 |\n",
       "|  1 |  1 | 1 |\n",
       "\n"
      ],
      "text/plain": [
       "     [,1] [,2] [,3]\n",
       "[1,]  2    0   1   \n",
       "[2,]  3   -1   1   \n",
       "[3,] -2    4   1   \n",
       "[4,]  1    1   1   "
      ]
     },
     "metadata": {},
     "output_type": "display_data"
    }
   ],
   "source": [
    "A"
   ]
  }
 ],
 "metadata": {
  "kernelspec": {
   "display_name": "R",
   "language": "R",
   "name": "ir"
  },
  "language_info": {
   "codemirror_mode": "r",
   "file_extension": ".r",
   "mimetype": "text/x-r-source",
   "name": "R",
   "pygments_lexer": "r",
   "version": "4.2.2"
  }
 },
 "nbformat": 4,
 "nbformat_minor": 5
}
